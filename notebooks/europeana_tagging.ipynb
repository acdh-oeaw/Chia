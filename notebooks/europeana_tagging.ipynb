{
 "cells": [
  {
   "cell_type": "code",
   "execution_count": 56,
   "metadata": {},
   "outputs": [],
   "source": [
    "import os\n",
    "import re\n",
    "import pandas as pd\n",
    "from sklearn.metrics import cohen_kappa_score as cks"
   ]
  },
  {
   "cell_type": "markdown",
   "metadata": {},
   "source": [
    "### Building the dataframe with the results"
   ]
  },
  {
   "cell_type": "code",
   "execution_count": 49,
   "metadata": {},
   "outputs": [
    {
     "data": {
      "text/plain": [
       "['1st_task_labeling_Amelie_08.09.csv',\n",
       " '1st_task_labeling_Gerda_07.09.csv',\n",
       " '1st_task_labeling_Marcos_24.08.csv',\n",
       " '1st_task_labeling_Renato_31.08.csv',\n",
       " '1st_task_labeling_Yalemisew_07.09.csv',\n",
       " '2nd_task_labeling_Amelie_08.09.csv',\n",
       " '2nd_task_labeling_Gerda_07.09.csv',\n",
       " '2nd_task_labeling_Marcos_28.08.csv',\n",
       " '2nd_task_labeling_Renato_07.09.csv',\n",
       " '2nd_task_labeling_Yalemisew_07.09.csv',\n",
       " '3rd_task_labeling_Amelie_08.09.csv',\n",
       " '3rd_task_labeling_Gerda_07.09.csv',\n",
       " '3rd_task_labeling_Marcos_28.08.csv',\n",
       " '3rd_task_labeling_Renato_07.09.csv',\n",
       " '3rd_task_labeling_Yalemisew_08.09.csv']"
      ]
     },
     "execution_count": 49,
     "metadata": {},
     "output_type": "execute_result"
    }
   ],
   "source": [
    "label_files = sorted(os.listdir('../data/img_labeling/'))\n",
    "label_files"
   ]
  },
  {
   "cell_type": "code",
   "execution_count": 53,
   "metadata": {},
   "outputs": [],
   "source": [
    "list_dfs = []\n",
    "for label_file in label_files:\n",
    "    task = int(re.findall(r'[1-3]{1}', label_file)[0])\n",
    "    user = re.findall(r'Amelie|Gerda|Renato|Yalemisew|Marcos', label_file)[0]\n",
    "    date = re.findall(r'[0-9]{2}.[0-9]{2}', label_file)[0]\n",
    "    date = f'{date}.2020'\n",
    "    df = pd.read_csv(f'../data/img_labeling/{label_file}', names=['class','image name', 'w','h'])\n",
    "    df['task'] = task\n",
    "    df['user'] = user\n",
    "    df['date'] = date\n",
    "    df['date'] = pd.to_datetime(df['date'])\n",
    "    df.drop(['w','h'], axis=1, inplace=True)\n",
    "    df = df[['task', 'user', 'date', 'image name', 'class']]\n",
    "    list_dfs.append(df)"
   ]
  },
  {
   "cell_type": "code",
   "execution_count": 54,
   "metadata": {},
   "outputs": [
    {
     "name": "stdout",
     "output_type": "stream",
     "text": [
      "<class 'pandas.core.frame.DataFrame'>\n",
      "Int64Index: 6232 entries, 0 to 451\n",
      "Data columns (total 6 columns):\n",
      " #   Column      Non-Null Count  Dtype         \n",
      "---  ------      --------------  -----         \n",
      " 0   task        6232 non-null   int64         \n",
      " 1   user        6232 non-null   object        \n",
      " 2   date        6232 non-null   datetime64[ns]\n",
      " 3   image name  6232 non-null   object        \n",
      " 4   id_image    6232 non-null   int16         \n",
      " 5   class       6232 non-null   object        \n",
      "dtypes: datetime64[ns](1), int16(1), int64(1), object(3)\n",
      "memory usage: 304.3+ KB\n"
     ]
    }
   ],
   "source": [
    "df_labeling = pd.concat(list_dfs)\n",
    "df_labeling['id_image'] = pd.Categorical(df_labeling['image name']).codes\n",
    "df_labeling = df_labeling[['task', 'user', 'date', 'image name', 'id_image', 'class']]\n",
    "df_labeling.info()"
   ]
  },
  {
   "cell_type": "code",
   "execution_count": 55,
   "metadata": {},
   "outputs": [
    {
     "data": {
      "text/html": [
       "<div>\n",
       "<style scoped>\n",
       "    .dataframe tbody tr th:only-of-type {\n",
       "        vertical-align: middle;\n",
       "    }\n",
       "\n",
       "    .dataframe tbody tr th {\n",
       "        vertical-align: top;\n",
       "    }\n",
       "\n",
       "    .dataframe thead th {\n",
       "        text-align: right;\n",
       "    }\n",
       "</style>\n",
       "<table border=\"1\" class=\"dataframe\">\n",
       "  <thead>\n",
       "    <tr style=\"text-align: right;\">\n",
       "      <th></th>\n",
       "      <th>task</th>\n",
       "      <th>user</th>\n",
       "      <th>date</th>\n",
       "      <th>image name</th>\n",
       "      <th>id_image</th>\n",
       "      <th>class</th>\n",
       "    </tr>\n",
       "  </thead>\n",
       "  <tbody>\n",
       "    <tr>\n",
       "      <th>0</th>\n",
       "      <td>1</td>\n",
       "      <td>Amelie</td>\n",
       "      <td>2020-08-09</td>\n",
       "      <td>203-resource_document_zuiderzeemuseum_B001601_...</td>\n",
       "      <td>88</td>\n",
       "      <td>Non-Fruits</td>\n",
       "    </tr>\n",
       "    <tr>\n",
       "      <th>1</th>\n",
       "      <td>1</td>\n",
       "      <td>Amelie</td>\n",
       "      <td>2020-08-09</td>\n",
       "      <td>285-gam19649_1.jpeg</td>\n",
       "      <td>235</td>\n",
       "      <td>Fruits</td>\n",
       "    </tr>\n",
       "    <tr>\n",
       "      <th>2</th>\n",
       "      <td>1</td>\n",
       "      <td>Amelie</td>\n",
       "      <td>2020-08-09</td>\n",
       "      <td>07101-O_389_1.jpeg</td>\n",
       "      <td>6</td>\n",
       "      <td>Fruits</td>\n",
       "    </tr>\n",
       "    <tr>\n",
       "      <th>3</th>\n",
       "      <td>1</td>\n",
       "      <td>Amelie</td>\n",
       "      <td>2020-08-09</td>\n",
       "      <td>07101-O_927_1.jpeg</td>\n",
       "      <td>12</td>\n",
       "      <td>Fruits</td>\n",
       "    </tr>\n",
       "    <tr>\n",
       "      <th>4</th>\n",
       "      <td>1</td>\n",
       "      <td>Amelie</td>\n",
       "      <td>2020-08-09</td>\n",
       "      <td>07101-O_957_1.jpeg</td>\n",
       "      <td>13</td>\n",
       "      <td>Non-Fruits</td>\n",
       "    </tr>\n",
       "  </tbody>\n",
       "</table>\n",
       "</div>"
      ],
      "text/plain": [
       "   task    user       date                                         image name  \\\n",
       "0     1  Amelie 2020-08-09  203-resource_document_zuiderzeemuseum_B001601_...   \n",
       "1     1  Amelie 2020-08-09                                285-gam19649_1.jpeg   \n",
       "2     1  Amelie 2020-08-09                                 07101-O_389_1.jpeg   \n",
       "3     1  Amelie 2020-08-09                                 07101-O_927_1.jpeg   \n",
       "4     1  Amelie 2020-08-09                                 07101-O_957_1.jpeg   \n",
       "\n",
       "   id_image       class  \n",
       "0        88  Non-Fruits  \n",
       "1       235      Fruits  \n",
       "2         6      Fruits  \n",
       "3        12      Fruits  \n",
       "4        13  Non-Fruits  "
      ]
     },
     "execution_count": 55,
     "metadata": {},
     "output_type": "execute_result"
    }
   ],
   "source": [
    "df_labeling.head()"
   ]
  },
  {
   "cell_type": "markdown",
   "metadata": {},
   "source": [
    "#### Checking the numbers of images classified:"
   ]
  },
  {
   "cell_type": "code",
   "execution_count": 73,
   "metadata": {},
   "outputs": [
    {
     "name": "stdout",
     "output_type": "stream",
     "text": [
      "Task: 1, User: Amelie, Images Classified: 392\n",
      "Task: 1, User: Gerda, Images Classified: 392\n",
      "Task: 1, User: Marcos, Images Classified: 390\n",
      "Task: 1, User: Renato, Images Classified: 392\n",
      "Task: 1, User: Yalemisew, Images Classified: 391\n",
      "\n",
      "Task: 2, User: Amelie, Images Classified: 392\n",
      "Task: 2, User: Gerda, Images Classified: 392\n",
      "Task: 2, User: Marcos, Images Classified: 390\n",
      "Task: 2, User: Renato, Images Classified: 391\n",
      "Task: 2, User: Yalemisew, Images Classified: 392\n",
      "\n",
      "Task: 3, User: Amelie, Images Classified: 392\n",
      "Task: 3, User: Gerda, Images Classified: 392\n",
      "Task: 3, User: Marcos, Images Classified: 391\n",
      "Task: 3, User: Renato, Images Classified: 392\n",
      "Task: 3, User: Yalemisew, Images Classified: 392\n",
      "\n"
     ]
    }
   ],
   "source": [
    "for task in df_labeling.task.unique():\n",
    "    for user in df_labeling.user.unique():\n",
    "        size = len(df_labeling.loc[(df_labeling.user == user) & (df_labeling.task == task), 'id_image'].unique())\n",
    "        print(f'Task: {task}, User: {user}, Images Classified: {size}')\n",
    "    print()"
   ]
  },
  {
   "cell_type": "markdown",
   "metadata": {},
   "source": [
    "#### Checking which images were not classified:"
   ]
  },
  {
   "cell_type": "code",
   "execution_count": 80,
   "metadata": {},
   "outputs": [
    {
     "name": "stdout",
     "output_type": "stream",
     "text": [
      "Task: 1, User: Amelie\n",
      "['08806-~1.JPE']\n",
      "['204804~1.JPE']\n",
      "['204804~2.JPE']\n",
      "Task: 1, User: Gerda\n",
      "['2048047-Athena_Plus_ProvidedCHO_Institutul_Na_ional_al_Patrimoniului_1C82EC077B694E00B35B9B8044A16EAB_1.jpeg'\n",
      " '2048047-Athena_Plus_ProvidedCHO_Institutul_Na_ional_al_Patrimoniului_1C82EC077B694E00B35B9B8044A16EAB_1.jpeg'\n",
      " '2048047-Athena_Plus_ProvidedCHO_Institutul_Na_ional_al_Patrimoniului_1C82EC077B694E00B35B9B8044A16EAB_1.jpeg'\n",
      " '2048047-Athena_Plus_ProvidedCHO_Institutul_Na_ional_al_Patrimoniului_1C82EC077B694E00B35B9B8044A16EAB_1.jpeg']\n",
      "['2048047-Athena_Plus_ProvidedCHO_Institutul_Na_ional_al_Patrimoniului_7000A7800599458180CD0055DB99645F_1.jpeg'\n",
      " '2048047-Athena_Plus_ProvidedCHO_Institutul_Na_ional_al_Patrimoniului_7000A7800599458180CD0055DB99645F_1.jpeg'\n",
      " '2048047-Athena_Plus_ProvidedCHO_Institutul_Na_ional_al_Patrimoniului_7000A7800599458180CD0055DB99645F_1.jpeg'\n",
      " '2048047-Athena_Plus_ProvidedCHO_Institutul_Na_ional_al_Patrimoniului_7000A7800599458180CD0055DB99645F_1.jpeg']\n",
      "['08806-cgi_bin_gw_chameleon_lng_en_host_localhost_9901_DEFAULT_search_KEYWORD_function_CARDSCR_u1_12101_t1_004573881_1.jpeg'\n",
      " '08806-cgi_bin_gw_chameleon_lng_en_host_localhost_9901_DEFAULT_search_KEYWORD_function_CARDSCR_u1_12101_t1_004573881_1.jpeg'\n",
      " '08806-cgi_bin_gw_chameleon_lng_en_host_localhost_9901_DEFAULT_search_KEYWORD_function_CARDSCR_u1_12101_t1_004573881_1.jpeg'\n",
      " '08806-cgi_bin_gw_chameleon_lng_en_host_localhost_9901_DEFAULT_search_KEYWORD_function_CARDSCR_u1_12101_t1_004573881_1.jpeg']\n",
      "Task: 1, User: Marcos\n",
      "['07101-O_3908_1.jpeg' '07101-O_3908_1.jpeg' '07101-O_3908_1.jpeg'\n",
      " '07101-O_3908_1.jpeg' '07101-O_3908_1.jpeg' '07101-O_3908_1.jpeg']\n",
      "['07101-O_4536_1.jpeg' '07101-O_4536_1.jpeg' '07101-O_4536_1.jpeg'\n",
      " '07101-O_4536_1.jpeg']\n",
      "['08806-~1.JPE']\n",
      "['204804~1.JPE']\n",
      "['204804~2.JPE']\n",
      "Task: 1, User: Renato\n",
      "['08806-~1.JPE']\n",
      "['204804~1.JPE']\n",
      "['204804~2.JPE']\n",
      "Task: 1, User: Yalemisew\n",
      "['08806-~1.JPE']\n",
      "['2048128-58615_1.jpeg' '2048128-58615_1.jpeg' '2048128-58615_1.jpeg'\n",
      " '2048128-58615_1.jpeg']\n",
      "['204804~1.JPE']\n",
      "['204804~2.JPE']\n",
      "\n",
      "Task: 2, User: Amelie\n",
      "['08806-~1.JPE']\n",
      "['204804~1.JPE']\n",
      "['204804~2.JPE']\n",
      "Task: 2, User: Gerda\n",
      "['2048047-Athena_Plus_ProvidedCHO_Institutul_Na_ional_al_Patrimoniului_1C82EC077B694E00B35B9B8044A16EAB_1.jpeg'\n",
      " '2048047-Athena_Plus_ProvidedCHO_Institutul_Na_ional_al_Patrimoniului_1C82EC077B694E00B35B9B8044A16EAB_1.jpeg'\n",
      " '2048047-Athena_Plus_ProvidedCHO_Institutul_Na_ional_al_Patrimoniului_1C82EC077B694E00B35B9B8044A16EAB_1.jpeg'\n",
      " '2048047-Athena_Plus_ProvidedCHO_Institutul_Na_ional_al_Patrimoniului_1C82EC077B694E00B35B9B8044A16EAB_1.jpeg']\n",
      "['2048047-Athena_Plus_ProvidedCHO_Institutul_Na_ional_al_Patrimoniului_7000A7800599458180CD0055DB99645F_1.jpeg'\n",
      " '2048047-Athena_Plus_ProvidedCHO_Institutul_Na_ional_al_Patrimoniului_7000A7800599458180CD0055DB99645F_1.jpeg'\n",
      " '2048047-Athena_Plus_ProvidedCHO_Institutul_Na_ional_al_Patrimoniului_7000A7800599458180CD0055DB99645F_1.jpeg'\n",
      " '2048047-Athena_Plus_ProvidedCHO_Institutul_Na_ional_al_Patrimoniului_7000A7800599458180CD0055DB99645F_1.jpeg']\n",
      "['08806-cgi_bin_gw_chameleon_lng_en_host_localhost_9901_DEFAULT_search_KEYWORD_function_CARDSCR_u1_12101_t1_004573881_1.jpeg'\n",
      " '08806-cgi_bin_gw_chameleon_lng_en_host_localhost_9901_DEFAULT_search_KEYWORD_function_CARDSCR_u1_12101_t1_004573881_1.jpeg'\n",
      " '08806-cgi_bin_gw_chameleon_lng_en_host_localhost_9901_DEFAULT_search_KEYWORD_function_CARDSCR_u1_12101_t1_004573881_1.jpeg'\n",
      " '08806-cgi_bin_gw_chameleon_lng_en_host_localhost_9901_DEFAULT_search_KEYWORD_function_CARDSCR_u1_12101_t1_004573881_1.jpeg']\n",
      "Task: 2, User: Marcos\n",
      "['90402-SK_A_1407_1.jpeg' '90402-SK_A_1407_1.jpeg'\n",
      " '90402-SK_A_1407_1.jpeg' '90402-SK_A_1407_1.jpeg']\n",
      "['90402-SK_A_1444_1.jpeg' '90402-SK_A_1444_1.jpeg'\n",
      " '90402-SK_A_1444_1.jpeg' '90402-SK_A_1444_1.jpeg']\n",
      "['08806-~1.JPE']\n",
      "['204804~1.JPE']\n",
      "['204804~2.JPE']\n",
      "Task: 2, User: Renato\n",
      "['08806-~1.JPE']\n",
      "['204804~1.JPE']\n",
      "['204804~2.JPE']\n",
      "['2020903-KMSst293_1.jpeg' '2020903-KMSst293_1.jpeg'\n",
      " '2020903-KMSst293_1.jpeg' '2020903-KMSst293_1.jpeg']\n",
      "Task: 2, User: Yalemisew\n",
      "['08806-~1.JPE']\n",
      "['204804~1.JPE']\n",
      "['204804~2.JPE']\n",
      "\n",
      "Task: 3, User: Amelie\n",
      "['08806-~1.JPE']\n",
      "['204804~1.JPE']\n",
      "['204804~2.JPE']\n",
      "Task: 3, User: Gerda\n",
      "['2048047-Athena_Plus_ProvidedCHO_Institutul_Na_ional_al_Patrimoniului_1C82EC077B694E00B35B9B8044A16EAB_1.jpeg'\n",
      " '2048047-Athena_Plus_ProvidedCHO_Institutul_Na_ional_al_Patrimoniului_1C82EC077B694E00B35B9B8044A16EAB_1.jpeg'\n",
      " '2048047-Athena_Plus_ProvidedCHO_Institutul_Na_ional_al_Patrimoniului_1C82EC077B694E00B35B9B8044A16EAB_1.jpeg'\n",
      " '2048047-Athena_Plus_ProvidedCHO_Institutul_Na_ional_al_Patrimoniului_1C82EC077B694E00B35B9B8044A16EAB_1.jpeg']\n",
      "['2048047-Athena_Plus_ProvidedCHO_Institutul_Na_ional_al_Patrimoniului_7000A7800599458180CD0055DB99645F_1.jpeg'\n",
      " '2048047-Athena_Plus_ProvidedCHO_Institutul_Na_ional_al_Patrimoniului_7000A7800599458180CD0055DB99645F_1.jpeg'\n",
      " '2048047-Athena_Plus_ProvidedCHO_Institutul_Na_ional_al_Patrimoniului_7000A7800599458180CD0055DB99645F_1.jpeg'\n",
      " '2048047-Athena_Plus_ProvidedCHO_Institutul_Na_ional_al_Patrimoniului_7000A7800599458180CD0055DB99645F_1.jpeg']\n",
      "['08806-cgi_bin_gw_chameleon_lng_en_host_localhost_9901_DEFAULT_search_KEYWORD_function_CARDSCR_u1_12101_t1_004573881_1.jpeg'\n",
      " '08806-cgi_bin_gw_chameleon_lng_en_host_localhost_9901_DEFAULT_search_KEYWORD_function_CARDSCR_u1_12101_t1_004573881_1.jpeg'\n",
      " '08806-cgi_bin_gw_chameleon_lng_en_host_localhost_9901_DEFAULT_search_KEYWORD_function_CARDSCR_u1_12101_t1_004573881_1.jpeg'\n",
      " '08806-cgi_bin_gw_chameleon_lng_en_host_localhost_9901_DEFAULT_search_KEYWORD_function_CARDSCR_u1_12101_t1_004573881_1.jpeg']\n",
      "Task: 3, User: Marcos\n",
      "['08806-~1.JPE']\n",
      "['90402-SK_A_752_1.jpeg' '90402-SK_A_752_1.jpeg' '90402-SK_A_752_1.jpeg'\n",
      " '90402-SK_A_752_1.jpeg']\n",
      "['204804~1.JPE']\n",
      "['204804~2.JPE']\n",
      "Task: 3, User: Renato\n",
      "['08806-~1.JPE']\n",
      "['204804~1.JPE']\n",
      "['204804~2.JPE']\n",
      "Task: 3, User: Yalemisew\n",
      "['08806-~1.JPE']\n",
      "['204804~1.JPE']\n",
      "['204804~2.JPE']\n",
      "\n"
     ]
    }
   ],
   "source": [
    "images = set(df_labeling.id_image.unique())\n",
    "for task in df_labeling.task.unique():\n",
    "    for user in df_labeling.user.unique():\n",
    "        print(f'Task: {task}, User: {user}')\n",
    "        ids = images.difference(set(df_labeling.loc[(df_labeling.user == user) & (df_labeling.task == task), 'id_image']))\n",
    "        for id in ids:\n",
    "            print(df_labeling.loc[(df_labeling.task == task) & (df_labeling.id_image == id), 'image name'].values)\n",
    "    print()"
   ]
  },
  {
   "cell_type": "code",
   "execution_count": null,
   "metadata": {},
   "outputs": [],
   "source": []
  },
  {
   "cell_type": "markdown",
   "metadata": {},
   "source": [
    "### Analysing the results"
   ]
  },
  {
   "cell_type": "code",
   "execution_count": 65,
   "metadata": {},
   "outputs": [
    {
     "ename": "ValueError",
     "evalue": "Found input variables with inconsistent numbers of samples: [452, 392]",
     "output_type": "error",
     "traceback": [
      "\u001b[1;31m---------------------------------------------------------------------------\u001b[0m",
      "\u001b[1;31mValueError\u001b[0m                                Traceback (most recent call last)",
      "\u001b[1;32m<ipython-input-65-162a9cdc7197>\u001b[0m in \u001b[0;36m<module>\u001b[1;34m\u001b[0m\n\u001b[1;32m----> 1\u001b[1;33m \u001b[0mcks\u001b[0m\u001b[1;33m(\u001b[0m\u001b[0mdf_labeling\u001b[0m\u001b[1;33m.\u001b[0m\u001b[0mloc\u001b[0m\u001b[1;33m[\u001b[0m\u001b[1;33m(\u001b[0m\u001b[0mdf_labeling\u001b[0m\u001b[1;33m.\u001b[0m\u001b[0muser\u001b[0m \u001b[1;33m==\u001b[0m \u001b[1;34m'Gerda'\u001b[0m\u001b[1;33m)\u001b[0m \u001b[1;33m&\u001b[0m \u001b[1;33m(\u001b[0m\u001b[0mdf_labeling\u001b[0m\u001b[1;33m.\u001b[0m\u001b[0mtask\u001b[0m \u001b[1;33m==\u001b[0m \u001b[1;36m3\u001b[0m\u001b[1;33m)\u001b[0m\u001b[1;33m,\u001b[0m \u001b[1;34m'class'\u001b[0m\u001b[1;33m]\u001b[0m\u001b[1;33m,\u001b[0m \u001b[0mdf_labeling\u001b[0m\u001b[1;33m.\u001b[0m\u001b[0mloc\u001b[0m\u001b[1;33m[\u001b[0m\u001b[1;33m(\u001b[0m\u001b[0mdf_labeling\u001b[0m\u001b[1;33m.\u001b[0m\u001b[0muser\u001b[0m \u001b[1;33m==\u001b[0m \u001b[1;34m'Renato'\u001b[0m\u001b[1;33m)\u001b[0m \u001b[1;33m&\u001b[0m \u001b[1;33m(\u001b[0m\u001b[0mdf_labeling\u001b[0m\u001b[1;33m.\u001b[0m\u001b[0mtask\u001b[0m \u001b[1;33m==\u001b[0m \u001b[1;36m3\u001b[0m\u001b[1;33m)\u001b[0m\u001b[1;33m,\u001b[0m \u001b[1;34m'class'\u001b[0m\u001b[1;33m]\u001b[0m\u001b[1;33m)\u001b[0m\u001b[1;33m\u001b[0m\u001b[1;33m\u001b[0m\u001b[0m\n\u001b[0m",
      "\u001b[1;32mC:\\ProgramData\\Anaconda3\\lib\\site-packages\\sklearn\\metrics\\_classification.py\u001b[0m in \u001b[0;36mcohen_kappa_score\u001b[1;34m(y1, y2, labels, weights, sample_weight)\u001b[0m\n\u001b[0;32m    583\u001b[0m     \"\"\"\n\u001b[0;32m    584\u001b[0m     confusion = confusion_matrix(y1, y2, labels=labels,\n\u001b[1;32m--> 585\u001b[1;33m                                  sample_weight=sample_weight)\n\u001b[0m\u001b[0;32m    586\u001b[0m     \u001b[0mn_classes\u001b[0m \u001b[1;33m=\u001b[0m \u001b[0mconfusion\u001b[0m\u001b[1;33m.\u001b[0m\u001b[0mshape\u001b[0m\u001b[1;33m[\u001b[0m\u001b[1;36m0\u001b[0m\u001b[1;33m]\u001b[0m\u001b[1;33m\u001b[0m\u001b[1;33m\u001b[0m\u001b[0m\n\u001b[0;32m    587\u001b[0m     \u001b[0msum0\u001b[0m \u001b[1;33m=\u001b[0m \u001b[0mnp\u001b[0m\u001b[1;33m.\u001b[0m\u001b[0msum\u001b[0m\u001b[1;33m(\u001b[0m\u001b[0mconfusion\u001b[0m\u001b[1;33m,\u001b[0m \u001b[0maxis\u001b[0m\u001b[1;33m=\u001b[0m\u001b[1;36m0\u001b[0m\u001b[1;33m)\u001b[0m\u001b[1;33m\u001b[0m\u001b[1;33m\u001b[0m\u001b[0m\n",
      "\u001b[1;32mC:\\ProgramData\\Anaconda3\\lib\\site-packages\\sklearn\\metrics\\_classification.py\u001b[0m in \u001b[0;36mconfusion_matrix\u001b[1;34m(y_true, y_pred, labels, sample_weight, normalize)\u001b[0m\n\u001b[0;32m    266\u001b[0m \u001b[1;33m\u001b[0m\u001b[0m\n\u001b[0;32m    267\u001b[0m     \"\"\"\n\u001b[1;32m--> 268\u001b[1;33m     \u001b[0my_type\u001b[0m\u001b[1;33m,\u001b[0m \u001b[0my_true\u001b[0m\u001b[1;33m,\u001b[0m \u001b[0my_pred\u001b[0m \u001b[1;33m=\u001b[0m \u001b[0m_check_targets\u001b[0m\u001b[1;33m(\u001b[0m\u001b[0my_true\u001b[0m\u001b[1;33m,\u001b[0m \u001b[0my_pred\u001b[0m\u001b[1;33m)\u001b[0m\u001b[1;33m\u001b[0m\u001b[1;33m\u001b[0m\u001b[0m\n\u001b[0m\u001b[0;32m    269\u001b[0m     \u001b[1;32mif\u001b[0m \u001b[0my_type\u001b[0m \u001b[1;32mnot\u001b[0m \u001b[1;32min\u001b[0m \u001b[1;33m(\u001b[0m\u001b[1;34m\"binary\"\u001b[0m\u001b[1;33m,\u001b[0m \u001b[1;34m\"multiclass\"\u001b[0m\u001b[1;33m)\u001b[0m\u001b[1;33m:\u001b[0m\u001b[1;33m\u001b[0m\u001b[1;33m\u001b[0m\u001b[0m\n\u001b[0;32m    270\u001b[0m         \u001b[1;32mraise\u001b[0m \u001b[0mValueError\u001b[0m\u001b[1;33m(\u001b[0m\u001b[1;34m\"%s is not supported\"\u001b[0m \u001b[1;33m%\u001b[0m \u001b[0my_type\u001b[0m\u001b[1;33m)\u001b[0m\u001b[1;33m\u001b[0m\u001b[1;33m\u001b[0m\u001b[0m\n",
      "\u001b[1;32mC:\\ProgramData\\Anaconda3\\lib\\site-packages\\sklearn\\metrics\\_classification.py\u001b[0m in \u001b[0;36m_check_targets\u001b[1;34m(y_true, y_pred)\u001b[0m\n\u001b[0;32m     78\u001b[0m     \u001b[0my_pred\u001b[0m \u001b[1;33m:\u001b[0m \u001b[0marray\u001b[0m \u001b[1;32mor\u001b[0m \u001b[0mindicator\u001b[0m \u001b[0mmatrix\u001b[0m\u001b[1;33m\u001b[0m\u001b[1;33m\u001b[0m\u001b[0m\n\u001b[0;32m     79\u001b[0m     \"\"\"\n\u001b[1;32m---> 80\u001b[1;33m     \u001b[0mcheck_consistent_length\u001b[0m\u001b[1;33m(\u001b[0m\u001b[0my_true\u001b[0m\u001b[1;33m,\u001b[0m \u001b[0my_pred\u001b[0m\u001b[1;33m)\u001b[0m\u001b[1;33m\u001b[0m\u001b[1;33m\u001b[0m\u001b[0m\n\u001b[0m\u001b[0;32m     81\u001b[0m     \u001b[0mtype_true\u001b[0m \u001b[1;33m=\u001b[0m \u001b[0mtype_of_target\u001b[0m\u001b[1;33m(\u001b[0m\u001b[0my_true\u001b[0m\u001b[1;33m)\u001b[0m\u001b[1;33m\u001b[0m\u001b[1;33m\u001b[0m\u001b[0m\n\u001b[0;32m     82\u001b[0m     \u001b[0mtype_pred\u001b[0m \u001b[1;33m=\u001b[0m \u001b[0mtype_of_target\u001b[0m\u001b[1;33m(\u001b[0m\u001b[0my_pred\u001b[0m\u001b[1;33m)\u001b[0m\u001b[1;33m\u001b[0m\u001b[1;33m\u001b[0m\u001b[0m\n",
      "\u001b[1;32mC:\\ProgramData\\Anaconda3\\lib\\site-packages\\sklearn\\utils\\validation.py\u001b[0m in \u001b[0;36mcheck_consistent_length\u001b[1;34m(*arrays)\u001b[0m\n\u001b[0;32m    210\u001b[0m     \u001b[1;32mif\u001b[0m \u001b[0mlen\u001b[0m\u001b[1;33m(\u001b[0m\u001b[0muniques\u001b[0m\u001b[1;33m)\u001b[0m \u001b[1;33m>\u001b[0m \u001b[1;36m1\u001b[0m\u001b[1;33m:\u001b[0m\u001b[1;33m\u001b[0m\u001b[1;33m\u001b[0m\u001b[0m\n\u001b[0;32m    211\u001b[0m         raise ValueError(\"Found input variables with inconsistent numbers of\"\n\u001b[1;32m--> 212\u001b[1;33m                          \" samples: %r\" % [int(l) for l in lengths])\n\u001b[0m\u001b[0;32m    213\u001b[0m \u001b[1;33m\u001b[0m\u001b[0m\n\u001b[0;32m    214\u001b[0m \u001b[1;33m\u001b[0m\u001b[0m\n",
      "\u001b[1;31mValueError\u001b[0m: Found input variables with inconsistent numbers of samples: [452, 392]"
     ]
    }
   ],
   "source": [
    "cks(df_labeling.loc[(df_labeling.user == 'Gerda') & (df_labeling.task == 3), 'class'], df_labeling.loc[(df_labeling.user == 'Renato') & (df_labeling.task == 3), 'class'])"
   ]
  },
  {
   "cell_type": "code",
   "execution_count": null,
   "metadata": {},
   "outputs": [],
   "source": []
  }
 ],
 "metadata": {
  "kernelspec": {
   "display_name": "Python 3",
   "language": "python",
   "name": "python3"
  },
  "language_info": {
   "codemirror_mode": {
    "name": "ipython",
    "version": 3
   },
   "file_extension": ".py",
   "mimetype": "text/x-python",
   "name": "python",
   "nbconvert_exporter": "python",
   "pygments_lexer": "ipython3",
   "version": "3.7.6"
  }
 },
 "nbformat": 4,
 "nbformat_minor": 4
}
