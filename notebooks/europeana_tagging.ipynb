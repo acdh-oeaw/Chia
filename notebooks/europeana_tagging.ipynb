{
 "cells": [
  {
   "cell_type": "code",
   "execution_count": 4,
   "metadata": {},
   "outputs": [],
   "source": [
    "import os\n",
    "import pandas as pd"
   ]
  },
  {
   "cell_type": "code",
   "execution_count": 7,
   "metadata": {},
   "outputs": [
    {
     "data": {
      "text/plain": [
       "['1st_task_labeling_Gerda_07.09.csv',\n",
       " '1st_task_labeling_Marcos_24.08.csv',\n",
       " '1st_task_labeling_Renato_31.08.csv',\n",
       " '2nd_task_labeling_Gerda_07.09.csv',\n",
       " '2nd_task_labeling_Marcos_28.08.csv',\n",
       " '2nd_task_labeling_Renato_07.09.csv',\n",
       " '3nd_task_labeling_Renato_07.09.csv',\n",
       " '3rd_task_labeling_Gerda_07.09.csv',\n",
       " '3rd_task_labeling_Marcos_28.08.csv']"
      ]
     },
     "execution_count": 7,
     "metadata": {},
     "output_type": "execute_result"
    }
   ],
   "source": [
    "files = sorted(os.listdir('../data/img_labeling/'))\n",
    "files"
   ]
  },
  {
   "cell_type": "code",
   "execution_count": 14,
   "metadata": {},
   "outputs": [
    {
     "data": {
      "text/html": [
       "<div>\n",
       "<style scoped>\n",
       "    .dataframe tbody tr th:only-of-type {\n",
       "        vertical-align: middle;\n",
       "    }\n",
       "\n",
       "    .dataframe tbody tr th {\n",
       "        vertical-align: top;\n",
       "    }\n",
       "\n",
       "    .dataframe thead th {\n",
       "        text-align: right;\n",
       "    }\n",
       "</style>\n",
       "<table border=\"1\" class=\"dataframe\">\n",
       "  <thead>\n",
       "    <tr style=\"text-align: right;\">\n",
       "      <th></th>\n",
       "      <th>class</th>\n",
       "      <th>image name</th>\n",
       "      <th>w</th>\n",
       "      <th>h</th>\n",
       "    </tr>\n",
       "  </thead>\n",
       "  <tbody>\n",
       "    <tr>\n",
       "      <th>0</th>\n",
       "      <td>Non-Fruits</td>\n",
       "      <td>203-resource_document_zuiderzeemuseum_B001601_...</td>\n",
       "      <td>3600</td>\n",
       "      <td>3020</td>\n",
       "    </tr>\n",
       "    <tr>\n",
       "      <th>1</th>\n",
       "      <td>Fruits</td>\n",
       "      <td>285-gam19649_1.jpeg</td>\n",
       "      <td>1024</td>\n",
       "      <td>801</td>\n",
       "    </tr>\n",
       "    <tr>\n",
       "      <th>2</th>\n",
       "      <td>Non-Fruits</td>\n",
       "      <td>07101-O_927_1.jpeg</td>\n",
       "      <td>5000</td>\n",
       "      <td>3868</td>\n",
       "    </tr>\n",
       "    <tr>\n",
       "      <th>3</th>\n",
       "      <td>Fruits</td>\n",
       "      <td>07101-O_2660_1.jpeg</td>\n",
       "      <td>4008</td>\n",
       "      <td>5000</td>\n",
       "    </tr>\n",
       "    <tr>\n",
       "      <th>4</th>\n",
       "      <td>Fruits</td>\n",
       "      <td>07101-O_3908_1.jpeg</td>\n",
       "      <td>5000</td>\n",
       "      <td>4165</td>\n",
       "    </tr>\n",
       "  </tbody>\n",
       "</table>\n",
       "</div>"
      ],
      "text/plain": [
       "        class                                         image name     w     h\n",
       "0  Non-Fruits  203-resource_document_zuiderzeemuseum_B001601_...  3600  3020\n",
       "1      Fruits                                285-gam19649_1.jpeg  1024   801\n",
       "2  Non-Fruits                                 07101-O_927_1.jpeg  5000  3868\n",
       "3      Fruits                                07101-O_2660_1.jpeg  4008  5000\n",
       "4      Fruits                                07101-O_3908_1.jpeg  5000  4165"
      ]
     },
     "execution_count": 14,
     "metadata": {},
     "output_type": "execute_result"
    }
   ],
   "source": [
    "t1 = pd.read_csv(f'../data/img_labeling/{files[0]}', names=['class','image name', 'w','h'])\n",
    "t1.head()"
   ]
  },
  {
   "cell_type": "code",
   "execution_count": null,
   "metadata": {},
   "outputs": [],
   "source": []
  }
 ],
 "metadata": {
  "kernelspec": {
   "display_name": "Python 3",
   "language": "python",
   "name": "python3"
  },
  "language_info": {
   "codemirror_mode": {
    "name": "ipython",
    "version": 3
   },
   "file_extension": ".py",
   "mimetype": "text/x-python",
   "name": "python",
   "nbconvert_exporter": "python",
   "pygments_lexer": "ipython3",
   "version": "3.8.2"
  }
 },
 "nbformat": 4,
 "nbformat_minor": 4
}
