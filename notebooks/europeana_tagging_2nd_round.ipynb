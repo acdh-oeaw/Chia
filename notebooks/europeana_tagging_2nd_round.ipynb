{
 "cells": [
  {
   "cell_type": "code",
   "execution_count": 1,
   "metadata": {},
   "outputs": [],
   "source": [
    "import os\n",
    "import re\n",
    "import itertools\n",
    "import pandas as pd\n",
    "from sklearn.metrics import cohen_kappa_score as cks\n",
    "from tabulate import tabulate"
   ]
  },
  {
   "cell_type": "markdown",
   "metadata": {},
   "source": [
    "### Building the dataframe with the results"
   ]
  },
  {
   "cell_type": "code",
   "execution_count": 2,
   "metadata": {},
   "outputs": [],
   "source": [
    "datapath = '../data/img_labeling_2nd_round/'"
   ]
  },
  {
   "cell_type": "code",
   "execution_count": 3,
   "metadata": {},
   "outputs": [
    {
     "name": "stdout",
     "output_type": "stream",
     "text": [
      "1st_task_labeling_Amelie_2020-11-04-07-41-41.csv\n",
      "1st_task_labeling_Gerda_2020-10-23-12-56-45.csv\n",
      "1st_task_labeling_Marcos_2020-11-09-04-46-17.csv\n",
      "1st_task_labeling_Renato_2020-11-06.csv\n",
      "1st_task_labeling_Yalemisew_2020-11-02-01-40-27.csv\n",
      "2nd_task_labeling_Amelie_2020-11-04-09-14-46.csv\n",
      "2nd_task_labeling_Gerda_2020-10-29-10-18-19.csv\n",
      "2nd_task_labeling_Marcos_2020-11-09-04-46-17.csv\n",
      "2nd_task_labeling_Renato_2020-11-09-10-31-33.csv\n",
      "2nd_task_labeling_Yalemisew_2020-11-02-01-40-27.csv\n",
      "3rd_task_labeling_Amelie_2020-11-04-08-14-15.csv\n",
      "3rd_task_labeling_Gerda_2020-10-29-10-37-58.csv\n",
      "3rd_task_labeling_Marcos_2020-11-09-04-46-17.csv\n",
      "3rd_task_labeling_Renato_2020-11-09-11-51-56.csv\n",
      "3rd_task_labeling_Yalemisew_2020-11-02-01-40-27.csv\n"
     ]
    }
   ],
   "source": [
    "label_files = sorted(os.listdir(datapath))\n",
    "label_files = [f for f in label_files if 'task_labeling' in f]\n",
    "for f in label_files:\n",
    "    print(f)"
   ]
  },
  {
   "cell_type": "code",
   "execution_count": 4,
   "metadata": {},
   "outputs": [
    {
     "name": "stdout",
     "output_type": "stream",
     "text": [
      "Task: 1, User: Amelie, Images Classified: 392\n",
      "Task: 1, User: Gerda, Images Classified: 392\n",
      "Task: 1, User: Marcos, Images Classified: 392\n",
      "Task: 1, User: Renato, Images Classified: 392\n",
      "Task: 1, User: Yalemisew, Images Classified: 392\n",
      "Task: 2, User: Amelie, Images Classified: 392\n",
      "Task: 2, User: Gerda, Images Classified: 392\n",
      "Task: 2, User: Marcos, Images Classified: 392\n",
      "Task: 2, User: Renato, Images Classified: 392\n",
      "Task: 2, User: Yalemisew, Images Classified: 392\n",
      "Task: 3, User: Amelie, Images Classified: 392\n",
      "Task: 3, User: Gerda, Images Classified: 442\n",
      "Task: 3, User: Marcos, Images Classified: 392\n",
      "Task: 3, User: Renato, Images Classified: 392\n",
      "Task: 3, User: Yalemisew, Images Classified: 392\n"
     ]
    }
   ],
   "source": [
    "list_dfs = []\n",
    "for label_file in label_files:\n",
    "    task = int(re.findall(r'[1-3]{1}', label_file)[0])\n",
    "    user = re.findall(r'Amelie|Gerda|Renato|Yalemisew|Marcos', label_file)[0]\n",
    "    date = re.findall(r'[0-9]{2}.[0-9]{2}', label_file)[0]\n",
    "    date = f'{date}.2020'\n",
    "    \n",
    "    df = pd.read_csv(f'{datapath}{label_file}', names=['image name', 'class','w','h'])\n",
    "    df['task'] = task\n",
    "    df['user'] = user\n",
    "    df['date'] = date\n",
    "    df['date'] = pd.to_datetime(df['date'])\n",
    "    df.drop(['w','h'], axis=1, inplace=True)\n",
    "    df.drop_duplicates(inplace=True)\n",
    "    df = df[['task', 'user', 'date', 'image name', 'class']]\n",
    "    print(f'Task: {task}, User: {user}, Images Classified: {len(df)}')\n",
    "    list_dfs.append(df)"
   ]
  },
  {
   "cell_type": "code",
   "execution_count": 5,
   "metadata": {},
   "outputs": [],
   "source": [
    "df_labeling = pd.concat(list_dfs)\n",
    "df_labeling['id_image'] = pd.Categorical(df_labeling['image name']).codes\n",
    "df_labeling = df_labeling[['task', 'user', 'date', 'image name', 'id_image', 'class']]"
   ]
  },
  {
   "cell_type": "code",
   "execution_count": 6,
   "metadata": {},
   "outputs": [],
   "source": [
    "df_labeling['image_appearances'] = df_labeling.groupby('id_image')['id_image'].transform('count')\n",
    "df_labeling = df_labeling[df_labeling['image_appearances'] != 1] "
   ]
  },
  {
   "cell_type": "code",
   "execution_count": 7,
   "metadata": {},
   "outputs": [
    {
     "name": "stdout",
     "output_type": "stream",
     "text": [
      "<class 'pandas.core.frame.DataFrame'>\n",
      "Int64Index: 5880 entries, 0 to 391\n",
      "Data columns (total 7 columns):\n",
      " #   Column             Non-Null Count  Dtype         \n",
      "---  ------             --------------  -----         \n",
      " 0   task               5880 non-null   int64         \n",
      " 1   user               5880 non-null   object        \n",
      " 2   date               5880 non-null   datetime64[ns]\n",
      " 3   image name         5880 non-null   object        \n",
      " 4   id_image           5880 non-null   int16         \n",
      " 5   class              5880 non-null   object        \n",
      " 6   image_appearances  5880 non-null   int64         \n",
      "dtypes: datetime64[ns](1), int16(1), int64(2), object(3)\n",
      "memory usage: 333.0+ KB\n"
     ]
    }
   ],
   "source": [
    "df_labeling.info()"
   ]
  },
  {
   "cell_type": "code",
   "execution_count": 8,
   "metadata": {},
   "outputs": [
    {
     "data": {
      "text/html": [
       "<div>\n",
       "<style scoped>\n",
       "    .dataframe tbody tr th:only-of-type {\n",
       "        vertical-align: middle;\n",
       "    }\n",
       "\n",
       "    .dataframe tbody tr th {\n",
       "        vertical-align: top;\n",
       "    }\n",
       "\n",
       "    .dataframe thead th {\n",
       "        text-align: right;\n",
       "    }\n",
       "</style>\n",
       "<table border=\"1\" class=\"dataframe\">\n",
       "  <thead>\n",
       "    <tr style=\"text-align: right;\">\n",
       "      <th></th>\n",
       "      <th>task</th>\n",
       "      <th>user</th>\n",
       "      <th>date</th>\n",
       "      <th>image name</th>\n",
       "      <th>id_image</th>\n",
       "      <th>class</th>\n",
       "      <th>image_appearances</th>\n",
       "    </tr>\n",
       "  </thead>\n",
       "  <tbody>\n",
       "    <tr>\n",
       "      <th>0</th>\n",
       "      <td>1</td>\n",
       "      <td>Amelie</td>\n",
       "      <td>2020-11-20</td>\n",
       "      <td>203-resource_document_zuiderzeemuseum_B001601_...</td>\n",
       "      <td>99</td>\n",
       "      <td>[Non-Fruits]</td>\n",
       "      <td>15</td>\n",
       "    </tr>\n",
       "    <tr>\n",
       "      <th>1</th>\n",
       "      <td>1</td>\n",
       "      <td>Amelie</td>\n",
       "      <td>2020-11-20</td>\n",
       "      <td>285-gam19649_1.jpeg</td>\n",
       "      <td>282</td>\n",
       "      <td>[Fruits]</td>\n",
       "      <td>15</td>\n",
       "    </tr>\n",
       "    <tr>\n",
       "      <th>2</th>\n",
       "      <td>1</td>\n",
       "      <td>Amelie</td>\n",
       "      <td>2020-11-20</td>\n",
       "      <td>07101-O_389_1.jpeg</td>\n",
       "      <td>6</td>\n",
       "      <td>[Fruits]</td>\n",
       "      <td>15</td>\n",
       "    </tr>\n",
       "    <tr>\n",
       "      <th>3</th>\n",
       "      <td>1</td>\n",
       "      <td>Amelie</td>\n",
       "      <td>2020-11-20</td>\n",
       "      <td>07101-O_927_1.jpeg</td>\n",
       "      <td>12</td>\n",
       "      <td>[Fruits]</td>\n",
       "      <td>15</td>\n",
       "    </tr>\n",
       "    <tr>\n",
       "      <th>4</th>\n",
       "      <td>1</td>\n",
       "      <td>Amelie</td>\n",
       "      <td>2020-11-20</td>\n",
       "      <td>07101-O_957_1.jpeg</td>\n",
       "      <td>13</td>\n",
       "      <td>[Fruits]</td>\n",
       "      <td>15</td>\n",
       "    </tr>\n",
       "  </tbody>\n",
       "</table>\n",
       "</div>"
      ],
      "text/plain": [
       "   task    user       date                                         image name  \\\n",
       "0     1  Amelie 2020-11-20  203-resource_document_zuiderzeemuseum_B001601_...   \n",
       "1     1  Amelie 2020-11-20                                285-gam19649_1.jpeg   \n",
       "2     1  Amelie 2020-11-20                                 07101-O_389_1.jpeg   \n",
       "3     1  Amelie 2020-11-20                                 07101-O_927_1.jpeg   \n",
       "4     1  Amelie 2020-11-20                                 07101-O_957_1.jpeg   \n",
       "\n",
       "   id_image         class  image_appearances  \n",
       "0        99  [Non-Fruits]                 15  \n",
       "1       282      [Fruits]                 15  \n",
       "2         6      [Fruits]                 15  \n",
       "3        12      [Fruits]                 15  \n",
       "4        13      [Fruits]                 15  "
      ]
     },
     "execution_count": 8,
     "metadata": {},
     "output_type": "execute_result"
    }
   ],
   "source": [
    "df_labeling.head()"
   ]
  },
  {
   "cell_type": "markdown",
   "metadata": {},
   "source": [
    "#### Checking the numbers of images classified after fixing names:"
   ]
  },
  {
   "cell_type": "code",
   "execution_count": 9,
   "metadata": {},
   "outputs": [
    {
     "name": "stdout",
     "output_type": "stream",
     "text": [
      "Task: 1, User: Amelie, Images Classified: 392\n",
      "Task: 1, User: Gerda, Images Classified: 392\n",
      "Task: 1, User: Marcos, Images Classified: 392\n",
      "Task: 1, User: Renato, Images Classified: 392\n",
      "Task: 1, User: Yalemisew, Images Classified: 392\n",
      "\n",
      "Task: 2, User: Amelie, Images Classified: 392\n",
      "Task: 2, User: Gerda, Images Classified: 392\n",
      "Task: 2, User: Marcos, Images Classified: 392\n",
      "Task: 2, User: Renato, Images Classified: 392\n",
      "Task: 2, User: Yalemisew, Images Classified: 392\n",
      "\n",
      "Task: 3, User: Amelie, Images Classified: 392\n",
      "Task: 3, User: Gerda, Images Classified: 392\n",
      "Task: 3, User: Marcos, Images Classified: 392\n",
      "Task: 3, User: Renato, Images Classified: 392\n",
      "Task: 3, User: Yalemisew, Images Classified: 392\n",
      "\n"
     ]
    }
   ],
   "source": [
    "for task in df_labeling.task.unique():\n",
    "    for user in df_labeling.user.unique():\n",
    "        size = len(df_labeling.loc[(df_labeling.user == user) & (df_labeling.task == task), 'id_image'].unique())\n",
    "        print(f'Task: {task}, User: {user}, Images Classified: {size}')\n",
    "    print()"
   ]
  },
  {
   "cell_type": "markdown",
   "metadata": {},
   "source": [
    "#### Checking which images were not classified:"
   ]
  },
  {
   "cell_type": "code",
   "execution_count": 10,
   "metadata": {},
   "outputs": [
    {
     "data": {
      "text/html": [
       "<div>\n",
       "<style scoped>\n",
       "    .dataframe tbody tr th:only-of-type {\n",
       "        vertical-align: middle;\n",
       "    }\n",
       "\n",
       "    .dataframe tbody tr th {\n",
       "        vertical-align: top;\n",
       "    }\n",
       "\n",
       "    .dataframe thead th {\n",
       "        text-align: right;\n",
       "    }\n",
       "</style>\n",
       "<table border=\"1\" class=\"dataframe\">\n",
       "  <thead>\n",
       "    <tr style=\"text-align: right;\">\n",
       "      <th></th>\n",
       "      <th>images</th>\n",
       "      <th>task</th>\n",
       "      <th>user</th>\n",
       "    </tr>\n",
       "  </thead>\n",
       "  <tbody>\n",
       "  </tbody>\n",
       "</table>\n",
       "</div>"
      ],
      "text/plain": [
       "Empty DataFrame\n",
       "Columns: [images, task, user]\n",
       "Index: []"
      ]
     },
     "execution_count": 10,
     "metadata": {},
     "output_type": "execute_result"
    }
   ],
   "source": [
    "images = set(df_labeling.id_image.unique())\n",
    "dfs = []\n",
    "for task in df_labeling.task.unique():\n",
    "    for user in df_labeling.user.unique():\n",
    "        id_list = []\n",
    "        ids = images.difference(set(df_labeling.loc[(df_labeling.user == user) & (df_labeling.task == task), 'id_image']))\n",
    "        if len(ids) > 0:\n",
    "            #print(f'Missing files for task: {task}, by user: {user}')\n",
    "            for _id in ids:\n",
    "                try:\n",
    "                    id_list.append(df_labeling.loc[(df_labeling.task == task) & (df_labeling.id_image == _id), 'image name'].values[0])\n",
    "                    #print(df_labeling.loc[(df_labeling.task == task) & (df_labeling.id_image == _id), 'image name'].values[0])\n",
    "                except:\n",
    "                    pass\n",
    "                    #print('--->', df_labeling.loc[(df_labeling.task == task) & (df_labeling.id_image == _id), 'image name'].values)\n",
    "            #print()\n",
    "        dfm = pd.DataFrame({'images':id_list})\n",
    "        dfm['task'] = task\n",
    "        dfm['user'] = user\n",
    "        dfs.append(dfm)\n",
    "df_missing = pd.concat(dfs)\n",
    "df_missing.to_excel(f'{datapath}/missing.xlsx')\n",
    "df_missing.head()       "
   ]
  },
  {
   "cell_type": "markdown",
   "metadata": {},
   "source": [
    "#### Checking duplicates"
   ]
  },
  {
   "cell_type": "code",
   "execution_count": 11,
   "metadata": {},
   "outputs": [
    {
     "data": {
      "text/html": [
       "<div>\n",
       "<style scoped>\n",
       "    .dataframe tbody tr th:only-of-type {\n",
       "        vertical-align: middle;\n",
       "    }\n",
       "\n",
       "    .dataframe tbody tr th {\n",
       "        vertical-align: top;\n",
       "    }\n",
       "\n",
       "    .dataframe thead th {\n",
       "        text-align: right;\n",
       "    }\n",
       "</style>\n",
       "<table border=\"1\" class=\"dataframe\">\n",
       "  <thead>\n",
       "    <tr style=\"text-align: right;\">\n",
       "      <th></th>\n",
       "      <th>task</th>\n",
       "      <th>user</th>\n",
       "      <th>image name</th>\n",
       "      <th>id_image</th>\n",
       "      <th>class</th>\n",
       "    </tr>\n",
       "  </thead>\n",
       "  <tbody>\n",
       "  </tbody>\n",
       "</table>\n",
       "</div>"
      ],
      "text/plain": [
       "Empty DataFrame\n",
       "Columns: [task, user, image name, id_image, class]\n",
       "Index: []"
      ]
     },
     "execution_count": 11,
     "metadata": {},
     "output_type": "execute_result"
    }
   ],
   "source": [
    "duplicates = df_labeling.loc[df_labeling.duplicated(['task', 'user', 'image name', 'id_image'], keep=False), ['task', 'user', 'image name', 'id_image', 'class']]\n",
    "duplicates.sort_values(by=['user', 'image name', 'task'], inplace=True)\n",
    "duplicates.to_excel(f'{datapath}/duplicates.xlsx')\n",
    "duplicates.head(30)"
   ]
  },
  {
   "cell_type": "markdown",
   "metadata": {},
   "source": [
    "### Analysing the [inter-annotator agreement](https://scikit-learn.org/stable/modules/generated/sklearn.metrics.cohen_kappa_score.html) on the results"
   ]
  },
  {
   "cell_type": "code",
   "execution_count": 12,
   "metadata": {},
   "outputs": [],
   "source": [
    "l1 = df_labeling.user.unique()\n",
    "iter_users = list(itertools.product(l1,l1))\n",
    "df_iaa = pd.DataFrame(index=l1, columns=l1)"
   ]
  },
  {
   "cell_type": "code",
   "execution_count": 13,
   "metadata": {},
   "outputs": [
    {
     "name": "stdout",
     "output_type": "stream",
     "text": [
      "+-----------+-------------+-------------+-------------+-------------+-------------+\n",
      "| Task_1    | Amelie      | Gerda       | Marcos      | Renato      | Yalemisew   |\n",
      "|-----------+-------------+-------------+-------------+-------------+-------------|\n",
      "| Amelie    | 1.000/(392) | 0.928/(392) | 0.898/(392) | 0.908/(392) | 0.898/(392) |\n",
      "| Gerda     | 0.928/(392) | 1.000/(392) | 0.882/(392) | 0.907/(392) | 0.861/(392) |\n",
      "| Marcos    | 0.898/(392) | 0.882/(392) | 1.000/(392) | 0.913/(392) | 0.928/(392) |\n",
      "| Renato    | 0.908/(392) | 0.907/(392) | 0.913/(392) | 1.000/(392) | 0.903/(392) |\n",
      "| Yalemisew | 0.898/(392) | 0.861/(392) | 0.928/(392) | 0.903/(392) | 1.000/(392) |\n",
      "+-----------+-------------+-------------+-------------+-------------+-------------+\n",
      "\n",
      "+-----------+-------------+-------------+-------------+-------------+-------------+\n",
      "| Task_2    | Amelie      | Gerda       | Marcos      | Renato      | Yalemisew   |\n",
      "|-----------+-------------+-------------+-------------+-------------+-------------|\n",
      "| Amelie    | 1.000/(392) | 0.168/(392) | 0.216/(392) | 0.255/(392) | 0.167/(392) |\n",
      "| Gerda     | 0.168/(392) | 1.000/(392) | 0.188/(392) | 0.095/(392) | 0.419/(392) |\n",
      "| Marcos    | 0.216/(392) | 0.188/(392) | 1.000/(392) | 0.094/(392) | 0.358/(392) |\n",
      "| Renato    | 0.255/(392) | 0.095/(392) | 0.094/(392) | 1.000/(392) | 0.089/(392) |\n",
      "| Yalemisew | 0.167/(392) | 0.419/(392) | 0.358/(392) | 0.089/(392) | 1.000/(392) |\n",
      "+-----------+-------------+-------------+-------------+-------------+-------------+\n",
      "\n",
      "+-----------+-------------+-------------+-------------+-------------+-------------+\n",
      "| Task_3    | Amelie      | Gerda       | Marcos      | Renato      | Yalemisew   |\n",
      "|-----------+-------------+-------------+-------------+-------------+-------------|\n",
      "| Amelie    | 1.000/(392) | 0.472/(392) | 0.396/(392) | 0.526/(392) | 0.336/(392) |\n",
      "| Gerda     | 0.472/(392) | 1.000/(392) | 0.346/(392) | 0.565/(392) | 0.454/(392) |\n",
      "| Marcos    | 0.396/(392) | 0.346/(392) | 1.000/(392) | 0.326/(392) | 0.346/(392) |\n",
      "| Renato    | 0.526/(392) | 0.565/(392) | 0.326/(392) | 1.000/(392) | 0.439/(392) |\n",
      "| Yalemisew | 0.336/(392) | 0.454/(392) | 0.346/(392) | 0.439/(392) | 1.000/(392) |\n",
      "+-----------+-------------+-------------+-------------+-------------+-------------+\n",
      "\n"
     ]
    }
   ],
   "source": [
    "for task in df_labeling.task.unique():\n",
    "    for user1,user2 in iter_users:\n",
    "        classesA = df_labeling.loc[(df_labeling.user == user1) & (df_labeling.task == task),['id_image', 'class']]\n",
    "        classesA.sort_values(by=['id_image'], inplace=True)\n",
    "\n",
    "        classesB = df_labeling.loc[(df_labeling.user == user2) & (df_labeling.task == task),['id_image', 'class']]\n",
    "        classesB.sort_values(by=['id_image'], inplace=True)\n",
    "        \n",
    "        classesAB = pd.merge(classesA, classesB, on=['id_image'])\n",
    "        classesAB.drop_duplicates(subset='id_image', keep = 'first', inplace=True) \n",
    "        classesAB.drop('id_image', axis=1, inplace=True)\n",
    "        classesAB.dropna(inplace=True)\n",
    "\n",
    "        agreement = cks(classesAB['class_x'], classesAB['class_y'])\n",
    "        df_iaa.loc[user1,user2] = f'{agreement:.3f}/({len(classesAB)})'  \n",
    "        df_iaa.index.name = f'Task_{task}'\n",
    "    print(tabulate(df_iaa, headers='keys', tablefmt='psql'))\n",
    "    print()"
   ]
  },
  {
   "cell_type": "code",
   "execution_count": 14,
   "metadata": {},
   "outputs": [
    {
     "name": "stdout",
     "output_type": "stream",
     "text": [
      "<class 'pandas.core.frame.DataFrame'>\n",
      "Int64Index: 5880 entries, 0 to 391\n",
      "Data columns (total 7 columns):\n",
      " #   Column             Non-Null Count  Dtype         \n",
      "---  ------             --------------  -----         \n",
      " 0   task               5880 non-null   int64         \n",
      " 1   user               5880 non-null   object        \n",
      " 2   date               5880 non-null   datetime64[ns]\n",
      " 3   image name         5880 non-null   object        \n",
      " 4   id_image           5880 non-null   int16         \n",
      " 5   class              5880 non-null   object        \n",
      " 6   image_appearances  5880 non-null   int64         \n",
      "dtypes: datetime64[ns](1), int16(1), int64(2), object(3)\n",
      "memory usage: 333.0+ KB\n"
     ]
    }
   ],
   "source": [
    "df_labeling.info()"
   ]
  },
  {
   "cell_type": "code",
   "execution_count": 15,
   "metadata": {},
   "outputs": [],
   "source": [
    "df_labeling['round'] = 2"
   ]
  },
  {
   "cell_type": "code",
   "execution_count": 16,
   "metadata": {},
   "outputs": [],
   "source": [
    "df_labeling.to_pickle('../data/img_labeling_2nd_round/df_labeling_round2.pkl')"
   ]
  },
  {
   "cell_type": "code",
   "execution_count": null,
   "metadata": {},
   "outputs": [],
   "source": []
  }
 ],
 "metadata": {
  "kernelspec": {
   "display_name": "Python 3",
   "language": "python",
   "name": "python3"
  },
  "language_info": {
   "codemirror_mode": {
    "name": "ipython",
    "version": 3
   },
   "file_extension": ".py",
   "mimetype": "text/x-python",
   "name": "python",
   "nbconvert_exporter": "python",
   "pygments_lexer": "ipython3",
   "version": "3.6.8"
  }
 },
 "nbformat": 4,
 "nbformat_minor": 4
}
