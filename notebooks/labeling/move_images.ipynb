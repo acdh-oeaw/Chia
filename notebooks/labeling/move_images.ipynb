{
 "cells": [
  {
   "cell_type": "code",
   "execution_count": 4,
   "id": "korean-alexandria",
   "metadata": {},
   "outputs": [],
   "source": [
    "# import numpy\n",
    "import numpy as np\n",
    "\n",
    "# import pandas\n",
    "import pandas as pd\n",
    "\n",
    "# import csv to access the csv files\n",
    "import csv\n",
    "\n",
    "import os\n",
    "\n",
    "import shutil"
   ]
  },
  {
   "cell_type": "code",
   "execution_count": 5,
   "id": "disabled-disaster",
   "metadata": {},
   "outputs": [],
   "source": [
    "file_path = 'E:\\\\IRELAND\\\\ChiA\\\\Dataset\\\\'"
   ]
  },
  {
   "cell_type": "code",
   "execution_count": 6,
   "id": "trained-annotation",
   "metadata": {},
   "outputs": [],
   "source": [
    "def move_images(filename, classname, src_loc, dest_loc):\n",
    "    details = pd.read_csv(file_path + filename, names=['imname', 'classname'])\n",
    "    print(\"csv file details\\n\")\n",
    "    print(details.head())\n",
    "    print()\n",
    "    print(\"Number of annotations in this file: \\n\")\n",
    "    print(len(details))\n",
    "    print()\n",
    "    im_details = details[['imname', 'classname']][details['classname']==classname]\n",
    "    print(classname + \"dataframe details:\")\n",
    "    print(im_details)\n",
    "    im_list = im_details['imname'].to_list()\n",
    "    for im in im_list:\n",
    "        shutil.copy(os.path.join(src_loc, im), dest_loc)"
   ]
  },
  {
   "cell_type": "code",
   "execution_count": 8,
   "id": "searching-technician",
   "metadata": {},
   "outputs": [],
   "source": [
    "#src = 'E:\\\\IRELAND\\\\ChiA\\\\Dataset\\\\'\n",
    "#dest = 'E:\\\\IRELAND\\\\ChiA\\\\Round 3\\\\ChIA_Images_5\\\\'"
   ]
  },
  {
   "cell_type": "code",
   "execution_count": 11,
   "id": "empty-repeat",
   "metadata": {},
   "outputs": [],
   "source": [
    "csv_filename = 'non-appealing.csv'\n",
    "src_location = file_path + 'Images\\\\'\n",
    "dest_location = file_path + 'Non-appealing\\\\'\n",
    "classname = '[Non-appealing]'"
   ]
  },
  {
   "cell_type": "code",
   "execution_count": 12,
   "id": "unlike-pepper",
   "metadata": {},
   "outputs": [
    {
     "name": "stdout",
     "output_type": "stream",
     "text": [
      "csv file details\n",
      "\n",
      "   imname        classname\n",
      "0  21.jpg  [Non-appealing]\n",
      "1  25.jpg  [Non-appealing]\n",
      "2  27.jpg  [Non-appealing]\n",
      "3  31.jpg  [Non-appealing]\n",
      "4  32.jpg  [Non-appealing]\n",
      "\n",
      "Number of annotations in this file: \n",
      "\n",
      "465\n",
      "\n",
      "[Non-appealing]dataframe details:\n",
      "       imname        classname\n",
      "0      21.jpg  [Non-appealing]\n",
      "1      25.jpg  [Non-appealing]\n",
      "2      27.jpg  [Non-appealing]\n",
      "3      31.jpg  [Non-appealing]\n",
      "4      32.jpg  [Non-appealing]\n",
      "..        ...              ...\n",
      "460  2083.jpg  [Non-appealing]\n",
      "461  2086.jpg  [Non-appealing]\n",
      "462  2088.jpg  [Non-appealing]\n",
      "463  2089.jpg  [Non-appealing]\n",
      "464  2090.jpg  [Non-appealing]\n",
      "\n",
      "[465 rows x 2 columns]\n"
     ]
    }
   ],
   "source": [
    "move_images(filename=csv_filename, \n",
    "            classname = classname, \n",
    "            src_loc = src_location,\n",
    "            dest_loc = dest_location)"
   ]
  },
  {
   "cell_type": "code",
   "execution_count": null,
   "id": "atomic-fluid",
   "metadata": {},
   "outputs": [],
   "source": []
  }
 ],
 "metadata": {
  "kernelspec": {
   "display_name": "Python 3",
   "language": "python",
   "name": "python3"
  },
  "language_info": {
   "codemirror_mode": {
    "name": "ipython",
    "version": 3
   },
   "file_extension": ".py",
   "mimetype": "text/x-python",
   "name": "python",
   "nbconvert_exporter": "python",
   "pygments_lexer": "ipython3",
   "version": "3.7.9"
  }
 },
 "nbformat": 4,
 "nbformat_minor": 5
}
