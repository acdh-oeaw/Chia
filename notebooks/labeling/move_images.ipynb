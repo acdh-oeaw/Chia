{
 "cells": [
  {
   "cell_type": "code",
   "execution_count": 1,
   "id": "korean-alexandria",
   "metadata": {},
   "outputs": [],
   "source": [
    "# import numpy\n",
    "import numpy as np\n",
    "\n",
    "# import pandas\n",
    "import pandas as pd\n",
    "\n",
    "# import csv to access the csv files\n",
    "import csv\n",
    "\n",
    "import os\n",
    "\n",
    "import shutil"
   ]
  },
  {
   "cell_type": "code",
   "execution_count": 2,
   "id": "disabled-disaster",
   "metadata": {},
   "outputs": [],
   "source": [
    "file_path = 'E:\\\\IRELAND\\\\ChiA\\\\Round 3\\\\Final sets\\\\5 annotators\\\\'"
   ]
  },
  {
   "cell_type": "code",
   "execution_count": 14,
   "id": "trained-annotation",
   "metadata": {},
   "outputs": [],
   "source": [
    "def move_images(filename, classname, src_loc, dest_loc):\n",
    "    details = pd.read_csv(file_path + filename, names=['imname', 'classname'])\n",
    "    print(\"csv file details\\n\")\n",
    "    print(details.head())\n",
    "    print()\n",
    "    print(\"Number of annotations in this file: \\n\")\n",
    "    print(len(details))\n",
    "    print()\n",
    "    im_details = details[['imname', 'classname']][details['classname']==classname]\n",
    "    print(classname + \"dataframe details:\")\n",
    "    print(im_details)\n",
    "    im_list = im_details['imname'].to_list()\n",
    "    for im in im_list:\n",
    "        shutil.copy(os.path.join(src_loc, im), dest_loc)"
   ]
  },
  {
   "cell_type": "code",
   "execution_count": 4,
   "id": "searching-technician",
   "metadata": {},
   "outputs": [],
   "source": [
    "src = 'E:\\\\IRELAND\\\\ChiA\\\\Round 3\\\\'\n",
    "dest = 'E:\\\\IRELAND\\\\ChiA\\\\Round 3\\\\ChIA_Images_5\\\\'"
   ]
  },
  {
   "cell_type": "code",
   "execution_count": 20,
   "id": "empty-repeat",
   "metadata": {},
   "outputs": [],
   "source": [
    "csv_filename = 'set2_labels.csv'\n",
    "src_location = src + 'images_501-1012\\\\'\n",
    "dest_location = dest + 'Appealing\\\\'\n",
    "classname = '[Appealing]'"
   ]
  },
  {
   "cell_type": "code",
   "execution_count": 21,
   "id": "unlike-pepper",
   "metadata": {},
   "outputs": [
    {
     "name": "stdout",
     "output_type": "stream",
     "text": [
      "csv file details\n",
      "\n",
      "    imname        classname\n",
      "0  508.jpg  [Non-appealing]\n",
      "1  526.jpg  [Non-appealing]\n",
      "2  527.jpg  [Non-appealing]\n",
      "3  528.jpg      [Appealing]\n",
      "4  529.jpg      [Appealing]\n",
      "\n",
      "Number of annotations in this file: \n",
      "\n",
      "510\n",
      "\n",
      "[Appealing]dataframe details:\n",
      "      imname    classname\n",
      "3    528.jpg  [Appealing]\n",
      "4    529.jpg  [Appealing]\n",
      "6    531.jpg  [Appealing]\n",
      "8    533.jpg  [Appealing]\n",
      "10   535.jpg  [Appealing]\n",
      "..       ...          ...\n",
      "501  981.jpg  [Appealing]\n",
      "502  982.jpg  [Appealing]\n",
      "503  983.jpg  [Appealing]\n",
      "505  985.jpg  [Appealing]\n",
      "509  989.jpg  [Appealing]\n",
      "\n",
      "[284 rows x 2 columns]\n"
     ]
    }
   ],
   "source": [
    "move_images(filename=csv_filename, \n",
    "            classname = classname, \n",
    "            src_loc = src_location,\n",
    "            dest_loc = dest_location)"
   ]
  }
 ],
 "metadata": {
  "kernelspec": {
   "display_name": "Python 3",
   "language": "python",
   "name": "python3"
  },
  "language_info": {
   "codemirror_mode": {
    "name": "ipython",
    "version": 3
   },
   "file_extension": ".py",
   "mimetype": "text/x-python",
   "name": "python",
   "nbconvert_exporter": "python",
   "pygments_lexer": "ipython3",
   "version": "3.7.9"
  }
 },
 "nbformat": 4,
 "nbformat_minor": 5
}
