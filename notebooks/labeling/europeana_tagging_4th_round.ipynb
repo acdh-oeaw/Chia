{
 "cells": [
  {
   "cell_type": "code",
   "execution_count": 1,
   "metadata": {},
   "outputs": [],
   "source": [
    "import os\n",
    "import re\n",
    "import itertools\n",
    "import pandas as pd\n",
    "from sklearn.metrics import cohen_kappa_score as cks\n",
    "from tabulate import tabulate"
   ]
  },
  {
   "cell_type": "markdown",
   "metadata": {},
   "source": [
    "### Building the dataframe with the results"
   ]
  },
  {
   "cell_type": "code",
   "execution_count": 4,
   "metadata": {},
   "outputs": [],
   "source": [
    "datapath = '..\\\\data\\\\img_labeling_4th_round\\\\'"
   ]
  },
  {
   "cell_type": "code",
   "execution_count": 5,
   "metadata": {},
   "outputs": [
    {
     "name": "stdout",
     "output_type": "stream",
     "text": [
      "labels_round4_A001_2021-04-21-08-24-53.csv\n",
      "labels_round4_A002_2021-04-09-11-39-30.csv\n",
      "labels_round4_A004_2021-04-21-10-33-20.csv\n",
      "labels_round4_A005_2021-04-08-03-25-31.csv\n",
      "labels_round4_A006_2021-04-08-03-25-31.csv\n"
     ]
    }
   ],
   "source": [
    "label_files = sorted(os.listdir(datapath))\n",
    "label_files = [f for f in label_files if 'labels_round4' in f]\n",
    "for f in label_files:\n",
    "    print(f)"
   ]
  },
  {
   "cell_type": "code",
   "execution_count": 6,
   "metadata": {},
   "outputs": [
    {
     "name": "stdout",
     "output_type": "stream",
     "text": [
      "Task: 4, User: A001, Images Classified: 1079, Date: 2021-04-21\n",
      "Task: 4, User: A002, Images Classified: 1079, Date: 2021-04-09\n",
      "Task: 4, User: A004, Images Classified: 1079, Date: 2021-04-21\n",
      "Task: 4, User: A005, Images Classified: 1079, Date: 2021-04-08\n",
      "Task: 4, User: A006, Images Classified: 1079, Date: 2021-04-08\n"
     ]
    }
   ],
   "source": [
    "list_dfs = []\n",
    "for label_file in label_files:\n",
    "    task = int(re.findall(r'[1-4]{1}', label_file)[0])\n",
    "    user = re.findall(r'A001|A002|A004|A005|A006', label_file)[0]\n",
    "    date = re.findall(r'202[0-1]{1}.[0-9]{2}.[0-9]{2}', label_file)[0]\n",
    "    #date = f'{date}.2021'\n",
    "    \n",
    "    df = pd.read_csv(f'{datapath}{label_file}', names=['image name', 'class','w','h'])\n",
    "    df['task'] = task\n",
    "    df['user'] = user\n",
    "    df['date'] = date\n",
    "    df['date'] = pd.to_datetime(df['date'])\n",
    "    df.drop(['w','h'], axis=1, inplace=True)\n",
    "    df.drop_duplicates(inplace=True)\n",
    "    df = df[['task', 'user', 'date', 'image name', 'class']]\n",
    "    print(f'Task: {task}, User: {user}, Images Classified: {len(df)}, Date: {date}')\n",
    "    list_dfs.append(df)"
   ]
  },
  {
   "cell_type": "code",
   "execution_count": 7,
   "metadata": {},
   "outputs": [],
   "source": [
    "df_labeling = pd.concat(list_dfs)\n",
    "df_labeling['id_image'] = pd.Categorical(df_labeling['image name']).codes\n",
    "df_labeling[\"class\"] = df_labeling[\"class\"].apply(lambda x:x[1:-1])\n",
    "df_labeling = df_labeling[['task', 'user', 'date', 'image name', 'id_image', 'class']]"
   ]
  },
  {
   "cell_type": "code",
   "execution_count": 8,
   "metadata": {},
   "outputs": [
    {
     "data": {
      "text/html": [
       "<div>\n",
       "<style scoped>\n",
       "    .dataframe tbody tr th:only-of-type {\n",
       "        vertical-align: middle;\n",
       "    }\n",
       "\n",
       "    .dataframe tbody tr th {\n",
       "        vertical-align: top;\n",
       "    }\n",
       "\n",
       "    .dataframe thead th {\n",
       "        text-align: right;\n",
       "    }\n",
       "</style>\n",
       "<table border=\"1\" class=\"dataframe\">\n",
       "  <thead>\n",
       "    <tr style=\"text-align: right;\">\n",
       "      <th></th>\n",
       "      <th>task</th>\n",
       "      <th>user</th>\n",
       "      <th>date</th>\n",
       "      <th>image name</th>\n",
       "      <th>id_image</th>\n",
       "      <th>class</th>\n",
       "    </tr>\n",
       "  </thead>\n",
       "  <tbody>\n",
       "    <tr>\n",
       "      <th>0</th>\n",
       "      <td>4</td>\n",
       "      <td>A001</td>\n",
       "      <td>2021-04-21</td>\n",
       "      <td>1.jpg</td>\n",
       "      <td>0</td>\n",
       "      <td>Non-appealing</td>\n",
       "    </tr>\n",
       "    <tr>\n",
       "      <th>1</th>\n",
       "      <td>4</td>\n",
       "      <td>A001</td>\n",
       "      <td>2021-04-21</td>\n",
       "      <td>2.jpg</td>\n",
       "      <td>192</td>\n",
       "      <td>Non-appealing</td>\n",
       "    </tr>\n",
       "    <tr>\n",
       "      <th>2</th>\n",
       "      <td>4</td>\n",
       "      <td>A001</td>\n",
       "      <td>2021-04-21</td>\n",
       "      <td>3.jpg</td>\n",
       "      <td>303</td>\n",
       "      <td>Non-appealing</td>\n",
       "    </tr>\n",
       "    <tr>\n",
       "      <th>3</th>\n",
       "      <td>4</td>\n",
       "      <td>A001</td>\n",
       "      <td>2021-04-21</td>\n",
       "      <td>4.jpg</td>\n",
       "      <td>414</td>\n",
       "      <td>Appealing</td>\n",
       "    </tr>\n",
       "    <tr>\n",
       "      <th>4</th>\n",
       "      <td>4</td>\n",
       "      <td>A001</td>\n",
       "      <td>2021-04-21</td>\n",
       "      <td>5.jpg</td>\n",
       "      <td>525</td>\n",
       "      <td>Appealing</td>\n",
       "    </tr>\n",
       "  </tbody>\n",
       "</table>\n",
       "</div>"
      ],
      "text/plain": [
       "   task  user       date image name  id_image          class\n",
       "0     4  A001 2021-04-21      1.jpg         0  Non-appealing\n",
       "1     4  A001 2021-04-21      2.jpg       192  Non-appealing\n",
       "2     4  A001 2021-04-21      3.jpg       303  Non-appealing\n",
       "3     4  A001 2021-04-21      4.jpg       414      Appealing\n",
       "4     4  A001 2021-04-21      5.jpg       525      Appealing"
      ]
     },
     "execution_count": 8,
     "metadata": {},
     "output_type": "execute_result"
    }
   ],
   "source": [
    "df_labeling.head()"
   ]
  },
  {
   "cell_type": "code",
   "execution_count": 9,
   "metadata": {},
   "outputs": [
    {
     "data": {
      "text/plain": [
       "array(['Non-appealing', 'Appealing'], dtype=object)"
      ]
     },
     "execution_count": 9,
     "metadata": {},
     "output_type": "execute_result"
    }
   ],
   "source": [
    "df_labeling['class'].unique()"
   ]
  },
  {
   "cell_type": "code",
   "execution_count": 10,
   "metadata": {},
   "outputs": [],
   "source": [
    "df_labeling['image_appearances'] = df_labeling.groupby('id_image')['id_image'].transform('count')\n",
    "df_labeling = df_labeling[df_labeling['image_appearances'] != 1] "
   ]
  },
  {
   "cell_type": "code",
   "execution_count": 11,
   "metadata": {},
   "outputs": [
    {
     "name": "stdout",
     "output_type": "stream",
     "text": [
      "<class 'pandas.core.frame.DataFrame'>\n",
      "Int64Index: 5395 entries, 0 to 1078\n",
      "Data columns (total 7 columns):\n",
      " #   Column             Non-Null Count  Dtype         \n",
      "---  ------             --------------  -----         \n",
      " 0   task               5395 non-null   int64         \n",
      " 1   user               5395 non-null   object        \n",
      " 2   date               5395 non-null   datetime64[ns]\n",
      " 3   image name         5395 non-null   object        \n",
      " 4   id_image           5395 non-null   int16         \n",
      " 5   class              5395 non-null   object        \n",
      " 6   image_appearances  5395 non-null   int64         \n",
      "dtypes: datetime64[ns](1), int16(1), int64(2), object(3)\n",
      "memory usage: 305.6+ KB\n"
     ]
    }
   ],
   "source": [
    "df_labeling.info()"
   ]
  },
  {
   "cell_type": "code",
   "execution_count": 12,
   "metadata": {},
   "outputs": [
    {
     "data": {
      "text/html": [
       "<div>\n",
       "<style scoped>\n",
       "    .dataframe tbody tr th:only-of-type {\n",
       "        vertical-align: middle;\n",
       "    }\n",
       "\n",
       "    .dataframe tbody tr th {\n",
       "        vertical-align: top;\n",
       "    }\n",
       "\n",
       "    .dataframe thead th {\n",
       "        text-align: right;\n",
       "    }\n",
       "</style>\n",
       "<table border=\"1\" class=\"dataframe\">\n",
       "  <thead>\n",
       "    <tr style=\"text-align: right;\">\n",
       "      <th></th>\n",
       "      <th>task</th>\n",
       "      <th>user</th>\n",
       "      <th>date</th>\n",
       "      <th>image name</th>\n",
       "      <th>id_image</th>\n",
       "      <th>class</th>\n",
       "      <th>image_appearances</th>\n",
       "    </tr>\n",
       "  </thead>\n",
       "  <tbody>\n",
       "    <tr>\n",
       "      <th>0</th>\n",
       "      <td>4</td>\n",
       "      <td>A001</td>\n",
       "      <td>2021-04-21</td>\n",
       "      <td>1.jpg</td>\n",
       "      <td>0</td>\n",
       "      <td>Non-appealing</td>\n",
       "      <td>5</td>\n",
       "    </tr>\n",
       "    <tr>\n",
       "      <th>1</th>\n",
       "      <td>4</td>\n",
       "      <td>A001</td>\n",
       "      <td>2021-04-21</td>\n",
       "      <td>2.jpg</td>\n",
       "      <td>192</td>\n",
       "      <td>Non-appealing</td>\n",
       "      <td>5</td>\n",
       "    </tr>\n",
       "    <tr>\n",
       "      <th>2</th>\n",
       "      <td>4</td>\n",
       "      <td>A001</td>\n",
       "      <td>2021-04-21</td>\n",
       "      <td>3.jpg</td>\n",
       "      <td>303</td>\n",
       "      <td>Non-appealing</td>\n",
       "      <td>5</td>\n",
       "    </tr>\n",
       "    <tr>\n",
       "      <th>3</th>\n",
       "      <td>4</td>\n",
       "      <td>A001</td>\n",
       "      <td>2021-04-21</td>\n",
       "      <td>4.jpg</td>\n",
       "      <td>414</td>\n",
       "      <td>Appealing</td>\n",
       "      <td>5</td>\n",
       "    </tr>\n",
       "    <tr>\n",
       "      <th>4</th>\n",
       "      <td>4</td>\n",
       "      <td>A001</td>\n",
       "      <td>2021-04-21</td>\n",
       "      <td>5.jpg</td>\n",
       "      <td>525</td>\n",
       "      <td>Appealing</td>\n",
       "      <td>5</td>\n",
       "    </tr>\n",
       "  </tbody>\n",
       "</table>\n",
       "</div>"
      ],
      "text/plain": [
       "   task  user       date image name  id_image          class  \\\n",
       "0     4  A001 2021-04-21      1.jpg         0  Non-appealing   \n",
       "1     4  A001 2021-04-21      2.jpg       192  Non-appealing   \n",
       "2     4  A001 2021-04-21      3.jpg       303  Non-appealing   \n",
       "3     4  A001 2021-04-21      4.jpg       414      Appealing   \n",
       "4     4  A001 2021-04-21      5.jpg       525      Appealing   \n",
       "\n",
       "   image_appearances  \n",
       "0                  5  \n",
       "1                  5  \n",
       "2                  5  \n",
       "3                  5  \n",
       "4                  5  "
      ]
     },
     "execution_count": 12,
     "metadata": {},
     "output_type": "execute_result"
    }
   ],
   "source": [
    "df_labeling.head()"
   ]
  },
  {
   "cell_type": "markdown",
   "metadata": {},
   "source": [
    "#### Checking the numbers of images classified after fixing names:"
   ]
  },
  {
   "cell_type": "code",
   "execution_count": 13,
   "metadata": {},
   "outputs": [
    {
     "name": "stdout",
     "output_type": "stream",
     "text": [
      "Task: 4, User: A001, Images Classified: 1079\n",
      "Task: 4, User: A002, Images Classified: 1079\n",
      "Task: 4, User: A004, Images Classified: 1079\n",
      "Task: 4, User: A005, Images Classified: 1079\n",
      "Task: 4, User: A006, Images Classified: 1079\n",
      "\n"
     ]
    }
   ],
   "source": [
    "for task in df_labeling.task.unique():\n",
    "    for user in df_labeling.user.unique():\n",
    "        size = len(df_labeling.loc[(df_labeling.user == user) & (df_labeling.task == task), 'id_image'].unique())\n",
    "        print(f'Task: {task}, User: {user}, Images Classified: {size}')\n",
    "    print()"
   ]
  },
  {
   "cell_type": "markdown",
   "metadata": {},
   "source": [
    "#### Checking which images were not classified:"
   ]
  },
  {
   "cell_type": "code",
   "execution_count": 14,
   "metadata": {},
   "outputs": [
    {
     "data": {
      "text/html": [
       "<div>\n",
       "<style scoped>\n",
       "    .dataframe tbody tr th:only-of-type {\n",
       "        vertical-align: middle;\n",
       "    }\n",
       "\n",
       "    .dataframe tbody tr th {\n",
       "        vertical-align: top;\n",
       "    }\n",
       "\n",
       "    .dataframe thead th {\n",
       "        text-align: right;\n",
       "    }\n",
       "</style>\n",
       "<table border=\"1\" class=\"dataframe\">\n",
       "  <thead>\n",
       "    <tr style=\"text-align: right;\">\n",
       "      <th></th>\n",
       "      <th>images</th>\n",
       "      <th>task</th>\n",
       "      <th>user</th>\n",
       "    </tr>\n",
       "  </thead>\n",
       "  <tbody>\n",
       "  </tbody>\n",
       "</table>\n",
       "</div>"
      ],
      "text/plain": [
       "Empty DataFrame\n",
       "Columns: [images, task, user]\n",
       "Index: []"
      ]
     },
     "execution_count": 14,
     "metadata": {},
     "output_type": "execute_result"
    }
   ],
   "source": [
    "images = set(df_labeling.id_image.unique())\n",
    "dfs = []\n",
    "for task in df_labeling.task.unique():\n",
    "    for user in df_labeling.user.unique():\n",
    "        id_list = []\n",
    "        ids = images.difference(set(df_labeling.loc[(df_labeling.user == user) & (df_labeling.task == task), 'id_image']))\n",
    "        if len(ids) > 0:\n",
    "            #print(f'Missing files for task: {task}, by user: {user}')\n",
    "            for _id in ids:\n",
    "                try:\n",
    "                    id_list.append(df_labeling.loc[(df_labeling.task == task) & (df_labeling.id_image == _id), 'image name'].values[0])\n",
    "                    #print(df_labeling.loc[(df_labeling.task == task) & (df_labeling.id_image == _id), 'image name'].values[0])\n",
    "                except:\n",
    "                    pass\n",
    "                    #print('--->', df_labeling.loc[(df_labeling.task == task) & (df_labeling.id_image == _id), 'image name'].values)\n",
    "            #print()\n",
    "        dfm = pd.DataFrame({'images':id_list})\n",
    "        dfm['task'] = task\n",
    "        dfm['user'] = user\n",
    "        dfs.append(dfm)\n",
    "df_missing = pd.concat(dfs)\n",
    "#df_missing.to_excel(f'{datapath}/missing.xlsx')\n",
    "df_missing.head()       "
   ]
  },
  {
   "cell_type": "markdown",
   "metadata": {},
   "source": [
    "#### Checking duplicates"
   ]
  },
  {
   "cell_type": "code",
   "execution_count": 15,
   "metadata": {},
   "outputs": [
    {
     "data": {
      "text/html": [
       "<div>\n",
       "<style scoped>\n",
       "    .dataframe tbody tr th:only-of-type {\n",
       "        vertical-align: middle;\n",
       "    }\n",
       "\n",
       "    .dataframe tbody tr th {\n",
       "        vertical-align: top;\n",
       "    }\n",
       "\n",
       "    .dataframe thead th {\n",
       "        text-align: right;\n",
       "    }\n",
       "</style>\n",
       "<table border=\"1\" class=\"dataframe\">\n",
       "  <thead>\n",
       "    <tr style=\"text-align: right;\">\n",
       "      <th></th>\n",
       "      <th>task</th>\n",
       "      <th>user</th>\n",
       "      <th>image name</th>\n",
       "      <th>id_image</th>\n",
       "      <th>class</th>\n",
       "    </tr>\n",
       "  </thead>\n",
       "  <tbody>\n",
       "  </tbody>\n",
       "</table>\n",
       "</div>"
      ],
      "text/plain": [
       "Empty DataFrame\n",
       "Columns: [task, user, image name, id_image, class]\n",
       "Index: []"
      ]
     },
     "execution_count": 15,
     "metadata": {},
     "output_type": "execute_result"
    }
   ],
   "source": [
    "duplicates = df_labeling.loc[df_labeling.duplicated(['task', 'user', 'image name', 'id_image'], keep=False), ['task', 'user', 'image name', 'id_image', 'class']]\n",
    "duplicates.sort_values(by=['user', 'image name', 'task'], inplace=True)\n",
    "#duplicates.to_excel(f'{datapath}/duplicates.xlsx')\n",
    "duplicates.head(30)"
   ]
  },
  {
   "cell_type": "markdown",
   "metadata": {},
   "source": [
    "### Analysing the [inter-annotator agreement](https://scikit-learn.org/stable/modules/generated/sklearn.metrics.cohen_kappa_score.html) on the results"
   ]
  },
  {
   "cell_type": "code",
   "execution_count": 16,
   "metadata": {},
   "outputs": [],
   "source": [
    "l1 = df_labeling.user.unique()\n",
    "iter_users = list(itertools.product(l1,l1))\n",
    "df_iaa = pd.DataFrame(index=l1, columns=l1)"
   ]
  },
  {
   "cell_type": "code",
   "execution_count": 17,
   "metadata": {},
   "outputs": [
    {
     "name": "stdout",
     "output_type": "stream",
     "text": [
      "+----------+--------------+--------------+--------------+--------------+--------------+\n",
      "| Task_4   | A001         | A002         | A004         | A005         | A006         |\n",
      "|----------+--------------+--------------+--------------+--------------+--------------|\n",
      "| A001     | 1.000/(1079) | 0.223/(1079) | 0.287/(1079) | 0.057/(1079) | 0.293/(1079) |\n",
      "| A002     | 0.223/(1079) | 1.000/(1079) | 0.245/(1079) | 0.090/(1079) | 0.163/(1079) |\n",
      "| A004     | 0.287/(1079) | 0.245/(1079) | 1.000/(1079) | 0.133/(1079) | 0.200/(1079) |\n",
      "| A005     | 0.057/(1079) | 0.090/(1079) | 0.133/(1079) | 1.000/(1079) | 0.085/(1079) |\n",
      "| A006     | 0.293/(1079) | 0.163/(1079) | 0.200/(1079) | 0.085/(1079) | 1.000/(1079) |\n",
      "+----------+--------------+--------------+--------------+--------------+--------------+\n",
      "\n"
     ]
    }
   ],
   "source": [
    "for task in df_labeling.task.unique():\n",
    "    for user1,user2 in iter_users:\n",
    "        classesA = df_labeling.loc[(df_labeling.user == user1) & (df_labeling.task == task),['id_image', 'class']]\n",
    "        classesA.sort_values(by=['id_image'], inplace=True)\n",
    "\n",
    "        classesB = df_labeling.loc[(df_labeling.user == user2) & (df_labeling.task == task),['id_image', 'class']]\n",
    "        classesB.sort_values(by=['id_image'], inplace=True)\n",
    "        \n",
    "        classesAB = pd.merge(classesA, classesB, on=['id_image'])\n",
    "        classesAB.drop_duplicates(subset='id_image', keep = 'first', inplace=True) \n",
    "        classesAB.drop('id_image', axis=1, inplace=True)\n",
    "        classesAB.dropna(inplace=True)\n",
    "\n",
    "        agreement = cks(classesAB['class_x'], classesAB['class_y'])\n",
    "        df_iaa.loc[user1,user2] = f'{agreement:.3f}/({len(classesAB)})'  \n",
    "        df_iaa.index.name = f'Task_{task}'\n",
    "    print(tabulate(df_iaa, headers='keys', tablefmt='psql'))\n",
    "    print()"
   ]
  },
  {
   "cell_type": "code",
   "execution_count": 18,
   "metadata": {},
   "outputs": [
    {
     "name": "stdout",
     "output_type": "stream",
     "text": [
      "<class 'pandas.core.frame.DataFrame'>\n",
      "Int64Index: 5395 entries, 0 to 1078\n",
      "Data columns (total 7 columns):\n",
      " #   Column             Non-Null Count  Dtype         \n",
      "---  ------             --------------  -----         \n",
      " 0   task               5395 non-null   int64         \n",
      " 1   user               5395 non-null   object        \n",
      " 2   date               5395 non-null   datetime64[ns]\n",
      " 3   image name         5395 non-null   object        \n",
      " 4   id_image           5395 non-null   int16         \n",
      " 5   class              5395 non-null   object        \n",
      " 6   image_appearances  5395 non-null   int64         \n",
      "dtypes: datetime64[ns](1), int16(1), int64(2), object(3)\n",
      "memory usage: 305.6+ KB\n"
     ]
    }
   ],
   "source": [
    "df_labeling.info()"
   ]
  },
  {
   "cell_type": "code",
   "execution_count": 37,
   "metadata": {},
   "outputs": [],
   "source": [
    "df_labeling['round'] = 2\n",
    "df_labeling.drop('image_appearances', inplace=True, axis=1)"
   ]
  },
  {
   "cell_type": "code",
   "execution_count": 18,
   "metadata": {},
   "outputs": [],
   "source": [
    "df_labeling.to_hdf('../data/df_labeling.hdf', key='round2')"
   ]
  },
  {
   "cell_type": "code",
   "execution_count": null,
   "metadata": {},
   "outputs": [],
   "source": []
  }
 ],
 "metadata": {
  "kernelspec": {
   "display_name": "Python 3",
   "language": "python",
   "name": "python3"
  },
  "language_info": {
   "codemirror_mode": {
    "name": "ipython",
    "version": 3
   },
   "file_extension": ".py",
   "mimetype": "text/x-python",
   "name": "python",
   "nbconvert_exporter": "python",
   "pygments_lexer": "ipython3",
   "version": "3.7.9"
  }
 },
 "nbformat": 4,
 "nbformat_minor": 4
}
