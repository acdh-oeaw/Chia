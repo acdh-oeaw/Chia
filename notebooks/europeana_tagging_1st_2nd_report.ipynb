{
 "cells": [
  {
   "cell_type": "code",
   "execution_count": 17,
   "metadata": {},
   "outputs": [],
   "source": [
    "import os\n",
    "import re\n",
    "import itertools\n",
    "import pandas as pd\n",
    "from sklearn.metrics import cohen_kappa_score as cks\n",
    "from tabulate import tabulate"
   ]
  },
  {
   "cell_type": "markdown",
   "metadata": {},
   "source": [
    "### Reading the data from 1st and 2nd rounds"
   ]
  },
  {
   "cell_type": "code",
   "execution_count": 18,
   "metadata": {},
   "outputs": [],
   "source": [
    "datapath1 = '../data/img_labeling_1st_round/'\n",
    "datapath2 = '../data/img_labeling_2nd_round/'"
   ]
  },
  {
   "cell_type": "code",
   "execution_count": 19,
   "metadata": {},
   "outputs": [],
   "source": [
    "df_round1 = pd.read_pickle(os.path.join(datapath1,'df_labeling_round1.pkl'))\n",
    "df_round2 = pd.read_pickle(os.path.join(datapath2,'df_labeling_round2.pkl'))"
   ]
  },
  {
   "cell_type": "code",
   "execution_count": 20,
   "metadata": {},
   "outputs": [
    {
     "name": "stdout",
     "output_type": "stream",
     "text": [
      "<class 'pandas.core.frame.DataFrame'>\n",
      "Int64Index: 5880 entries, 0 to 451\n",
      "Data columns (total 7 columns):\n",
      " #   Column      Non-Null Count  Dtype         \n",
      "---  ------      --------------  -----         \n",
      " 0   task        5880 non-null   int64         \n",
      " 1   user        5880 non-null   object        \n",
      " 2   date        5880 non-null   datetime64[ns]\n",
      " 3   image name  5880 non-null   object        \n",
      " 4   id_image    5880 non-null   int16         \n",
      " 5   class       5880 non-null   object        \n",
      " 6   round       5880 non-null   int64         \n",
      "dtypes: datetime64[ns](1), int16(1), int64(2), object(3)\n",
      "memory usage: 333.0+ KB\n"
     ]
    }
   ],
   "source": [
    "df_round1.info()"
   ]
  },
  {
   "cell_type": "code",
   "execution_count": 22,
   "metadata": {},
   "outputs": [
    {
     "name": "stdout",
     "output_type": "stream",
     "text": [
      "<class 'pandas.core.frame.DataFrame'>\n",
      "Int64Index: 5880 entries, 0 to 391\n",
      "Data columns (total 8 columns):\n",
      " #   Column             Non-Null Count  Dtype         \n",
      "---  ------             --------------  -----         \n",
      " 0   task               5880 non-null   int64         \n",
      " 1   user               5880 non-null   object        \n",
      " 2   date               5880 non-null   datetime64[ns]\n",
      " 3   image name         5880 non-null   object        \n",
      " 4   id_image           5880 non-null   int16         \n",
      " 5   class              5880 non-null   object        \n",
      " 6   image_appearances  5880 non-null   int64         \n",
      " 7   round              5880 non-null   int64         \n",
      "dtypes: datetime64[ns](1), int16(1), int64(3), object(3)\n",
      "memory usage: 379.0+ KB\n"
     ]
    }
   ],
   "source": [
    "df_round2.info()"
   ]
  },
  {
   "cell_type": "code",
   "execution_count": 23,
   "metadata": {},
   "outputs": [
    {
     "name": "stdout",
     "output_type": "stream",
     "text": [
      "<class 'pandas.core.frame.DataFrame'>\n",
      "Int64Index: 11760 entries, 0 to 391\n",
      "Data columns (total 7 columns):\n",
      " #   Column      Non-Null Count  Dtype         \n",
      "---  ------      --------------  -----         \n",
      " 0   task        11760 non-null  int64         \n",
      " 1   user        11760 non-null  object        \n",
      " 2   date        11760 non-null  datetime64[ns]\n",
      " 3   image name  11760 non-null  object        \n",
      " 4   id_image    11760 non-null  int16         \n",
      " 5   class       11760 non-null  object        \n",
      " 6   round       11760 non-null  int64         \n",
      "dtypes: datetime64[ns](1), int16(1), int64(2), object(3)\n",
      "memory usage: 666.1+ KB\n"
     ]
    }
   ],
   "source": [
    "df_round2.drop('image_appearances', inplace=True, axis=1)\n",
    "df = pd.concat([df_round1, df_round2])\n",
    "df.info()"
   ]
  },
  {
   "cell_type": "code",
   "execution_count": 24,
   "metadata": {},
   "outputs": [
    {
     "data": {
      "text/html": [
       "<div>\n",
       "<style scoped>\n",
       "    .dataframe tbody tr th:only-of-type {\n",
       "        vertical-align: middle;\n",
       "    }\n",
       "\n",
       "    .dataframe tbody tr th {\n",
       "        vertical-align: top;\n",
       "    }\n",
       "\n",
       "    .dataframe thead th {\n",
       "        text-align: right;\n",
       "    }\n",
       "</style>\n",
       "<table border=\"1\" class=\"dataframe\">\n",
       "  <thead>\n",
       "    <tr style=\"text-align: right;\">\n",
       "      <th></th>\n",
       "      <th>task</th>\n",
       "      <th>user</th>\n",
       "      <th>date</th>\n",
       "      <th>image name</th>\n",
       "      <th>id_image</th>\n",
       "      <th>class</th>\n",
       "      <th>round</th>\n",
       "    </tr>\n",
       "  </thead>\n",
       "  <tbody>\n",
       "    <tr>\n",
       "      <th>0</th>\n",
       "      <td>1</td>\n",
       "      <td>Amelie</td>\n",
       "      <td>2020-08-09</td>\n",
       "      <td>203-resource_document_zuiderzeemuseum_B001601_...</td>\n",
       "      <td>87</td>\n",
       "      <td>Non-Fruits</td>\n",
       "      <td>1</td>\n",
       "    </tr>\n",
       "    <tr>\n",
       "      <th>1</th>\n",
       "      <td>1</td>\n",
       "      <td>Amelie</td>\n",
       "      <td>2020-08-09</td>\n",
       "      <td>285-gam19649_1.jpeg</td>\n",
       "      <td>232</td>\n",
       "      <td>Fruits</td>\n",
       "      <td>1</td>\n",
       "    </tr>\n",
       "    <tr>\n",
       "      <th>2</th>\n",
       "      <td>1</td>\n",
       "      <td>Amelie</td>\n",
       "      <td>2020-08-09</td>\n",
       "      <td>07101-O_389_1.jpeg</td>\n",
       "      <td>6</td>\n",
       "      <td>Fruits</td>\n",
       "      <td>1</td>\n",
       "    </tr>\n",
       "    <tr>\n",
       "      <th>3</th>\n",
       "      <td>1</td>\n",
       "      <td>Amelie</td>\n",
       "      <td>2020-08-09</td>\n",
       "      <td>07101-O_927_1.jpeg</td>\n",
       "      <td>12</td>\n",
       "      <td>Fruits</td>\n",
       "      <td>1</td>\n",
       "    </tr>\n",
       "    <tr>\n",
       "      <th>4</th>\n",
       "      <td>1</td>\n",
       "      <td>Amelie</td>\n",
       "      <td>2020-08-09</td>\n",
       "      <td>07101-O_957_1.jpeg</td>\n",
       "      <td>13</td>\n",
       "      <td>Non-Fruits</td>\n",
       "      <td>1</td>\n",
       "    </tr>\n",
       "  </tbody>\n",
       "</table>\n",
       "</div>"
      ],
      "text/plain": [
       "   task    user       date                                         image name  \\\n",
       "0     1  Amelie 2020-08-09  203-resource_document_zuiderzeemuseum_B001601_...   \n",
       "1     1  Amelie 2020-08-09                                285-gam19649_1.jpeg   \n",
       "2     1  Amelie 2020-08-09                                 07101-O_389_1.jpeg   \n",
       "3     1  Amelie 2020-08-09                                 07101-O_927_1.jpeg   \n",
       "4     1  Amelie 2020-08-09                                 07101-O_957_1.jpeg   \n",
       "\n",
       "   id_image       class  round  \n",
       "0        87  Non-Fruits      1  \n",
       "1       232      Fruits      1  \n",
       "2         6      Fruits      1  \n",
       "3        12      Fruits      1  \n",
       "4        13  Non-Fruits      1  "
      ]
     },
     "execution_count": 24,
     "metadata": {},
     "output_type": "execute_result"
    }
   ],
   "source": [
    "df.head()"
   ]
  },
  {
   "cell_type": "markdown",
   "metadata": {},
   "source": [
    "### Analysing the [inter-annotator agreement](https://scikit-learn.org/stable/modules/generated/sklearn.metrics.cohen_kappa_score.html) on the results"
   ]
  },
  {
   "cell_type": "code",
   "execution_count": 12,
   "metadata": {},
   "outputs": [],
   "source": [
    "l1 = df_labeling.user.unique()\n",
    "iter_users = list(itertools.product(l1,l1))\n",
    "df_iaa = pd.DataFrame(index=l1, columns=l1)"
   ]
  },
  {
   "cell_type": "code",
   "execution_count": 13,
   "metadata": {},
   "outputs": [
    {
     "name": "stdout",
     "output_type": "stream",
     "text": [
      "+-----------+-------------+-------------+-------------+-------------+-------------+\n",
      "| Task_1    | Amelie      | Gerda       | Marcos      | Renato      | Yalemisew   |\n",
      "|-----------+-------------+-------------+-------------+-------------+-------------|\n",
      "| Amelie    | 1.000/(392) | 0.928/(392) | 0.898/(392) | 0.908/(392) | 0.898/(392) |\n",
      "| Gerda     | 0.928/(392) | 1.000/(392) | 0.882/(392) | 0.907/(392) | 0.861/(392) |\n",
      "| Marcos    | 0.898/(392) | 0.882/(392) | 1.000/(392) | 0.913/(392) | 0.928/(392) |\n",
      "| Renato    | 0.908/(392) | 0.907/(392) | 0.913/(392) | 1.000/(392) | 0.903/(392) |\n",
      "| Yalemisew | 0.898/(392) | 0.861/(392) | 0.928/(392) | 0.903/(392) | 1.000/(392) |\n",
      "+-----------+-------------+-------------+-------------+-------------+-------------+\n",
      "\n",
      "+-----------+-------------+-------------+-------------+-------------+-------------+\n",
      "| Task_2    | Amelie      | Gerda       | Marcos      | Renato      | Yalemisew   |\n",
      "|-----------+-------------+-------------+-------------+-------------+-------------|\n",
      "| Amelie    | 1.000/(392) | 0.168/(392) | 0.216/(392) | 0.255/(392) | 0.167/(392) |\n",
      "| Gerda     | 0.168/(392) | 1.000/(392) | 0.188/(392) | 0.095/(392) | 0.419/(392) |\n",
      "| Marcos    | 0.216/(392) | 0.188/(392) | 1.000/(392) | 0.094/(392) | 0.358/(392) |\n",
      "| Renato    | 0.255/(392) | 0.095/(392) | 0.094/(392) | 1.000/(392) | 0.089/(392) |\n",
      "| Yalemisew | 0.167/(392) | 0.419/(392) | 0.358/(392) | 0.089/(392) | 1.000/(392) |\n",
      "+-----------+-------------+-------------+-------------+-------------+-------------+\n",
      "\n",
      "+-----------+-------------+-------------+-------------+-------------+-------------+\n",
      "| Task_3    | Amelie      | Gerda       | Marcos      | Renato      | Yalemisew   |\n",
      "|-----------+-------------+-------------+-------------+-------------+-------------|\n",
      "| Amelie    | 1.000/(392) | 0.472/(392) | 0.396/(392) | 0.526/(392) | 0.336/(392) |\n",
      "| Gerda     | 0.472/(392) | 1.000/(392) | 0.346/(392) | 0.565/(392) | 0.454/(392) |\n",
      "| Marcos    | 0.396/(392) | 0.346/(392) | 1.000/(392) | 0.326/(392) | 0.346/(392) |\n",
      "| Renato    | 0.526/(392) | 0.565/(392) | 0.326/(392) | 1.000/(392) | 0.439/(392) |\n",
      "| Yalemisew | 0.336/(392) | 0.454/(392) | 0.346/(392) | 0.439/(392) | 1.000/(392) |\n",
      "+-----------+-------------+-------------+-------------+-------------+-------------+\n",
      "\n"
     ]
    }
   ],
   "source": [
    "for task in df_labeling.task.unique():\n",
    "    for user1,user2 in iter_users:\n",
    "        classesA = df_labeling.loc[(df_labeling.user == user1) & (df_labeling.task == task),['id_image', 'class']]\n",
    "        classesA.sort_values(by=['id_image'], inplace=True)\n",
    "\n",
    "        classesB = df_labeling.loc[(df_labeling.user == user2) & (df_labeling.task == task),['id_image', 'class']]\n",
    "        classesB.sort_values(by=['id_image'], inplace=True)\n",
    "        \n",
    "        classesAB = pd.merge(classesA, classesB, on=['id_image'])\n",
    "        classesAB.drop_duplicates(subset='id_image', keep = 'first', inplace=True) \n",
    "        classesAB.drop('id_image', axis=1, inplace=True)\n",
    "        classesAB.dropna(inplace=True)\n",
    "\n",
    "        agreement = cks(classesAB['class_x'], classesAB['class_y'])\n",
    "        df_iaa.loc[user1,user2] = f'{agreement:.3f}/({len(classesAB)})'  \n",
    "        df_iaa.index.name = f'Task_{task}'\n",
    "    print(tabulate(df_iaa, headers='keys', tablefmt='psql'))\n",
    "    print()"
   ]
  },
  {
   "cell_type": "code",
   "execution_count": 14,
   "metadata": {},
   "outputs": [
    {
     "name": "stdout",
     "output_type": "stream",
     "text": [
      "<class 'pandas.core.frame.DataFrame'>\n",
      "Int64Index: 5880 entries, 0 to 391\n",
      "Data columns (total 7 columns):\n",
      " #   Column             Non-Null Count  Dtype         \n",
      "---  ------             --------------  -----         \n",
      " 0   task               5880 non-null   int64         \n",
      " 1   user               5880 non-null   object        \n",
      " 2   date               5880 non-null   datetime64[ns]\n",
      " 3   image name         5880 non-null   object        \n",
      " 4   id_image           5880 non-null   int16         \n",
      " 5   class              5880 non-null   object        \n",
      " 6   image_appearances  5880 non-null   int64         \n",
      "dtypes: datetime64[ns](1), int16(1), int64(2), object(3)\n",
      "memory usage: 333.0+ KB\n"
     ]
    }
   ],
   "source": [
    "df_labeling.info()"
   ]
  },
  {
   "cell_type": "code",
   "execution_count": 15,
   "metadata": {},
   "outputs": [],
   "source": [
    "df_labeling['round'] = 2"
   ]
  },
  {
   "cell_type": "code",
   "execution_count": 16,
   "metadata": {},
   "outputs": [],
   "source": [
    "df_labeling.to_pickle('../data/img_labeling_2nd_round/df_labeling_round2.pkl')"
   ]
  },
  {
   "cell_type": "code",
   "execution_count": null,
   "metadata": {},
   "outputs": [],
   "source": []
  }
 ],
 "metadata": {
  "kernelspec": {
   "display_name": "Python 3",
   "language": "python",
   "name": "python3"
  },
  "language_info": {
   "codemirror_mode": {
    "name": "ipython",
    "version": 3
   },
   "file_extension": ".py",
   "mimetype": "text/x-python",
   "name": "python",
   "nbconvert_exporter": "python",
   "pygments_lexer": "ipython3",
   "version": "3.6.8"
  }
 },
 "nbformat": 4,
 "nbformat_minor": 4
}
