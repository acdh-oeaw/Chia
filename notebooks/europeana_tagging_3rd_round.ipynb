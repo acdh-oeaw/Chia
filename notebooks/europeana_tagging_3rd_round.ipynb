{
 "cells": [
  {
   "cell_type": "code",
   "execution_count": 1,
   "metadata": {},
   "outputs": [],
   "source": [
    "import os\n",
    "import re\n",
    "import itertools\n",
    "import matplotlib.pyplot as plt\n",
    "from matplotlib.image import imread\n",
    "import seaborn as sns\n",
    "import pandas as pd\n",
    "from sklearn.metrics import cohen_kappa_score as cks\n",
    "from tabulate import tabulate\n",
    "\n",
    "import imgkit\n",
    "from IPython.display import display\n",
    "from IPython.core.interactiveshell import InteractiveShell\n",
    "InteractiveShell.ast_node_interactivity = \"all\"\n",
    "\n",
    "pd.options.display.float_format = '{:,.3f}'.format\n",
    "pd.set_option('precision', 2)"
   ]
  },
  {
   "cell_type": "markdown",
   "metadata": {},
   "source": [
    "### Building the dataframe with the results"
   ]
  },
  {
   "cell_type": "code",
   "execution_count": 2,
   "metadata": {},
   "outputs": [],
   "source": [
    "datapath = '../data/img_labeling_3rd_round/'"
   ]
  },
  {
   "cell_type": "markdown",
   "metadata": {},
   "source": [
    "#### Reading orginal files"
   ]
  },
  {
   "cell_type": "code",
   "execution_count": 3,
   "metadata": {},
   "outputs": [
    {
     "name": "stdout",
     "output_type": "stream",
     "text": [
      "47 .csv files in the folder\n",
      "\n"
     ]
    }
   ],
   "source": [
    "label_files = sorted(os.listdir(datapath))\n",
    "label_files = [f for f in label_files if 'csv' in f and \"_\" in f]\n",
    "print(f\"{len(label_files)} .csv files in the folder\\n\")\n",
    "#for f in label_files:\n",
    "#    print(f)"
   ]
  },
  {
   "cell_type": "markdown",
   "metadata": {},
   "source": [
    "#### Extracting subjects"
   ]
  },
  {
   "cell_type": "code",
   "execution_count": 4,
   "metadata": {},
   "outputs": [
    {
     "name": "stdout",
     "output_type": "stream",
     "text": [
      "20 diferent subjects\n"
     ]
    }
   ],
   "source": [
    "subjects = {x[:x.find(\"_\")] for x in label_files}\n",
    "print(f\"{len(subjects)} diferent subjects\")"
   ]
  },
  {
   "cell_type": "markdown",
   "metadata": {},
   "source": [
    "#### Consolidating files per user"
   ]
  },
  {
   "cell_type": "code",
   "execution_count": 5,
   "metadata": {},
   "outputs": [
    {
     "data": {
      "text/plain": [
       "2136"
      ]
     },
     "execution_count": 5,
     "metadata": {},
     "output_type": "execute_result"
    },
    {
     "data": {
      "text/plain": [
       "8916"
      ]
     },
     "execution_count": 5,
     "metadata": {},
     "output_type": "execute_result"
    },
    {
     "data": {
      "text/plain": [
       "11729"
      ]
     },
     "execution_count": 5,
     "metadata": {},
     "output_type": "execute_result"
    },
    {
     "data": {
      "text/plain": [
       "10969"
      ]
     },
     "execution_count": 5,
     "metadata": {},
     "output_type": "execute_result"
    },
    {
     "data": {
      "text/plain": [
       "11541"
      ]
     },
     "execution_count": 5,
     "metadata": {},
     "output_type": "execute_result"
    },
    {
     "data": {
      "text/plain": [
       "22775"
      ]
     },
     "execution_count": 5,
     "metadata": {},
     "output_type": "execute_result"
    },
    {
     "data": {
      "text/plain": [
       "12165"
      ]
     },
     "execution_count": 5,
     "metadata": {},
     "output_type": "execute_result"
    },
    {
     "data": {
      "text/plain": [
       "11708"
      ]
     },
     "execution_count": 5,
     "metadata": {},
     "output_type": "execute_result"
    },
    {
     "data": {
      "text/plain": [
       "11077"
      ]
     },
     "execution_count": 5,
     "metadata": {},
     "output_type": "execute_result"
    },
    {
     "data": {
      "text/plain": [
       "22697"
      ]
     },
     "execution_count": 5,
     "metadata": {},
     "output_type": "execute_result"
    },
    {
     "data": {
      "text/plain": [
       "3981"
      ]
     },
     "execution_count": 5,
     "metadata": {},
     "output_type": "execute_result"
    },
    {
     "data": {
      "text/plain": [
       "6604"
      ]
     },
     "execution_count": 5,
     "metadata": {},
     "output_type": "execute_result"
    },
    {
     "data": {
      "text/plain": [
       "1045"
      ]
     },
     "execution_count": 5,
     "metadata": {},
     "output_type": "execute_result"
    },
    {
     "data": {
      "text/plain": [
       "2180"
      ]
     },
     "execution_count": 5,
     "metadata": {},
     "output_type": "execute_result"
    },
    {
     "data": {
      "text/plain": [
       "9601"
      ]
     },
     "execution_count": 5,
     "metadata": {},
     "output_type": "execute_result"
    },
    {
     "data": {
      "text/plain": [
       "11257"
      ]
     },
     "execution_count": 5,
     "metadata": {},
     "output_type": "execute_result"
    },
    {
     "data": {
      "text/plain": [
       "10681"
      ]
     },
     "execution_count": 5,
     "metadata": {},
     "output_type": "execute_result"
    },
    {
     "data": {
      "text/plain": [
       "2164"
      ]
     },
     "execution_count": 5,
     "metadata": {},
     "output_type": "execute_result"
    },
    {
     "data": {
      "text/plain": [
       "2257"
      ]
     },
     "execution_count": 5,
     "metadata": {},
     "output_type": "execute_result"
    },
    {
     "data": {
      "text/plain": [
       "2252"
      ]
     },
     "execution_count": 5,
     "metadata": {},
     "output_type": "execute_result"
    },
    {
     "data": {
      "text/plain": [
       "2240"
      ]
     },
     "execution_count": 5,
     "metadata": {},
     "output_type": "execute_result"
    },
    {
     "data": {
      "text/plain": [
       "2252"
      ]
     },
     "execution_count": 5,
     "metadata": {},
     "output_type": "execute_result"
    },
    {
     "data": {
      "text/plain": [
       "2260"
      ]
     },
     "execution_count": 5,
     "metadata": {},
     "output_type": "execute_result"
    },
    {
     "data": {
      "text/plain": [
       "2268"
      ]
     },
     "execution_count": 5,
     "metadata": {},
     "output_type": "execute_result"
    },
    {
     "data": {
      "text/plain": [
       "2252"
      ]
     },
     "execution_count": 5,
     "metadata": {},
     "output_type": "execute_result"
    },
    {
     "data": {
      "text/plain": [
       "2256"
      ]
     },
     "execution_count": 5,
     "metadata": {},
     "output_type": "execute_result"
    },
    {
     "data": {
      "text/plain": [
       "2557"
      ]
     },
     "execution_count": 5,
     "metadata": {},
     "output_type": "execute_result"
    },
    {
     "data": {
      "text/plain": [
       "23614"
      ]
     },
     "execution_count": 5,
     "metadata": {},
     "output_type": "execute_result"
    },
    {
     "data": {
      "text/plain": [
       "11424"
      ]
     },
     "execution_count": 5,
     "metadata": {},
     "output_type": "execute_result"
    },
    {
     "data": {
      "text/plain": [
       "11773"
      ]
     },
     "execution_count": 5,
     "metadata": {},
     "output_type": "execute_result"
    },
    {
     "data": {
      "text/plain": [
       "4224"
      ]
     },
     "execution_count": 5,
     "metadata": {},
     "output_type": "execute_result"
    },
    {
     "data": {
      "text/plain": [
       "6520"
      ]
     },
     "execution_count": 5,
     "metadata": {},
     "output_type": "execute_result"
    },
    {
     "data": {
      "text/plain": [
       "4900"
      ]
     },
     "execution_count": 5,
     "metadata": {},
     "output_type": "execute_result"
    },
    {
     "data": {
      "text/plain": [
       "6341"
      ]
     },
     "execution_count": 5,
     "metadata": {},
     "output_type": "execute_result"
    },
    {
     "data": {
      "text/plain": [
       "10753"
      ]
     },
     "execution_count": 5,
     "metadata": {},
     "output_type": "execute_result"
    },
    {
     "data": {
      "text/plain": [
       "10797"
      ]
     },
     "execution_count": 5,
     "metadata": {},
     "output_type": "execute_result"
    },
    {
     "data": {
      "text/plain": [
       "23364"
      ]
     },
     "execution_count": 5,
     "metadata": {},
     "output_type": "execute_result"
    },
    {
     "data": {
      "text/plain": [
       "22213"
      ]
     },
     "execution_count": 5,
     "metadata": {},
     "output_type": "execute_result"
    },
    {
     "data": {
      "text/plain": [
       "22390"
      ]
     },
     "execution_count": 5,
     "metadata": {},
     "output_type": "execute_result"
    },
    {
     "data": {
      "text/plain": [
       "4245"
      ]
     },
     "execution_count": 5,
     "metadata": {},
     "output_type": "execute_result"
    },
    {
     "data": {
      "text/plain": [
       "4492"
      ]
     },
     "execution_count": 5,
     "metadata": {},
     "output_type": "execute_result"
    },
    {
     "data": {
      "text/plain": [
       "4664"
      ]
     },
     "execution_count": 5,
     "metadata": {},
     "output_type": "execute_result"
    },
    {
     "data": {
      "text/plain": [
       "4532"
      ]
     },
     "execution_count": 5,
     "metadata": {},
     "output_type": "execute_result"
    },
    {
     "data": {
      "text/plain": [
       "4801"
      ]
     },
     "execution_count": 5,
     "metadata": {},
     "output_type": "execute_result"
    },
    {
     "data": {
      "text/plain": [
       "10596"
      ]
     },
     "execution_count": 5,
     "metadata": {},
     "output_type": "execute_result"
    },
    {
     "data": {
      "text/plain": [
       "10973"
      ]
     },
     "execution_count": 5,
     "metadata": {},
     "output_type": "execute_result"
    },
    {
     "data": {
      "text/plain": [
       "11338"
      ]
     },
     "execution_count": 5,
     "metadata": {},
     "output_type": "execute_result"
    }
   ],
   "source": [
    "n_files = []\n",
    "for subject in subjects:\n",
    "    s_files = [os.path.join(datapath, f) for f in label_files if f.startswith(subject)]\n",
    "    n_file = os.path.join(datapath, subject + \".csv\")\n",
    "    n_files.append(n_file)\n",
    "    with open(n_file, \"w\") as fw:\n",
    "        for s in s_files:\n",
    "            with open(s, \"r\") as fr:\n",
    "                lines = fr.read()\n",
    "                lines = lines.replace('\"','')\n",
    "                lines = lines.replace(\"[Appealing,Non-appealing]\", \"[Non-appealing]\")   ## Choosing the last chosen class for ambiguous\n",
    "                lines = lines.replace(\"[Non-appealing,Appealing]\", \"[Appealing]\")\n",
    "                fw.write(lines+\"\\n\");"
   ]
  },
  {
   "cell_type": "markdown",
   "metadata": {},
   "source": [
    "#### Reading CSV files into Dataframes"
   ]
  },
  {
   "cell_type": "code",
   "execution_count": 6,
   "metadata": {},
   "outputs": [
    {
     "name": "stdout",
     "output_type": "stream",
     "text": [
      "1: \t 38205FF03AFF19E008FA123615336213A0ED33AB\n",
      "2: \t C003DF0C2EC67886EA6BC835682E3182A2126135\n",
      "3: \t F96F6ACF9B40EDA60D4D48FBED7B3512E1C8E48D\n",
      "4: \t C733B58CB8AE244885A97E86B09D896A5633674C\n",
      "5: \t 867D8B4F797167AA1CA27E00F76B51C63A7278ED\n",
      "6: \t A6241D7982404859C8D816D8C4A61DC506145A50\n",
      "7: \t F0E0055FB33661B91E7C55DAFB0246BCB43D7D8D\n",
      "8: \t 5FFB96918AA02D6E1EF82257A2828F9A4FD9C702\n",
      "9: \t 5FEF4C8B719CABDF32C46A4C9C9316376DF7B512\n",
      "10: \t 6438BC09053F6B5215CA1FC743AB0E3CF2B53984\n",
      "11: \t 3AB6D9AAC2244ECC4F595743DF6EB54686DE31A0\n",
      "12: \t B59DE8F9A0D4C9AADABAFF7EA6A4F61BF89861DA\n",
      "13: \t F9CC3D73B8F36057257097AFFE29B884000BABB5\n",
      "14: \t 73396439E5B11BBCA57A8FCB53FBB6F0FCECE794\n",
      "15: \t 43166EAC7DE5C6D48FF646B1B12BEB46AC7CA375\n",
      "16: \t BE887E16DEB41D06FACD481B5BFE3AF6FDF6F8CB\n",
      "17: \t 8D396D662D61B164860C081535E30C3E32934406\n",
      "18: \t C6C77B9A8025D969F0E14BEBBEECB8B82BAAF284\n",
      "19: \t C91C4E40D11000EB5E5BE0EDBE12C74A54FAA40B\n",
      "20: \t 245DC3767EBDBF721824F2F09B4251D5E0063494\n"
     ]
    }
   ],
   "source": [
    "list_dfs = []\n",
    "for idx, n_file in enumerate(n_files):\n",
    "    user = re.findall(\"|\".join(subjects), n_file)[0]\n",
    "    userid = idx + 1\n",
    "    print(f\"{userid}: \\t {user}\")\n",
    "    df = pd.read_csv(n_file, names=['image_name', 'class','w','h'])\n",
    "    df['user'] = user\n",
    "    df['userid'] = userid\n",
    "    df.drop(['w','h'], axis=1, inplace=True)\n",
    "    df.drop_duplicates(inplace=True)\n",
    "    list_dfs.append(df)"
   ]
  },
  {
   "cell_type": "markdown",
   "metadata": {},
   "source": [
    "#### Concatenating Dataframes"
   ]
  },
  {
   "cell_type": "code",
   "execution_count": 7,
   "metadata": {},
   "outputs": [
    {
     "name": "stdout",
     "output_type": "stream",
     "text": [
      "<class 'pandas.core.frame.DataFrame'>\n",
      "Int64Index: 18156 entries, 0 to 1011\n",
      "Data columns (total 5 columns):\n",
      " #   Column      Non-Null Count  Dtype \n",
      "---  ------      --------------  ----- \n",
      " 0   userid      18156 non-null  int64 \n",
      " 1   user        18156 non-null  object\n",
      " 2   image_name  18156 non-null  object\n",
      " 3   id_image    18156 non-null  object\n",
      " 4   class       18156 non-null  object\n",
      "dtypes: int64(1), object(4)\n",
      "memory usage: 851.1+ KB\n"
     ]
    }
   ],
   "source": [
    "df_labeling = pd.concat(list_dfs)\n",
    "df_labeling['id_image'] = df_labeling['image_name'].apply(lambda x:x[:-4])\n",
    "df_labeling = df_labeling[['userid','user', 'image_name', 'id_image', 'class']]\n",
    "df_labeling.info()"
   ]
  },
  {
   "cell_type": "markdown",
   "metadata": {},
   "source": [
    "#### Fixing classes names"
   ]
  },
  {
   "cell_type": "code",
   "execution_count": 8,
   "metadata": {},
   "outputs": [
    {
     "name": "stdout",
     "output_type": "stream",
     "text": [
      "['[Appealing]' '[Non-appealing]' '[Npn-appealing]' '[Appealing]    ']\n"
     ]
    },
    {
     "data": {
      "text/plain": [
       "Non-appealing    11076\n",
       "Appealing         7080\n",
       "Name: class, dtype: int64"
      ]
     },
     "execution_count": 8,
     "metadata": {},
     "output_type": "execute_result"
    }
   ],
   "source": [
    "print(df_labeling['class'].unique())\n",
    "df_labeling[\"class\"] = df_labeling[\"class\"].str.strip(\"[] \")\n",
    "df_labeling[\"class\"].replace({'Npn-appealing':\"Non-appealing\"}, inplace=True)\n",
    "df_labeling['class'].value_counts()"
   ]
  },
  {
   "cell_type": "code",
   "execution_count": 9,
   "metadata": {},
   "outputs": [
    {
     "data": {
      "text/html": [
       "<div>\n",
       "<style scoped>\n",
       "    .dataframe tbody tr th:only-of-type {\n",
       "        vertical-align: middle;\n",
       "    }\n",
       "\n",
       "    .dataframe tbody tr th {\n",
       "        vertical-align: top;\n",
       "    }\n",
       "\n",
       "    .dataframe thead th {\n",
       "        text-align: right;\n",
       "    }\n",
       "</style>\n",
       "<table border=\"1\" class=\"dataframe\">\n",
       "  <thead>\n",
       "    <tr style=\"text-align: right;\">\n",
       "      <th></th>\n",
       "      <th>userid</th>\n",
       "      <th>user</th>\n",
       "      <th>image_name</th>\n",
       "      <th>id_image</th>\n",
       "      <th>class</th>\n",
       "    </tr>\n",
       "  </thead>\n",
       "  <tbody>\n",
       "    <tr>\n",
       "      <th>0</th>\n",
       "      <td>1</td>\n",
       "      <td>38205FF03AFF19E008FA123615336213A0ED33AB</td>\n",
       "      <td>1.jpg</td>\n",
       "      <td>1</td>\n",
       "      <td>Appealing</td>\n",
       "    </tr>\n",
       "    <tr>\n",
       "      <th>1</th>\n",
       "      <td>1</td>\n",
       "      <td>38205FF03AFF19E008FA123615336213A0ED33AB</td>\n",
       "      <td>2.jpg</td>\n",
       "      <td>2</td>\n",
       "      <td>Non-appealing</td>\n",
       "    </tr>\n",
       "    <tr>\n",
       "      <th>2</th>\n",
       "      <td>1</td>\n",
       "      <td>38205FF03AFF19E008FA123615336213A0ED33AB</td>\n",
       "      <td>3.jpg</td>\n",
       "      <td>3</td>\n",
       "      <td>Non-appealing</td>\n",
       "    </tr>\n",
       "    <tr>\n",
       "      <th>3</th>\n",
       "      <td>1</td>\n",
       "      <td>38205FF03AFF19E008FA123615336213A0ED33AB</td>\n",
       "      <td>4.jpg</td>\n",
       "      <td>4</td>\n",
       "      <td>Non-appealing</td>\n",
       "    </tr>\n",
       "    <tr>\n",
       "      <th>4</th>\n",
       "      <td>1</td>\n",
       "      <td>38205FF03AFF19E008FA123615336213A0ED33AB</td>\n",
       "      <td>5.jpg</td>\n",
       "      <td>5</td>\n",
       "      <td>Appealing</td>\n",
       "    </tr>\n",
       "  </tbody>\n",
       "</table>\n",
       "</div>"
      ],
      "text/plain": [
       "   userid                                      user image_name id_image  \\\n",
       "0       1  38205FF03AFF19E008FA123615336213A0ED33AB      1.jpg        1   \n",
       "1       1  38205FF03AFF19E008FA123615336213A0ED33AB      2.jpg        2   \n",
       "2       1  38205FF03AFF19E008FA123615336213A0ED33AB      3.jpg        3   \n",
       "3       1  38205FF03AFF19E008FA123615336213A0ED33AB      4.jpg        4   \n",
       "4       1  38205FF03AFF19E008FA123615336213A0ED33AB      5.jpg        5   \n",
       "\n",
       "           class  \n",
       "0      Appealing  \n",
       "1  Non-appealing  \n",
       "2  Non-appealing  \n",
       "3  Non-appealing  \n",
       "4      Appealing  "
      ]
     },
     "execution_count": 9,
     "metadata": {},
     "output_type": "execute_result"
    }
   ],
   "source": [
    "df_labeling.head()"
   ]
  },
  {
   "cell_type": "markdown",
   "metadata": {},
   "source": [
    "#### Checking images classified"
   ]
  },
  {
   "cell_type": "code",
   "execution_count": 10,
   "metadata": {},
   "outputs": [],
   "source": [
    "df_labeling['image_appearances'] = df_labeling.groupby('id_image')['id_image'].transform('count')"
   ]
  },
  {
   "cell_type": "code",
   "execution_count": 11,
   "metadata": {},
   "outputs": [
    {
     "name": "stdout",
     "output_type": "stream",
     "text": [
      "18156 images were classified\n",
      "1012 unique images were classified\n",
      "\n",
      "11 images were classified 11 times\n",
      "165 images were classified 15 times\n",
      "8016 images were classified 16 times\n",
      "18 images were classified 18 times\n",
      "266 images were classified 19 times\n",
      "9680 images were classified 20 times\n"
     ]
    }
   ],
   "source": [
    "print(f\"{len(df_labeling['image_name'])} images were classified\")\n",
    "print(f\"{len(df_labeling['image_name'].unique())} unique images were classified\\n\")\n",
    "num_images = 0\n",
    "image_appearances = df_labeling.image_appearances.value_counts().sort_index(ascending=True)\n",
    "for idx in image_appearances.index:\n",
    "    print(f'{image_appearances[idx]} images were classified {idx} times')\n",
    "    num_images += image_appearances[idx]"
   ]
  },
  {
   "cell_type": "markdown",
   "metadata": {},
   "source": [
    "#### Keeping the images that were classified by all subjects (optional)"
   ]
  },
  {
   "cell_type": "code",
   "execution_count": 12,
   "metadata": {},
   "outputs": [
    {
     "name": "stdout",
     "output_type": "stream",
     "text": [
      "<class 'pandas.core.frame.DataFrame'>\n",
      "Int64Index: 18156 entries, 0 to 1011\n",
      "Data columns (total 6 columns):\n",
      " #   Column             Non-Null Count  Dtype \n",
      "---  ------             --------------  ----- \n",
      " 0   userid             18156 non-null  int64 \n",
      " 1   user               18156 non-null  object\n",
      " 2   image_name         18156 non-null  object\n",
      " 3   id_image           18156 non-null  object\n",
      " 4   class              18156 non-null  object\n",
      " 5   image_appearances  18156 non-null  int64 \n",
      "dtypes: int64(2), object(4)\n",
      "memory usage: 992.9+ KB\n"
     ]
    }
   ],
   "source": [
    "#df_labeling = df_labeling[df_labeling['image_appearances'] == 20]\n",
    "df_labeling.info()"
   ]
  },
  {
   "cell_type": "markdown",
   "metadata": {},
   "source": [
    "### Analysing the [inter-annotator agreement](https://scikit-learn.org/stable/modules/generated/sklearn.metrics.cohen_kappa_score.html) on the results  \n",
    "\n",
    "### $\\kappa = (p_o - p_e) / (1 - p_e)$\n",
    "\n",
    "#### where $p_o$ is the empirical probability of agreement on the label assigned to any sample (the observed agreement ratio), and $p_e$ is the expected agreement when both annotators assign labels randomly. $p_e$ is estimated using a per-annotator empirical prior over the class labels"
   ]
  },
  {
   "cell_type": "code",
   "execution_count": 13,
   "metadata": {},
   "outputs": [],
   "source": [
    "l1 = df_labeling.userid.unique()\n",
    "iter_users = itertools.product(l1,l1)\n",
    "df_iaa = pd.DataFrame(index=l1, columns=l1)\n",
    "df_iaa_styled = pd.DataFrame(index=l1, columns=l1)"
   ]
  },
  {
   "cell_type": "code",
   "execution_count": 20,
   "metadata": {},
   "outputs": [],
   "source": [
    "for user1,user2 in iter_users:\n",
    "    classesA = df_labeling.loc[(df_labeling.userid == user1),['id_image', 'class']]\n",
    "    classesA.sort_values(by=['id_image'], inplace=True)\n",
    "\n",
    "    classesB = df_labeling.loc[(df_labeling.userid == user2),['id_image', 'class']]\n",
    "    classesB.sort_values(by=['id_image'], inplace=True)\n",
    "\n",
    "    classesAB = pd.merge(classesA, classesB, on=['id_image'])\n",
    "    #classesAB.drop_duplicates(subset='id_image', keep = 'first', inplace=True) \n",
    "    classesAB.drop('id_image', axis=1, inplace=True)\n",
    "    classesAB.dropna(inplace=True)\n",
    "\n",
    "    agreement = cks(classesAB['class_x'], classesAB['class_y'])\n",
    "    df_iaa.loc[user1,user2] = f'{agreement:.3f}/({len(classesAB)})'\n",
    "    df_iaa_styled.loc[user1,user2] = f'{agreement:.3f}'\n",
    "    \n",
    "df_iaa_styled = df_iaa_styled.apply(pd.to_numeric)\n",
    "#print(tabulate(df_iaa, headers='keys', tablefmt='psql'))"
   ]
  },
  {
   "cell_type": "code",
   "execution_count": 22,
   "metadata": {},
   "outputs": [
    {
     "data": {
      "text/html": [
       "<style  type=\"text/css\" >\n",
       "#T_104b9f6c_5be6_11eb_8c4e_ff7c23f7df1erow0_col0,#T_104b9f6c_5be6_11eb_8c4e_ff7c23f7df1erow1_col1,#T_104b9f6c_5be6_11eb_8c4e_ff7c23f7df1erow2_col2,#T_104b9f6c_5be6_11eb_8c4e_ff7c23f7df1erow3_col3,#T_104b9f6c_5be6_11eb_8c4e_ff7c23f7df1erow4_col4,#T_104b9f6c_5be6_11eb_8c4e_ff7c23f7df1erow5_col5,#T_104b9f6c_5be6_11eb_8c4e_ff7c23f7df1erow6_col6,#T_104b9f6c_5be6_11eb_8c4e_ff7c23f7df1erow7_col7,#T_104b9f6c_5be6_11eb_8c4e_ff7c23f7df1erow8_col8,#T_104b9f6c_5be6_11eb_8c4e_ff7c23f7df1erow9_col9,#T_104b9f6c_5be6_11eb_8c4e_ff7c23f7df1erow10_col10,#T_104b9f6c_5be6_11eb_8c4e_ff7c23f7df1erow11_col11,#T_104b9f6c_5be6_11eb_8c4e_ff7c23f7df1erow12_col12,#T_104b9f6c_5be6_11eb_8c4e_ff7c23f7df1erow13_col13,#T_104b9f6c_5be6_11eb_8c4e_ff7c23f7df1erow14_col14,#T_104b9f6c_5be6_11eb_8c4e_ff7c23f7df1erow15_col15,#T_104b9f6c_5be6_11eb_8c4e_ff7c23f7df1erow16_col16,#T_104b9f6c_5be6_11eb_8c4e_ff7c23f7df1erow17_col17,#T_104b9f6c_5be6_11eb_8c4e_ff7c23f7df1erow18_col18,#T_104b9f6c_5be6_11eb_8c4e_ff7c23f7df1erow19_col19{\n",
       "            background-color:  #f0f921;\n",
       "            color:  #000000;\n",
       "        }#T_104b9f6c_5be6_11eb_8c4e_ff7c23f7df1erow0_col1,#T_104b9f6c_5be6_11eb_8c4e_ff7c23f7df1erow1_col0,#T_104b9f6c_5be6_11eb_8c4e_ff7c23f7df1erow2_col10,#T_104b9f6c_5be6_11eb_8c4e_ff7c23f7df1erow10_col2{\n",
       "            background-color:  #8707a6;\n",
       "            color:  #f1f1f1;\n",
       "        }#T_104b9f6c_5be6_11eb_8c4e_ff7c23f7df1erow0_col2,#T_104b9f6c_5be6_11eb_8c4e_ff7c23f7df1erow0_col4,#T_104b9f6c_5be6_11eb_8c4e_ff7c23f7df1erow0_col5,#T_104b9f6c_5be6_11eb_8c4e_ff7c23f7df1erow0_col9,#T_104b9f6c_5be6_11eb_8c4e_ff7c23f7df1erow0_col10,#T_104b9f6c_5be6_11eb_8c4e_ff7c23f7df1erow0_col11,#T_104b9f6c_5be6_11eb_8c4e_ff7c23f7df1erow0_col13,#T_104b9f6c_5be6_11eb_8c4e_ff7c23f7df1erow0_col14,#T_104b9f6c_5be6_11eb_8c4e_ff7c23f7df1erow0_col16,#T_104b9f6c_5be6_11eb_8c4e_ff7c23f7df1erow0_col17,#T_104b9f6c_5be6_11eb_8c4e_ff7c23f7df1erow0_col18,#T_104b9f6c_5be6_11eb_8c4e_ff7c23f7df1erow1_col2,#T_104b9f6c_5be6_11eb_8c4e_ff7c23f7df1erow1_col4,#T_104b9f6c_5be6_11eb_8c4e_ff7c23f7df1erow1_col9,#T_104b9f6c_5be6_11eb_8c4e_ff7c23f7df1erow1_col11,#T_104b9f6c_5be6_11eb_8c4e_ff7c23f7df1erow1_col13,#T_104b9f6c_5be6_11eb_8c4e_ff7c23f7df1erow1_col14,#T_104b9f6c_5be6_11eb_8c4e_ff7c23f7df1erow1_col16,#T_104b9f6c_5be6_11eb_8c4e_ff7c23f7df1erow2_col0,#T_104b9f6c_5be6_11eb_8c4e_ff7c23f7df1erow2_col1,#T_104b9f6c_5be6_11eb_8c4e_ff7c23f7df1erow2_col6,#T_104b9f6c_5be6_11eb_8c4e_ff7c23f7df1erow2_col12,#T_104b9f6c_5be6_11eb_8c4e_ff7c23f7df1erow2_col15,#T_104b9f6c_5be6_11eb_8c4e_ff7c23f7df1erow2_col19,#T_104b9f6c_5be6_11eb_8c4e_ff7c23f7df1erow3_col15,#T_104b9f6c_5be6_11eb_8c4e_ff7c23f7df1erow3_col16,#T_104b9f6c_5be6_11eb_8c4e_ff7c23f7df1erow3_col19,#T_104b9f6c_5be6_11eb_8c4e_ff7c23f7df1erow4_col0,#T_104b9f6c_5be6_11eb_8c4e_ff7c23f7df1erow4_col1,#T_104b9f6c_5be6_11eb_8c4e_ff7c23f7df1erow4_col12,#T_104b9f6c_5be6_11eb_8c4e_ff7c23f7df1erow4_col15,#T_104b9f6c_5be6_11eb_8c4e_ff7c23f7df1erow5_col0,#T_104b9f6c_5be6_11eb_8c4e_ff7c23f7df1erow5_col19,#T_104b9f6c_5be6_11eb_8c4e_ff7c23f7df1erow6_col2,#T_104b9f6c_5be6_11eb_8c4e_ff7c23f7df1erow6_col9,#T_104b9f6c_5be6_11eb_8c4e_ff7c23f7df1erow6_col11,#T_104b9f6c_5be6_11eb_8c4e_ff7c23f7df1erow6_col13,#T_104b9f6c_5be6_11eb_8c4e_ff7c23f7df1erow6_col14,#T_104b9f6c_5be6_11eb_8c4e_ff7c23f7df1erow6_col16,#T_104b9f6c_5be6_11eb_8c4e_ff7c23f7df1erow7_col15,#T_104b9f6c_5be6_11eb_8c4e_ff7c23f7df1erow7_col19,#T_104b9f6c_5be6_11eb_8c4e_ff7c23f7df1erow8_col9,#T_104b9f6c_5be6_11eb_8c4e_ff7c23f7df1erow8_col19,#T_104b9f6c_5be6_11eb_8c4e_ff7c23f7df1erow9_col0,#T_104b9f6c_5be6_11eb_8c4e_ff7c23f7df1erow9_col1,#T_104b9f6c_5be6_11eb_8c4e_ff7c23f7df1erow9_col6,#T_104b9f6c_5be6_11eb_8c4e_ff7c23f7df1erow9_col8,#T_104b9f6c_5be6_11eb_8c4e_ff7c23f7df1erow9_col12,#T_104b9f6c_5be6_11eb_8c4e_ff7c23f7df1erow9_col15,#T_104b9f6c_5be6_11eb_8c4e_ff7c23f7df1erow10_col0,#T_104b9f6c_5be6_11eb_8c4e_ff7c23f7df1erow10_col15,#T_104b9f6c_5be6_11eb_8c4e_ff7c23f7df1erow11_col0,#T_104b9f6c_5be6_11eb_8c4e_ff7c23f7df1erow11_col1,#T_104b9f6c_5be6_11eb_8c4e_ff7c23f7df1erow11_col6,#T_104b9f6c_5be6_11eb_8c4e_ff7c23f7df1erow11_col12,#T_104b9f6c_5be6_11eb_8c4e_ff7c23f7df1erow11_col15,#T_104b9f6c_5be6_11eb_8c4e_ff7c23f7df1erow11_col19,#T_104b9f6c_5be6_11eb_8c4e_ff7c23f7df1erow12_col2,#T_104b9f6c_5be6_11eb_8c4e_ff7c23f7df1erow12_col4,#T_104b9f6c_5be6_11eb_8c4e_ff7c23f7df1erow12_col9,#T_104b9f6c_5be6_11eb_8c4e_ff7c23f7df1erow12_col11,#T_104b9f6c_5be6_11eb_8c4e_ff7c23f7df1erow12_col13,#T_104b9f6c_5be6_11eb_8c4e_ff7c23f7df1erow12_col14,#T_104b9f6c_5be6_11eb_8c4e_ff7c23f7df1erow12_col16,#T_104b9f6c_5be6_11eb_8c4e_ff7c23f7df1erow13_col0,#T_104b9f6c_5be6_11eb_8c4e_ff7c23f7df1erow13_col1,#T_104b9f6c_5be6_11eb_8c4e_ff7c23f7df1erow13_col6,#T_104b9f6c_5be6_11eb_8c4e_ff7c23f7df1erow13_col12,#T_104b9f6c_5be6_11eb_8c4e_ff7c23f7df1erow13_col19,#T_104b9f6c_5be6_11eb_8c4e_ff7c23f7df1erow14_col0,#T_104b9f6c_5be6_11eb_8c4e_ff7c23f7df1erow14_col1,#T_104b9f6c_5be6_11eb_8c4e_ff7c23f7df1erow14_col6,#T_104b9f6c_5be6_11eb_8c4e_ff7c23f7df1erow14_col12,#T_104b9f6c_5be6_11eb_8c4e_ff7c23f7df1erow14_col15,#T_104b9f6c_5be6_11eb_8c4e_ff7c23f7df1erow14_col19,#T_104b9f6c_5be6_11eb_8c4e_ff7c23f7df1erow15_col2,#T_104b9f6c_5be6_11eb_8c4e_ff7c23f7df1erow15_col3,#T_104b9f6c_5be6_11eb_8c4e_ff7c23f7df1erow15_col4,#T_104b9f6c_5be6_11eb_8c4e_ff7c23f7df1erow15_col7,#T_104b9f6c_5be6_11eb_8c4e_ff7c23f7df1erow15_col9,#T_104b9f6c_5be6_11eb_8c4e_ff7c23f7df1erow15_col10,#T_104b9f6c_5be6_11eb_8c4e_ff7c23f7df1erow15_col11,#T_104b9f6c_5be6_11eb_8c4e_ff7c23f7df1erow15_col14,#T_104b9f6c_5be6_11eb_8c4e_ff7c23f7df1erow15_col19,#T_104b9f6c_5be6_11eb_8c4e_ff7c23f7df1erow16_col0,#T_104b9f6c_5be6_11eb_8c4e_ff7c23f7df1erow16_col1,#T_104b9f6c_5be6_11eb_8c4e_ff7c23f7df1erow16_col3,#T_104b9f6c_5be6_11eb_8c4e_ff7c23f7df1erow16_col6,#T_104b9f6c_5be6_11eb_8c4e_ff7c23f7df1erow16_col12,#T_104b9f6c_5be6_11eb_8c4e_ff7c23f7df1erow16_col19,#T_104b9f6c_5be6_11eb_8c4e_ff7c23f7df1erow17_col0,#T_104b9f6c_5be6_11eb_8c4e_ff7c23f7df1erow18_col0,#T_104b9f6c_5be6_11eb_8c4e_ff7c23f7df1erow19_col2,#T_104b9f6c_5be6_11eb_8c4e_ff7c23f7df1erow19_col3,#T_104b9f6c_5be6_11eb_8c4e_ff7c23f7df1erow19_col5,#T_104b9f6c_5be6_11eb_8c4e_ff7c23f7df1erow19_col7,#T_104b9f6c_5be6_11eb_8c4e_ff7c23f7df1erow19_col8,#T_104b9f6c_5be6_11eb_8c4e_ff7c23f7df1erow19_col11,#T_104b9f6c_5be6_11eb_8c4e_ff7c23f7df1erow19_col13,#T_104b9f6c_5be6_11eb_8c4e_ff7c23f7df1erow19_col14,#T_104b9f6c_5be6_11eb_8c4e_ff7c23f7df1erow19_col15,#T_104b9f6c_5be6_11eb_8c4e_ff7c23f7df1erow19_col16{\n",
       "            background-color:  #0d0887;\n",
       "            color:  #f1f1f1;\n",
       "        }#T_104b9f6c_5be6_11eb_8c4e_ff7c23f7df1erow0_col3,#T_104b9f6c_5be6_11eb_8c4e_ff7c23f7df1erow0_col19,#T_104b9f6c_5be6_11eb_8c4e_ff7c23f7df1erow3_col0,#T_104b9f6c_5be6_11eb_8c4e_ff7c23f7df1erow8_col10,#T_104b9f6c_5be6_11eb_8c4e_ff7c23f7df1erow8_col14,#T_104b9f6c_5be6_11eb_8c4e_ff7c23f7df1erow10_col8,#T_104b9f6c_5be6_11eb_8c4e_ff7c23f7df1erow10_col18,#T_104b9f6c_5be6_11eb_8c4e_ff7c23f7df1erow10_col19,#T_104b9f6c_5be6_11eb_8c4e_ff7c23f7df1erow12_col19,#T_104b9f6c_5be6_11eb_8c4e_ff7c23f7df1erow13_col15,#T_104b9f6c_5be6_11eb_8c4e_ff7c23f7df1erow14_col8,#T_104b9f6c_5be6_11eb_8c4e_ff7c23f7df1erow15_col13,#T_104b9f6c_5be6_11eb_8c4e_ff7c23f7df1erow17_col19,#T_104b9f6c_5be6_11eb_8c4e_ff7c23f7df1erow18_col10,#T_104b9f6c_5be6_11eb_8c4e_ff7c23f7df1erow18_col19,#T_104b9f6c_5be6_11eb_8c4e_ff7c23f7df1erow19_col0,#T_104b9f6c_5be6_11eb_8c4e_ff7c23f7df1erow19_col10,#T_104b9f6c_5be6_11eb_8c4e_ff7c23f7df1erow19_col12,#T_104b9f6c_5be6_11eb_8c4e_ff7c23f7df1erow19_col17,#T_104b9f6c_5be6_11eb_8c4e_ff7c23f7df1erow19_col18{\n",
       "            background-color:  #1b068d;\n",
       "            color:  #f1f1f1;\n",
       "        }#T_104b9f6c_5be6_11eb_8c4e_ff7c23f7df1erow0_col6,#T_104b9f6c_5be6_11eb_8c4e_ff7c23f7df1erow6_col0{\n",
       "            background-color:  #8e0ca4;\n",
       "            color:  #f1f1f1;\n",
       "        }#T_104b9f6c_5be6_11eb_8c4e_ff7c23f7df1erow0_col7,#T_104b9f6c_5be6_11eb_8c4e_ff7c23f7df1erow6_col19,#T_104b9f6c_5be6_11eb_8c4e_ff7c23f7df1erow7_col0,#T_104b9f6c_5be6_11eb_8c4e_ff7c23f7df1erow7_col12,#T_104b9f6c_5be6_11eb_8c4e_ff7c23f7df1erow8_col18,#T_104b9f6c_5be6_11eb_8c4e_ff7c23f7df1erow12_col7,#T_104b9f6c_5be6_11eb_8c4e_ff7c23f7df1erow13_col18,#T_104b9f6c_5be6_11eb_8c4e_ff7c23f7df1erow18_col8,#T_104b9f6c_5be6_11eb_8c4e_ff7c23f7df1erow18_col13,#T_104b9f6c_5be6_11eb_8c4e_ff7c23f7df1erow19_col6{\n",
       "            background-color:  #38049a;\n",
       "            color:  #f1f1f1;\n",
       "        }#T_104b9f6c_5be6_11eb_8c4e_ff7c23f7df1erow0_col8,#T_104b9f6c_5be6_11eb_8c4e_ff7c23f7df1erow3_col9,#T_104b9f6c_5be6_11eb_8c4e_ff7c23f7df1erow3_col11,#T_104b9f6c_5be6_11eb_8c4e_ff7c23f7df1erow7_col8,#T_104b9f6c_5be6_11eb_8c4e_ff7c23f7df1erow8_col0,#T_104b9f6c_5be6_11eb_8c4e_ff7c23f7df1erow8_col7,#T_104b9f6c_5be6_11eb_8c4e_ff7c23f7df1erow9_col3,#T_104b9f6c_5be6_11eb_8c4e_ff7c23f7df1erow11_col3{\n",
       "            background-color:  #2e0595;\n",
       "            color:  #f1f1f1;\n",
       "        }#T_104b9f6c_5be6_11eb_8c4e_ff7c23f7df1erow0_col12,#T_104b9f6c_5be6_11eb_8c4e_ff7c23f7df1erow12_col0{\n",
       "            background-color:  #a01a9c;\n",
       "            color:  #f1f1f1;\n",
       "        }#T_104b9f6c_5be6_11eb_8c4e_ff7c23f7df1erow0_col15,#T_104b9f6c_5be6_11eb_8c4e_ff7c23f7df1erow4_col6,#T_104b9f6c_5be6_11eb_8c4e_ff7c23f7df1erow5_col8,#T_104b9f6c_5be6_11eb_8c4e_ff7c23f7df1erow6_col4,#T_104b9f6c_5be6_11eb_8c4e_ff7c23f7df1erow6_col10,#T_104b9f6c_5be6_11eb_8c4e_ff7c23f7df1erow8_col5,#T_104b9f6c_5be6_11eb_8c4e_ff7c23f7df1erow10_col6,#T_104b9f6c_5be6_11eb_8c4e_ff7c23f7df1erow12_col15,#T_104b9f6c_5be6_11eb_8c4e_ff7c23f7df1erow15_col0,#T_104b9f6c_5be6_11eb_8c4e_ff7c23f7df1erow15_col12,#T_104b9f6c_5be6_11eb_8c4e_ff7c23f7df1erow15_col16,#T_104b9f6c_5be6_11eb_8c4e_ff7c23f7df1erow16_col15{\n",
       "            background-color:  #19068c;\n",
       "            color:  #f1f1f1;\n",
       "        }#T_104b9f6c_5be6_11eb_8c4e_ff7c23f7df1erow1_col3,#T_104b9f6c_5be6_11eb_8c4e_ff7c23f7df1erow1_col10,#T_104b9f6c_5be6_11eb_8c4e_ff7c23f7df1erow3_col1,#T_104b9f6c_5be6_11eb_8c4e_ff7c23f7df1erow4_col19,#T_104b9f6c_5be6_11eb_8c4e_ff7c23f7df1erow5_col18,#T_104b9f6c_5be6_11eb_8c4e_ff7c23f7df1erow6_col18,#T_104b9f6c_5be6_11eb_8c4e_ff7c23f7df1erow10_col1,#T_104b9f6c_5be6_11eb_8c4e_ff7c23f7df1erow18_col5,#T_104b9f6c_5be6_11eb_8c4e_ff7c23f7df1erow18_col6,#T_104b9f6c_5be6_11eb_8c4e_ff7c23f7df1erow19_col4{\n",
       "            background-color:  #20068f;\n",
       "            color:  #f1f1f1;\n",
       "        }#T_104b9f6c_5be6_11eb_8c4e_ff7c23f7df1erow1_col5,#T_104b9f6c_5be6_11eb_8c4e_ff7c23f7df1erow1_col18,#T_104b9f6c_5be6_11eb_8c4e_ff7c23f7df1erow1_col19,#T_104b9f6c_5be6_11eb_8c4e_ff7c23f7df1erow3_col13,#T_104b9f6c_5be6_11eb_8c4e_ff7c23f7df1erow5_col1,#T_104b9f6c_5be6_11eb_8c4e_ff7c23f7df1erow8_col15,#T_104b9f6c_5be6_11eb_8c4e_ff7c23f7df1erow10_col12,#T_104b9f6c_5be6_11eb_8c4e_ff7c23f7df1erow12_col10,#T_104b9f6c_5be6_11eb_8c4e_ff7c23f7df1erow13_col3,#T_104b9f6c_5be6_11eb_8c4e_ff7c23f7df1erow15_col8,#T_104b9f6c_5be6_11eb_8c4e_ff7c23f7df1erow18_col1,#T_104b9f6c_5be6_11eb_8c4e_ff7c23f7df1erow19_col1{\n",
       "            background-color:  #240691;\n",
       "            color:  #f1f1f1;\n",
       "        }#T_104b9f6c_5be6_11eb_8c4e_ff7c23f7df1erow1_col6,#T_104b9f6c_5be6_11eb_8c4e_ff7c23f7df1erow6_col1{\n",
       "            background-color:  #7401a8;\n",
       "            color:  #f1f1f1;\n",
       "        }#T_104b9f6c_5be6_11eb_8c4e_ff7c23f7df1erow1_col7,#T_104b9f6c_5be6_11eb_8c4e_ff7c23f7df1erow7_col1,#T_104b9f6c_5be6_11eb_8c4e_ff7c23f7df1erow7_col9,#T_104b9f6c_5be6_11eb_8c4e_ff7c23f7df1erow7_col14,#T_104b9f6c_5be6_11eb_8c4e_ff7c23f7df1erow9_col7,#T_104b9f6c_5be6_11eb_8c4e_ff7c23f7df1erow14_col7{\n",
       "            background-color:  #4e02a2;\n",
       "            color:  #f1f1f1;\n",
       "        }#T_104b9f6c_5be6_11eb_8c4e_ff7c23f7df1erow1_col8,#T_104b9f6c_5be6_11eb_8c4e_ff7c23f7df1erow6_col17,#T_104b9f6c_5be6_11eb_8c4e_ff7c23f7df1erow8_col1,#T_104b9f6c_5be6_11eb_8c4e_ff7c23f7df1erow17_col6{\n",
       "            background-color:  #5502a4;\n",
       "            color:  #f1f1f1;\n",
       "        }#T_104b9f6c_5be6_11eb_8c4e_ff7c23f7df1erow1_col12,#T_104b9f6c_5be6_11eb_8c4e_ff7c23f7df1erow12_col1{\n",
       "            background-color:  #9d189d;\n",
       "            color:  #f1f1f1;\n",
       "        }#T_104b9f6c_5be6_11eb_8c4e_ff7c23f7df1erow1_col15,#T_104b9f6c_5be6_11eb_8c4e_ff7c23f7df1erow3_col6,#T_104b9f6c_5be6_11eb_8c4e_ff7c23f7df1erow6_col3,#T_104b9f6c_5be6_11eb_8c4e_ff7c23f7df1erow15_col1,#T_104b9f6c_5be6_11eb_8c4e_ff7c23f7df1erow15_col17,#T_104b9f6c_5be6_11eb_8c4e_ff7c23f7df1erow16_col17,#T_104b9f6c_5be6_11eb_8c4e_ff7c23f7df1erow17_col15,#T_104b9f6c_5be6_11eb_8c4e_ff7c23f7df1erow17_col16{\n",
       "            background-color:  #220690;\n",
       "            color:  #f1f1f1;\n",
       "        }#T_104b9f6c_5be6_11eb_8c4e_ff7c23f7df1erow1_col17,#T_104b9f6c_5be6_11eb_8c4e_ff7c23f7df1erow7_col17,#T_104b9f6c_5be6_11eb_8c4e_ff7c23f7df1erow11_col16,#T_104b9f6c_5be6_11eb_8c4e_ff7c23f7df1erow16_col11,#T_104b9f6c_5be6_11eb_8c4e_ff7c23f7df1erow17_col1,#T_104b9f6c_5be6_11eb_8c4e_ff7c23f7df1erow17_col7{\n",
       "            background-color:  #48039f;\n",
       "            color:  #f1f1f1;\n",
       "        }#T_104b9f6c_5be6_11eb_8c4e_ff7c23f7df1erow2_col3,#T_104b9f6c_5be6_11eb_8c4e_ff7c23f7df1erow2_col8,#T_104b9f6c_5be6_11eb_8c4e_ff7c23f7df1erow3_col2,#T_104b9f6c_5be6_11eb_8c4e_ff7c23f7df1erow8_col2,#T_104b9f6c_5be6_11eb_8c4e_ff7c23f7df1erow10_col16,#T_104b9f6c_5be6_11eb_8c4e_ff7c23f7df1erow16_col10{\n",
       "            background-color:  #310597;\n",
       "            color:  #f1f1f1;\n",
       "        }#T_104b9f6c_5be6_11eb_8c4e_ff7c23f7df1erow2_col4,#T_104b9f6c_5be6_11eb_8c4e_ff7c23f7df1erow4_col2{\n",
       "            background-color:  #cc4778;\n",
       "            color:  #f1f1f1;\n",
       "        }#T_104b9f6c_5be6_11eb_8c4e_ff7c23f7df1erow2_col5,#T_104b9f6c_5be6_11eb_8c4e_ff7c23f7df1erow4_col7,#T_104b9f6c_5be6_11eb_8c4e_ff7c23f7df1erow5_col2,#T_104b9f6c_5be6_11eb_8c4e_ff7c23f7df1erow7_col4{\n",
       "            background-color:  #6a00a8;\n",
       "            color:  #f1f1f1;\n",
       "        }#T_104b9f6c_5be6_11eb_8c4e_ff7c23f7df1erow2_col7,#T_104b9f6c_5be6_11eb_8c4e_ff7c23f7df1erow7_col2,#T_104b9f6c_5be6_11eb_8c4e_ff7c23f7df1erow14_col16,#T_104b9f6c_5be6_11eb_8c4e_ff7c23f7df1erow16_col14{\n",
       "            background-color:  #4b03a1;\n",
       "            color:  #f1f1f1;\n",
       "        }#T_104b9f6c_5be6_11eb_8c4e_ff7c23f7df1erow2_col9,#T_104b9f6c_5be6_11eb_8c4e_ff7c23f7df1erow9_col2{\n",
       "            background-color:  #d04d73;\n",
       "            color:  #000000;\n",
       "        }#T_104b9f6c_5be6_11eb_8c4e_ff7c23f7df1erow2_col11,#T_104b9f6c_5be6_11eb_8c4e_ff7c23f7df1erow11_col2{\n",
       "            background-color:  #c6417d;\n",
       "            color:  #f1f1f1;\n",
       "        }#T_104b9f6c_5be6_11eb_8c4e_ff7c23f7df1erow2_col13,#T_104b9f6c_5be6_11eb_8c4e_ff7c23f7df1erow13_col2{\n",
       "            background-color:  #8405a7;\n",
       "            color:  #f1f1f1;\n",
       "        }#T_104b9f6c_5be6_11eb_8c4e_ff7c23f7df1erow2_col14,#T_104b9f6c_5be6_11eb_8c4e_ff7c23f7df1erow9_col13,#T_104b9f6c_5be6_11eb_8c4e_ff7c23f7df1erow13_col9,#T_104b9f6c_5be6_11eb_8c4e_ff7c23f7df1erow14_col2{\n",
       "            background-color:  #ac2694;\n",
       "            color:  #f1f1f1;\n",
       "        }#T_104b9f6c_5be6_11eb_8c4e_ff7c23f7df1erow2_col16,#T_104b9f6c_5be6_11eb_8c4e_ff7c23f7df1erow16_col2{\n",
       "            background-color:  #5002a2;\n",
       "            color:  #f1f1f1;\n",
       "        }#T_104b9f6c_5be6_11eb_8c4e_ff7c23f7df1erow2_col17,#T_104b9f6c_5be6_11eb_8c4e_ff7c23f7df1erow17_col2{\n",
       "            background-color:  #8606a6;\n",
       "            color:  #f1f1f1;\n",
       "        }#T_104b9f6c_5be6_11eb_8c4e_ff7c23f7df1erow2_col18,#T_104b9f6c_5be6_11eb_8c4e_ff7c23f7df1erow6_col8,#T_104b9f6c_5be6_11eb_8c4e_ff7c23f7df1erow8_col6,#T_104b9f6c_5be6_11eb_8c4e_ff7c23f7df1erow18_col2{\n",
       "            background-color:  #4c02a1;\n",
       "            color:  #f1f1f1;\n",
       "        }#T_104b9f6c_5be6_11eb_8c4e_ff7c23f7df1erow3_col4,#T_104b9f6c_5be6_11eb_8c4e_ff7c23f7df1erow4_col3{\n",
       "            background-color:  #5102a3;\n",
       "            color:  #f1f1f1;\n",
       "        }#T_104b9f6c_5be6_11eb_8c4e_ff7c23f7df1erow3_col5,#T_104b9f6c_5be6_11eb_8c4e_ff7c23f7df1erow5_col3,#T_104b9f6c_5be6_11eb_8c4e_ff7c23f7df1erow7_col18,#T_104b9f6c_5be6_11eb_8c4e_ff7c23f7df1erow18_col7{\n",
       "            background-color:  #3f049c;\n",
       "            color:  #f1f1f1;\n",
       "        }#T_104b9f6c_5be6_11eb_8c4e_ff7c23f7df1erow3_col7,#T_104b9f6c_5be6_11eb_8c4e_ff7c23f7df1erow7_col3,#T_104b9f6c_5be6_11eb_8c4e_ff7c23f7df1erow8_col16,#T_104b9f6c_5be6_11eb_8c4e_ff7c23f7df1erow16_col8{\n",
       "            background-color:  #2a0593;\n",
       "            color:  #f1f1f1;\n",
       "        }#T_104b9f6c_5be6_11eb_8c4e_ff7c23f7df1erow3_col8,#T_104b9f6c_5be6_11eb_8c4e_ff7c23f7df1erow8_col3{\n",
       "            background-color:  #1d068e;\n",
       "            color:  #f1f1f1;\n",
       "        }#T_104b9f6c_5be6_11eb_8c4e_ff7c23f7df1erow3_col10,#T_104b9f6c_5be6_11eb_8c4e_ff7c23f7df1erow10_col3{\n",
       "            background-color:  #44039e;\n",
       "            color:  #f1f1f1;\n",
       "        }#T_104b9f6c_5be6_11eb_8c4e_ff7c23f7df1erow3_col12,#T_104b9f6c_5be6_11eb_8c4e_ff7c23f7df1erow8_col11,#T_104b9f6c_5be6_11eb_8c4e_ff7c23f7df1erow8_col13,#T_104b9f6c_5be6_11eb_8c4e_ff7c23f7df1erow11_col8,#T_104b9f6c_5be6_11eb_8c4e_ff7c23f7df1erow12_col3,#T_104b9f6c_5be6_11eb_8c4e_ff7c23f7df1erow13_col8,#T_104b9f6c_5be6_11eb_8c4e_ff7c23f7df1erow15_col18,#T_104b9f6c_5be6_11eb_8c4e_ff7c23f7df1erow18_col15{\n",
       "            background-color:  #280592;\n",
       "            color:  #f1f1f1;\n",
       "        }#T_104b9f6c_5be6_11eb_8c4e_ff7c23f7df1erow3_col14,#T_104b9f6c_5be6_11eb_8c4e_ff7c23f7df1erow8_col17,#T_104b9f6c_5be6_11eb_8c4e_ff7c23f7df1erow14_col3,#T_104b9f6c_5be6_11eb_8c4e_ff7c23f7df1erow17_col8,#T_104b9f6c_5be6_11eb_8c4e_ff7c23f7df1erow17_col18,#T_104b9f6c_5be6_11eb_8c4e_ff7c23f7df1erow18_col17{\n",
       "            background-color:  #330597;\n",
       "            color:  #f1f1f1;\n",
       "        }#T_104b9f6c_5be6_11eb_8c4e_ff7c23f7df1erow3_col17,#T_104b9f6c_5be6_11eb_8c4e_ff7c23f7df1erow17_col3{\n",
       "            background-color:  #2f0596;\n",
       "            color:  #f1f1f1;\n",
       "        }#T_104b9f6c_5be6_11eb_8c4e_ff7c23f7df1erow3_col18,#T_104b9f6c_5be6_11eb_8c4e_ff7c23f7df1erow5_col15,#T_104b9f6c_5be6_11eb_8c4e_ff7c23f7df1erow15_col5,#T_104b9f6c_5be6_11eb_8c4e_ff7c23f7df1erow18_col3{\n",
       "            background-color:  #100788;\n",
       "            color:  #f1f1f1;\n",
       "        }#T_104b9f6c_5be6_11eb_8c4e_ff7c23f7df1erow4_col5,#T_104b9f6c_5be6_11eb_8c4e_ff7c23f7df1erow5_col4{\n",
       "            background-color:  #8305a7;\n",
       "            color:  #f1f1f1;\n",
       "        }#T_104b9f6c_5be6_11eb_8c4e_ff7c23f7df1erow4_col8,#T_104b9f6c_5be6_11eb_8c4e_ff7c23f7df1erow6_col15,#T_104b9f6c_5be6_11eb_8c4e_ff7c23f7df1erow7_col16,#T_104b9f6c_5be6_11eb_8c4e_ff7c23f7df1erow8_col4,#T_104b9f6c_5be6_11eb_8c4e_ff7c23f7df1erow15_col6,#T_104b9f6c_5be6_11eb_8c4e_ff7c23f7df1erow16_col7{\n",
       "            background-color:  #2c0594;\n",
       "            color:  #f1f1f1;\n",
       "        }#T_104b9f6c_5be6_11eb_8c4e_ff7c23f7df1erow4_col9,#T_104b9f6c_5be6_11eb_8c4e_ff7c23f7df1erow9_col4{\n",
       "            background-color:  #d9586a;\n",
       "            color:  #000000;\n",
       "        }#T_104b9f6c_5be6_11eb_8c4e_ff7c23f7df1erow4_col10,#T_104b9f6c_5be6_11eb_8c4e_ff7c23f7df1erow10_col4,#T_104b9f6c_5be6_11eb_8c4e_ff7c23f7df1erow10_col17,#T_104b9f6c_5be6_11eb_8c4e_ff7c23f7df1erow17_col10{\n",
       "            background-color:  #7701a8;\n",
       "            color:  #f1f1f1;\n",
       "        }#T_104b9f6c_5be6_11eb_8c4e_ff7c23f7df1erow4_col11,#T_104b9f6c_5be6_11eb_8c4e_ff7c23f7df1erow11_col4{\n",
       "            background-color:  #b83289;\n",
       "            color:  #f1f1f1;\n",
       "        }#T_104b9f6c_5be6_11eb_8c4e_ff7c23f7df1erow4_col13,#T_104b9f6c_5be6_11eb_8c4e_ff7c23f7df1erow13_col4{\n",
       "            background-color:  #ae2892;\n",
       "            color:  #f1f1f1;\n",
       "        }#T_104b9f6c_5be6_11eb_8c4e_ff7c23f7df1erow4_col14,#T_104b9f6c_5be6_11eb_8c4e_ff7c23f7df1erow14_col4{\n",
       "            background-color:  #b7318a;\n",
       "            color:  #f1f1f1;\n",
       "        }#T_104b9f6c_5be6_11eb_8c4e_ff7c23f7df1erow4_col16,#T_104b9f6c_5be6_11eb_8c4e_ff7c23f7df1erow16_col4{\n",
       "            background-color:  #5901a5;\n",
       "            color:  #f1f1f1;\n",
       "        }#T_104b9f6c_5be6_11eb_8c4e_ff7c23f7df1erow4_col17,#T_104b9f6c_5be6_11eb_8c4e_ff7c23f7df1erow17_col4{\n",
       "            background-color:  #ab2494;\n",
       "            color:  #f1f1f1;\n",
       "        }#T_104b9f6c_5be6_11eb_8c4e_ff7c23f7df1erow4_col18,#T_104b9f6c_5be6_11eb_8c4e_ff7c23f7df1erow18_col4{\n",
       "            background-color:  #5b01a5;\n",
       "            color:  #f1f1f1;\n",
       "        }#T_104b9f6c_5be6_11eb_8c4e_ff7c23f7df1erow5_col6,#T_104b9f6c_5be6_11eb_8c4e_ff7c23f7df1erow6_col5{\n",
       "            background-color:  #5c01a6;\n",
       "            color:  #f1f1f1;\n",
       "        }#T_104b9f6c_5be6_11eb_8c4e_ff7c23f7df1erow5_col7,#T_104b9f6c_5be6_11eb_8c4e_ff7c23f7df1erow7_col5,#T_104b9f6c_5be6_11eb_8c4e_ff7c23f7df1erow11_col17,#T_104b9f6c_5be6_11eb_8c4e_ff7c23f7df1erow17_col11{\n",
       "            background-color:  #6001a6;\n",
       "            color:  #f1f1f1;\n",
       "        }#T_104b9f6c_5be6_11eb_8c4e_ff7c23f7df1erow5_col9,#T_104b9f6c_5be6_11eb_8c4e_ff7c23f7df1erow9_col5{\n",
       "            background-color:  #7100a8;\n",
       "            color:  #f1f1f1;\n",
       "        }#T_104b9f6c_5be6_11eb_8c4e_ff7c23f7df1erow5_col10,#T_104b9f6c_5be6_11eb_8c4e_ff7c23f7df1erow5_col11,#T_104b9f6c_5be6_11eb_8c4e_ff7c23f7df1erow10_col5,#T_104b9f6c_5be6_11eb_8c4e_ff7c23f7df1erow11_col5,#T_104b9f6c_5be6_11eb_8c4e_ff7c23f7df1erow13_col14,#T_104b9f6c_5be6_11eb_8c4e_ff7c23f7df1erow14_col13{\n",
       "            background-color:  #6300a7;\n",
       "            color:  #f1f1f1;\n",
       "        }#T_104b9f6c_5be6_11eb_8c4e_ff7c23f7df1erow5_col12,#T_104b9f6c_5be6_11eb_8c4e_ff7c23f7df1erow12_col5,#T_104b9f6c_5be6_11eb_8c4e_ff7c23f7df1erow14_col18,#T_104b9f6c_5be6_11eb_8c4e_ff7c23f7df1erow18_col14{\n",
       "            background-color:  #3e049c;\n",
       "            color:  #f1f1f1;\n",
       "        }#T_104b9f6c_5be6_11eb_8c4e_ff7c23f7df1erow5_col13,#T_104b9f6c_5be6_11eb_8c4e_ff7c23f7df1erow13_col5{\n",
       "            background-color:  #5e01a6;\n",
       "            color:  #f1f1f1;\n",
       "        }#T_104b9f6c_5be6_11eb_8c4e_ff7c23f7df1erow5_col14,#T_104b9f6c_5be6_11eb_8c4e_ff7c23f7df1erow14_col5{\n",
       "            background-color:  #7b02a8;\n",
       "            color:  #f1f1f1;\n",
       "        }#T_104b9f6c_5be6_11eb_8c4e_ff7c23f7df1erow5_col16,#T_104b9f6c_5be6_11eb_8c4e_ff7c23f7df1erow8_col12,#T_104b9f6c_5be6_11eb_8c4e_ff7c23f7df1erow12_col8,#T_104b9f6c_5be6_11eb_8c4e_ff7c23f7df1erow16_col5{\n",
       "            background-color:  #370499;\n",
       "            color:  #f1f1f1;\n",
       "        }#T_104b9f6c_5be6_11eb_8c4e_ff7c23f7df1erow5_col17,#T_104b9f6c_5be6_11eb_8c4e_ff7c23f7df1erow17_col5{\n",
       "            background-color:  #9511a1;\n",
       "            color:  #f1f1f1;\n",
       "        }#T_104b9f6c_5be6_11eb_8c4e_ff7c23f7df1erow6_col7,#T_104b9f6c_5be6_11eb_8c4e_ff7c23f7df1erow7_col6,#T_104b9f6c_5be6_11eb_8c4e_ff7c23f7df1erow12_col18,#T_104b9f6c_5be6_11eb_8c4e_ff7c23f7df1erow18_col12{\n",
       "            background-color:  #16078a;\n",
       "            color:  #f1f1f1;\n",
       "        }#T_104b9f6c_5be6_11eb_8c4e_ff7c23f7df1erow6_col12,#T_104b9f6c_5be6_11eb_8c4e_ff7c23f7df1erow12_col6{\n",
       "            background-color:  #aa2395;\n",
       "            color:  #f1f1f1;\n",
       "        }#T_104b9f6c_5be6_11eb_8c4e_ff7c23f7df1erow7_col10,#T_104b9f6c_5be6_11eb_8c4e_ff7c23f7df1erow10_col7{\n",
       "            background-color:  #46039f;\n",
       "            color:  #f1f1f1;\n",
       "        }#T_104b9f6c_5be6_11eb_8c4e_ff7c23f7df1erow7_col11,#T_104b9f6c_5be6_11eb_8c4e_ff7c23f7df1erow11_col7{\n",
       "            background-color:  #4903a0;\n",
       "            color:  #f1f1f1;\n",
       "        }#T_104b9f6c_5be6_11eb_8c4e_ff7c23f7df1erow7_col13,#T_104b9f6c_5be6_11eb_8c4e_ff7c23f7df1erow13_col7{\n",
       "            background-color:  #7501a8;\n",
       "            color:  #f1f1f1;\n",
       "        }#T_104b9f6c_5be6_11eb_8c4e_ff7c23f7df1erow9_col10,#T_104b9f6c_5be6_11eb_8c4e_ff7c23f7df1erow10_col9{\n",
       "            background-color:  #8b0aa5;\n",
       "            color:  #f1f1f1;\n",
       "        }#T_104b9f6c_5be6_11eb_8c4e_ff7c23f7df1erow9_col11,#T_104b9f6c_5be6_11eb_8c4e_ff7c23f7df1erow11_col9{\n",
       "            background-color:  #e26660;\n",
       "            color:  #000000;\n",
       "        }#T_104b9f6c_5be6_11eb_8c4e_ff7c23f7df1erow9_col14,#T_104b9f6c_5be6_11eb_8c4e_ff7c23f7df1erow14_col9{\n",
       "            background-color:  #cc4977;\n",
       "            color:  #f1f1f1;\n",
       "        }#T_104b9f6c_5be6_11eb_8c4e_ff7c23f7df1erow9_col16,#T_104b9f6c_5be6_11eb_8c4e_ff7c23f7df1erow16_col9{\n",
       "            background-color:  #7201a8;\n",
       "            color:  #f1f1f1;\n",
       "        }#T_104b9f6c_5be6_11eb_8c4e_ff7c23f7df1erow9_col17,#T_104b9f6c_5be6_11eb_8c4e_ff7c23f7df1erow17_col9{\n",
       "            background-color:  #6e00a8;\n",
       "            color:  #f1f1f1;\n",
       "        }#T_104b9f6c_5be6_11eb_8c4e_ff7c23f7df1erow9_col18,#T_104b9f6c_5be6_11eb_8c4e_ff7c23f7df1erow12_col17,#T_104b9f6c_5be6_11eb_8c4e_ff7c23f7df1erow17_col12,#T_104b9f6c_5be6_11eb_8c4e_ff7c23f7df1erow18_col9{\n",
       "            background-color:  #43039e;\n",
       "            color:  #f1f1f1;\n",
       "        }#T_104b9f6c_5be6_11eb_8c4e_ff7c23f7df1erow9_col19,#T_104b9f6c_5be6_11eb_8c4e_ff7c23f7df1erow19_col9{\n",
       "            background-color:  #130789;\n",
       "            color:  #f1f1f1;\n",
       "        }#T_104b9f6c_5be6_11eb_8c4e_ff7c23f7df1erow10_col11,#T_104b9f6c_5be6_11eb_8c4e_ff7c23f7df1erow11_col10{\n",
       "            background-color:  #9e199d;\n",
       "            color:  #f1f1f1;\n",
       "        }#T_104b9f6c_5be6_11eb_8c4e_ff7c23f7df1erow10_col13,#T_104b9f6c_5be6_11eb_8c4e_ff7c23f7df1erow13_col10{\n",
       "            background-color:  #5601a4;\n",
       "            color:  #f1f1f1;\n",
       "        }#T_104b9f6c_5be6_11eb_8c4e_ff7c23f7df1erow10_col14,#T_104b9f6c_5be6_11eb_8c4e_ff7c23f7df1erow14_col10{\n",
       "            background-color:  #9613a1;\n",
       "            color:  #f1f1f1;\n",
       "        }#T_104b9f6c_5be6_11eb_8c4e_ff7c23f7df1erow11_col13,#T_104b9f6c_5be6_11eb_8c4e_ff7c23f7df1erow13_col11{\n",
       "            background-color:  #8104a7;\n",
       "            color:  #f1f1f1;\n",
       "        }#T_104b9f6c_5be6_11eb_8c4e_ff7c23f7df1erow11_col14,#T_104b9f6c_5be6_11eb_8c4e_ff7c23f7df1erow14_col11{\n",
       "            background-color:  #c03a83;\n",
       "            color:  #f1f1f1;\n",
       "        }#T_104b9f6c_5be6_11eb_8c4e_ff7c23f7df1erow11_col18,#T_104b9f6c_5be6_11eb_8c4e_ff7c23f7df1erow18_col11{\n",
       "            background-color:  #3a049a;\n",
       "            color:  #f1f1f1;\n",
       "        }#T_104b9f6c_5be6_11eb_8c4e_ff7c23f7df1erow13_col16,#T_104b9f6c_5be6_11eb_8c4e_ff7c23f7df1erow16_col13{\n",
       "            background-color:  #6f00a8;\n",
       "            color:  #f1f1f1;\n",
       "        }#T_104b9f6c_5be6_11eb_8c4e_ff7c23f7df1erow13_col17,#T_104b9f6c_5be6_11eb_8c4e_ff7c23f7df1erow17_col13{\n",
       "            background-color:  #5302a3;\n",
       "            color:  #f1f1f1;\n",
       "        }#T_104b9f6c_5be6_11eb_8c4e_ff7c23f7df1erow14_col17,#T_104b9f6c_5be6_11eb_8c4e_ff7c23f7df1erow17_col14{\n",
       "            background-color:  #8004a8;\n",
       "            color:  #f1f1f1;\n",
       "        }#T_104b9f6c_5be6_11eb_8c4e_ff7c23f7df1erow16_col18,#T_104b9f6c_5be6_11eb_8c4e_ff7c23f7df1erow18_col16{\n",
       "            background-color:  #350498;\n",
       "            color:  #f1f1f1;\n",
       "        }</style><table id=\"T_104b9f6c_5be6_11eb_8c4e_ff7c23f7df1e\" ><thead>    <tr>        <th class=\"blank level0\" ></th>        <th class=\"col_heading level0 col0\" >1</th>        <th class=\"col_heading level0 col1\" >2</th>        <th class=\"col_heading level0 col2\" >3</th>        <th class=\"col_heading level0 col3\" >4</th>        <th class=\"col_heading level0 col4\" >5</th>        <th class=\"col_heading level0 col5\" >6</th>        <th class=\"col_heading level0 col6\" >7</th>        <th class=\"col_heading level0 col7\" >8</th>        <th class=\"col_heading level0 col8\" >9</th>        <th class=\"col_heading level0 col9\" >10</th>        <th class=\"col_heading level0 col10\" >11</th>        <th class=\"col_heading level0 col11\" >12</th>        <th class=\"col_heading level0 col12\" >13</th>        <th class=\"col_heading level0 col13\" >14</th>        <th class=\"col_heading level0 col14\" >15</th>        <th class=\"col_heading level0 col15\" >16</th>        <th class=\"col_heading level0 col16\" >17</th>        <th class=\"col_heading level0 col17\" >18</th>        <th class=\"col_heading level0 col18\" >19</th>        <th class=\"col_heading level0 col19\" >20</th>    </tr></thead><tbody>\n",
       "                <tr>\n",
       "                        <th id=\"T_104b9f6c_5be6_11eb_8c4e_ff7c23f7df1elevel0_row0\" class=\"row_heading level0 row0\" >1</th>\n",
       "                        <td id=\"T_104b9f6c_5be6_11eb_8c4e_ff7c23f7df1erow0_col0\" class=\"data row0 col0\" >1.00</td>\n",
       "                        <td id=\"T_104b9f6c_5be6_11eb_8c4e_ff7c23f7df1erow0_col1\" class=\"data row0 col1\" >0.28</td>\n",
       "                        <td id=\"T_104b9f6c_5be6_11eb_8c4e_ff7c23f7df1erow0_col2\" class=\"data row0 col2\" >-0.30</td>\n",
       "                        <td id=\"T_104b9f6c_5be6_11eb_8c4e_ff7c23f7df1erow0_col3\" class=\"data row0 col3\" >0.02</td>\n",
       "                        <td id=\"T_104b9f6c_5be6_11eb_8c4e_ff7c23f7df1erow0_col4\" class=\"data row0 col4\" >-0.24</td>\n",
       "                        <td id=\"T_104b9f6c_5be6_11eb_8c4e_ff7c23f7df1erow0_col5\" class=\"data row0 col5\" >-0.06</td>\n",
       "                        <td id=\"T_104b9f6c_5be6_11eb_8c4e_ff7c23f7df1erow0_col6\" class=\"data row0 col6\" >0.29</td>\n",
       "                        <td id=\"T_104b9f6c_5be6_11eb_8c4e_ff7c23f7df1erow0_col7\" class=\"data row0 col7\" >0.08</td>\n",
       "                        <td id=\"T_104b9f6c_5be6_11eb_8c4e_ff7c23f7df1erow0_col8\" class=\"data row0 col8\" >0.06</td>\n",
       "                        <td id=\"T_104b9f6c_5be6_11eb_8c4e_ff7c23f7df1erow0_col9\" class=\"data row0 col9\" >-0.40</td>\n",
       "                        <td id=\"T_104b9f6c_5be6_11eb_8c4e_ff7c23f7df1erow0_col10\" class=\"data row0 col10\" >-0.12</td>\n",
       "                        <td id=\"T_104b9f6c_5be6_11eb_8c4e_ff7c23f7df1erow0_col11\" class=\"data row0 col11\" >-0.31</td>\n",
       "                        <td id=\"T_104b9f6c_5be6_11eb_8c4e_ff7c23f7df1erow0_col12\" class=\"data row0 col12\" >0.34</td>\n",
       "                        <td id=\"T_104b9f6c_5be6_11eb_8c4e_ff7c23f7df1erow0_col13\" class=\"data row0 col13\" >-0.20</td>\n",
       "                        <td id=\"T_104b9f6c_5be6_11eb_8c4e_ff7c23f7df1erow0_col14\" class=\"data row0 col14\" >-0.25</td>\n",
       "                        <td id=\"T_104b9f6c_5be6_11eb_8c4e_ff7c23f7df1erow0_col15\" class=\"data row0 col15\" >0.02</td>\n",
       "                        <td id=\"T_104b9f6c_5be6_11eb_8c4e_ff7c23f7df1erow0_col16\" class=\"data row0 col16\" >-0.12</td>\n",
       "                        <td id=\"T_104b9f6c_5be6_11eb_8c4e_ff7c23f7df1erow0_col17\" class=\"data row0 col17\" >-0.00</td>\n",
       "                        <td id=\"T_104b9f6c_5be6_11eb_8c4e_ff7c23f7df1erow0_col18\" class=\"data row0 col18\" >-0.01</td>\n",
       "                        <td id=\"T_104b9f6c_5be6_11eb_8c4e_ff7c23f7df1erow0_col19\" class=\"data row0 col19\" >0.02</td>\n",
       "            </tr>\n",
       "            <tr>\n",
       "                        <th id=\"T_104b9f6c_5be6_11eb_8c4e_ff7c23f7df1elevel0_row1\" class=\"row_heading level0 row1\" >2</th>\n",
       "                        <td id=\"T_104b9f6c_5be6_11eb_8c4e_ff7c23f7df1erow1_col0\" class=\"data row1 col0\" >0.28</td>\n",
       "                        <td id=\"T_104b9f6c_5be6_11eb_8c4e_ff7c23f7df1erow1_col1\" class=\"data row1 col1\" >1.00</td>\n",
       "                        <td id=\"T_104b9f6c_5be6_11eb_8c4e_ff7c23f7df1erow1_col2\" class=\"data row1 col2\" >-0.07</td>\n",
       "                        <td id=\"T_104b9f6c_5be6_11eb_8c4e_ff7c23f7df1erow1_col3\" class=\"data row1 col3\" >0.03</td>\n",
       "                        <td id=\"T_104b9f6c_5be6_11eb_8c4e_ff7c23f7df1erow1_col4\" class=\"data row1 col4\" >-0.01</td>\n",
       "                        <td id=\"T_104b9f6c_5be6_11eb_8c4e_ff7c23f7df1erow1_col5\" class=\"data row1 col5\" >0.04</td>\n",
       "                        <td id=\"T_104b9f6c_5be6_11eb_8c4e_ff7c23f7df1erow1_col6\" class=\"data row1 col6\" >0.22</td>\n",
       "                        <td id=\"T_104b9f6c_5be6_11eb_8c4e_ff7c23f7df1erow1_col7\" class=\"data row1 col7\" >0.13</td>\n",
       "                        <td id=\"T_104b9f6c_5be6_11eb_8c4e_ff7c23f7df1erow1_col8\" class=\"data row1 col8\" >0.14</td>\n",
       "                        <td id=\"T_104b9f6c_5be6_11eb_8c4e_ff7c23f7df1erow1_col9\" class=\"data row1 col9\" >-0.22</td>\n",
       "                        <td id=\"T_104b9f6c_5be6_11eb_8c4e_ff7c23f7df1erow1_col10\" class=\"data row1 col10\" >0.03</td>\n",
       "                        <td id=\"T_104b9f6c_5be6_11eb_8c4e_ff7c23f7df1erow1_col11\" class=\"data row1 col11\" >-0.13</td>\n",
       "                        <td id=\"T_104b9f6c_5be6_11eb_8c4e_ff7c23f7df1erow1_col12\" class=\"data row1 col12\" >0.34</td>\n",
       "                        <td id=\"T_104b9f6c_5be6_11eb_8c4e_ff7c23f7df1erow1_col13\" class=\"data row1 col13\" >-0.10</td>\n",
       "                        <td id=\"T_104b9f6c_5be6_11eb_8c4e_ff7c23f7df1erow1_col14\" class=\"data row1 col14\" >-0.06</td>\n",
       "                        <td id=\"T_104b9f6c_5be6_11eb_8c4e_ff7c23f7df1erow1_col15\" class=\"data row1 col15\" >0.03</td>\n",
       "                        <td id=\"T_104b9f6c_5be6_11eb_8c4e_ff7c23f7df1erow1_col16\" class=\"data row1 col16\" >-0.02</td>\n",
       "                        <td id=\"T_104b9f6c_5be6_11eb_8c4e_ff7c23f7df1erow1_col17\" class=\"data row1 col17\" >0.11</td>\n",
       "                        <td id=\"T_104b9f6c_5be6_11eb_8c4e_ff7c23f7df1erow1_col18\" class=\"data row1 col18\" >0.04</td>\n",
       "                        <td id=\"T_104b9f6c_5be6_11eb_8c4e_ff7c23f7df1erow1_col19\" class=\"data row1 col19\" >0.04</td>\n",
       "            </tr>\n",
       "            <tr>\n",
       "                        <th id=\"T_104b9f6c_5be6_11eb_8c4e_ff7c23f7df1elevel0_row2\" class=\"row_heading level0 row2\" >3</th>\n",
       "                        <td id=\"T_104b9f6c_5be6_11eb_8c4e_ff7c23f7df1erow2_col0\" class=\"data row2 col0\" >-0.30</td>\n",
       "                        <td id=\"T_104b9f6c_5be6_11eb_8c4e_ff7c23f7df1erow2_col1\" class=\"data row2 col1\" >-0.07</td>\n",
       "                        <td id=\"T_104b9f6c_5be6_11eb_8c4e_ff7c23f7df1erow2_col2\" class=\"data row2 col2\" >1.00</td>\n",
       "                        <td id=\"T_104b9f6c_5be6_11eb_8c4e_ff7c23f7df1erow2_col3\" class=\"data row2 col3\" >0.07</td>\n",
       "                        <td id=\"T_104b9f6c_5be6_11eb_8c4e_ff7c23f7df1erow2_col4\" class=\"data row2 col4\" >0.50</td>\n",
       "                        <td id=\"T_104b9f6c_5be6_11eb_8c4e_ff7c23f7df1erow2_col5\" class=\"data row2 col5\" >0.20</td>\n",
       "                        <td id=\"T_104b9f6c_5be6_11eb_8c4e_ff7c23f7df1erow2_col6\" class=\"data row2 col6\" >-0.10</td>\n",
       "                        <td id=\"T_104b9f6c_5be6_11eb_8c4e_ff7c23f7df1erow2_col7\" class=\"data row2 col7\" >0.12</td>\n",
       "                        <td id=\"T_104b9f6c_5be6_11eb_8c4e_ff7c23f7df1erow2_col8\" class=\"data row2 col8\" >0.06</td>\n",
       "                        <td id=\"T_104b9f6c_5be6_11eb_8c4e_ff7c23f7df1erow2_col9\" class=\"data row2 col9\" >0.52</td>\n",
       "                        <td id=\"T_104b9f6c_5be6_11eb_8c4e_ff7c23f7df1erow2_col10\" class=\"data row2 col10\" >0.28</td>\n",
       "                        <td id=\"T_104b9f6c_5be6_11eb_8c4e_ff7c23f7df1erow2_col11\" class=\"data row2 col11\" >0.48</td>\n",
       "                        <td id=\"T_104b9f6c_5be6_11eb_8c4e_ff7c23f7df1erow2_col12\" class=\"data row2 col12\" >-0.17</td>\n",
       "                        <td id=\"T_104b9f6c_5be6_11eb_8c4e_ff7c23f7df1erow2_col13\" class=\"data row2 col13\" >0.27</td>\n",
       "                        <td id=\"T_104b9f6c_5be6_11eb_8c4e_ff7c23f7df1erow2_col14\" class=\"data row2 col14\" >0.39</td>\n",
       "                        <td id=\"T_104b9f6c_5be6_11eb_8c4e_ff7c23f7df1erow2_col15\" class=\"data row2 col15\" >-0.05</td>\n",
       "                        <td id=\"T_104b9f6c_5be6_11eb_8c4e_ff7c23f7df1erow2_col16\" class=\"data row2 col16\" >0.14</td>\n",
       "                        <td id=\"T_104b9f6c_5be6_11eb_8c4e_ff7c23f7df1erow2_col17\" class=\"data row2 col17\" >0.27</td>\n",
       "                        <td id=\"T_104b9f6c_5be6_11eb_8c4e_ff7c23f7df1erow2_col18\" class=\"data row2 col18\" >0.13</td>\n",
       "                        <td id=\"T_104b9f6c_5be6_11eb_8c4e_ff7c23f7df1erow2_col19\" class=\"data row2 col19\" >0.00</td>\n",
       "            </tr>\n",
       "            <tr>\n",
       "                        <th id=\"T_104b9f6c_5be6_11eb_8c4e_ff7c23f7df1elevel0_row3\" class=\"row_heading level0 row3\" >4</th>\n",
       "                        <td id=\"T_104b9f6c_5be6_11eb_8c4e_ff7c23f7df1erow3_col0\" class=\"data row3 col0\" >0.02</td>\n",
       "                        <td id=\"T_104b9f6c_5be6_11eb_8c4e_ff7c23f7df1erow3_col1\" class=\"data row3 col1\" >0.03</td>\n",
       "                        <td id=\"T_104b9f6c_5be6_11eb_8c4e_ff7c23f7df1erow3_col2\" class=\"data row3 col2\" >0.07</td>\n",
       "                        <td id=\"T_104b9f6c_5be6_11eb_8c4e_ff7c23f7df1erow3_col3\" class=\"data row3 col3\" >1.00</td>\n",
       "                        <td id=\"T_104b9f6c_5be6_11eb_8c4e_ff7c23f7df1erow3_col4\" class=\"data row3 col4\" >0.14</td>\n",
       "                        <td id=\"T_104b9f6c_5be6_11eb_8c4e_ff7c23f7df1erow3_col5\" class=\"data row3 col5\" >0.09</td>\n",
       "                        <td id=\"T_104b9f6c_5be6_11eb_8c4e_ff7c23f7df1erow3_col6\" class=\"data row3 col6\" >0.03</td>\n",
       "                        <td id=\"T_104b9f6c_5be6_11eb_8c4e_ff7c23f7df1erow3_col7\" class=\"data row3 col7\" >0.05</td>\n",
       "                        <td id=\"T_104b9f6c_5be6_11eb_8c4e_ff7c23f7df1erow3_col8\" class=\"data row3 col8\" >0.03</td>\n",
       "                        <td id=\"T_104b9f6c_5be6_11eb_8c4e_ff7c23f7df1erow3_col9\" class=\"data row3 col9\" >0.06</td>\n",
       "                        <td id=\"T_104b9f6c_5be6_11eb_8c4e_ff7c23f7df1erow3_col10\" class=\"data row3 col10\" >0.11</td>\n",
       "                        <td id=\"T_104b9f6c_5be6_11eb_8c4e_ff7c23f7df1erow3_col11\" class=\"data row3 col11\" >0.06</td>\n",
       "                        <td id=\"T_104b9f6c_5be6_11eb_8c4e_ff7c23f7df1erow3_col12\" class=\"data row3 col12\" >0.04</td>\n",
       "                        <td id=\"T_104b9f6c_5be6_11eb_8c4e_ff7c23f7df1erow3_col13\" class=\"data row3 col13\" >0.04</td>\n",
       "                        <td id=\"T_104b9f6c_5be6_11eb_8c4e_ff7c23f7df1erow3_col14\" class=\"data row3 col14\" >0.07</td>\n",
       "                        <td id=\"T_104b9f6c_5be6_11eb_8c4e_ff7c23f7df1erow3_col15\" class=\"data row3 col15\" >-0.02</td>\n",
       "                        <td id=\"T_104b9f6c_5be6_11eb_8c4e_ff7c23f7df1erow3_col16\" class=\"data row3 col16\" >0.00</td>\n",
       "                        <td id=\"T_104b9f6c_5be6_11eb_8c4e_ff7c23f7df1erow3_col17\" class=\"data row3 col17\" >0.06</td>\n",
       "                        <td id=\"T_104b9f6c_5be6_11eb_8c4e_ff7c23f7df1erow3_col18\" class=\"data row3 col18\" >0.01</td>\n",
       "                        <td id=\"T_104b9f6c_5be6_11eb_8c4e_ff7c23f7df1erow3_col19\" class=\"data row3 col19\" >0.00</td>\n",
       "            </tr>\n",
       "            <tr>\n",
       "                        <th id=\"T_104b9f6c_5be6_11eb_8c4e_ff7c23f7df1elevel0_row4\" class=\"row_heading level0 row4\" >5</th>\n",
       "                        <td id=\"T_104b9f6c_5be6_11eb_8c4e_ff7c23f7df1erow4_col0\" class=\"data row4 col0\" >-0.24</td>\n",
       "                        <td id=\"T_104b9f6c_5be6_11eb_8c4e_ff7c23f7df1erow4_col1\" class=\"data row4 col1\" >-0.01</td>\n",
       "                        <td id=\"T_104b9f6c_5be6_11eb_8c4e_ff7c23f7df1erow4_col2\" class=\"data row4 col2\" >0.50</td>\n",
       "                        <td id=\"T_104b9f6c_5be6_11eb_8c4e_ff7c23f7df1erow4_col3\" class=\"data row4 col3\" >0.14</td>\n",
       "                        <td id=\"T_104b9f6c_5be6_11eb_8c4e_ff7c23f7df1erow4_col4\" class=\"data row4 col4\" >1.00</td>\n",
       "                        <td id=\"T_104b9f6c_5be6_11eb_8c4e_ff7c23f7df1erow4_col5\" class=\"data row4 col5\" >0.26</td>\n",
       "                        <td id=\"T_104b9f6c_5be6_11eb_8c4e_ff7c23f7df1erow4_col6\" class=\"data row4 col6\" >0.02</td>\n",
       "                        <td id=\"T_104b9f6c_5be6_11eb_8c4e_ff7c23f7df1erow4_col7\" class=\"data row4 col7\" >0.20</td>\n",
       "                        <td id=\"T_104b9f6c_5be6_11eb_8c4e_ff7c23f7df1erow4_col8\" class=\"data row4 col8\" >0.05</td>\n",
       "                        <td id=\"T_104b9f6c_5be6_11eb_8c4e_ff7c23f7df1erow4_col9\" class=\"data row4 col9\" >0.56</td>\n",
       "                        <td id=\"T_104b9f6c_5be6_11eb_8c4e_ff7c23f7df1erow4_col10\" class=\"data row4 col10\" >0.23</td>\n",
       "                        <td id=\"T_104b9f6c_5be6_11eb_8c4e_ff7c23f7df1erow4_col11\" class=\"data row4 col11\" >0.43</td>\n",
       "                        <td id=\"T_104b9f6c_5be6_11eb_8c4e_ff7c23f7df1erow4_col12\" class=\"data row4 col12\" >-0.07</td>\n",
       "                        <td id=\"T_104b9f6c_5be6_11eb_8c4e_ff7c23f7df1erow4_col13\" class=\"data row4 col13\" >0.39</td>\n",
       "                        <td id=\"T_104b9f6c_5be6_11eb_8c4e_ff7c23f7df1erow4_col14\" class=\"data row4 col14\" >0.42</td>\n",
       "                        <td id=\"T_104b9f6c_5be6_11eb_8c4e_ff7c23f7df1erow4_col15\" class=\"data row4 col15\" >-0.01</td>\n",
       "                        <td id=\"T_104b9f6c_5be6_11eb_8c4e_ff7c23f7df1erow4_col16\" class=\"data row4 col16\" >0.16</td>\n",
       "                        <td id=\"T_104b9f6c_5be6_11eb_8c4e_ff7c23f7df1erow4_col17\" class=\"data row4 col17\" >0.38</td>\n",
       "                        <td id=\"T_104b9f6c_5be6_11eb_8c4e_ff7c23f7df1erow4_col18\" class=\"data row4 col18\" >0.16</td>\n",
       "                        <td id=\"T_104b9f6c_5be6_11eb_8c4e_ff7c23f7df1erow4_col19\" class=\"data row4 col19\" >0.03</td>\n",
       "            </tr>\n",
       "            <tr>\n",
       "                        <th id=\"T_104b9f6c_5be6_11eb_8c4e_ff7c23f7df1elevel0_row5\" class=\"row_heading level0 row5\" >6</th>\n",
       "                        <td id=\"T_104b9f6c_5be6_11eb_8c4e_ff7c23f7df1erow5_col0\" class=\"data row5 col0\" >-0.06</td>\n",
       "                        <td id=\"T_104b9f6c_5be6_11eb_8c4e_ff7c23f7df1erow5_col1\" class=\"data row5 col1\" >0.04</td>\n",
       "                        <td id=\"T_104b9f6c_5be6_11eb_8c4e_ff7c23f7df1erow5_col2\" class=\"data row5 col2\" >0.20</td>\n",
       "                        <td id=\"T_104b9f6c_5be6_11eb_8c4e_ff7c23f7df1erow5_col3\" class=\"data row5 col3\" >0.09</td>\n",
       "                        <td id=\"T_104b9f6c_5be6_11eb_8c4e_ff7c23f7df1erow5_col4\" class=\"data row5 col4\" >0.26</td>\n",
       "                        <td id=\"T_104b9f6c_5be6_11eb_8c4e_ff7c23f7df1erow5_col5\" class=\"data row5 col5\" >1.00</td>\n",
       "                        <td id=\"T_104b9f6c_5be6_11eb_8c4e_ff7c23f7df1erow5_col6\" class=\"data row5 col6\" >0.17</td>\n",
       "                        <td id=\"T_104b9f6c_5be6_11eb_8c4e_ff7c23f7df1erow5_col7\" class=\"data row5 col7\" >0.17</td>\n",
       "                        <td id=\"T_104b9f6c_5be6_11eb_8c4e_ff7c23f7df1erow5_col8\" class=\"data row5 col8\" >0.02</td>\n",
       "                        <td id=\"T_104b9f6c_5be6_11eb_8c4e_ff7c23f7df1erow5_col9\" class=\"data row5 col9\" >0.22</td>\n",
       "                        <td id=\"T_104b9f6c_5be6_11eb_8c4e_ff7c23f7df1erow5_col10\" class=\"data row5 col10\" >0.18</td>\n",
       "                        <td id=\"T_104b9f6c_5be6_11eb_8c4e_ff7c23f7df1erow5_col11\" class=\"data row5 col11\" >0.18</td>\n",
       "                        <td id=\"T_104b9f6c_5be6_11eb_8c4e_ff7c23f7df1erow5_col12\" class=\"data row5 col12\" >0.09</td>\n",
       "                        <td id=\"T_104b9f6c_5be6_11eb_8c4e_ff7c23f7df1erow5_col13\" class=\"data row5 col13\" >0.17</td>\n",
       "                        <td id=\"T_104b9f6c_5be6_11eb_8c4e_ff7c23f7df1erow5_col14\" class=\"data row5 col14\" >0.25</td>\n",
       "                        <td id=\"T_104b9f6c_5be6_11eb_8c4e_ff7c23f7df1erow5_col15\" class=\"data row5 col15\" >0.01</td>\n",
       "                        <td id=\"T_104b9f6c_5be6_11eb_8c4e_ff7c23f7df1erow5_col16\" class=\"data row5 col16\" >0.08</td>\n",
       "                        <td id=\"T_104b9f6c_5be6_11eb_8c4e_ff7c23f7df1erow5_col17\" class=\"data row5 col17\" >0.32</td>\n",
       "                        <td id=\"T_104b9f6c_5be6_11eb_8c4e_ff7c23f7df1erow5_col18\" class=\"data row5 col18\" >0.03</td>\n",
       "                        <td id=\"T_104b9f6c_5be6_11eb_8c4e_ff7c23f7df1erow5_col19\" class=\"data row5 col19\" >-0.02</td>\n",
       "            </tr>\n",
       "            <tr>\n",
       "                        <th id=\"T_104b9f6c_5be6_11eb_8c4e_ff7c23f7df1elevel0_row6\" class=\"row_heading level0 row6\" >7</th>\n",
       "                        <td id=\"T_104b9f6c_5be6_11eb_8c4e_ff7c23f7df1erow6_col0\" class=\"data row6 col0\" >0.29</td>\n",
       "                        <td id=\"T_104b9f6c_5be6_11eb_8c4e_ff7c23f7df1erow6_col1\" class=\"data row6 col1\" >0.22</td>\n",
       "                        <td id=\"T_104b9f6c_5be6_11eb_8c4e_ff7c23f7df1erow6_col2\" class=\"data row6 col2\" >-0.10</td>\n",
       "                        <td id=\"T_104b9f6c_5be6_11eb_8c4e_ff7c23f7df1erow6_col3\" class=\"data row6 col3\" >0.03</td>\n",
       "                        <td id=\"T_104b9f6c_5be6_11eb_8c4e_ff7c23f7df1erow6_col4\" class=\"data row6 col4\" >0.02</td>\n",
       "                        <td id=\"T_104b9f6c_5be6_11eb_8c4e_ff7c23f7df1erow6_col5\" class=\"data row6 col5\" >0.17</td>\n",
       "                        <td id=\"T_104b9f6c_5be6_11eb_8c4e_ff7c23f7df1erow6_col6\" class=\"data row6 col6\" >1.00</td>\n",
       "                        <td id=\"T_104b9f6c_5be6_11eb_8c4e_ff7c23f7df1erow6_col7\" class=\"data row6 col7\" >0.01</td>\n",
       "                        <td id=\"T_104b9f6c_5be6_11eb_8c4e_ff7c23f7df1erow6_col8\" class=\"data row6 col8\" >0.13</td>\n",
       "                        <td id=\"T_104b9f6c_5be6_11eb_8c4e_ff7c23f7df1erow6_col9\" class=\"data row6 col9\" >-0.17</td>\n",
       "                        <td id=\"T_104b9f6c_5be6_11eb_8c4e_ff7c23f7df1erow6_col10\" class=\"data row6 col10\" >0.02</td>\n",
       "                        <td id=\"T_104b9f6c_5be6_11eb_8c4e_ff7c23f7df1erow6_col11\" class=\"data row6 col11\" >-0.08</td>\n",
       "                        <td id=\"T_104b9f6c_5be6_11eb_8c4e_ff7c23f7df1erow6_col12\" class=\"data row6 col12\" >0.38</td>\n",
       "                        <td id=\"T_104b9f6c_5be6_11eb_8c4e_ff7c23f7df1erow6_col13\" class=\"data row6 col13\" >-0.15</td>\n",
       "                        <td id=\"T_104b9f6c_5be6_11eb_8c4e_ff7c23f7df1erow6_col14\" class=\"data row6 col14\" >-0.06</td>\n",
       "                        <td id=\"T_104b9f6c_5be6_11eb_8c4e_ff7c23f7df1erow6_col15\" class=\"data row6 col15\" >0.05</td>\n",
       "                        <td id=\"T_104b9f6c_5be6_11eb_8c4e_ff7c23f7df1erow6_col16\" class=\"data row6 col16\" >-0.12</td>\n",
       "                        <td id=\"T_104b9f6c_5be6_11eb_8c4e_ff7c23f7df1erow6_col17\" class=\"data row6 col17\" >0.15</td>\n",
       "                        <td id=\"T_104b9f6c_5be6_11eb_8c4e_ff7c23f7df1erow6_col18\" class=\"data row6 col18\" >0.03</td>\n",
       "                        <td id=\"T_104b9f6c_5be6_11eb_8c4e_ff7c23f7df1erow6_col19\" class=\"data row6 col19\" >0.08</td>\n",
       "            </tr>\n",
       "            <tr>\n",
       "                        <th id=\"T_104b9f6c_5be6_11eb_8c4e_ff7c23f7df1elevel0_row7\" class=\"row_heading level0 row7\" >8</th>\n",
       "                        <td id=\"T_104b9f6c_5be6_11eb_8c4e_ff7c23f7df1erow7_col0\" class=\"data row7 col0\" >0.08</td>\n",
       "                        <td id=\"T_104b9f6c_5be6_11eb_8c4e_ff7c23f7df1erow7_col1\" class=\"data row7 col1\" >0.13</td>\n",
       "                        <td id=\"T_104b9f6c_5be6_11eb_8c4e_ff7c23f7df1erow7_col2\" class=\"data row7 col2\" >0.12</td>\n",
       "                        <td id=\"T_104b9f6c_5be6_11eb_8c4e_ff7c23f7df1erow7_col3\" class=\"data row7 col3\" >0.05</td>\n",
       "                        <td id=\"T_104b9f6c_5be6_11eb_8c4e_ff7c23f7df1erow7_col4\" class=\"data row7 col4\" >0.20</td>\n",
       "                        <td id=\"T_104b9f6c_5be6_11eb_8c4e_ff7c23f7df1erow7_col5\" class=\"data row7 col5\" >0.17</td>\n",
       "                        <td id=\"T_104b9f6c_5be6_11eb_8c4e_ff7c23f7df1erow7_col6\" class=\"data row7 col6\" >0.01</td>\n",
       "                        <td id=\"T_104b9f6c_5be6_11eb_8c4e_ff7c23f7df1erow7_col7\" class=\"data row7 col7\" >1.00</td>\n",
       "                        <td id=\"T_104b9f6c_5be6_11eb_8c4e_ff7c23f7df1erow7_col8\" class=\"data row7 col8\" >0.06</td>\n",
       "                        <td id=\"T_104b9f6c_5be6_11eb_8c4e_ff7c23f7df1erow7_col9\" class=\"data row7 col9\" >0.13</td>\n",
       "                        <td id=\"T_104b9f6c_5be6_11eb_8c4e_ff7c23f7df1erow7_col10\" class=\"data row7 col10\" >0.11</td>\n",
       "                        <td id=\"T_104b9f6c_5be6_11eb_8c4e_ff7c23f7df1erow7_col11\" class=\"data row7 col11\" >0.12</td>\n",
       "                        <td id=\"T_104b9f6c_5be6_11eb_8c4e_ff7c23f7df1erow7_col12\" class=\"data row7 col12\" >0.08</td>\n",
       "                        <td id=\"T_104b9f6c_5be6_11eb_8c4e_ff7c23f7df1erow7_col13\" class=\"data row7 col13\" >0.23</td>\n",
       "                        <td id=\"T_104b9f6c_5be6_11eb_8c4e_ff7c23f7df1erow7_col14\" class=\"data row7 col14\" >0.13</td>\n",
       "                        <td id=\"T_104b9f6c_5be6_11eb_8c4e_ff7c23f7df1erow7_col15\" class=\"data row7 col15\" >-0.01</td>\n",
       "                        <td id=\"T_104b9f6c_5be6_11eb_8c4e_ff7c23f7df1erow7_col16\" class=\"data row7 col16\" >0.05</td>\n",
       "                        <td id=\"T_104b9f6c_5be6_11eb_8c4e_ff7c23f7df1erow7_col17\" class=\"data row7 col17\" >0.11</td>\n",
       "                        <td id=\"T_104b9f6c_5be6_11eb_8c4e_ff7c23f7df1erow7_col18\" class=\"data row7 col18\" >0.10</td>\n",
       "                        <td id=\"T_104b9f6c_5be6_11eb_8c4e_ff7c23f7df1erow7_col19\" class=\"data row7 col19\" >-0.06</td>\n",
       "            </tr>\n",
       "            <tr>\n",
       "                        <th id=\"T_104b9f6c_5be6_11eb_8c4e_ff7c23f7df1elevel0_row8\" class=\"row_heading level0 row8\" >9</th>\n",
       "                        <td id=\"T_104b9f6c_5be6_11eb_8c4e_ff7c23f7df1erow8_col0\" class=\"data row8 col0\" >0.06</td>\n",
       "                        <td id=\"T_104b9f6c_5be6_11eb_8c4e_ff7c23f7df1erow8_col1\" class=\"data row8 col1\" >0.14</td>\n",
       "                        <td id=\"T_104b9f6c_5be6_11eb_8c4e_ff7c23f7df1erow8_col2\" class=\"data row8 col2\" >0.06</td>\n",
       "                        <td id=\"T_104b9f6c_5be6_11eb_8c4e_ff7c23f7df1erow8_col3\" class=\"data row8 col3\" >0.03</td>\n",
       "                        <td id=\"T_104b9f6c_5be6_11eb_8c4e_ff7c23f7df1erow8_col4\" class=\"data row8 col4\" >0.05</td>\n",
       "                        <td id=\"T_104b9f6c_5be6_11eb_8c4e_ff7c23f7df1erow8_col5\" class=\"data row8 col5\" >0.02</td>\n",
       "                        <td id=\"T_104b9f6c_5be6_11eb_8c4e_ff7c23f7df1erow8_col6\" class=\"data row8 col6\" >0.13</td>\n",
       "                        <td id=\"T_104b9f6c_5be6_11eb_8c4e_ff7c23f7df1erow8_col7\" class=\"data row8 col7\" >0.06</td>\n",
       "                        <td id=\"T_104b9f6c_5be6_11eb_8c4e_ff7c23f7df1erow8_col8\" class=\"data row8 col8\" >1.00</td>\n",
       "                        <td id=\"T_104b9f6c_5be6_11eb_8c4e_ff7c23f7df1erow8_col9\" class=\"data row8 col9\" >-0.03</td>\n",
       "                        <td id=\"T_104b9f6c_5be6_11eb_8c4e_ff7c23f7df1erow8_col10\" class=\"data row8 col10\" >0.02</td>\n",
       "                        <td id=\"T_104b9f6c_5be6_11eb_8c4e_ff7c23f7df1erow8_col11\" class=\"data row8 col11\" >0.04</td>\n",
       "                        <td id=\"T_104b9f6c_5be6_11eb_8c4e_ff7c23f7df1erow8_col12\" class=\"data row8 col12\" >0.08</td>\n",
       "                        <td id=\"T_104b9f6c_5be6_11eb_8c4e_ff7c23f7df1erow8_col13\" class=\"data row8 col13\" >0.05</td>\n",
       "                        <td id=\"T_104b9f6c_5be6_11eb_8c4e_ff7c23f7df1erow8_col14\" class=\"data row8 col14\" >0.02</td>\n",
       "                        <td id=\"T_104b9f6c_5be6_11eb_8c4e_ff7c23f7df1erow8_col15\" class=\"data row8 col15\" >0.04</td>\n",
       "                        <td id=\"T_104b9f6c_5be6_11eb_8c4e_ff7c23f7df1erow8_col16\" class=\"data row8 col16\" >0.05</td>\n",
       "                        <td id=\"T_104b9f6c_5be6_11eb_8c4e_ff7c23f7df1erow8_col17\" class=\"data row8 col17\" >0.07</td>\n",
       "                        <td id=\"T_104b9f6c_5be6_11eb_8c4e_ff7c23f7df1erow8_col18\" class=\"data row8 col18\" >0.08</td>\n",
       "                        <td id=\"T_104b9f6c_5be6_11eb_8c4e_ff7c23f7df1erow8_col19\" class=\"data row8 col19\" >-0.02</td>\n",
       "            </tr>\n",
       "            <tr>\n",
       "                        <th id=\"T_104b9f6c_5be6_11eb_8c4e_ff7c23f7df1elevel0_row9\" class=\"row_heading level0 row9\" >10</th>\n",
       "                        <td id=\"T_104b9f6c_5be6_11eb_8c4e_ff7c23f7df1erow9_col0\" class=\"data row9 col0\" >-0.40</td>\n",
       "                        <td id=\"T_104b9f6c_5be6_11eb_8c4e_ff7c23f7df1erow9_col1\" class=\"data row9 col1\" >-0.22</td>\n",
       "                        <td id=\"T_104b9f6c_5be6_11eb_8c4e_ff7c23f7df1erow9_col2\" class=\"data row9 col2\" >0.52</td>\n",
       "                        <td id=\"T_104b9f6c_5be6_11eb_8c4e_ff7c23f7df1erow9_col3\" class=\"data row9 col3\" >0.06</td>\n",
       "                        <td id=\"T_104b9f6c_5be6_11eb_8c4e_ff7c23f7df1erow9_col4\" class=\"data row9 col4\" >0.56</td>\n",
       "                        <td id=\"T_104b9f6c_5be6_11eb_8c4e_ff7c23f7df1erow9_col5\" class=\"data row9 col5\" >0.22</td>\n",
       "                        <td id=\"T_104b9f6c_5be6_11eb_8c4e_ff7c23f7df1erow9_col6\" class=\"data row9 col6\" >-0.17</td>\n",
       "                        <td id=\"T_104b9f6c_5be6_11eb_8c4e_ff7c23f7df1erow9_col7\" class=\"data row9 col7\" >0.13</td>\n",
       "                        <td id=\"T_104b9f6c_5be6_11eb_8c4e_ff7c23f7df1erow9_col8\" class=\"data row9 col8\" >-0.03</td>\n",
       "                        <td id=\"T_104b9f6c_5be6_11eb_8c4e_ff7c23f7df1erow9_col9\" class=\"data row9 col9\" >1.00</td>\n",
       "                        <td id=\"T_104b9f6c_5be6_11eb_8c4e_ff7c23f7df1erow9_col10\" class=\"data row9 col10\" >0.29</td>\n",
       "                        <td id=\"T_104b9f6c_5be6_11eb_8c4e_ff7c23f7df1erow9_col11\" class=\"data row9 col11\" >0.61</td>\n",
       "                        <td id=\"T_104b9f6c_5be6_11eb_8c4e_ff7c23f7df1erow9_col12\" class=\"data row9 col12\" >-0.30</td>\n",
       "                        <td id=\"T_104b9f6c_5be6_11eb_8c4e_ff7c23f7df1erow9_col13\" class=\"data row9 col13\" >0.38</td>\n",
       "                        <td id=\"T_104b9f6c_5be6_11eb_8c4e_ff7c23f7df1erow9_col14\" class=\"data row9 col14\" >0.51</td>\n",
       "                        <td id=\"T_104b9f6c_5be6_11eb_8c4e_ff7c23f7df1erow9_col15\" class=\"data row9 col15\" >-0.04</td>\n",
       "                        <td id=\"T_104b9f6c_5be6_11eb_8c4e_ff7c23f7df1erow9_col16\" class=\"data row9 col16\" >0.22</td>\n",
       "                        <td id=\"T_104b9f6c_5be6_11eb_8c4e_ff7c23f7df1erow9_col17\" class=\"data row9 col17\" >0.21</td>\n",
       "                        <td id=\"T_104b9f6c_5be6_11eb_8c4e_ff7c23f7df1erow9_col18\" class=\"data row9 col18\" >0.10</td>\n",
       "                        <td id=\"T_104b9f6c_5be6_11eb_8c4e_ff7c23f7df1erow9_col19\" class=\"data row9 col19\" >0.01</td>\n",
       "            </tr>\n",
       "            <tr>\n",
       "                        <th id=\"T_104b9f6c_5be6_11eb_8c4e_ff7c23f7df1elevel0_row10\" class=\"row_heading level0 row10\" >11</th>\n",
       "                        <td id=\"T_104b9f6c_5be6_11eb_8c4e_ff7c23f7df1erow10_col0\" class=\"data row10 col0\" >-0.12</td>\n",
       "                        <td id=\"T_104b9f6c_5be6_11eb_8c4e_ff7c23f7df1erow10_col1\" class=\"data row10 col1\" >0.03</td>\n",
       "                        <td id=\"T_104b9f6c_5be6_11eb_8c4e_ff7c23f7df1erow10_col2\" class=\"data row10 col2\" >0.28</td>\n",
       "                        <td id=\"T_104b9f6c_5be6_11eb_8c4e_ff7c23f7df1erow10_col3\" class=\"data row10 col3\" >0.11</td>\n",
       "                        <td id=\"T_104b9f6c_5be6_11eb_8c4e_ff7c23f7df1erow10_col4\" class=\"data row10 col4\" >0.23</td>\n",
       "                        <td id=\"T_104b9f6c_5be6_11eb_8c4e_ff7c23f7df1erow10_col5\" class=\"data row10 col5\" >0.18</td>\n",
       "                        <td id=\"T_104b9f6c_5be6_11eb_8c4e_ff7c23f7df1erow10_col6\" class=\"data row10 col6\" >0.02</td>\n",
       "                        <td id=\"T_104b9f6c_5be6_11eb_8c4e_ff7c23f7df1erow10_col7\" class=\"data row10 col7\" >0.11</td>\n",
       "                        <td id=\"T_104b9f6c_5be6_11eb_8c4e_ff7c23f7df1erow10_col8\" class=\"data row10 col8\" >0.02</td>\n",
       "                        <td id=\"T_104b9f6c_5be6_11eb_8c4e_ff7c23f7df1erow10_col9\" class=\"data row10 col9\" >0.29</td>\n",
       "                        <td id=\"T_104b9f6c_5be6_11eb_8c4e_ff7c23f7df1erow10_col10\" class=\"data row10 col10\" >1.00</td>\n",
       "                        <td id=\"T_104b9f6c_5be6_11eb_8c4e_ff7c23f7df1erow10_col11\" class=\"data row10 col11\" >0.34</td>\n",
       "                        <td id=\"T_104b9f6c_5be6_11eb_8c4e_ff7c23f7df1erow10_col12\" class=\"data row10 col12\" >0.04</td>\n",
       "                        <td id=\"T_104b9f6c_5be6_11eb_8c4e_ff7c23f7df1erow10_col13\" class=\"data row10 col13\" >0.15</td>\n",
       "                        <td id=\"T_104b9f6c_5be6_11eb_8c4e_ff7c23f7df1erow10_col14\" class=\"data row10 col14\" >0.32</td>\n",
       "                        <td id=\"T_104b9f6c_5be6_11eb_8c4e_ff7c23f7df1erow10_col15\" class=\"data row10 col15\" >-0.04</td>\n",
       "                        <td id=\"T_104b9f6c_5be6_11eb_8c4e_ff7c23f7df1erow10_col16\" class=\"data row10 col16\" >0.07</td>\n",
       "                        <td id=\"T_104b9f6c_5be6_11eb_8c4e_ff7c23f7df1erow10_col17\" class=\"data row10 col17\" >0.23</td>\n",
       "                        <td id=\"T_104b9f6c_5be6_11eb_8c4e_ff7c23f7df1erow10_col18\" class=\"data row10 col18\" >0.02</td>\n",
       "                        <td id=\"T_104b9f6c_5be6_11eb_8c4e_ff7c23f7df1erow10_col19\" class=\"data row10 col19\" >0.02</td>\n",
       "            </tr>\n",
       "            <tr>\n",
       "                        <th id=\"T_104b9f6c_5be6_11eb_8c4e_ff7c23f7df1elevel0_row11\" class=\"row_heading level0 row11\" >12</th>\n",
       "                        <td id=\"T_104b9f6c_5be6_11eb_8c4e_ff7c23f7df1erow11_col0\" class=\"data row11 col0\" >-0.31</td>\n",
       "                        <td id=\"T_104b9f6c_5be6_11eb_8c4e_ff7c23f7df1erow11_col1\" class=\"data row11 col1\" >-0.13</td>\n",
       "                        <td id=\"T_104b9f6c_5be6_11eb_8c4e_ff7c23f7df1erow11_col2\" class=\"data row11 col2\" >0.48</td>\n",
       "                        <td id=\"T_104b9f6c_5be6_11eb_8c4e_ff7c23f7df1erow11_col3\" class=\"data row11 col3\" >0.06</td>\n",
       "                        <td id=\"T_104b9f6c_5be6_11eb_8c4e_ff7c23f7df1erow11_col4\" class=\"data row11 col4\" >0.43</td>\n",
       "                        <td id=\"T_104b9f6c_5be6_11eb_8c4e_ff7c23f7df1erow11_col5\" class=\"data row11 col5\" >0.18</td>\n",
       "                        <td id=\"T_104b9f6c_5be6_11eb_8c4e_ff7c23f7df1erow11_col6\" class=\"data row11 col6\" >-0.08</td>\n",
       "                        <td id=\"T_104b9f6c_5be6_11eb_8c4e_ff7c23f7df1erow11_col7\" class=\"data row11 col7\" >0.12</td>\n",
       "                        <td id=\"T_104b9f6c_5be6_11eb_8c4e_ff7c23f7df1erow11_col8\" class=\"data row11 col8\" >0.04</td>\n",
       "                        <td id=\"T_104b9f6c_5be6_11eb_8c4e_ff7c23f7df1erow11_col9\" class=\"data row11 col9\" >0.61</td>\n",
       "                        <td id=\"T_104b9f6c_5be6_11eb_8c4e_ff7c23f7df1erow11_col10\" class=\"data row11 col10\" >0.34</td>\n",
       "                        <td id=\"T_104b9f6c_5be6_11eb_8c4e_ff7c23f7df1erow11_col11\" class=\"data row11 col11\" >1.00</td>\n",
       "                        <td id=\"T_104b9f6c_5be6_11eb_8c4e_ff7c23f7df1erow11_col12\" class=\"data row11 col12\" >-0.21</td>\n",
       "                        <td id=\"T_104b9f6c_5be6_11eb_8c4e_ff7c23f7df1erow11_col13\" class=\"data row11 col13\" >0.26</td>\n",
       "                        <td id=\"T_104b9f6c_5be6_11eb_8c4e_ff7c23f7df1erow11_col14\" class=\"data row11 col14\" >0.46</td>\n",
       "                        <td id=\"T_104b9f6c_5be6_11eb_8c4e_ff7c23f7df1erow11_col15\" class=\"data row11 col15\" >-0.02</td>\n",
       "                        <td id=\"T_104b9f6c_5be6_11eb_8c4e_ff7c23f7df1erow11_col16\" class=\"data row11 col16\" >0.11</td>\n",
       "                        <td id=\"T_104b9f6c_5be6_11eb_8c4e_ff7c23f7df1erow11_col17\" class=\"data row11 col17\" >0.17</td>\n",
       "                        <td id=\"T_104b9f6c_5be6_11eb_8c4e_ff7c23f7df1erow11_col18\" class=\"data row11 col18\" >0.08</td>\n",
       "                        <td id=\"T_104b9f6c_5be6_11eb_8c4e_ff7c23f7df1erow11_col19\" class=\"data row11 col19\" >-0.01</td>\n",
       "            </tr>\n",
       "            <tr>\n",
       "                        <th id=\"T_104b9f6c_5be6_11eb_8c4e_ff7c23f7df1elevel0_row12\" class=\"row_heading level0 row12\" >13</th>\n",
       "                        <td id=\"T_104b9f6c_5be6_11eb_8c4e_ff7c23f7df1erow12_col0\" class=\"data row12 col0\" >0.34</td>\n",
       "                        <td id=\"T_104b9f6c_5be6_11eb_8c4e_ff7c23f7df1erow12_col1\" class=\"data row12 col1\" >0.34</td>\n",
       "                        <td id=\"T_104b9f6c_5be6_11eb_8c4e_ff7c23f7df1erow12_col2\" class=\"data row12 col2\" >-0.17</td>\n",
       "                        <td id=\"T_104b9f6c_5be6_11eb_8c4e_ff7c23f7df1erow12_col3\" class=\"data row12 col3\" >0.04</td>\n",
       "                        <td id=\"T_104b9f6c_5be6_11eb_8c4e_ff7c23f7df1erow12_col4\" class=\"data row12 col4\" >-0.07</td>\n",
       "                        <td id=\"T_104b9f6c_5be6_11eb_8c4e_ff7c23f7df1erow12_col5\" class=\"data row12 col5\" >0.09</td>\n",
       "                        <td id=\"T_104b9f6c_5be6_11eb_8c4e_ff7c23f7df1erow12_col6\" class=\"data row12 col6\" >0.38</td>\n",
       "                        <td id=\"T_104b9f6c_5be6_11eb_8c4e_ff7c23f7df1erow12_col7\" class=\"data row12 col7\" >0.08</td>\n",
       "                        <td id=\"T_104b9f6c_5be6_11eb_8c4e_ff7c23f7df1erow12_col8\" class=\"data row12 col8\" >0.08</td>\n",
       "                        <td id=\"T_104b9f6c_5be6_11eb_8c4e_ff7c23f7df1erow12_col9\" class=\"data row12 col9\" >-0.30</td>\n",
       "                        <td id=\"T_104b9f6c_5be6_11eb_8c4e_ff7c23f7df1erow12_col10\" class=\"data row12 col10\" >0.04</td>\n",
       "                        <td id=\"T_104b9f6c_5be6_11eb_8c4e_ff7c23f7df1erow12_col11\" class=\"data row12 col11\" >-0.21</td>\n",
       "                        <td id=\"T_104b9f6c_5be6_11eb_8c4e_ff7c23f7df1erow12_col12\" class=\"data row12 col12\" >1.00</td>\n",
       "                        <td id=\"T_104b9f6c_5be6_11eb_8c4e_ff7c23f7df1erow12_col13\" class=\"data row12 col13\" >-0.20</td>\n",
       "                        <td id=\"T_104b9f6c_5be6_11eb_8c4e_ff7c23f7df1erow12_col14\" class=\"data row12 col14\" >-0.09</td>\n",
       "                        <td id=\"T_104b9f6c_5be6_11eb_8c4e_ff7c23f7df1erow12_col15\" class=\"data row12 col15\" >0.02</td>\n",
       "                        <td id=\"T_104b9f6c_5be6_11eb_8c4e_ff7c23f7df1erow12_col16\" class=\"data row12 col16\" >-0.12</td>\n",
       "                        <td id=\"T_104b9f6c_5be6_11eb_8c4e_ff7c23f7df1erow12_col17\" class=\"data row12 col17\" >0.10</td>\n",
       "                        <td id=\"T_104b9f6c_5be6_11eb_8c4e_ff7c23f7df1erow12_col18\" class=\"data row12 col18\" >0.01</td>\n",
       "                        <td id=\"T_104b9f6c_5be6_11eb_8c4e_ff7c23f7df1erow12_col19\" class=\"data row12 col19\" >0.02</td>\n",
       "            </tr>\n",
       "            <tr>\n",
       "                        <th id=\"T_104b9f6c_5be6_11eb_8c4e_ff7c23f7df1elevel0_row13\" class=\"row_heading level0 row13\" >14</th>\n",
       "                        <td id=\"T_104b9f6c_5be6_11eb_8c4e_ff7c23f7df1erow13_col0\" class=\"data row13 col0\" >-0.20</td>\n",
       "                        <td id=\"T_104b9f6c_5be6_11eb_8c4e_ff7c23f7df1erow13_col1\" class=\"data row13 col1\" >-0.10</td>\n",
       "                        <td id=\"T_104b9f6c_5be6_11eb_8c4e_ff7c23f7df1erow13_col2\" class=\"data row13 col2\" >0.27</td>\n",
       "                        <td id=\"T_104b9f6c_5be6_11eb_8c4e_ff7c23f7df1erow13_col3\" class=\"data row13 col3\" >0.04</td>\n",
       "                        <td id=\"T_104b9f6c_5be6_11eb_8c4e_ff7c23f7df1erow13_col4\" class=\"data row13 col4\" >0.39</td>\n",
       "                        <td id=\"T_104b9f6c_5be6_11eb_8c4e_ff7c23f7df1erow13_col5\" class=\"data row13 col5\" >0.17</td>\n",
       "                        <td id=\"T_104b9f6c_5be6_11eb_8c4e_ff7c23f7df1erow13_col6\" class=\"data row13 col6\" >-0.15</td>\n",
       "                        <td id=\"T_104b9f6c_5be6_11eb_8c4e_ff7c23f7df1erow13_col7\" class=\"data row13 col7\" >0.23</td>\n",
       "                        <td id=\"T_104b9f6c_5be6_11eb_8c4e_ff7c23f7df1erow13_col8\" class=\"data row13 col8\" >0.05</td>\n",
       "                        <td id=\"T_104b9f6c_5be6_11eb_8c4e_ff7c23f7df1erow13_col9\" class=\"data row13 col9\" >0.38</td>\n",
       "                        <td id=\"T_104b9f6c_5be6_11eb_8c4e_ff7c23f7df1erow13_col10\" class=\"data row13 col10\" >0.15</td>\n",
       "                        <td id=\"T_104b9f6c_5be6_11eb_8c4e_ff7c23f7df1erow13_col11\" class=\"data row13 col11\" >0.26</td>\n",
       "                        <td id=\"T_104b9f6c_5be6_11eb_8c4e_ff7c23f7df1erow13_col12\" class=\"data row13 col12\" >-0.20</td>\n",
       "                        <td id=\"T_104b9f6c_5be6_11eb_8c4e_ff7c23f7df1erow13_col13\" class=\"data row13 col13\" >1.00</td>\n",
       "                        <td id=\"T_104b9f6c_5be6_11eb_8c4e_ff7c23f7df1erow13_col14\" class=\"data row13 col14\" >0.18</td>\n",
       "                        <td id=\"T_104b9f6c_5be6_11eb_8c4e_ff7c23f7df1erow13_col15\" class=\"data row13 col15\" >0.02</td>\n",
       "                        <td id=\"T_104b9f6c_5be6_11eb_8c4e_ff7c23f7df1erow13_col16\" class=\"data row13 col16\" >0.21</td>\n",
       "                        <td id=\"T_104b9f6c_5be6_11eb_8c4e_ff7c23f7df1erow13_col17\" class=\"data row13 col17\" >0.14</td>\n",
       "                        <td id=\"T_104b9f6c_5be6_11eb_8c4e_ff7c23f7df1erow13_col18\" class=\"data row13 col18\" >0.08</td>\n",
       "                        <td id=\"T_104b9f6c_5be6_11eb_8c4e_ff7c23f7df1erow13_col19\" class=\"data row13 col19\" >-0.02</td>\n",
       "            </tr>\n",
       "            <tr>\n",
       "                        <th id=\"T_104b9f6c_5be6_11eb_8c4e_ff7c23f7df1elevel0_row14\" class=\"row_heading level0 row14\" >15</th>\n",
       "                        <td id=\"T_104b9f6c_5be6_11eb_8c4e_ff7c23f7df1erow14_col0\" class=\"data row14 col0\" >-0.25</td>\n",
       "                        <td id=\"T_104b9f6c_5be6_11eb_8c4e_ff7c23f7df1erow14_col1\" class=\"data row14 col1\" >-0.06</td>\n",
       "                        <td id=\"T_104b9f6c_5be6_11eb_8c4e_ff7c23f7df1erow14_col2\" class=\"data row14 col2\" >0.39</td>\n",
       "                        <td id=\"T_104b9f6c_5be6_11eb_8c4e_ff7c23f7df1erow14_col3\" class=\"data row14 col3\" >0.07</td>\n",
       "                        <td id=\"T_104b9f6c_5be6_11eb_8c4e_ff7c23f7df1erow14_col4\" class=\"data row14 col4\" >0.42</td>\n",
       "                        <td id=\"T_104b9f6c_5be6_11eb_8c4e_ff7c23f7df1erow14_col5\" class=\"data row14 col5\" >0.25</td>\n",
       "                        <td id=\"T_104b9f6c_5be6_11eb_8c4e_ff7c23f7df1erow14_col6\" class=\"data row14 col6\" >-0.06</td>\n",
       "                        <td id=\"T_104b9f6c_5be6_11eb_8c4e_ff7c23f7df1erow14_col7\" class=\"data row14 col7\" >0.13</td>\n",
       "                        <td id=\"T_104b9f6c_5be6_11eb_8c4e_ff7c23f7df1erow14_col8\" class=\"data row14 col8\" >0.02</td>\n",
       "                        <td id=\"T_104b9f6c_5be6_11eb_8c4e_ff7c23f7df1erow14_col9\" class=\"data row14 col9\" >0.51</td>\n",
       "                        <td id=\"T_104b9f6c_5be6_11eb_8c4e_ff7c23f7df1erow14_col10\" class=\"data row14 col10\" >0.32</td>\n",
       "                        <td id=\"T_104b9f6c_5be6_11eb_8c4e_ff7c23f7df1erow14_col11\" class=\"data row14 col11\" >0.46</td>\n",
       "                        <td id=\"T_104b9f6c_5be6_11eb_8c4e_ff7c23f7df1erow14_col12\" class=\"data row14 col12\" >-0.09</td>\n",
       "                        <td id=\"T_104b9f6c_5be6_11eb_8c4e_ff7c23f7df1erow14_col13\" class=\"data row14 col13\" >0.18</td>\n",
       "                        <td id=\"T_104b9f6c_5be6_11eb_8c4e_ff7c23f7df1erow14_col14\" class=\"data row14 col14\" >1.00</td>\n",
       "                        <td id=\"T_104b9f6c_5be6_11eb_8c4e_ff7c23f7df1erow14_col15\" class=\"data row14 col15\" >-0.05</td>\n",
       "                        <td id=\"T_104b9f6c_5be6_11eb_8c4e_ff7c23f7df1erow14_col16\" class=\"data row14 col16\" >0.12</td>\n",
       "                        <td id=\"T_104b9f6c_5be6_11eb_8c4e_ff7c23f7df1erow14_col17\" class=\"data row14 col17\" >0.26</td>\n",
       "                        <td id=\"T_104b9f6c_5be6_11eb_8c4e_ff7c23f7df1erow14_col18\" class=\"data row14 col18\" >0.09</td>\n",
       "                        <td id=\"T_104b9f6c_5be6_11eb_8c4e_ff7c23f7df1erow14_col19\" class=\"data row14 col19\" >-0.00</td>\n",
       "            </tr>\n",
       "            <tr>\n",
       "                        <th id=\"T_104b9f6c_5be6_11eb_8c4e_ff7c23f7df1elevel0_row15\" class=\"row_heading level0 row15\" >16</th>\n",
       "                        <td id=\"T_104b9f6c_5be6_11eb_8c4e_ff7c23f7df1erow15_col0\" class=\"data row15 col0\" >0.02</td>\n",
       "                        <td id=\"T_104b9f6c_5be6_11eb_8c4e_ff7c23f7df1erow15_col1\" class=\"data row15 col1\" >0.03</td>\n",
       "                        <td id=\"T_104b9f6c_5be6_11eb_8c4e_ff7c23f7df1erow15_col2\" class=\"data row15 col2\" >-0.05</td>\n",
       "                        <td id=\"T_104b9f6c_5be6_11eb_8c4e_ff7c23f7df1erow15_col3\" class=\"data row15 col3\" >-0.02</td>\n",
       "                        <td id=\"T_104b9f6c_5be6_11eb_8c4e_ff7c23f7df1erow15_col4\" class=\"data row15 col4\" >-0.01</td>\n",
       "                        <td id=\"T_104b9f6c_5be6_11eb_8c4e_ff7c23f7df1erow15_col5\" class=\"data row15 col5\" >0.01</td>\n",
       "                        <td id=\"T_104b9f6c_5be6_11eb_8c4e_ff7c23f7df1erow15_col6\" class=\"data row15 col6\" >0.05</td>\n",
       "                        <td id=\"T_104b9f6c_5be6_11eb_8c4e_ff7c23f7df1erow15_col7\" class=\"data row15 col7\" >-0.01</td>\n",
       "                        <td id=\"T_104b9f6c_5be6_11eb_8c4e_ff7c23f7df1erow15_col8\" class=\"data row15 col8\" >0.04</td>\n",
       "                        <td id=\"T_104b9f6c_5be6_11eb_8c4e_ff7c23f7df1erow15_col9\" class=\"data row15 col9\" >-0.04</td>\n",
       "                        <td id=\"T_104b9f6c_5be6_11eb_8c4e_ff7c23f7df1erow15_col10\" class=\"data row15 col10\" >-0.04</td>\n",
       "                        <td id=\"T_104b9f6c_5be6_11eb_8c4e_ff7c23f7df1erow15_col11\" class=\"data row15 col11\" >-0.02</td>\n",
       "                        <td id=\"T_104b9f6c_5be6_11eb_8c4e_ff7c23f7df1erow15_col12\" class=\"data row15 col12\" >0.02</td>\n",
       "                        <td id=\"T_104b9f6c_5be6_11eb_8c4e_ff7c23f7df1erow15_col13\" class=\"data row15 col13\" >0.02</td>\n",
       "                        <td id=\"T_104b9f6c_5be6_11eb_8c4e_ff7c23f7df1erow15_col14\" class=\"data row15 col14\" >-0.05</td>\n",
       "                        <td id=\"T_104b9f6c_5be6_11eb_8c4e_ff7c23f7df1erow15_col15\" class=\"data row15 col15\" >1.00</td>\n",
       "                        <td id=\"T_104b9f6c_5be6_11eb_8c4e_ff7c23f7df1erow15_col16\" class=\"data row15 col16\" >0.02</td>\n",
       "                        <td id=\"T_104b9f6c_5be6_11eb_8c4e_ff7c23f7df1erow15_col17\" class=\"data row15 col17\" >0.03</td>\n",
       "                        <td id=\"T_104b9f6c_5be6_11eb_8c4e_ff7c23f7df1erow15_col18\" class=\"data row15 col18\" >0.04</td>\n",
       "                        <td id=\"T_104b9f6c_5be6_11eb_8c4e_ff7c23f7df1erow15_col19\" class=\"data row15 col19\" >-0.01</td>\n",
       "            </tr>\n",
       "            <tr>\n",
       "                        <th id=\"T_104b9f6c_5be6_11eb_8c4e_ff7c23f7df1elevel0_row16\" class=\"row_heading level0 row16\" >17</th>\n",
       "                        <td id=\"T_104b9f6c_5be6_11eb_8c4e_ff7c23f7df1erow16_col0\" class=\"data row16 col0\" >-0.12</td>\n",
       "                        <td id=\"T_104b9f6c_5be6_11eb_8c4e_ff7c23f7df1erow16_col1\" class=\"data row16 col1\" >-0.02</td>\n",
       "                        <td id=\"T_104b9f6c_5be6_11eb_8c4e_ff7c23f7df1erow16_col2\" class=\"data row16 col2\" >0.14</td>\n",
       "                        <td id=\"T_104b9f6c_5be6_11eb_8c4e_ff7c23f7df1erow16_col3\" class=\"data row16 col3\" >0.00</td>\n",
       "                        <td id=\"T_104b9f6c_5be6_11eb_8c4e_ff7c23f7df1erow16_col4\" class=\"data row16 col4\" >0.16</td>\n",
       "                        <td id=\"T_104b9f6c_5be6_11eb_8c4e_ff7c23f7df1erow16_col5\" class=\"data row16 col5\" >0.08</td>\n",
       "                        <td id=\"T_104b9f6c_5be6_11eb_8c4e_ff7c23f7df1erow16_col6\" class=\"data row16 col6\" >-0.12</td>\n",
       "                        <td id=\"T_104b9f6c_5be6_11eb_8c4e_ff7c23f7df1erow16_col7\" class=\"data row16 col7\" >0.05</td>\n",
       "                        <td id=\"T_104b9f6c_5be6_11eb_8c4e_ff7c23f7df1erow16_col8\" class=\"data row16 col8\" >0.05</td>\n",
       "                        <td id=\"T_104b9f6c_5be6_11eb_8c4e_ff7c23f7df1erow16_col9\" class=\"data row16 col9\" >0.22</td>\n",
       "                        <td id=\"T_104b9f6c_5be6_11eb_8c4e_ff7c23f7df1erow16_col10\" class=\"data row16 col10\" >0.07</td>\n",
       "                        <td id=\"T_104b9f6c_5be6_11eb_8c4e_ff7c23f7df1erow16_col11\" class=\"data row16 col11\" >0.11</td>\n",
       "                        <td id=\"T_104b9f6c_5be6_11eb_8c4e_ff7c23f7df1erow16_col12\" class=\"data row16 col12\" >-0.12</td>\n",
       "                        <td id=\"T_104b9f6c_5be6_11eb_8c4e_ff7c23f7df1erow16_col13\" class=\"data row16 col13\" >0.21</td>\n",
       "                        <td id=\"T_104b9f6c_5be6_11eb_8c4e_ff7c23f7df1erow16_col14\" class=\"data row16 col14\" >0.12</td>\n",
       "                        <td id=\"T_104b9f6c_5be6_11eb_8c4e_ff7c23f7df1erow16_col15\" class=\"data row16 col15\" >0.02</td>\n",
       "                        <td id=\"T_104b9f6c_5be6_11eb_8c4e_ff7c23f7df1erow16_col16\" class=\"data row16 col16\" >1.00</td>\n",
       "                        <td id=\"T_104b9f6c_5be6_11eb_8c4e_ff7c23f7df1erow16_col17\" class=\"data row16 col17\" >0.03</td>\n",
       "                        <td id=\"T_104b9f6c_5be6_11eb_8c4e_ff7c23f7df1erow16_col18\" class=\"data row16 col18\" >0.07</td>\n",
       "                        <td id=\"T_104b9f6c_5be6_11eb_8c4e_ff7c23f7df1erow16_col19\" class=\"data row16 col19\" >-0.05</td>\n",
       "            </tr>\n",
       "            <tr>\n",
       "                        <th id=\"T_104b9f6c_5be6_11eb_8c4e_ff7c23f7df1elevel0_row17\" class=\"row_heading level0 row17\" >18</th>\n",
       "                        <td id=\"T_104b9f6c_5be6_11eb_8c4e_ff7c23f7df1erow17_col0\" class=\"data row17 col0\" >-0.00</td>\n",
       "                        <td id=\"T_104b9f6c_5be6_11eb_8c4e_ff7c23f7df1erow17_col1\" class=\"data row17 col1\" >0.11</td>\n",
       "                        <td id=\"T_104b9f6c_5be6_11eb_8c4e_ff7c23f7df1erow17_col2\" class=\"data row17 col2\" >0.27</td>\n",
       "                        <td id=\"T_104b9f6c_5be6_11eb_8c4e_ff7c23f7df1erow17_col3\" class=\"data row17 col3\" >0.06</td>\n",
       "                        <td id=\"T_104b9f6c_5be6_11eb_8c4e_ff7c23f7df1erow17_col4\" class=\"data row17 col4\" >0.38</td>\n",
       "                        <td id=\"T_104b9f6c_5be6_11eb_8c4e_ff7c23f7df1erow17_col5\" class=\"data row17 col5\" >0.32</td>\n",
       "                        <td id=\"T_104b9f6c_5be6_11eb_8c4e_ff7c23f7df1erow17_col6\" class=\"data row17 col6\" >0.15</td>\n",
       "                        <td id=\"T_104b9f6c_5be6_11eb_8c4e_ff7c23f7df1erow17_col7\" class=\"data row17 col7\" >0.11</td>\n",
       "                        <td id=\"T_104b9f6c_5be6_11eb_8c4e_ff7c23f7df1erow17_col8\" class=\"data row17 col8\" >0.07</td>\n",
       "                        <td id=\"T_104b9f6c_5be6_11eb_8c4e_ff7c23f7df1erow17_col9\" class=\"data row17 col9\" >0.21</td>\n",
       "                        <td id=\"T_104b9f6c_5be6_11eb_8c4e_ff7c23f7df1erow17_col10\" class=\"data row17 col10\" >0.23</td>\n",
       "                        <td id=\"T_104b9f6c_5be6_11eb_8c4e_ff7c23f7df1erow17_col11\" class=\"data row17 col11\" >0.17</td>\n",
       "                        <td id=\"T_104b9f6c_5be6_11eb_8c4e_ff7c23f7df1erow17_col12\" class=\"data row17 col12\" >0.10</td>\n",
       "                        <td id=\"T_104b9f6c_5be6_11eb_8c4e_ff7c23f7df1erow17_col13\" class=\"data row17 col13\" >0.14</td>\n",
       "                        <td id=\"T_104b9f6c_5be6_11eb_8c4e_ff7c23f7df1erow17_col14\" class=\"data row17 col14\" >0.26</td>\n",
       "                        <td id=\"T_104b9f6c_5be6_11eb_8c4e_ff7c23f7df1erow17_col15\" class=\"data row17 col15\" >0.03</td>\n",
       "                        <td id=\"T_104b9f6c_5be6_11eb_8c4e_ff7c23f7df1erow17_col16\" class=\"data row17 col16\" >0.03</td>\n",
       "                        <td id=\"T_104b9f6c_5be6_11eb_8c4e_ff7c23f7df1erow17_col17\" class=\"data row17 col17\" >1.00</td>\n",
       "                        <td id=\"T_104b9f6c_5be6_11eb_8c4e_ff7c23f7df1erow17_col18\" class=\"data row17 col18\" >0.07</td>\n",
       "                        <td id=\"T_104b9f6c_5be6_11eb_8c4e_ff7c23f7df1erow17_col19\" class=\"data row17 col19\" >0.02</td>\n",
       "            </tr>\n",
       "            <tr>\n",
       "                        <th id=\"T_104b9f6c_5be6_11eb_8c4e_ff7c23f7df1elevel0_row18\" class=\"row_heading level0 row18\" >19</th>\n",
       "                        <td id=\"T_104b9f6c_5be6_11eb_8c4e_ff7c23f7df1erow18_col0\" class=\"data row18 col0\" >-0.01</td>\n",
       "                        <td id=\"T_104b9f6c_5be6_11eb_8c4e_ff7c23f7df1erow18_col1\" class=\"data row18 col1\" >0.04</td>\n",
       "                        <td id=\"T_104b9f6c_5be6_11eb_8c4e_ff7c23f7df1erow18_col2\" class=\"data row18 col2\" >0.13</td>\n",
       "                        <td id=\"T_104b9f6c_5be6_11eb_8c4e_ff7c23f7df1erow18_col3\" class=\"data row18 col3\" >0.01</td>\n",
       "                        <td id=\"T_104b9f6c_5be6_11eb_8c4e_ff7c23f7df1erow18_col4\" class=\"data row18 col4\" >0.16</td>\n",
       "                        <td id=\"T_104b9f6c_5be6_11eb_8c4e_ff7c23f7df1erow18_col5\" class=\"data row18 col5\" >0.03</td>\n",
       "                        <td id=\"T_104b9f6c_5be6_11eb_8c4e_ff7c23f7df1erow18_col6\" class=\"data row18 col6\" >0.03</td>\n",
       "                        <td id=\"T_104b9f6c_5be6_11eb_8c4e_ff7c23f7df1erow18_col7\" class=\"data row18 col7\" >0.10</td>\n",
       "                        <td id=\"T_104b9f6c_5be6_11eb_8c4e_ff7c23f7df1erow18_col8\" class=\"data row18 col8\" >0.08</td>\n",
       "                        <td id=\"T_104b9f6c_5be6_11eb_8c4e_ff7c23f7df1erow18_col9\" class=\"data row18 col9\" >0.10</td>\n",
       "                        <td id=\"T_104b9f6c_5be6_11eb_8c4e_ff7c23f7df1erow18_col10\" class=\"data row18 col10\" >0.02</td>\n",
       "                        <td id=\"T_104b9f6c_5be6_11eb_8c4e_ff7c23f7df1erow18_col11\" class=\"data row18 col11\" >0.08</td>\n",
       "                        <td id=\"T_104b9f6c_5be6_11eb_8c4e_ff7c23f7df1erow18_col12\" class=\"data row18 col12\" >0.01</td>\n",
       "                        <td id=\"T_104b9f6c_5be6_11eb_8c4e_ff7c23f7df1erow18_col13\" class=\"data row18 col13\" >0.08</td>\n",
       "                        <td id=\"T_104b9f6c_5be6_11eb_8c4e_ff7c23f7df1erow18_col14\" class=\"data row18 col14\" >0.09</td>\n",
       "                        <td id=\"T_104b9f6c_5be6_11eb_8c4e_ff7c23f7df1erow18_col15\" class=\"data row18 col15\" >0.04</td>\n",
       "                        <td id=\"T_104b9f6c_5be6_11eb_8c4e_ff7c23f7df1erow18_col16\" class=\"data row18 col16\" >0.07</td>\n",
       "                        <td id=\"T_104b9f6c_5be6_11eb_8c4e_ff7c23f7df1erow18_col17\" class=\"data row18 col17\" >0.07</td>\n",
       "                        <td id=\"T_104b9f6c_5be6_11eb_8c4e_ff7c23f7df1erow18_col18\" class=\"data row18 col18\" >1.00</td>\n",
       "                        <td id=\"T_104b9f6c_5be6_11eb_8c4e_ff7c23f7df1erow18_col19\" class=\"data row18 col19\" >0.02</td>\n",
       "            </tr>\n",
       "            <tr>\n",
       "                        <th id=\"T_104b9f6c_5be6_11eb_8c4e_ff7c23f7df1elevel0_row19\" class=\"row_heading level0 row19\" >20</th>\n",
       "                        <td id=\"T_104b9f6c_5be6_11eb_8c4e_ff7c23f7df1erow19_col0\" class=\"data row19 col0\" >0.02</td>\n",
       "                        <td id=\"T_104b9f6c_5be6_11eb_8c4e_ff7c23f7df1erow19_col1\" class=\"data row19 col1\" >0.04</td>\n",
       "                        <td id=\"T_104b9f6c_5be6_11eb_8c4e_ff7c23f7df1erow19_col2\" class=\"data row19 col2\" >0.00</td>\n",
       "                        <td id=\"T_104b9f6c_5be6_11eb_8c4e_ff7c23f7df1erow19_col3\" class=\"data row19 col3\" >0.00</td>\n",
       "                        <td id=\"T_104b9f6c_5be6_11eb_8c4e_ff7c23f7df1erow19_col4\" class=\"data row19 col4\" >0.03</td>\n",
       "                        <td id=\"T_104b9f6c_5be6_11eb_8c4e_ff7c23f7df1erow19_col5\" class=\"data row19 col5\" >-0.02</td>\n",
       "                        <td id=\"T_104b9f6c_5be6_11eb_8c4e_ff7c23f7df1erow19_col6\" class=\"data row19 col6\" >0.08</td>\n",
       "                        <td id=\"T_104b9f6c_5be6_11eb_8c4e_ff7c23f7df1erow19_col7\" class=\"data row19 col7\" >-0.06</td>\n",
       "                        <td id=\"T_104b9f6c_5be6_11eb_8c4e_ff7c23f7df1erow19_col8\" class=\"data row19 col8\" >-0.02</td>\n",
       "                        <td id=\"T_104b9f6c_5be6_11eb_8c4e_ff7c23f7df1erow19_col9\" class=\"data row19 col9\" >0.01</td>\n",
       "                        <td id=\"T_104b9f6c_5be6_11eb_8c4e_ff7c23f7df1erow19_col10\" class=\"data row19 col10\" >0.02</td>\n",
       "                        <td id=\"T_104b9f6c_5be6_11eb_8c4e_ff7c23f7df1erow19_col11\" class=\"data row19 col11\" >-0.01</td>\n",
       "                        <td id=\"T_104b9f6c_5be6_11eb_8c4e_ff7c23f7df1erow19_col12\" class=\"data row19 col12\" >0.02</td>\n",
       "                        <td id=\"T_104b9f6c_5be6_11eb_8c4e_ff7c23f7df1erow19_col13\" class=\"data row19 col13\" >-0.02</td>\n",
       "                        <td id=\"T_104b9f6c_5be6_11eb_8c4e_ff7c23f7df1erow19_col14\" class=\"data row19 col14\" >-0.00</td>\n",
       "                        <td id=\"T_104b9f6c_5be6_11eb_8c4e_ff7c23f7df1erow19_col15\" class=\"data row19 col15\" >-0.01</td>\n",
       "                        <td id=\"T_104b9f6c_5be6_11eb_8c4e_ff7c23f7df1erow19_col16\" class=\"data row19 col16\" >-0.05</td>\n",
       "                        <td id=\"T_104b9f6c_5be6_11eb_8c4e_ff7c23f7df1erow19_col17\" class=\"data row19 col17\" >0.02</td>\n",
       "                        <td id=\"T_104b9f6c_5be6_11eb_8c4e_ff7c23f7df1erow19_col18\" class=\"data row19 col18\" >0.02</td>\n",
       "                        <td id=\"T_104b9f6c_5be6_11eb_8c4e_ff7c23f7df1erow19_col19\" class=\"data row19 col19\" >1.00</td>\n",
       "            </tr>\n",
       "    </tbody></table>"
      ],
      "text/plain": [
       "<pandas.io.formats.style.Styler at 0x7f61e1a1a6d0>"
      ]
     },
     "metadata": {},
     "output_type": "display_data"
    },
    {
     "name": "stdout",
     "output_type": "stream",
     "text": [
      "Loading page (1/2)\n",
      "Rendering (2/2)                                                    \n",
      "Done                                                               \n"
     ]
    },
    {
     "data": {
      "text/plain": [
       "True"
      ]
     },
     "execution_count": 22,
     "metadata": {},
     "output_type": "execute_result"
    }
   ],
   "source": [
    "cm = sns.light_palette(\"green\", as_cmap=True)\n",
    "cm = 'viridis'\n",
    "cm = 'plasma'\n",
    "#cm = 'magma'\n",
    "\n",
    "s = df_iaa_styled.style.background_gradient(cmap=cm, vmin=0, vmax=1, axis=None)\n",
    "display(s)\n",
    "html = s.render()\n",
    "imgkit.from_string(html, f'../data/outputs/styled_table_round3.png')"
   ]
  },
  {
   "cell_type": "code",
   "execution_count": 16,
   "metadata": {},
   "outputs": [],
   "source": [
    "df_iaa.to_excel(\"../data/outputs/round3_results.xls\")"
   ]
  },
  {
   "cell_type": "code",
   "execution_count": 17,
   "metadata": {},
   "outputs": [
    {
     "name": "stdout",
     "output_type": "stream",
     "text": [
      "<class 'pandas.core.frame.DataFrame'>\n",
      "Int64Index: 18156 entries, 0 to 1011\n",
      "Data columns (total 6 columns):\n",
      " #   Column             Non-Null Count  Dtype \n",
      "---  ------             --------------  ----- \n",
      " 0   userid             18156 non-null  int64 \n",
      " 1   user               18156 non-null  object\n",
      " 2   image_name         18156 non-null  object\n",
      " 3   id_image           18156 non-null  object\n",
      " 4   class              18156 non-null  object\n",
      " 5   image_appearances  18156 non-null  int64 \n",
      "dtypes: int64(2), object(4)\n",
      "memory usage: 992.9+ KB\n"
     ]
    }
   ],
   "source": [
    "df_labeling.info()"
   ]
  },
  {
   "cell_type": "code",
   "execution_count": 18,
   "metadata": {},
   "outputs": [],
   "source": [
    "df_labeling['round'] = 3\n",
    "df_labeling.drop('image_appearances', inplace=True, axis=1)"
   ]
  },
  {
   "cell_type": "code",
   "execution_count": 19,
   "metadata": {},
   "outputs": [],
   "source": [
    "df_labeling.to_hdf('../data/df_labeling.hdf', key='round3')"
   ]
  }
 ],
 "metadata": {
  "kernelspec": {
   "display_name": "Python 3",
   "language": "python",
   "name": "python3"
  },
  "language_info": {
   "codemirror_mode": {
    "name": "ipython",
    "version": 3
   },
   "file_extension": ".py",
   "mimetype": "text/x-python",
   "name": "python",
   "nbconvert_exporter": "python",
   "pygments_lexer": "ipython3",
   "version": "3.8.5"
  }
 },
 "nbformat": 4,
 "nbformat_minor": 4
}
