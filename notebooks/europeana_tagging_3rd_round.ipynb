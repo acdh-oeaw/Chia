{
 "cells": [
  {
   "cell_type": "code",
   "execution_count": 1,
   "metadata": {},
   "outputs": [],
   "source": [
    "import os\n",
    "import re\n",
    "import itertools\n",
    "import pandas as pd\n",
    "from sklearn.metrics import cohen_kappa_score as cks\n",
    "from tabulate import tabulate"
   ]
  },
  {
   "cell_type": "markdown",
   "metadata": {},
   "source": [
    "### Building the dataframe with the results"
   ]
  },
  {
   "cell_type": "code",
   "execution_count": 2,
   "metadata": {},
   "outputs": [],
   "source": [
    "datapath = '../data/img_labeling_3rd_round/'"
   ]
  },
  {
   "cell_type": "markdown",
   "metadata": {},
   "source": [
    "#### Reading orginal files"
   ]
  },
  {
   "cell_type": "code",
   "execution_count": 3,
   "metadata": {},
   "outputs": [
    {
     "name": "stdout",
     "output_type": "stream",
     "text": [
      "47 .csv files in the folder\n",
      "\n"
     ]
    }
   ],
   "source": [
    "label_files = sorted(os.listdir(datapath))\n",
    "label_files = [f for f in label_files if 'csv' in f and \"_\" in f]\n",
    "print(f\"{len(label_files)} .csv files in the folder\\n\")\n",
    "#for f in label_files:\n",
    "#    print(f)"
   ]
  },
  {
   "cell_type": "markdown",
   "metadata": {},
   "source": [
    "#### Extracting subjects"
   ]
  },
  {
   "cell_type": "code",
   "execution_count": 4,
   "metadata": {},
   "outputs": [
    {
     "name": "stdout",
     "output_type": "stream",
     "text": [
      "20 diferent subjects\n"
     ]
    }
   ],
   "source": [
    "subjects = {x[:x.find(\"_\")] for x in label_files}\n",
    "print(f\"{len(subjects)} diferent subjects\")"
   ]
  },
  {
   "cell_type": "markdown",
   "metadata": {},
   "source": [
    "#### Consolidating files per user"
   ]
  },
  {
   "cell_type": "code",
   "execution_count": 5,
   "metadata": {},
   "outputs": [],
   "source": [
    "n_files = []\n",
    "for subject in subjects:\n",
    "    s_files = [os.path.join(datapath, f) for f in label_files if f.startswith(subject)]\n",
    "    n_file = os.path.join(datapath, subject + \".csv\")\n",
    "    n_files.append(n_file)\n",
    "    with open(n_file, \"w\") as fw:\n",
    "        for s in s_files:\n",
    "            with open(s, \"r\") as fr:\n",
    "                lines = fr.read()\n",
    "                lines = lines.replace('\"','')\n",
    "                lines = lines.replace(\"[Appealing,Non-appealing]\", \"[Non-appealing]\")   ## Choosing the last chosen class for ambiguous\n",
    "                lines = lines.replace(\"[Non-appealing,Appealing]\", \"[Appealing]\")\n",
    "                fw.write(lines+\"\\n\")"
   ]
  },
  {
   "cell_type": "markdown",
   "metadata": {},
   "source": [
    "#### Reading CSV files into Dataframes"
   ]
  },
  {
   "cell_type": "code",
   "execution_count": 6,
   "metadata": {},
   "outputs": [
    {
     "name": "stdout",
     "output_type": "stream",
     "text": [
      "1: \t 245DC3767EBDBF721824F2F09B4251D5E0063494\n",
      "2: \t B59DE8F9A0D4C9AADABAFF7EA6A4F61BF89861DA\n",
      "3: \t 38205FF03AFF19E008FA123615336213A0ED33AB\n",
      "4: \t F96F6ACF9B40EDA60D4D48FBED7B3512E1C8E48D\n",
      "5: \t BE887E16DEB41D06FACD481B5BFE3AF6FDF6F8CB\n",
      "6: \t 43166EAC7DE5C6D48FF646B1B12BEB46AC7CA375\n",
      "7: \t 5FFB96918AA02D6E1EF82257A2828F9A4FD9C702\n",
      "8: \t F0E0055FB33661B91E7C55DAFB0246BCB43D7D8D\n",
      "9: \t 8D396D662D61B164860C081535E30C3E32934406\n",
      "10: \t 5FEF4C8B719CABDF32C46A4C9C9316376DF7B512\n",
      "11: \t C003DF0C2EC67886EA6BC835682E3182A2126135\n",
      "12: \t 867D8B4F797167AA1CA27E00F76B51C63A7278ED\n",
      "13: \t 73396439E5B11BBCA57A8FCB53FBB6F0FCECE794\n",
      "14: \t C91C4E40D11000EB5E5BE0EDBE12C74A54FAA40B\n",
      "15: \t 3AB6D9AAC2244ECC4F595743DF6EB54686DE31A0\n",
      "16: \t A6241D7982404859C8D816D8C4A61DC506145A50\n",
      "17: \t C733B58CB8AE244885A97E86B09D896A5633674C\n",
      "18: \t F9CC3D73B8F36057257097AFFE29B884000BABB5\n",
      "19: \t 6438BC09053F6B5215CA1FC743AB0E3CF2B53984\n",
      "20: \t C6C77B9A8025D969F0E14BEBBEECB8B82BAAF284\n"
     ]
    }
   ],
   "source": [
    "list_dfs = []\n",
    "for idx, n_file in enumerate(n_files):\n",
    "    user = re.findall(\"|\".join(subjects), n_file)[0]\n",
    "    userid = idx + 1\n",
    "    print(f\"{userid}: \\t {user}\")\n",
    "    df = pd.read_csv(n_file, names=['image_name', 'class','w','h'])\n",
    "    df['user'] = user\n",
    "    df['userid'] = userid\n",
    "    df.drop(['w','h'], axis=1, inplace=True)\n",
    "    df.drop_duplicates(inplace=True)\n",
    "    list_dfs.append(df)"
   ]
  },
  {
   "cell_type": "markdown",
   "metadata": {},
   "source": [
    "#### Concatenating Dataframes"
   ]
  },
  {
   "cell_type": "code",
   "execution_count": 7,
   "metadata": {},
   "outputs": [
    {
     "name": "stdout",
     "output_type": "stream",
     "text": [
      "<class 'pandas.core.frame.DataFrame'>\n",
      "Int64Index: 18156 entries, 0 to 1010\n",
      "Data columns (total 5 columns):\n",
      " #   Column      Non-Null Count  Dtype \n",
      "---  ------      --------------  ----- \n",
      " 0   userid      18156 non-null  int64 \n",
      " 1   user        18156 non-null  object\n",
      " 2   image_name  18156 non-null  object\n",
      " 3   id_image    18156 non-null  object\n",
      " 4   class       18156 non-null  object\n",
      "dtypes: int64(1), object(4)\n",
      "memory usage: 851.1+ KB\n"
     ]
    }
   ],
   "source": [
    "df_labeling = pd.concat(list_dfs)\n",
    "df_labeling['id_image'] = df_labeling['image_name'].apply(lambda x:x[:-4])\n",
    "df_labeling = df_labeling[['userid','user', 'image_name', 'id_image', 'class']]\n",
    "df_labeling.info()"
   ]
  },
  {
   "cell_type": "markdown",
   "metadata": {},
   "source": [
    "#### Fixing classes names"
   ]
  },
  {
   "cell_type": "code",
   "execution_count": 8,
   "metadata": {},
   "outputs": [
    {
     "name": "stdout",
     "output_type": "stream",
     "text": [
      "['[Non-appealing]' '[Appealing]' '[Appealing]    ' '[Npn-appealing]']\n"
     ]
    },
    {
     "data": {
      "text/plain": [
       "Non-appealing    11076\n",
       "Appealing         7080\n",
       "Name: class, dtype: int64"
      ]
     },
     "execution_count": 8,
     "metadata": {},
     "output_type": "execute_result"
    }
   ],
   "source": [
    "print(df_labeling['class'].unique())\n",
    "df_labeling[\"class\"] = df_labeling[\"class\"].str.strip(\"[] \")\n",
    "df_labeling[\"class\"].replace({'Npn-appealing':\"Non-appealing\"}, inplace=True)\n",
    "df_labeling['class'].value_counts()"
   ]
  },
  {
   "cell_type": "code",
   "execution_count": 9,
   "metadata": {},
   "outputs": [
    {
     "data": {
      "text/html": [
       "<div>\n",
       "<style scoped>\n",
       "    .dataframe tbody tr th:only-of-type {\n",
       "        vertical-align: middle;\n",
       "    }\n",
       "\n",
       "    .dataframe tbody tr th {\n",
       "        vertical-align: top;\n",
       "    }\n",
       "\n",
       "    .dataframe thead th {\n",
       "        text-align: right;\n",
       "    }\n",
       "</style>\n",
       "<table border=\"1\" class=\"dataframe\">\n",
       "  <thead>\n",
       "    <tr style=\"text-align: right;\">\n",
       "      <th></th>\n",
       "      <th>userid</th>\n",
       "      <th>user</th>\n",
       "      <th>image_name</th>\n",
       "      <th>id_image</th>\n",
       "      <th>class</th>\n",
       "    </tr>\n",
       "  </thead>\n",
       "  <tbody>\n",
       "    <tr>\n",
       "      <th>0</th>\n",
       "      <td>1</td>\n",
       "      <td>245DC3767EBDBF721824F2F09B4251D5E0063494</td>\n",
       "      <td>1.jpg</td>\n",
       "      <td>1</td>\n",
       "      <td>Non-appealing</td>\n",
       "    </tr>\n",
       "    <tr>\n",
       "      <th>1</th>\n",
       "      <td>1</td>\n",
       "      <td>245DC3767EBDBF721824F2F09B4251D5E0063494</td>\n",
       "      <td>2.jpg</td>\n",
       "      <td>2</td>\n",
       "      <td>Appealing</td>\n",
       "    </tr>\n",
       "    <tr>\n",
       "      <th>2</th>\n",
       "      <td>1</td>\n",
       "      <td>245DC3767EBDBF721824F2F09B4251D5E0063494</td>\n",
       "      <td>3.jpg</td>\n",
       "      <td>3</td>\n",
       "      <td>Non-appealing</td>\n",
       "    </tr>\n",
       "    <tr>\n",
       "      <th>3</th>\n",
       "      <td>1</td>\n",
       "      <td>245DC3767EBDBF721824F2F09B4251D5E0063494</td>\n",
       "      <td>4.jpg</td>\n",
       "      <td>4</td>\n",
       "      <td>Non-appealing</td>\n",
       "    </tr>\n",
       "    <tr>\n",
       "      <th>4</th>\n",
       "      <td>1</td>\n",
       "      <td>245DC3767EBDBF721824F2F09B4251D5E0063494</td>\n",
       "      <td>5.jpg</td>\n",
       "      <td>5</td>\n",
       "      <td>Non-appealing</td>\n",
       "    </tr>\n",
       "  </tbody>\n",
       "</table>\n",
       "</div>"
      ],
      "text/plain": [
       "   userid                                      user image_name id_image  \\\n",
       "0       1  245DC3767EBDBF721824F2F09B4251D5E0063494      1.jpg        1   \n",
       "1       1  245DC3767EBDBF721824F2F09B4251D5E0063494      2.jpg        2   \n",
       "2       1  245DC3767EBDBF721824F2F09B4251D5E0063494      3.jpg        3   \n",
       "3       1  245DC3767EBDBF721824F2F09B4251D5E0063494      4.jpg        4   \n",
       "4       1  245DC3767EBDBF721824F2F09B4251D5E0063494      5.jpg        5   \n",
       "\n",
       "           class  \n",
       "0  Non-appealing  \n",
       "1      Appealing  \n",
       "2  Non-appealing  \n",
       "3  Non-appealing  \n",
       "4  Non-appealing  "
      ]
     },
     "execution_count": 9,
     "metadata": {},
     "output_type": "execute_result"
    }
   ],
   "source": [
    "df_labeling.head()"
   ]
  },
  {
   "cell_type": "markdown",
   "metadata": {},
   "source": [
    "#### Checking images classified"
   ]
  },
  {
   "cell_type": "code",
   "execution_count": 10,
   "metadata": {},
   "outputs": [],
   "source": [
    "df_labeling['image_appearances'] = df_labeling.groupby('id_image')['id_image'].transform('count')"
   ]
  },
  {
   "cell_type": "code",
   "execution_count": 11,
   "metadata": {},
   "outputs": [
    {
     "name": "stdout",
     "output_type": "stream",
     "text": [
      "18156 images were classified\n",
      "1012 unique images were classified\n",
      "\n",
      "11 images were classified 11 times\n",
      "165 images were classified 15 times\n",
      "8016 images were classified 16 times\n",
      "18 images were classified 18 times\n",
      "266 images were classified 19 times\n",
      "9680 images were classified 20 times\n"
     ]
    }
   ],
   "source": [
    "print(f\"{len(df_labeling['image_name'])} images were classified\")\n",
    "print(f\"{len(df_labeling['image_name'].unique())} unique images were classified\\n\")\n",
    "num_images = 0\n",
    "image_appearances = df_labeling.image_appearances.value_counts().sort_index(ascending=True)\n",
    "for idx in image_appearances.index:\n",
    "    print(f'{image_appearances[idx]} images were classified {idx} times')\n",
    "    num_images += image_appearances[idx]"
   ]
  },
  {
   "cell_type": "markdown",
   "metadata": {},
   "source": [
    "#### Keeping the images that were classified by all subjects (optional)"
   ]
  },
  {
   "cell_type": "code",
   "execution_count": 12,
   "metadata": {},
   "outputs": [
    {
     "name": "stdout",
     "output_type": "stream",
     "text": [
      "<class 'pandas.core.frame.DataFrame'>\n",
      "Int64Index: 18156 entries, 0 to 1010\n",
      "Data columns (total 6 columns):\n",
      " #   Column             Non-Null Count  Dtype \n",
      "---  ------             --------------  ----- \n",
      " 0   userid             18156 non-null  int64 \n",
      " 1   user               18156 non-null  object\n",
      " 2   image_name         18156 non-null  object\n",
      " 3   id_image           18156 non-null  object\n",
      " 4   class              18156 non-null  object\n",
      " 5   image_appearances  18156 non-null  int64 \n",
      "dtypes: int64(2), object(4)\n",
      "memory usage: 992.9+ KB\n"
     ]
    }
   ],
   "source": [
    "#df_labeling = df_labeling[df_labeling['image_appearances'] == 20]\n",
    "df_labeling.info()"
   ]
  },
  {
   "cell_type": "markdown",
   "metadata": {},
   "source": [
    "### Analysing the [inter-annotator agreement](https://scikit-learn.org/stable/modules/generated/sklearn.metrics.cohen_kappa_score.html) on the results  \n",
    "\n",
    "### $\\kappa = (p_o - p_e) / (1 - p_e)$\n",
    "\n",
    "#### where $p_o$ is the empirical probability of agreement on the label assigned to any sample (the observed agreement ratio), and $p_e$ is the expected agreement when both annotators assign labels randomly. $p_e$ is estimated using a per-annotator empirical prior over the class labels"
   ]
  },
  {
   "cell_type": "code",
   "execution_count": 13,
   "metadata": {},
   "outputs": [],
   "source": [
    "l1 = df_labeling.userid.unique()\n",
    "iter_users = itertools.product(l1,l1)\n",
    "df_iaa = pd.DataFrame(index=l1, columns=l1)"
   ]
  },
  {
   "cell_type": "code",
   "execution_count": 14,
   "metadata": {},
   "outputs": [],
   "source": [
    "for user1,user2 in iter_users:\n",
    "    classesA = df_labeling.loc[(df_labeling.userid == user1),['id_image', 'class']]\n",
    "    classesA.sort_values(by=['id_image'], inplace=True)\n",
    "\n",
    "    classesB = df_labeling.loc[(df_labeling.userid == user2),['id_image', 'class']]\n",
    "    classesB.sort_values(by=['id_image'], inplace=True)\n",
    "\n",
    "    classesAB = pd.merge(classesA, classesB, on=['id_image'])\n",
    "    #classesAB.drop_duplicates(subset='id_image', keep = 'first', inplace=True) \n",
    "    classesAB.drop('id_image', axis=1, inplace=True)\n",
    "    classesAB.dropna(inplace=True)\n",
    "\n",
    "    agreement = cks(classesAB['class_x'], classesAB['class_y'])\n",
    "    df_iaa.loc[user1,user2] = f'{agreement:.3f}/({len(classesAB)})'\n",
    "\n",
    "#print(tabulate(df_iaa, headers='keys', tablefmt='psql'))"
   ]
  },
  {
   "cell_type": "code",
   "execution_count": 15,
   "metadata": {},
   "outputs": [
    {
     "data": {
      "text/html": [
       "<div>\n",
       "<style scoped>\n",
       "    .dataframe tbody tr th:only-of-type {\n",
       "        vertical-align: middle;\n",
       "    }\n",
       "\n",
       "    .dataframe tbody tr th {\n",
       "        vertical-align: top;\n",
       "    }\n",
       "\n",
       "    .dataframe thead th {\n",
       "        text-align: right;\n",
       "    }\n",
       "</style>\n",
       "<table border=\"1\" class=\"dataframe\">\n",
       "  <thead>\n",
       "    <tr style=\"text-align: right;\">\n",
       "      <th></th>\n",
       "      <th>1</th>\n",
       "      <th>2</th>\n",
       "      <th>3</th>\n",
       "      <th>4</th>\n",
       "      <th>5</th>\n",
       "      <th>6</th>\n",
       "      <th>7</th>\n",
       "      <th>8</th>\n",
       "      <th>9</th>\n",
       "      <th>10</th>\n",
       "      <th>11</th>\n",
       "      <th>12</th>\n",
       "      <th>13</th>\n",
       "      <th>14</th>\n",
       "      <th>15</th>\n",
       "      <th>16</th>\n",
       "      <th>17</th>\n",
       "      <th>18</th>\n",
       "      <th>19</th>\n",
       "      <th>20</th>\n",
       "    </tr>\n",
       "  </thead>\n",
       "  <tbody>\n",
       "    <tr>\n",
       "      <th>1</th>\n",
       "      <td>1.000/(1012)</td>\n",
       "      <td>-0.011/(1012)</td>\n",
       "      <td>0.022/(1010)</td>\n",
       "      <td>0.003/(1012)</td>\n",
       "      <td>-0.009/(1012)</td>\n",
       "      <td>-0.004/(1008)</td>\n",
       "      <td>-0.061/(1002)</td>\n",
       "      <td>0.081/(495)</td>\n",
       "      <td>-0.054/(1011)</td>\n",
       "      <td>-0.024/(500)</td>\n",
       "      <td>0.039/(1009)</td>\n",
       "      <td>0.030/(499)</td>\n",
       "      <td>-0.017/(1007)</td>\n",
       "      <td>0.022/(500)</td>\n",
       "      <td>0.023/(1012)</td>\n",
       "      <td>-0.017/(1011)</td>\n",
       "      <td>0.000/(1010)</td>\n",
       "      <td>0.021/(1011)</td>\n",
       "      <td>0.011/(1012)</td>\n",
       "      <td>0.020/(1011)</td>\n",
       "    </tr>\n",
       "    <tr>\n",
       "      <th>2</th>\n",
       "      <td>-0.011/(1012)</td>\n",
       "      <td>1.000/(1012)</td>\n",
       "      <td>-0.310/(1010)</td>\n",
       "      <td>0.478/(1012)</td>\n",
       "      <td>-0.019/(1012)</td>\n",
       "      <td>0.457/(1008)</td>\n",
       "      <td>0.121/(1002)</td>\n",
       "      <td>-0.082/(495)</td>\n",
       "      <td>0.114/(1011)</td>\n",
       "      <td>0.044/(500)</td>\n",
       "      <td>-0.130/(1009)</td>\n",
       "      <td>0.428/(499)</td>\n",
       "      <td>0.260/(1007)</td>\n",
       "      <td>0.084/(500)</td>\n",
       "      <td>0.343/(1012)</td>\n",
       "      <td>0.182/(1011)</td>\n",
       "      <td>0.058/(1010)</td>\n",
       "      <td>-0.215/(1011)</td>\n",
       "      <td>0.606/(1012)</td>\n",
       "      <td>0.174/(1011)</td>\n",
       "    </tr>\n",
       "    <tr>\n",
       "      <th>3</th>\n",
       "      <td>0.022/(1010)</td>\n",
       "      <td>-0.310/(1010)</td>\n",
       "      <td>1.000/(1010)</td>\n",
       "      <td>-0.304/(1010)</td>\n",
       "      <td>0.019/(1010)</td>\n",
       "      <td>-0.248/(1006)</td>\n",
       "      <td>0.082/(1000)</td>\n",
       "      <td>0.295/(493)</td>\n",
       "      <td>-0.124/(1009)</td>\n",
       "      <td>0.058/(498)</td>\n",
       "      <td>0.277/(1007)</td>\n",
       "      <td>-0.236/(497)</td>\n",
       "      <td>-0.199/(1005)</td>\n",
       "      <td>-0.011/(498)</td>\n",
       "      <td>-0.123/(1010)</td>\n",
       "      <td>-0.061/(1009)</td>\n",
       "      <td>0.022/(1008)</td>\n",
       "      <td>0.345/(1009)</td>\n",
       "      <td>-0.401/(1010)</td>\n",
       "      <td>-0.004/(1009)</td>\n",
       "    </tr>\n",
       "    <tr>\n",
       "      <th>4</th>\n",
       "      <td>0.003/(1012)</td>\n",
       "      <td>0.478/(1012)</td>\n",
       "      <td>-0.304/(1010)</td>\n",
       "      <td>1.000/(1012)</td>\n",
       "      <td>-0.046/(1012)</td>\n",
       "      <td>0.385/(1008)</td>\n",
       "      <td>0.122/(1002)</td>\n",
       "      <td>-0.099/(495)</td>\n",
       "      <td>0.135/(1011)</td>\n",
       "      <td>0.064/(500)</td>\n",
       "      <td>-0.071/(1009)</td>\n",
       "      <td>0.502/(499)</td>\n",
       "      <td>0.269/(1007)</td>\n",
       "      <td>0.126/(500)</td>\n",
       "      <td>0.277/(1012)</td>\n",
       "      <td>0.201/(1011)</td>\n",
       "      <td>0.065/(1010)</td>\n",
       "      <td>-0.169/(1011)</td>\n",
       "      <td>0.520/(1012)</td>\n",
       "      <td>0.273/(1011)</td>\n",
       "    </tr>\n",
       "    <tr>\n",
       "      <th>5</th>\n",
       "      <td>-0.009/(1012)</td>\n",
       "      <td>-0.019/(1012)</td>\n",
       "      <td>0.019/(1010)</td>\n",
       "      <td>-0.046/(1012)</td>\n",
       "      <td>1.000/(1012)</td>\n",
       "      <td>-0.052/(1008)</td>\n",
       "      <td>-0.015/(1002)</td>\n",
       "      <td>0.052/(495)</td>\n",
       "      <td>0.016/(1011)</td>\n",
       "      <td>0.036/(500)</td>\n",
       "      <td>0.034/(1009)</td>\n",
       "      <td>-0.007/(499)</td>\n",
       "      <td>0.020/(1007)</td>\n",
       "      <td>0.043/(500)</td>\n",
       "      <td>-0.036/(1012)</td>\n",
       "      <td>0.007/(1011)</td>\n",
       "      <td>-0.017/(1010)</td>\n",
       "      <td>0.017/(1011)</td>\n",
       "      <td>-0.042/(1012)</td>\n",
       "      <td>0.034/(1011)</td>\n",
       "    </tr>\n",
       "  </tbody>\n",
       "</table>\n",
       "</div>"
      ],
      "text/plain": [
       "              1              2              3              4              5   \\\n",
       "1   1.000/(1012)  -0.011/(1012)   0.022/(1010)   0.003/(1012)  -0.009/(1012)   \n",
       "2  -0.011/(1012)   1.000/(1012)  -0.310/(1010)   0.478/(1012)  -0.019/(1012)   \n",
       "3   0.022/(1010)  -0.310/(1010)   1.000/(1010)  -0.304/(1010)   0.019/(1010)   \n",
       "4   0.003/(1012)   0.478/(1012)  -0.304/(1010)   1.000/(1012)  -0.046/(1012)   \n",
       "5  -0.009/(1012)  -0.019/(1012)   0.019/(1010)  -0.046/(1012)   1.000/(1012)   \n",
       "\n",
       "              6              7             8              9             10  \\\n",
       "1  -0.004/(1008)  -0.061/(1002)   0.081/(495)  -0.054/(1011)  -0.024/(500)   \n",
       "2   0.457/(1008)   0.121/(1002)  -0.082/(495)   0.114/(1011)   0.044/(500)   \n",
       "3  -0.248/(1006)   0.082/(1000)   0.295/(493)  -0.124/(1009)   0.058/(498)   \n",
       "4   0.385/(1008)   0.122/(1002)  -0.099/(495)   0.135/(1011)   0.064/(500)   \n",
       "5  -0.052/(1008)  -0.015/(1002)   0.052/(495)   0.016/(1011)   0.036/(500)   \n",
       "\n",
       "              11            12             13            14             15  \\\n",
       "1   0.039/(1009)   0.030/(499)  -0.017/(1007)   0.022/(500)   0.023/(1012)   \n",
       "2  -0.130/(1009)   0.428/(499)   0.260/(1007)   0.084/(500)   0.343/(1012)   \n",
       "3   0.277/(1007)  -0.236/(497)  -0.199/(1005)  -0.011/(498)  -0.123/(1010)   \n",
       "4  -0.071/(1009)   0.502/(499)   0.269/(1007)   0.126/(500)   0.277/(1012)   \n",
       "5   0.034/(1009)  -0.007/(499)   0.020/(1007)   0.043/(500)  -0.036/(1012)   \n",
       "\n",
       "              16             17             18             19             20  \n",
       "1  -0.017/(1011)   0.000/(1010)   0.021/(1011)   0.011/(1012)   0.020/(1011)  \n",
       "2   0.182/(1011)   0.058/(1010)  -0.215/(1011)   0.606/(1012)   0.174/(1011)  \n",
       "3  -0.061/(1009)   0.022/(1008)   0.345/(1009)  -0.401/(1010)  -0.004/(1009)  \n",
       "4   0.201/(1011)   0.065/(1010)  -0.169/(1011)   0.520/(1012)   0.273/(1011)  \n",
       "5   0.007/(1011)  -0.017/(1010)   0.017/(1011)  -0.042/(1012)   0.034/(1011)  "
      ]
     },
     "execution_count": 15,
     "metadata": {},
     "output_type": "execute_result"
    }
   ],
   "source": [
    "df_iaa.head()"
   ]
  },
  {
   "cell_type": "code",
   "execution_count": null,
   "metadata": {},
   "outputs": [],
   "source": [
    "df_iaa.to_excel(\"../data/outputs/round3_results.xls\")"
   ]
  },
  {
   "cell_type": "code",
   "execution_count": 16,
   "metadata": {},
   "outputs": [
    {
     "name": "stdout",
     "output_type": "stream",
     "text": [
      "<class 'pandas.core.frame.DataFrame'>\n",
      "Int64Index: 18156 entries, 0 to 1010\n",
      "Data columns (total 6 columns):\n",
      " #   Column             Non-Null Count  Dtype \n",
      "---  ------             --------------  ----- \n",
      " 0   userid             18156 non-null  int64 \n",
      " 1   user               18156 non-null  object\n",
      " 2   image_name         18156 non-null  object\n",
      " 3   id_image           18156 non-null  object\n",
      " 4   class              18156 non-null  object\n",
      " 5   image_appearances  18156 non-null  int64 \n",
      "dtypes: int64(2), object(4)\n",
      "memory usage: 992.9+ KB\n"
     ]
    }
   ],
   "source": [
    "df_labeling.info()"
   ]
  },
  {
   "cell_type": "code",
   "execution_count": 17,
   "metadata": {},
   "outputs": [],
   "source": [
    "df_labeling['round'] = 3\n",
    "df_labeling.drop('image_appearances', inplace=True, axis=1)"
   ]
  },
  {
   "cell_type": "code",
   "execution_count": 18,
   "metadata": {},
   "outputs": [],
   "source": [
    "df_labeling.to_hdf('../data/df_labeling.hdf', key='round3')"
   ]
  }
 ],
 "metadata": {
  "kernelspec": {
   "display_name": "Python 3",
   "language": "python",
   "name": "python3"
  },
  "language_info": {
   "codemirror_mode": {
    "name": "ipython",
    "version": 3
   },
   "file_extension": ".py",
   "mimetype": "text/x-python",
   "name": "python",
   "nbconvert_exporter": "python",
   "pygments_lexer": "ipython3",
   "version": "3.8.5"
  }
 },
 "nbformat": 4,
 "nbformat_minor": 4
}
