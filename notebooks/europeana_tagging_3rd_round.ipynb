{
 "cells": [
  {
   "cell_type": "code",
   "execution_count": 1,
   "metadata": {},
   "outputs": [],
   "source": [
    "import os\n",
    "import re\n",
    "import itertools\n",
    "import pandas as pd\n",
    "from sklearn.metrics import cohen_kappa_score as cks\n",
    "from tabulate import tabulate"
   ]
  },
  {
   "cell_type": "markdown",
   "metadata": {},
   "source": [
    "### Building the dataframe with the results"
   ]
  },
  {
   "cell_type": "code",
   "execution_count": 2,
   "metadata": {},
   "outputs": [],
   "source": [
    "datapath = '../data/img_labeling_3rd_round/'"
   ]
  },
  {
   "cell_type": "code",
   "execution_count": 3,
   "metadata": {},
   "outputs": [
    {
     "name": "stdout",
     "output_type": "stream",
     "text": [
      "47 .csv files in the folder\n",
      "\n",
      "245DC3767EBDBF721824F2F09B4251D5E0063494_taggingresults1.csv\n",
      "245DC3767EBDBF721824F2F09B4251D5E0063494_taggingresults2.csv\n",
      "38205FF03AFF19E008FA123615336213A0ED33AB_2021-01-06-05-01-03.csv\n",
      "38205FF03AFF19E008FA123615336213A0ED33AB_2021-01-06-05-39-48.csv\n",
      "38205FF03AFF19E008FA123615336213A0ED33AB_2021-01-07-02-12-09.csv\n",
      "3AB6D9AAC2244ECC4F595743DF6EB54686DE31A0_1.csv\n",
      "43166EAC7DE5C6D48FF646B1B12BEB46AC7CA375_1.csv\n",
      "5FEF4C8B719CABDF32C46A4C9C9316376DF7B512_1.csv\n",
      "5FFB96918AA02D6E1EF82257A2828F9A4FD9C702_2021-01-07-07-21-32.csv\n",
      "5FFB96918AA02D6E1EF82257A2828F9A4FD9C702_2021-01-07-08-16-23.csv\n",
      "5FFB96918AA02D6E1EF82257A2828F9A4FD9C702_2021-01-07-08-45-27.csv\n",
      "5FFB96918AA02D6E1EF82257A2828F9A4FD9C702_2021-01-07-09-52-14.csv\n",
      "6438BC09053F6B5215CA1FC743AB0E3CF2B53984_2021-01-07-10-34-21.csv\n",
      "6438BC09053F6B5215CA1FC743AB0E3CF2B53984_2021-01-07-10-40-48.csv\n",
      "6438BC09053F6B5215CA1FC743AB0E3CF2B53984_2021-01-07-10-47-56.csv\n",
      "6438BC09053F6B5215CA1FC743AB0E3CF2B53984_2021-01-07-10-53-44.csv\n",
      "6438BC09053F6B5215CA1FC743AB0E3CF2B53984_2021-01-07-10-59-14.csv\n",
      "6438BC09053F6B5215CA1FC743AB0E3CF2B53984_2021-01-07-11-13-13.csv\n",
      "6438BC09053F6B5215CA1FC743AB0E3CF2B53984_2021-01-07-11-19-19.csv\n",
      "6438BC09053F6B5215CA1FC743AB0E3CF2B53984_2021-01-07-11-24-46.csv\n",
      "6438BC09053F6B5215CA1FC743AB0E3CF2B53984_2021-01-07-11-29-52.csv\n",
      "6438BC09053F6B5215CA1FC743AB0E3CF2B53984_2021-01-07-11-36-35.csv\n",
      "73396439E5B11BBCA57A8FCB53FBB6F0FCECE794_taggingresultsset-1.csv\n",
      "73396439E5B11BBCA57A8FCB53FBB6F0FCECE794_taggingresultsset-2.csv\n",
      "867D8B4F797167AA1CA27E00F76B51C63A7278ED_set1.csv\n",
      "8D396D662D61B164860C081535E30C3E32934406_1.csv\n",
      "A6241D7982404859C8D816D8C4A61DC506145A50_1.csv\n",
      "B59DE8F9A0D4C9AADABAFF7EA6A4F61BF89861DA_1.csv\n",
      "B59DE8F9A0D4C9AADABAFF7EA6A4F61BF89861DA_taggingresults-bonus.csv\n",
      "BE887E16DEB41D06FACD481B5BFE3AF6FDF6F8CB_1.csv\n",
      "C003DF0C2EC67886EA6BC835682E3182A2126135_taggingresults1.csv\n",
      "C003DF0C2EC67886EA6BC835682E3182A2126135_taggingresults2.csv\n",
      "C6C77B9A8025D969F0E14BEBBEECB8B82BAAF284_1-200_taggingresults.csv\n",
      "C6C77B9A8025D969F0E14BEBBEECB8B82BAAF284_201-400_taggingresults.csv\n",
      "C6C77B9A8025D969F0E14BEBBEECB8B82BAAF284_401-600_taggingresults.csv\n",
      "C6C77B9A8025D969F0E14BEBBEECB8B82BAAF284_601-800_taggingresults.csv\n",
      "C6C77B9A8025D969F0E14BEBBEECB8B82BAAF284_801-1012_taggingresults.csv\n",
      "C733B58CB8AE244885A97E86B09D896A5633674C_taggingresults-set1.csv\n",
      "C733B58CB8AE244885A97E86B09D896A5633674C_taggingresults-set2.csv\n",
      "C91C4E40D11000EB5E5BE0EDBE12C74A54FAA40B_01-taggingresults.csv\n",
      "F0E0055FB33661B91E7C55DAFB0246BCB43D7D8D_tagging-results-1.csv\n",
      "F0E0055FB33661B91E7C55DAFB0246BCB43D7D8D_tagging-results-2.csv\n",
      "F96F6ACF9B40EDA60D4D48FBED7B3512E1C8E48D_1.csv\n",
      "F9CC3D73B8F36057257097AFFE29B884000BABB5_1-taggingresults.csv\n",
      "F9CC3D73B8F36057257097AFFE29B884000BABB5_2-taggingresults.csv\n",
      "F9CC3D73B8F36057257097AFFE29B884000BABB5_3-taggingresults.csv\n",
      "F9CC3D73B8F36057257097AFFE29B884000BABB5_4-taggingresults.csv\n"
     ]
    }
   ],
   "source": [
    "label_files = sorted(os.listdir(datapath))\n",
    "label_files = [f for f in label_files if 'csv' in f]\n",
    "print(f\"{len(label_files)} .csv files in the folder\\n\")\n",
    "for f in label_files:\n",
    "    print(f)"
   ]
  },
  {
   "cell_type": "code",
   "execution_count": 4,
   "metadata": {},
   "outputs": [
    {
     "name": "stdout",
     "output_type": "stream",
     "text": [
      "20\n"
     ]
    }
   ],
   "source": [
    "subjects = {x[:x.find(\"_\")] for x in label_files}\n",
    "print(len(subjects))"
   ]
  },
  {
   "cell_type": "code",
   "execution_count": 15,
   "metadata": {},
   "outputs": [
    {
     "name": "stdout",
     "output_type": "stream",
     "text": [
      "['../data/img_labeling_3rd_round/BE887E16DEB41D06FACD481B5BFE3AF6FDF6F8CB_1.csv']\n",
      "\n",
      "['../data/img_labeling_3rd_round/867D8B4F797167AA1CA27E00F76B51C63A7278ED_set1.csv']\n",
      "\n",
      "['../data/img_labeling_3rd_round/C6C77B9A8025D969F0E14BEBBEECB8B82BAAF284_1-200_taggingresults.csv', '../data/img_labeling_3rd_round/C6C77B9A8025D969F0E14BEBBEECB8B82BAAF284_201-400_taggingresults.csv', '../data/img_labeling_3rd_round/C6C77B9A8025D969F0E14BEBBEECB8B82BAAF284_401-600_taggingresults.csv', '../data/img_labeling_3rd_round/C6C77B9A8025D969F0E14BEBBEECB8B82BAAF284_601-800_taggingresults.csv', '../data/img_labeling_3rd_round/C6C77B9A8025D969F0E14BEBBEECB8B82BAAF284_801-1012_taggingresults.csv']\n",
      "\n",
      "['../data/img_labeling_3rd_round/43166EAC7DE5C6D48FF646B1B12BEB46AC7CA375_1.csv']\n",
      "\n",
      "['../data/img_labeling_3rd_round/73396439E5B11BBCA57A8FCB53FBB6F0FCECE794_taggingresultsset-1.csv', '../data/img_labeling_3rd_round/73396439E5B11BBCA57A8FCB53FBB6F0FCECE794_taggingresultsset-2.csv']\n",
      "\n",
      "['../data/img_labeling_3rd_round/A6241D7982404859C8D816D8C4A61DC506145A50_1.csv']\n",
      "\n",
      "['../data/img_labeling_3rd_round/38205FF03AFF19E008FA123615336213A0ED33AB_2021-01-06-05-01-03.csv', '../data/img_labeling_3rd_round/38205FF03AFF19E008FA123615336213A0ED33AB_2021-01-06-05-39-48.csv', '../data/img_labeling_3rd_round/38205FF03AFF19E008FA123615336213A0ED33AB_2021-01-07-02-12-09.csv']\n",
      "\n",
      "['../data/img_labeling_3rd_round/F9CC3D73B8F36057257097AFFE29B884000BABB5_1-taggingresults.csv', '../data/img_labeling_3rd_round/F9CC3D73B8F36057257097AFFE29B884000BABB5_2-taggingresults.csv', '../data/img_labeling_3rd_round/F9CC3D73B8F36057257097AFFE29B884000BABB5_3-taggingresults.csv', '../data/img_labeling_3rd_round/F9CC3D73B8F36057257097AFFE29B884000BABB5_4-taggingresults.csv']\n",
      "\n",
      "['../data/img_labeling_3rd_round/6438BC09053F6B5215CA1FC743AB0E3CF2B53984_2021-01-07-10-34-21.csv', '../data/img_labeling_3rd_round/6438BC09053F6B5215CA1FC743AB0E3CF2B53984_2021-01-07-10-40-48.csv', '../data/img_labeling_3rd_round/6438BC09053F6B5215CA1FC743AB0E3CF2B53984_2021-01-07-10-47-56.csv', '../data/img_labeling_3rd_round/6438BC09053F6B5215CA1FC743AB0E3CF2B53984_2021-01-07-10-53-44.csv', '../data/img_labeling_3rd_round/6438BC09053F6B5215CA1FC743AB0E3CF2B53984_2021-01-07-10-59-14.csv', '../data/img_labeling_3rd_round/6438BC09053F6B5215CA1FC743AB0E3CF2B53984_2021-01-07-11-13-13.csv', '../data/img_labeling_3rd_round/6438BC09053F6B5215CA1FC743AB0E3CF2B53984_2021-01-07-11-19-19.csv', '../data/img_labeling_3rd_round/6438BC09053F6B5215CA1FC743AB0E3CF2B53984_2021-01-07-11-24-46.csv', '../data/img_labeling_3rd_round/6438BC09053F6B5215CA1FC743AB0E3CF2B53984_2021-01-07-11-29-52.csv', '../data/img_labeling_3rd_round/6438BC09053F6B5215CA1FC743AB0E3CF2B53984_2021-01-07-11-36-35.csv']\n",
      "\n",
      "['../data/img_labeling_3rd_round/C003DF0C2EC67886EA6BC835682E3182A2126135_taggingresults1.csv', '../data/img_labeling_3rd_round/C003DF0C2EC67886EA6BC835682E3182A2126135_taggingresults2.csv']\n",
      "\n",
      "['../data/img_labeling_3rd_round/F0E0055FB33661B91E7C55DAFB0246BCB43D7D8D_tagging-results-1.csv', '../data/img_labeling_3rd_round/F0E0055FB33661B91E7C55DAFB0246BCB43D7D8D_tagging-results-2.csv']\n",
      "\n",
      "['../data/img_labeling_3rd_round/245DC3767EBDBF721824F2F09B4251D5E0063494_taggingresults1.csv', '../data/img_labeling_3rd_round/245DC3767EBDBF721824F2F09B4251D5E0063494_taggingresults2.csv']\n",
      "\n",
      "['../data/img_labeling_3rd_round/C733B58CB8AE244885A97E86B09D896A5633674C_taggingresults-set1.csv', '../data/img_labeling_3rd_round/C733B58CB8AE244885A97E86B09D896A5633674C_taggingresults-set2.csv']\n",
      "\n",
      "['../data/img_labeling_3rd_round/C91C4E40D11000EB5E5BE0EDBE12C74A54FAA40B_01-taggingresults.csv']\n",
      "\n",
      "['../data/img_labeling_3rd_round/F96F6ACF9B40EDA60D4D48FBED7B3512E1C8E48D_1.csv']\n",
      "\n",
      "['../data/img_labeling_3rd_round/B59DE8F9A0D4C9AADABAFF7EA6A4F61BF89861DA_1.csv', '../data/img_labeling_3rd_round/B59DE8F9A0D4C9AADABAFF7EA6A4F61BF89861DA_taggingresults-bonus.csv']\n",
      "\n",
      "['../data/img_labeling_3rd_round/8D396D662D61B164860C081535E30C3E32934406_1.csv']\n",
      "\n",
      "['../data/img_labeling_3rd_round/5FFB96918AA02D6E1EF82257A2828F9A4FD9C702_2021-01-07-07-21-32.csv', '../data/img_labeling_3rd_round/5FFB96918AA02D6E1EF82257A2828F9A4FD9C702_2021-01-07-08-16-23.csv', '../data/img_labeling_3rd_round/5FFB96918AA02D6E1EF82257A2828F9A4FD9C702_2021-01-07-08-45-27.csv', '../data/img_labeling_3rd_round/5FFB96918AA02D6E1EF82257A2828F9A4FD9C702_2021-01-07-09-52-14.csv']\n",
      "\n",
      "['../data/img_labeling_3rd_round/5FEF4C8B719CABDF32C46A4C9C9316376DF7B512_1.csv']\n",
      "\n",
      "['../data/img_labeling_3rd_round/3AB6D9AAC2244ECC4F595743DF6EB54686DE31A0_1.csv']\n",
      "\n"
     ]
    }
   ],
   "source": [
    "for subject in subjects:\n",
    "    s_files = [os.path.join(datapath, f) for f in label_files if f.startswith(subject)]\n",
    "    with open(os.path.join(datapath, subject, \".csv\", \"w\")) as fw:\n",
    "        for s in s_files:\n",
    "            with open(os.path.join(datapath, s, \"r\")) as fr:\n",
    "                lines = fr.readlines()\n",
    "                for line in lines:\n",
    "                    fw.write(line, \"\\n\")"
   ]
  },
  {
   "cell_type": "code",
   "execution_count": null,
   "metadata": {},
   "outputs": [],
   "source": []
  },
  {
   "cell_type": "code",
   "execution_count": 4,
   "metadata": {},
   "outputs": [
    {
     "name": "stdout",
     "output_type": "stream",
     "text": [
      "Task: 1, User: Amelie, Images Classified: 392\n",
      "Task: 1, User: Gerda, Images Classified: 392\n",
      "Task: 1, User: Marcos, Images Classified: 392\n",
      "Task: 1, User: Renato, Images Classified: 392\n",
      "Task: 1, User: Yalemisew, Images Classified: 392\n",
      "Task: 2, User: Amelie, Images Classified: 392\n",
      "Task: 2, User: Gerda, Images Classified: 392\n",
      "Task: 2, User: Marcos, Images Classified: 392\n",
      "Task: 2, User: Renato, Images Classified: 392\n",
      "Task: 2, User: Yalemisew, Images Classified: 392\n",
      "Task: 3, User: Amelie, Images Classified: 392\n",
      "Task: 3, User: Gerda, Images Classified: 442\n",
      "Task: 3, User: Marcos, Images Classified: 392\n",
      "Task: 3, User: Renato, Images Classified: 392\n",
      "Task: 3, User: Yalemisew, Images Classified: 392\n"
     ]
    }
   ],
   "source": [
    "list_dfs = []\n",
    "for label_file in label_files:\n",
    "    task = int(re.findall(r'[1-3]{1}', label_file)[0])\n",
    "    user = re.findall(r'Amelie|Gerda|Renato|Yalemisew|Marcos', label_file)[0]\n",
    "    date = re.findall(r'[0-9]{2}.[0-9]{2}', label_file)[0]\n",
    "    date = f'{date}.2020'\n",
    "    \n",
    "    df = pd.read_csv(f'{datapath}{label_file}', names=['image name', 'class','w','h'])\n",
    "    df['task'] = task\n",
    "    df['user'] = user\n",
    "    df['date'] = date\n",
    "    df['date'] = pd.to_datetime(df['date'])\n",
    "    df.drop(['w','h'], axis=1, inplace=True)\n",
    "    df.drop_duplicates(inplace=True)\n",
    "    df = df[['task', 'user', 'date', 'image name', 'class']]\n",
    "    print(f'Task: {task}, User: {user}, Images Classified: {len(df)}')\n",
    "    list_dfs.append(df)"
   ]
  },
  {
   "cell_type": "code",
   "execution_count": 5,
   "metadata": {},
   "outputs": [],
   "source": [
    "df_labeling = pd.concat(list_dfs)\n",
    "df_labeling['id_image'] = pd.Categorical(df_labeling['image name']).codes\n",
    "df_labeling[\"class\"] = df_labeling[\"class\"].apply(lambda x:x[1:-1])\n",
    "df_labeling = df_labeling[['task', 'user', 'date', 'image name', 'id_image', 'class']]"
   ]
  },
  {
   "cell_type": "code",
   "execution_count": 6,
   "metadata": {},
   "outputs": [
    {
     "data": {
      "text/html": [
       "<div>\n",
       "<style scoped>\n",
       "    .dataframe tbody tr th:only-of-type {\n",
       "        vertical-align: middle;\n",
       "    }\n",
       "\n",
       "    .dataframe tbody tr th {\n",
       "        vertical-align: top;\n",
       "    }\n",
       "\n",
       "    .dataframe thead th {\n",
       "        text-align: right;\n",
       "    }\n",
       "</style>\n",
       "<table border=\"1\" class=\"dataframe\">\n",
       "  <thead>\n",
       "    <tr style=\"text-align: right;\">\n",
       "      <th></th>\n",
       "      <th>task</th>\n",
       "      <th>user</th>\n",
       "      <th>date</th>\n",
       "      <th>image name</th>\n",
       "      <th>id_image</th>\n",
       "      <th>class</th>\n",
       "    </tr>\n",
       "  </thead>\n",
       "  <tbody>\n",
       "    <tr>\n",
       "      <th>0</th>\n",
       "      <td>1</td>\n",
       "      <td>Amelie</td>\n",
       "      <td>2020-11-20</td>\n",
       "      <td>203-resource_document_zuiderzeemuseum_B001601_...</td>\n",
       "      <td>99</td>\n",
       "      <td>Non-Fruits</td>\n",
       "    </tr>\n",
       "    <tr>\n",
       "      <th>1</th>\n",
       "      <td>1</td>\n",
       "      <td>Amelie</td>\n",
       "      <td>2020-11-20</td>\n",
       "      <td>285-gam19649_1.jpeg</td>\n",
       "      <td>282</td>\n",
       "      <td>Fruits</td>\n",
       "    </tr>\n",
       "    <tr>\n",
       "      <th>2</th>\n",
       "      <td>1</td>\n",
       "      <td>Amelie</td>\n",
       "      <td>2020-11-20</td>\n",
       "      <td>07101-O_389_1.jpeg</td>\n",
       "      <td>6</td>\n",
       "      <td>Fruits</td>\n",
       "    </tr>\n",
       "    <tr>\n",
       "      <th>3</th>\n",
       "      <td>1</td>\n",
       "      <td>Amelie</td>\n",
       "      <td>2020-11-20</td>\n",
       "      <td>07101-O_927_1.jpeg</td>\n",
       "      <td>12</td>\n",
       "      <td>Fruits</td>\n",
       "    </tr>\n",
       "    <tr>\n",
       "      <th>4</th>\n",
       "      <td>1</td>\n",
       "      <td>Amelie</td>\n",
       "      <td>2020-11-20</td>\n",
       "      <td>07101-O_957_1.jpeg</td>\n",
       "      <td>13</td>\n",
       "      <td>Fruits</td>\n",
       "    </tr>\n",
       "  </tbody>\n",
       "</table>\n",
       "</div>"
      ],
      "text/plain": [
       "   task    user       date                                         image name  \\\n",
       "0     1  Amelie 2020-11-20  203-resource_document_zuiderzeemuseum_B001601_...   \n",
       "1     1  Amelie 2020-11-20                                285-gam19649_1.jpeg   \n",
       "2     1  Amelie 2020-11-20                                 07101-O_389_1.jpeg   \n",
       "3     1  Amelie 2020-11-20                                 07101-O_927_1.jpeg   \n",
       "4     1  Amelie 2020-11-20                                 07101-O_957_1.jpeg   \n",
       "\n",
       "   id_image       class  \n",
       "0        99  Non-Fruits  \n",
       "1       282      Fruits  \n",
       "2         6      Fruits  \n",
       "3        12      Fruits  \n",
       "4        13      Fruits  "
      ]
     },
     "execution_count": 6,
     "metadata": {},
     "output_type": "execute_result"
    }
   ],
   "source": [
    "df_labeling.head()"
   ]
  },
  {
   "cell_type": "code",
   "execution_count": 7,
   "metadata": {},
   "outputs": [
    {
     "data": {
      "text/plain": [
       "array(['Non-Fruits', 'Fruits', 'Formal', 'Informal', 'Appealing',\n",
       "       'Non-appealing'], dtype=object)"
      ]
     },
     "execution_count": 7,
     "metadata": {},
     "output_type": "execute_result"
    }
   ],
   "source": [
    "df_labeling['class'].unique()"
   ]
  },
  {
   "cell_type": "code",
   "execution_count": 8,
   "metadata": {},
   "outputs": [],
   "source": [
    "df_labeling['image_appearances'] = df_labeling.groupby('id_image')['id_image'].transform('count')\n",
    "df_labeling = df_labeling[df_labeling['image_appearances'] != 1] "
   ]
  },
  {
   "cell_type": "code",
   "execution_count": 9,
   "metadata": {},
   "outputs": [
    {
     "name": "stdout",
     "output_type": "stream",
     "text": [
      "<class 'pandas.core.frame.DataFrame'>\n",
      "Int64Index: 5880 entries, 0 to 391\n",
      "Data columns (total 7 columns):\n",
      " #   Column             Non-Null Count  Dtype         \n",
      "---  ------             --------------  -----         \n",
      " 0   task               5880 non-null   int64         \n",
      " 1   user               5880 non-null   object        \n",
      " 2   date               5880 non-null   datetime64[ns]\n",
      " 3   image name         5880 non-null   object        \n",
      " 4   id_image           5880 non-null   int16         \n",
      " 5   class              5880 non-null   object        \n",
      " 6   image_appearances  5880 non-null   int64         \n",
      "dtypes: datetime64[ns](1), int16(1), int64(2), object(3)\n",
      "memory usage: 333.0+ KB\n"
     ]
    }
   ],
   "source": [
    "df_labeling.info()"
   ]
  },
  {
   "cell_type": "code",
   "execution_count": 10,
   "metadata": {},
   "outputs": [
    {
     "data": {
      "text/html": [
       "<div>\n",
       "<style scoped>\n",
       "    .dataframe tbody tr th:only-of-type {\n",
       "        vertical-align: middle;\n",
       "    }\n",
       "\n",
       "    .dataframe tbody tr th {\n",
       "        vertical-align: top;\n",
       "    }\n",
       "\n",
       "    .dataframe thead th {\n",
       "        text-align: right;\n",
       "    }\n",
       "</style>\n",
       "<table border=\"1\" class=\"dataframe\">\n",
       "  <thead>\n",
       "    <tr style=\"text-align: right;\">\n",
       "      <th></th>\n",
       "      <th>task</th>\n",
       "      <th>user</th>\n",
       "      <th>date</th>\n",
       "      <th>image name</th>\n",
       "      <th>id_image</th>\n",
       "      <th>class</th>\n",
       "      <th>image_appearances</th>\n",
       "    </tr>\n",
       "  </thead>\n",
       "  <tbody>\n",
       "    <tr>\n",
       "      <th>0</th>\n",
       "      <td>1</td>\n",
       "      <td>Amelie</td>\n",
       "      <td>2020-11-20</td>\n",
       "      <td>203-resource_document_zuiderzeemuseum_B001601_...</td>\n",
       "      <td>99</td>\n",
       "      <td>Non-Fruits</td>\n",
       "      <td>15</td>\n",
       "    </tr>\n",
       "    <tr>\n",
       "      <th>1</th>\n",
       "      <td>1</td>\n",
       "      <td>Amelie</td>\n",
       "      <td>2020-11-20</td>\n",
       "      <td>285-gam19649_1.jpeg</td>\n",
       "      <td>282</td>\n",
       "      <td>Fruits</td>\n",
       "      <td>15</td>\n",
       "    </tr>\n",
       "    <tr>\n",
       "      <th>2</th>\n",
       "      <td>1</td>\n",
       "      <td>Amelie</td>\n",
       "      <td>2020-11-20</td>\n",
       "      <td>07101-O_389_1.jpeg</td>\n",
       "      <td>6</td>\n",
       "      <td>Fruits</td>\n",
       "      <td>15</td>\n",
       "    </tr>\n",
       "    <tr>\n",
       "      <th>3</th>\n",
       "      <td>1</td>\n",
       "      <td>Amelie</td>\n",
       "      <td>2020-11-20</td>\n",
       "      <td>07101-O_927_1.jpeg</td>\n",
       "      <td>12</td>\n",
       "      <td>Fruits</td>\n",
       "      <td>15</td>\n",
       "    </tr>\n",
       "    <tr>\n",
       "      <th>4</th>\n",
       "      <td>1</td>\n",
       "      <td>Amelie</td>\n",
       "      <td>2020-11-20</td>\n",
       "      <td>07101-O_957_1.jpeg</td>\n",
       "      <td>13</td>\n",
       "      <td>Fruits</td>\n",
       "      <td>15</td>\n",
       "    </tr>\n",
       "  </tbody>\n",
       "</table>\n",
       "</div>"
      ],
      "text/plain": [
       "   task    user       date                                         image name  \\\n",
       "0     1  Amelie 2020-11-20  203-resource_document_zuiderzeemuseum_B001601_...   \n",
       "1     1  Amelie 2020-11-20                                285-gam19649_1.jpeg   \n",
       "2     1  Amelie 2020-11-20                                 07101-O_389_1.jpeg   \n",
       "3     1  Amelie 2020-11-20                                 07101-O_927_1.jpeg   \n",
       "4     1  Amelie 2020-11-20                                 07101-O_957_1.jpeg   \n",
       "\n",
       "   id_image       class  image_appearances  \n",
       "0        99  Non-Fruits                 15  \n",
       "1       282      Fruits                 15  \n",
       "2         6      Fruits                 15  \n",
       "3        12      Fruits                 15  \n",
       "4        13      Fruits                 15  "
      ]
     },
     "execution_count": 10,
     "metadata": {},
     "output_type": "execute_result"
    }
   ],
   "source": [
    "df_labeling.head()"
   ]
  },
  {
   "cell_type": "markdown",
   "metadata": {},
   "source": [
    "#### Checking the numbers of images classified after fixing names:"
   ]
  },
  {
   "cell_type": "code",
   "execution_count": 11,
   "metadata": {},
   "outputs": [
    {
     "name": "stdout",
     "output_type": "stream",
     "text": [
      "Task: 1, User: Amelie, Images Classified: 392\n",
      "Task: 1, User: Gerda, Images Classified: 392\n",
      "Task: 1, User: Marcos, Images Classified: 392\n",
      "Task: 1, User: Renato, Images Classified: 392\n",
      "Task: 1, User: Yalemisew, Images Classified: 392\n",
      "\n",
      "Task: 2, User: Amelie, Images Classified: 392\n",
      "Task: 2, User: Gerda, Images Classified: 392\n",
      "Task: 2, User: Marcos, Images Classified: 392\n",
      "Task: 2, User: Renato, Images Classified: 392\n",
      "Task: 2, User: Yalemisew, Images Classified: 392\n",
      "\n",
      "Task: 3, User: Amelie, Images Classified: 392\n",
      "Task: 3, User: Gerda, Images Classified: 392\n",
      "Task: 3, User: Marcos, Images Classified: 392\n",
      "Task: 3, User: Renato, Images Classified: 392\n",
      "Task: 3, User: Yalemisew, Images Classified: 392\n",
      "\n"
     ]
    }
   ],
   "source": [
    "for task in df_labeling.task.unique():\n",
    "    for user in df_labeling.user.unique():\n",
    "        size = len(df_labeling.loc[(df_labeling.user == user) & (df_labeling.task == task), 'id_image'].unique())\n",
    "        print(f'Task: {task}, User: {user}, Images Classified: {size}')\n",
    "    print()"
   ]
  },
  {
   "cell_type": "markdown",
   "metadata": {},
   "source": [
    "#### Checking which images were not classified:"
   ]
  },
  {
   "cell_type": "code",
   "execution_count": 12,
   "metadata": {},
   "outputs": [
    {
     "data": {
      "text/html": [
       "<div>\n",
       "<style scoped>\n",
       "    .dataframe tbody tr th:only-of-type {\n",
       "        vertical-align: middle;\n",
       "    }\n",
       "\n",
       "    .dataframe tbody tr th {\n",
       "        vertical-align: top;\n",
       "    }\n",
       "\n",
       "    .dataframe thead th {\n",
       "        text-align: right;\n",
       "    }\n",
       "</style>\n",
       "<table border=\"1\" class=\"dataframe\">\n",
       "  <thead>\n",
       "    <tr style=\"text-align: right;\">\n",
       "      <th></th>\n",
       "      <th>images</th>\n",
       "      <th>task</th>\n",
       "      <th>user</th>\n",
       "    </tr>\n",
       "  </thead>\n",
       "  <tbody>\n",
       "  </tbody>\n",
       "</table>\n",
       "</div>"
      ],
      "text/plain": [
       "Empty DataFrame\n",
       "Columns: [images, task, user]\n",
       "Index: []"
      ]
     },
     "execution_count": 12,
     "metadata": {},
     "output_type": "execute_result"
    }
   ],
   "source": [
    "images = set(df_labeling.id_image.unique())\n",
    "dfs = []\n",
    "for task in df_labeling.task.unique():\n",
    "    for user in df_labeling.user.unique():\n",
    "        id_list = []\n",
    "        ids = images.difference(set(df_labeling.loc[(df_labeling.user == user) & (df_labeling.task == task), 'id_image']))\n",
    "        if len(ids) > 0:\n",
    "            #print(f'Missing files for task: {task}, by user: {user}')\n",
    "            for _id in ids:\n",
    "                try:\n",
    "                    id_list.append(df_labeling.loc[(df_labeling.task == task) & (df_labeling.id_image == _id), 'image name'].values[0])\n",
    "                    #print(df_labeling.loc[(df_labeling.task == task) & (df_labeling.id_image == _id), 'image name'].values[0])\n",
    "                except:\n",
    "                    pass\n",
    "                    #print('--->', df_labeling.loc[(df_labeling.task == task) & (df_labeling.id_image == _id), 'image name'].values)\n",
    "            #print()\n",
    "        dfm = pd.DataFrame({'images':id_list})\n",
    "        dfm['task'] = task\n",
    "        dfm['user'] = user\n",
    "        dfs.append(dfm)\n",
    "df_missing = pd.concat(dfs)\n",
    "df_missing.to_excel(f'{datapath}/missing.xlsx')\n",
    "df_missing.head()       "
   ]
  },
  {
   "cell_type": "markdown",
   "metadata": {},
   "source": [
    "#### Checking duplicates"
   ]
  },
  {
   "cell_type": "code",
   "execution_count": 13,
   "metadata": {},
   "outputs": [
    {
     "data": {
      "text/html": [
       "<div>\n",
       "<style scoped>\n",
       "    .dataframe tbody tr th:only-of-type {\n",
       "        vertical-align: middle;\n",
       "    }\n",
       "\n",
       "    .dataframe tbody tr th {\n",
       "        vertical-align: top;\n",
       "    }\n",
       "\n",
       "    .dataframe thead th {\n",
       "        text-align: right;\n",
       "    }\n",
       "</style>\n",
       "<table border=\"1\" class=\"dataframe\">\n",
       "  <thead>\n",
       "    <tr style=\"text-align: right;\">\n",
       "      <th></th>\n",
       "      <th>task</th>\n",
       "      <th>user</th>\n",
       "      <th>image name</th>\n",
       "      <th>id_image</th>\n",
       "      <th>class</th>\n",
       "    </tr>\n",
       "  </thead>\n",
       "  <tbody>\n",
       "  </tbody>\n",
       "</table>\n",
       "</div>"
      ],
      "text/plain": [
       "Empty DataFrame\n",
       "Columns: [task, user, image name, id_image, class]\n",
       "Index: []"
      ]
     },
     "execution_count": 13,
     "metadata": {},
     "output_type": "execute_result"
    }
   ],
   "source": [
    "duplicates = df_labeling.loc[df_labeling.duplicated(['task', 'user', 'image name', 'id_image'], keep=False), ['task', 'user', 'image name', 'id_image', 'class']]\n",
    "duplicates.sort_values(by=['user', 'image name', 'task'], inplace=True)\n",
    "duplicates.to_excel(f'{datapath}/duplicates.xlsx')\n",
    "duplicates.head(30)"
   ]
  },
  {
   "cell_type": "markdown",
   "metadata": {},
   "source": [
    "### Analysing the [inter-annotator agreement](https://scikit-learn.org/stable/modules/generated/sklearn.metrics.cohen_kappa_score.html) on the results"
   ]
  },
  {
   "cell_type": "code",
   "execution_count": 14,
   "metadata": {},
   "outputs": [],
   "source": [
    "l1 = df_labeling.user.unique()\n",
    "iter_users = list(itertools.product(l1,l1))\n",
    "df_iaa = pd.DataFrame(index=l1, columns=l1)"
   ]
  },
  {
   "cell_type": "code",
   "execution_count": 15,
   "metadata": {},
   "outputs": [
    {
     "name": "stdout",
     "output_type": "stream",
     "text": [
      "+-----------+-------------+-------------+-------------+-------------+-------------+\n",
      "| Task_1    | Amelie      | Gerda       | Marcos      | Renato      | Yalemisew   |\n",
      "|-----------+-------------+-------------+-------------+-------------+-------------|\n",
      "| Amelie    | 1.000/(392) | 0.943/(392) | 0.913/(392) | 0.928/(392) | 0.913/(392) |\n",
      "| Gerda     | 0.943/(392) | 1.000/(392) | 0.886/(392) | 0.912/(392) | 0.866/(392) |\n",
      "| Marcos    | 0.913/(392) | 0.886/(392) | 1.000/(392) | 0.923/(392) | 0.928/(392) |\n",
      "| Renato    | 0.928/(392) | 0.912/(392) | 0.923/(392) | 1.000/(392) | 0.913/(392) |\n",
      "| Yalemisew | 0.913/(392) | 0.866/(392) | 0.928/(392) | 0.913/(392) | 1.000/(392) |\n",
      "+-----------+-------------+-------------+-------------+-------------+-------------+\n",
      "\n",
      "+-----------+-------------+-------------+-------------+-------------+-------------+\n",
      "| Task_2    | Amelie      | Gerda       | Marcos      | Renato      | Yalemisew   |\n",
      "|-----------+-------------+-------------+-------------+-------------+-------------|\n",
      "| Amelie    | 1.000/(392) | 0.168/(392) | 0.216/(392) | 0.255/(392) | 0.167/(392) |\n",
      "| Gerda     | 0.168/(392) | 1.000/(392) | 0.188/(392) | 0.095/(392) | 0.419/(392) |\n",
      "| Marcos    | 0.216/(392) | 0.188/(392) | 1.000/(392) | 0.094/(392) | 0.358/(392) |\n",
      "| Renato    | 0.255/(392) | 0.095/(392) | 0.094/(392) | 1.000/(392) | 0.089/(392) |\n",
      "| Yalemisew | 0.167/(392) | 0.419/(392) | 0.358/(392) | 0.089/(392) | 1.000/(392) |\n",
      "+-----------+-------------+-------------+-------------+-------------+-------------+\n",
      "\n",
      "+-----------+-------------+-------------+-------------+-------------+-------------+\n",
      "| Task_3    | Amelie      | Gerda       | Marcos      | Renato      | Yalemisew   |\n",
      "|-----------+-------------+-------------+-------------+-------------+-------------|\n",
      "| Amelie    | 1.000/(392) | 0.472/(392) | 0.396/(392) | 0.526/(392) | 0.336/(392) |\n",
      "| Gerda     | 0.472/(392) | 1.000/(392) | 0.346/(392) | 0.565/(392) | 0.454/(392) |\n",
      "| Marcos    | 0.396/(392) | 0.346/(392) | 1.000/(392) | 0.326/(392) | 0.346/(392) |\n",
      "| Renato    | 0.526/(392) | 0.565/(392) | 0.326/(392) | 1.000/(392) | 0.439/(392) |\n",
      "| Yalemisew | 0.336/(392) | 0.454/(392) | 0.346/(392) | 0.439/(392) | 1.000/(392) |\n",
      "+-----------+-------------+-------------+-------------+-------------+-------------+\n",
      "\n"
     ]
    }
   ],
   "source": [
    "for task in df_labeling.task.unique():\n",
    "    for user1,user2 in iter_users:\n",
    "        classesA = df_labeling.loc[(df_labeling.user == user1) & (df_labeling.task == task),['id_image', 'class']]\n",
    "        classesA.sort_values(by=['id_image'], inplace=True)\n",
    "\n",
    "        classesB = df_labeling.loc[(df_labeling.user == user2) & (df_labeling.task == task),['id_image', 'class']]\n",
    "        classesB.sort_values(by=['id_image'], inplace=True)\n",
    "        \n",
    "        classesAB = pd.merge(classesA, classesB, on=['id_image'])\n",
    "        classesAB.drop_duplicates(subset='id_image', keep = 'first', inplace=True) \n",
    "        classesAB.drop('id_image', axis=1, inplace=True)\n",
    "        classesAB.dropna(inplace=True)\n",
    "\n",
    "        agreement = cks(classesAB['class_x'], classesAB['class_y'])\n",
    "        df_iaa.loc[user1,user2] = f'{agreement:.3f}/({len(classesAB)})'  \n",
    "        df_iaa.index.name = f'Task_{task}'\n",
    "    print(tabulate(df_iaa, headers='keys', tablefmt='psql'))\n",
    "    print()"
   ]
  },
  {
   "cell_type": "code",
   "execution_count": 16,
   "metadata": {},
   "outputs": [
    {
     "name": "stdout",
     "output_type": "stream",
     "text": [
      "<class 'pandas.core.frame.DataFrame'>\n",
      "Int64Index: 5880 entries, 0 to 391\n",
      "Data columns (total 7 columns):\n",
      " #   Column             Non-Null Count  Dtype         \n",
      "---  ------             --------------  -----         \n",
      " 0   task               5880 non-null   int64         \n",
      " 1   user               5880 non-null   object        \n",
      " 2   date               5880 non-null   datetime64[ns]\n",
      " 3   image name         5880 non-null   object        \n",
      " 4   id_image           5880 non-null   int16         \n",
      " 5   class              5880 non-null   object        \n",
      " 6   image_appearances  5880 non-null   int64         \n",
      "dtypes: datetime64[ns](1), int16(1), int64(2), object(3)\n",
      "memory usage: 333.0+ KB\n"
     ]
    }
   ],
   "source": [
    "df_labeling.info()"
   ]
  },
  {
   "cell_type": "code",
   "execution_count": 17,
   "metadata": {},
   "outputs": [],
   "source": [
    "df_labeling['round'] = 2\n",
    "df_labeling.drop('image_appearances', inplace=True, axis=1)"
   ]
  },
  {
   "cell_type": "code",
   "execution_count": 18,
   "metadata": {},
   "outputs": [],
   "source": [
    "df_labeling.to_hdf('../data/df_labeling.hdf', key='round2')"
   ]
  },
  {
   "cell_type": "code",
   "execution_count": null,
   "metadata": {},
   "outputs": [],
   "source": []
  }
 ],
 "metadata": {
  "kernelspec": {
   "display_name": "Python 3",
   "language": "python",
   "name": "python3"
  },
  "language_info": {
   "codemirror_mode": {
    "name": "ipython",
    "version": 3
   },
   "file_extension": ".py",
   "mimetype": "text/x-python",
   "name": "python",
   "nbconvert_exporter": "python",
   "pygments_lexer": "ipython3",
   "version": "3.8.5"
  }
 },
 "nbformat": 4,
 "nbformat_minor": 4
}
