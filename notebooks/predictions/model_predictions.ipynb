{
 "cells": [
  {
   "cell_type": "code",
   "execution_count": 1,
   "id": "arabic-maryland",
   "metadata": {},
   "outputs": [],
   "source": [
    "import os\n",
    "import PIL\n",
    "import tensorflow as tf\n",
    "from tensorflow import keras\n",
    "from tensorflow.keras.preprocessing.image import ImageDataGenerator, img_to_array, load_img\n",
    "import numpy as np\n",
    "import pandas as pd\n",
    "from tensorflow.keras.applications import resnet50, xception, inception_v3\n",
    "from tensorflow.keras.models import load_model\n",
    "from tqdm import tqdm\n",
    "from sklearn import preprocessing\n",
    "from sklearn.preprocessing import LabelEncoder"
   ]
  },
  {
   "cell_type": "code",
   "execution_count": 2,
   "id": "immune-advisory",
   "metadata": {},
   "outputs": [],
   "source": [
    "from PIL import ImageFile\n",
    "ImageFile.LOAD_TRUNCATED_IMAGES = True"
   ]
  },
  {
   "cell_type": "code",
   "execution_count": 3,
   "id": "angry-villa",
   "metadata": {},
   "outputs": [],
   "source": [
    "img_dir = 'E:\\\\IRELAND\\\\ChiA\\\\Round 4 images\\\\'"
   ]
  },
  {
   "cell_type": "code",
   "execution_count": 4,
   "id": "attempted-capability",
   "metadata": {},
   "outputs": [
    {
     "data": {
      "text/plain": [
       "LabelEncoder()"
      ]
     },
     "execution_count": 4,
     "metadata": {},
     "output_type": "execute_result"
    }
   ],
   "source": [
    "le = preprocessing.LabelEncoder()\n",
    "le.fit([\"[Appealing]\", \"[Non-appealing]\"])"
   ]
  },
  {
   "cell_type": "code",
   "execution_count": 5,
   "id": "terminal-grass",
   "metadata": {},
   "outputs": [
    {
     "data": {
      "text/plain": [
       "array(['[Appealing]', '[Non-appealing]'], dtype='<U15')"
      ]
     },
     "execution_count": 5,
     "metadata": {},
     "output_type": "execute_result"
    }
   ],
   "source": [
    "le.classes_"
   ]
  },
  {
   "cell_type": "code",
   "execution_count": 6,
   "id": "fluid-fetish",
   "metadata": {},
   "outputs": [],
   "source": [
    "# def predict_img(filename, img_size, loaded_model, preprocessing_function):\n",
    "#     original = load_img(filename, target_size = img_size)\n",
    "#     basename = os.path.basename(filename)\n",
    "#     img = img_to_array(original)\n",
    "#     img = np.expand_dims(img, axis = 0)\n",
    "#     processed_img = preprocessing_function(img.copy())\n",
    "#     pred = loaded_model.predict(processed_img)\n",
    "#     res = np.argmax(pred, axis = 1)\n",
    "#     class_label = le.inverse_transform([int(res)])\n",
    "#     return basename, class_label"
   ]
  },
  {
   "cell_type": "code",
   "execution_count": 7,
   "id": "special-martin",
   "metadata": {},
   "outputs": [],
   "source": [
    "model_dir = 'E:\\\\IRELAND\\\\ChiA\\\\Round 4 - training\\\\Saved Models\\\\Final\\\\'"
   ]
  },
  {
   "cell_type": "code",
   "execution_count": 8,
   "id": "center-staff",
   "metadata": {},
   "outputs": [],
   "source": [
    "resnet_model = load_model(model_dir + 'resnet-model.h5')\n",
    "xception_model = load_model(model_dir + 'xception-model.h5')\n",
    "inception_model = load_model(model_dir + 'inception-model.h5')"
   ]
  },
  {
   "cell_type": "code",
   "execution_count": 10,
   "id": "impossible-membership",
   "metadata": {},
   "outputs": [],
   "source": [
    "# resnet_predictions\n",
    "# inception_predictions\n",
    "# xception_predictions"
   ]
  },
  {
   "cell_type": "code",
   "execution_count": 11,
   "id": "extreme-speaking",
   "metadata": {},
   "outputs": [],
   "source": [
    "def batch_predictions(directory, img_size, loaded_model, preprocessing_function):   \n",
    "    data = pd.DataFrame([])\n",
    "    for filename in tqdm(os.listdir(directory)):\n",
    "        original = load_img(os.path.join(directory, filename), target_size = img_size)\n",
    "        #print(filename)\n",
    "        #basename = os.path.basename(filename)\n",
    "        img = img_to_array(original)\n",
    "        img = np.expand_dims(img, axis = 0)\n",
    "        processed_img = preprocessing_function(img.copy())\n",
    "        pred = loaded_model.predict(processed_img)\n",
    "        res = np.argmax(pred, axis = 1)\n",
    "        class_label = le.inverse_transform([int(res)])\n",
    "        data = data.append(pd.DataFrame({'img_name': filename, 'label': class_label}, index=[0]), ignore_index= True)\n",
    "    return data"
   ]
  },
  {
   "cell_type": "code",
   "execution_count": 16,
   "id": "future-strengthening",
   "metadata": {},
   "outputs": [
    {
     "name": "stderr",
     "output_type": "stream",
     "text": [
      "100%|██████████████████████████████████████████████████████████████████████████████████████████████████████████████████████████████████| 1079/1079 [04:58<00:00,  3.61it/s]\n"
     ]
    }
   ],
   "source": [
    "inception_predictions = batch_predictions(img_dir, (299, 299), inception_model, inception_v3.preprocess_input)"
   ]
  },
  {
   "cell_type": "code",
   "execution_count": 17,
   "id": "friendly-collection",
   "metadata": {},
   "outputs": [],
   "source": [
    "save_dir = 'E:\\\\IRELAND\\\\ChiA\\\\Model predictions\\\\'"
   ]
  },
  {
   "cell_type": "code",
   "execution_count": 18,
   "id": "compliant-timothy",
   "metadata": {},
   "outputs": [],
   "source": [
    "inception_predictions.to_csv(save_dir + 'inception_predictions.csv', index = False, header = None, encoding= 'utf-8')"
   ]
  }
 ],
 "metadata": {
  "kernelspec": {
   "display_name": "Python 3",
   "language": "python",
   "name": "python3"
  },
  "language_info": {
   "codemirror_mode": {
    "name": "ipython",
    "version": 3
   },
   "file_extension": ".py",
   "mimetype": "text/x-python",
   "name": "python",
   "nbconvert_exporter": "python",
   "pygments_lexer": "ipython3",
   "version": "3.7.9"
  }
 },
 "nbformat": 4,
 "nbformat_minor": 5
}
