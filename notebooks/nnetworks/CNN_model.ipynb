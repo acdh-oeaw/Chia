{
  "nbformat": 4,
  "nbformat_minor": 0,
  "metadata": {
    "colab": {
      "name": "CNN_model",
      "provenance": []
    },
    "kernelspec": {
      "name": "python3",
      "display_name": "Python 3"
    },
    "accelerator": "GPU"
  },
  "cells": [
    {
      "cell_type": "markdown",
      "metadata": {
        "id": "SsJE8TvhGtcp"
      },
      "source": [
        "## **Import libraries and packages**"
      ]
    },
    {
      "cell_type": "code",
      "metadata": {
        "id": "At1vu_U73uBx"
      },
      "source": [
        "# %tensorflow_version 2.x\r\n",
        "\r\n",
        "# import tensorflow and tensorflow.keras\r\n",
        "import tensorflow as tf\r\n",
        "from tensorflow import keras\r\n",
        "from tensorflow.keras import backend as K\r\n",
        "\r\n",
        "# import ImageDataGenerator and the related functions required for processing images\r\n",
        "from tensorflow.keras.preprocessing.image import ImageDataGenerator, img_to_array, load_img\r\n",
        "from tensorflow.keras.layers import Input, Dense, Dropout, BatchNormalization, GlobalAveragePooling2D\r\n",
        "\r\n",
        "# import optimizers\r\n",
        "from tensorflow.keras.optimizers import SGD, Adam, Adagrad, Adadelta, RMSprop\r\n",
        "\r\n",
        "# import statements for building and loading the model\r\n",
        "from tensorflow.keras import models\r\n",
        "from tensorflow.keras.models import Sequential, Model, load_model\r\n",
        "from tensorflow.keras.models import model_from_json\r\n",
        "\r\n",
        "# import statements for callbacks\r\n",
        "from tensorflow.keras.callbacks import ReduceLROnPlateau, ModelCheckpoint, EarlyStopping\r\n",
        "\r\n",
        "# import statements for initlializers and regularizers\r\n",
        "from tensorflow.keras.initializers import glorot_uniform\r\n",
        "from tensorflow.keras.regularizers import l2\r\n",
        "\r\n",
        "# import statements for one-hot encoding, model plotting\r\n",
        "from tensorflow.keras.utils import to_categorical, plot_model\r\n",
        "\r\n",
        "# import statements for loading ResNet50 from keras\r\n",
        "from tensorflow.keras.applications import resnet50\r\n",
        "#from tensorflow.keras.applications.resnet50 import ResNet50\r\n",
        "#from tensorflow.keras.applications.resnet50 import preprocess_input\r\n",
        "\r\n",
        "# import statements for scikit-learn\r\n",
        "import sklearn.metrics as metrics\r\n",
        "from sklearn.preprocessing import LabelBinarizer\r\n",
        "from sklearn.model_selection import train_test_split\r\n",
        "from sklearn.metrics import classification_report, accuracy_score, confusion_matrix\r\n",
        "\r\n",
        "from tensorflow.keras.layers.experimental import preprocessing\r\n",
        "\r\n",
        "# import scipy\r\n",
        "import scipy.misc\r\n",
        "\r\n",
        "# import os for file access\r\n",
        "import os \r\n",
        "\r\n",
        "# import glob\r\n",
        "import glob\r\n",
        "\r\n",
        "# import numpy, pandas\r\n",
        "import numpy as np\r\n",
        "import pandas as pd\r\n",
        "\r\n",
        "# import opencv\r\n",
        "import cv2\r\n",
        "\r\n",
        "# import matplotlib\r\n",
        "import matplotlib.pyplot as plt\r\n",
        "from matplotlib.pyplot import imshow\r\n",
        "\r\n",
        "# import zipfile for unzipping the data\r\n",
        "import zipfile\r\n",
        "\r\n",
        "# import csv to access the csv files\r\n",
        "import csv\r\n",
        "\r\n",
        "# import drive to access the data from GDrive\r\n",
        "from google.colab import drive\r\n",
        "\r\n",
        "# import seaborn\r\n",
        "import seaborn as sns\r\n",
        "\r\n",
        "# import time\r\n",
        "from time import time"
      ],
      "execution_count": null,
      "outputs": []
    },
    {
      "cell_type": "code",
      "metadata": {
        "id": "hIRLFWnE4dM1"
      },
      "source": [
        "from PIL import ImageFile\r\n",
        "ImageFile.LOAD_TRUNCATED_IMAGES = True"
      ],
      "execution_count": null,
      "outputs": []
    },
    {
      "cell_type": "markdown",
      "metadata": {
        "id": "OMts3IveG21y"
      },
      "source": [
        "## **Load the dataset**"
      ]
    },
    {
      "cell_type": "code",
      "metadata": {
        "id": "KOtKhOhAvq6I",
        "colab": {
          "base_uri": "https://localhost:8080/"
        },
        "outputId": "adeceeb8-bfb0-40dc-cdaf-9d38d9a411d3"
      },
      "source": [
        "drive.mount('/content/drive')"
      ],
      "execution_count": null,
      "outputs": [
        {
          "output_type": "stream",
          "text": [
            "Mounted at /content/drive\n"
          ],
          "name": "stdout"
        }
      ]
    },
    {
      "cell_type": "code",
      "metadata": {
        "id": "MVayiSEvSY1b"
      },
      "source": [
        "zip_ref = zipfile.ZipFile(\"/content/drive/MyDrive/ChIA Images.zip\", 'r')\r\n",
        "zip_ref.extractall(\"/tmp\")\r\n",
        "zip_ref.close()"
      ],
      "execution_count": null,
      "outputs": []
    },
    {
      "cell_type": "code",
      "metadata": {
        "id": "0slwNdMNSb4P"
      },
      "source": [
        "data_dir = '/tmp/ChIA Images/'"
      ],
      "execution_count": null,
      "outputs": []
    },
    {
      "cell_type": "markdown",
      "metadata": {
        "id": "sKi2HCldG8Mb"
      },
      "source": [
        "## **Data Augmentation**"
      ]
    },
    {
      "cell_type": "code",
      "metadata": {
        "id": "0oEIjURHTVMX"
      },
      "source": [
        "training_batch_size = 16\r\n",
        "validation_batch_size = 8\r\n",
        "def get_images(img_size, preprocessing):\r\n",
        "\r\n",
        "  \r\n",
        "  datagen = ImageDataGenerator(rotation_range=20,\r\n",
        "                              horizontal_flip= True,\r\n",
        "                              height_shift_range=0.1,\r\n",
        "                              width_shift_range=0.1,\r\n",
        "                              shear_range=0.2,\r\n",
        "                              zoom_range=0.2,\r\n",
        "                              validation_split=0.2,\r\n",
        "                              fill_mode=\"nearest\",\r\n",
        "                              preprocessing_function = preprocessing)\r\n",
        "  \r\n",
        "  train_datagen = datagen.flow_from_directory(data_dir,\r\n",
        "                                            batch_size= training_batch_size,\r\n",
        "                                            shuffle= True,\r\n",
        "                                            target_size = (img_size, img_size),\r\n",
        "                                            subset=\"training\",\r\n",
        "                                            class_mode = 'categorical')\r\n",
        "  \r\n",
        "  val_datagen = datagen.flow_from_directory(data_dir,\r\n",
        "                                            batch_size= validation_batch_size,\r\n",
        "                                            shuffle= False,\r\n",
        "                                            target_size = (img_size, img_size),\r\n",
        "                                            subset=\"validation\",\r\n",
        "                                            class_mode = 'categorical')\r\n",
        "  \r\n",
        "  return train_datagen, val_datagen"
      ],
      "execution_count": null,
      "outputs": []
    },
    {
      "cell_type": "code",
      "metadata": {
        "colab": {
          "base_uri": "https://localhost:8080/"
        },
        "id": "YAWT71kX--Pq",
        "outputId": "bf408e90-22fa-4f5b-8282-f1496a6e8691"
      },
      "source": [
        "train_datagen, val_datagen = get_images(224, preprocessing= resnet50.preprocess_input)"
      ],
      "execution_count": null,
      "outputs": [
        {
          "output_type": "stream",
          "text": [
            "Found 498 images belonging to 2 classes.\n",
            "Found 124 images belonging to 2 classes.\n"
          ],
          "name": "stdout"
        }
      ]
    },
    {
      "cell_type": "code",
      "metadata": {
        "id": "z8uQ_iJQpMMv"
      },
      "source": [
        "def visualize_training(history, epochs):\r\n",
        "  fig = plt.figure()\r\n",
        "  \r\n",
        "  #plt.subplot(1,2,1)\r\n",
        "  plt.plot(history.history['accuracy']);\r\n",
        "  plt.plot(history.history['val_accuracy'])\r\n",
        "  plt.title(\"Model Accuracy\")\r\n",
        "  plt.ylabel('accuracy')\r\n",
        "  plt.xlabel('epoch')\r\n",
        "  #plt.figsize()\r\n",
        "  label_1 = \"{:.2f}\".format(history.history['accuracy'][-1])\r\n",
        "  label_2 = \"{:.2f}\".format(history.history['val_accuracy'][-1])\r\n",
        "  plt.annotate(label_1, (epochs-1,history.history['accuracy'][-1]), textcoords=\"offset points\", \r\n",
        "               xytext=(0,10),ha='center')\r\n",
        "  plt.annotate(label_2, (epochs-1,history.history['val_accuracy'][-1]), textcoords=\"offset points\", \r\n",
        "               xytext=(0,10),ha='center')\r\n",
        "  plt.legend(['training', 'validation'], loc='upper left')\r\n",
        "\r\n",
        "  fig = plt.figure()\r\n",
        "\r\n",
        "  #plt.subplot(1,2,2)\r\n",
        "  plt.plot(history.history['loss']);\r\n",
        "  plt.plot(history.history['val_loss'])\r\n",
        "  plt.title(\"Model Loss\")\r\n",
        "  plt.ylabel('loss')\r\n",
        "  plt.xlabel('epoch')\r\n",
        "  label_3 = \"{:.2f}\".format(history.history['loss'][-1])\r\n",
        "  label_4 = \"{:.2f}\".format(history.history['val_loss'][-1])\r\n",
        "  plt.annotate(label_3, (epochs-1,history.history['loss'][-1]), textcoords=\"offset points\", \r\n",
        "               xytext=(0,10),ha='center')\r\n",
        "  plt.annotate(label_4, (epochs-1,history.history['val_loss'][-1]), textcoords=\"offset points\", \r\n",
        "               xytext=(0,10),ha='center')\r\n",
        "  plt.legend(['training', 'validation'], loc='upper left')\r\n",
        "\r\n",
        "  plt.show()"
      ],
      "execution_count": null,
      "outputs": []
    },
    {
      "cell_type": "code",
      "metadata": {
        "id": "In2WtrreqQpd"
      },
      "source": [
        "def print_classification_report(model, data_gen, batch_size):\r\n",
        "  true_labels = data_gen.labels\r\n",
        "  data_gen.reset()\r\n",
        "  predicted_labels = model.predict(data_gen, steps = np.ceil(len(true_labels)/batch_size))\r\n",
        "  #print(list( np.argmax(a) for a in predicted_labels), true_labels)\r\n",
        "  print(classification_report(true_labels, list( np.argmax(a) for a in predicted_labels)))\r\n",
        "  print(\"Confusion Matrix:\\n \",confusion_matrix(true_labels,list( np.argmax(a) for a in predicted_labels)))"
      ],
      "execution_count": null,
      "outputs": []
    },
    {
      "cell_type": "markdown",
      "metadata": {
        "id": "wak6fhrhHFLi"
      },
      "source": [
        "## **Build the model**"
      ]
    },
    {
      "cell_type": "code",
      "metadata": {
        "id": "JpL3tPxNHNxZ",
        "colab": {
          "base_uri": "https://localhost:8080/"
        },
        "outputId": "0295733e-6482-40aa-d845-21ff6026ea9a"
      },
      "source": [
        "resnet_base = resnet50.ResNet50(weights='imagenet', include_top= False, input_shape= (224, 224, 3))"
      ],
      "execution_count": null,
      "outputs": [
        {
          "output_type": "stream",
          "text": [
            "Downloading data from https://storage.googleapis.com/tensorflow/keras-applications/resnet/resnet50_weights_tf_dim_ordering_tf_kernels_notop.h5\n",
            "94773248/94765736 [==============================] - 1s 0us/step\n"
          ],
          "name": "stdout"
        }
      ]
    },
    {
      "cell_type": "code",
      "metadata": {
        "colab": {
          "base_uri": "https://localhost:8080/"
        },
        "id": "6hcwT5ROKMYO",
        "outputId": "f98f21ab-2b42-4cfe-a65c-08dd06496a6e"
      },
      "source": [
        "resnet_base.summary()"
      ],
      "execution_count": null,
      "outputs": [
        {
          "output_type": "stream",
          "text": [
            "Model: \"resnet50\"\n",
            "__________________________________________________________________________________________________\n",
            "Layer (type)                    Output Shape         Param #     Connected to                     \n",
            "==================================================================================================\n",
            "input_1 (InputLayer)            [(None, 224, 224, 3) 0                                            \n",
            "__________________________________________________________________________________________________\n",
            "conv1_pad (ZeroPadding2D)       (None, 230, 230, 3)  0           input_1[0][0]                    \n",
            "__________________________________________________________________________________________________\n",
            "conv1_conv (Conv2D)             (None, 112, 112, 64) 9472        conv1_pad[0][0]                  \n",
            "__________________________________________________________________________________________________\n",
            "conv1_bn (BatchNormalization)   (None, 112, 112, 64) 256         conv1_conv[0][0]                 \n",
            "__________________________________________________________________________________________________\n",
            "conv1_relu (Activation)         (None, 112, 112, 64) 0           conv1_bn[0][0]                   \n",
            "__________________________________________________________________________________________________\n",
            "pool1_pad (ZeroPadding2D)       (None, 114, 114, 64) 0           conv1_relu[0][0]                 \n",
            "__________________________________________________________________________________________________\n",
            "pool1_pool (MaxPooling2D)       (None, 56, 56, 64)   0           pool1_pad[0][0]                  \n",
            "__________________________________________________________________________________________________\n",
            "conv2_block1_1_conv (Conv2D)    (None, 56, 56, 64)   4160        pool1_pool[0][0]                 \n",
            "__________________________________________________________________________________________________\n",
            "conv2_block1_1_bn (BatchNormali (None, 56, 56, 64)   256         conv2_block1_1_conv[0][0]        \n",
            "__________________________________________________________________________________________________\n",
            "conv2_block1_1_relu (Activation (None, 56, 56, 64)   0           conv2_block1_1_bn[0][0]          \n",
            "__________________________________________________________________________________________________\n",
            "conv2_block1_2_conv (Conv2D)    (None, 56, 56, 64)   36928       conv2_block1_1_relu[0][0]        \n",
            "__________________________________________________________________________________________________\n",
            "conv2_block1_2_bn (BatchNormali (None, 56, 56, 64)   256         conv2_block1_2_conv[0][0]        \n",
            "__________________________________________________________________________________________________\n",
            "conv2_block1_2_relu (Activation (None, 56, 56, 64)   0           conv2_block1_2_bn[0][0]          \n",
            "__________________________________________________________________________________________________\n",
            "conv2_block1_0_conv (Conv2D)    (None, 56, 56, 256)  16640       pool1_pool[0][0]                 \n",
            "__________________________________________________________________________________________________\n",
            "conv2_block1_3_conv (Conv2D)    (None, 56, 56, 256)  16640       conv2_block1_2_relu[0][0]        \n",
            "__________________________________________________________________________________________________\n",
            "conv2_block1_0_bn (BatchNormali (None, 56, 56, 256)  1024        conv2_block1_0_conv[0][0]        \n",
            "__________________________________________________________________________________________________\n",
            "conv2_block1_3_bn (BatchNormali (None, 56, 56, 256)  1024        conv2_block1_3_conv[0][0]        \n",
            "__________________________________________________________________________________________________\n",
            "conv2_block1_add (Add)          (None, 56, 56, 256)  0           conv2_block1_0_bn[0][0]          \n",
            "                                                                 conv2_block1_3_bn[0][0]          \n",
            "__________________________________________________________________________________________________\n",
            "conv2_block1_out (Activation)   (None, 56, 56, 256)  0           conv2_block1_add[0][0]           \n",
            "__________________________________________________________________________________________________\n",
            "conv2_block2_1_conv (Conv2D)    (None, 56, 56, 64)   16448       conv2_block1_out[0][0]           \n",
            "__________________________________________________________________________________________________\n",
            "conv2_block2_1_bn (BatchNormali (None, 56, 56, 64)   256         conv2_block2_1_conv[0][0]        \n",
            "__________________________________________________________________________________________________\n",
            "conv2_block2_1_relu (Activation (None, 56, 56, 64)   0           conv2_block2_1_bn[0][0]          \n",
            "__________________________________________________________________________________________________\n",
            "conv2_block2_2_conv (Conv2D)    (None, 56, 56, 64)   36928       conv2_block2_1_relu[0][0]        \n",
            "__________________________________________________________________________________________________\n",
            "conv2_block2_2_bn (BatchNormali (None, 56, 56, 64)   256         conv2_block2_2_conv[0][0]        \n",
            "__________________________________________________________________________________________________\n",
            "conv2_block2_2_relu (Activation (None, 56, 56, 64)   0           conv2_block2_2_bn[0][0]          \n",
            "__________________________________________________________________________________________________\n",
            "conv2_block2_3_conv (Conv2D)    (None, 56, 56, 256)  16640       conv2_block2_2_relu[0][0]        \n",
            "__________________________________________________________________________________________________\n",
            "conv2_block2_3_bn (BatchNormali (None, 56, 56, 256)  1024        conv2_block2_3_conv[0][0]        \n",
            "__________________________________________________________________________________________________\n",
            "conv2_block2_add (Add)          (None, 56, 56, 256)  0           conv2_block1_out[0][0]           \n",
            "                                                                 conv2_block2_3_bn[0][0]          \n",
            "__________________________________________________________________________________________________\n",
            "conv2_block2_out (Activation)   (None, 56, 56, 256)  0           conv2_block2_add[0][0]           \n",
            "__________________________________________________________________________________________________\n",
            "conv2_block3_1_conv (Conv2D)    (None, 56, 56, 64)   16448       conv2_block2_out[0][0]           \n",
            "__________________________________________________________________________________________________\n",
            "conv2_block3_1_bn (BatchNormali (None, 56, 56, 64)   256         conv2_block3_1_conv[0][0]        \n",
            "__________________________________________________________________________________________________\n",
            "conv2_block3_1_relu (Activation (None, 56, 56, 64)   0           conv2_block3_1_bn[0][0]          \n",
            "__________________________________________________________________________________________________\n",
            "conv2_block3_2_conv (Conv2D)    (None, 56, 56, 64)   36928       conv2_block3_1_relu[0][0]        \n",
            "__________________________________________________________________________________________________\n",
            "conv2_block3_2_bn (BatchNormali (None, 56, 56, 64)   256         conv2_block3_2_conv[0][0]        \n",
            "__________________________________________________________________________________________________\n",
            "conv2_block3_2_relu (Activation (None, 56, 56, 64)   0           conv2_block3_2_bn[0][0]          \n",
            "__________________________________________________________________________________________________\n",
            "conv2_block3_3_conv (Conv2D)    (None, 56, 56, 256)  16640       conv2_block3_2_relu[0][0]        \n",
            "__________________________________________________________________________________________________\n",
            "conv2_block3_3_bn (BatchNormali (None, 56, 56, 256)  1024        conv2_block3_3_conv[0][0]        \n",
            "__________________________________________________________________________________________________\n",
            "conv2_block3_add (Add)          (None, 56, 56, 256)  0           conv2_block2_out[0][0]           \n",
            "                                                                 conv2_block3_3_bn[0][0]          \n",
            "__________________________________________________________________________________________________\n",
            "conv2_block3_out (Activation)   (None, 56, 56, 256)  0           conv2_block3_add[0][0]           \n",
            "__________________________________________________________________________________________________\n",
            "conv3_block1_1_conv (Conv2D)    (None, 28, 28, 128)  32896       conv2_block3_out[0][0]           \n",
            "__________________________________________________________________________________________________\n",
            "conv3_block1_1_bn (BatchNormali (None, 28, 28, 128)  512         conv3_block1_1_conv[0][0]        \n",
            "__________________________________________________________________________________________________\n",
            "conv3_block1_1_relu (Activation (None, 28, 28, 128)  0           conv3_block1_1_bn[0][0]          \n",
            "__________________________________________________________________________________________________\n",
            "conv3_block1_2_conv (Conv2D)    (None, 28, 28, 128)  147584      conv3_block1_1_relu[0][0]        \n",
            "__________________________________________________________________________________________________\n",
            "conv3_block1_2_bn (BatchNormali (None, 28, 28, 128)  512         conv3_block1_2_conv[0][0]        \n",
            "__________________________________________________________________________________________________\n",
            "conv3_block1_2_relu (Activation (None, 28, 28, 128)  0           conv3_block1_2_bn[0][0]          \n",
            "__________________________________________________________________________________________________\n",
            "conv3_block1_0_conv (Conv2D)    (None, 28, 28, 512)  131584      conv2_block3_out[0][0]           \n",
            "__________________________________________________________________________________________________\n",
            "conv3_block1_3_conv (Conv2D)    (None, 28, 28, 512)  66048       conv3_block1_2_relu[0][0]        \n",
            "__________________________________________________________________________________________________\n",
            "conv3_block1_0_bn (BatchNormali (None, 28, 28, 512)  2048        conv3_block1_0_conv[0][0]        \n",
            "__________________________________________________________________________________________________\n",
            "conv3_block1_3_bn (BatchNormali (None, 28, 28, 512)  2048        conv3_block1_3_conv[0][0]        \n",
            "__________________________________________________________________________________________________\n",
            "conv3_block1_add (Add)          (None, 28, 28, 512)  0           conv3_block1_0_bn[0][0]          \n",
            "                                                                 conv3_block1_3_bn[0][0]          \n",
            "__________________________________________________________________________________________________\n",
            "conv3_block1_out (Activation)   (None, 28, 28, 512)  0           conv3_block1_add[0][0]           \n",
            "__________________________________________________________________________________________________\n",
            "conv3_block2_1_conv (Conv2D)    (None, 28, 28, 128)  65664       conv3_block1_out[0][0]           \n",
            "__________________________________________________________________________________________________\n",
            "conv3_block2_1_bn (BatchNormali (None, 28, 28, 128)  512         conv3_block2_1_conv[0][0]        \n",
            "__________________________________________________________________________________________________\n",
            "conv3_block2_1_relu (Activation (None, 28, 28, 128)  0           conv3_block2_1_bn[0][0]          \n",
            "__________________________________________________________________________________________________\n",
            "conv3_block2_2_conv (Conv2D)    (None, 28, 28, 128)  147584      conv3_block2_1_relu[0][0]        \n",
            "__________________________________________________________________________________________________\n",
            "conv3_block2_2_bn (BatchNormali (None, 28, 28, 128)  512         conv3_block2_2_conv[0][0]        \n",
            "__________________________________________________________________________________________________\n",
            "conv3_block2_2_relu (Activation (None, 28, 28, 128)  0           conv3_block2_2_bn[0][0]          \n",
            "__________________________________________________________________________________________________\n",
            "conv3_block2_3_conv (Conv2D)    (None, 28, 28, 512)  66048       conv3_block2_2_relu[0][0]        \n",
            "__________________________________________________________________________________________________\n",
            "conv3_block2_3_bn (BatchNormali (None, 28, 28, 512)  2048        conv3_block2_3_conv[0][0]        \n",
            "__________________________________________________________________________________________________\n",
            "conv3_block2_add (Add)          (None, 28, 28, 512)  0           conv3_block1_out[0][0]           \n",
            "                                                                 conv3_block2_3_bn[0][0]          \n",
            "__________________________________________________________________________________________________\n",
            "conv3_block2_out (Activation)   (None, 28, 28, 512)  0           conv3_block2_add[0][0]           \n",
            "__________________________________________________________________________________________________\n",
            "conv3_block3_1_conv (Conv2D)    (None, 28, 28, 128)  65664       conv3_block2_out[0][0]           \n",
            "__________________________________________________________________________________________________\n",
            "conv3_block3_1_bn (BatchNormali (None, 28, 28, 128)  512         conv3_block3_1_conv[0][0]        \n",
            "__________________________________________________________________________________________________\n",
            "conv3_block3_1_relu (Activation (None, 28, 28, 128)  0           conv3_block3_1_bn[0][0]          \n",
            "__________________________________________________________________________________________________\n",
            "conv3_block3_2_conv (Conv2D)    (None, 28, 28, 128)  147584      conv3_block3_1_relu[0][0]        \n",
            "__________________________________________________________________________________________________\n",
            "conv3_block3_2_bn (BatchNormali (None, 28, 28, 128)  512         conv3_block3_2_conv[0][0]        \n",
            "__________________________________________________________________________________________________\n",
            "conv3_block3_2_relu (Activation (None, 28, 28, 128)  0           conv3_block3_2_bn[0][0]          \n",
            "__________________________________________________________________________________________________\n",
            "conv3_block3_3_conv (Conv2D)    (None, 28, 28, 512)  66048       conv3_block3_2_relu[0][0]        \n",
            "__________________________________________________________________________________________________\n",
            "conv3_block3_3_bn (BatchNormali (None, 28, 28, 512)  2048        conv3_block3_3_conv[0][0]        \n",
            "__________________________________________________________________________________________________\n",
            "conv3_block3_add (Add)          (None, 28, 28, 512)  0           conv3_block2_out[0][0]           \n",
            "                                                                 conv3_block3_3_bn[0][0]          \n",
            "__________________________________________________________________________________________________\n",
            "conv3_block3_out (Activation)   (None, 28, 28, 512)  0           conv3_block3_add[0][0]           \n",
            "__________________________________________________________________________________________________\n",
            "conv3_block4_1_conv (Conv2D)    (None, 28, 28, 128)  65664       conv3_block3_out[0][0]           \n",
            "__________________________________________________________________________________________________\n",
            "conv3_block4_1_bn (BatchNormali (None, 28, 28, 128)  512         conv3_block4_1_conv[0][0]        \n",
            "__________________________________________________________________________________________________\n",
            "conv3_block4_1_relu (Activation (None, 28, 28, 128)  0           conv3_block4_1_bn[0][0]          \n",
            "__________________________________________________________________________________________________\n",
            "conv3_block4_2_conv (Conv2D)    (None, 28, 28, 128)  147584      conv3_block4_1_relu[0][0]        \n",
            "__________________________________________________________________________________________________\n",
            "conv3_block4_2_bn (BatchNormali (None, 28, 28, 128)  512         conv3_block4_2_conv[0][0]        \n",
            "__________________________________________________________________________________________________\n",
            "conv3_block4_2_relu (Activation (None, 28, 28, 128)  0           conv3_block4_2_bn[0][0]          \n",
            "__________________________________________________________________________________________________\n",
            "conv3_block4_3_conv (Conv2D)    (None, 28, 28, 512)  66048       conv3_block4_2_relu[0][0]        \n",
            "__________________________________________________________________________________________________\n",
            "conv3_block4_3_bn (BatchNormali (None, 28, 28, 512)  2048        conv3_block4_3_conv[0][0]        \n",
            "__________________________________________________________________________________________________\n",
            "conv3_block4_add (Add)          (None, 28, 28, 512)  0           conv3_block3_out[0][0]           \n",
            "                                                                 conv3_block4_3_bn[0][0]          \n",
            "__________________________________________________________________________________________________\n",
            "conv3_block4_out (Activation)   (None, 28, 28, 512)  0           conv3_block4_add[0][0]           \n",
            "__________________________________________________________________________________________________\n",
            "conv4_block1_1_conv (Conv2D)    (None, 14, 14, 256)  131328      conv3_block4_out[0][0]           \n",
            "__________________________________________________________________________________________________\n",
            "conv4_block1_1_bn (BatchNormali (None, 14, 14, 256)  1024        conv4_block1_1_conv[0][0]        \n",
            "__________________________________________________________________________________________________\n",
            "conv4_block1_1_relu (Activation (None, 14, 14, 256)  0           conv4_block1_1_bn[0][0]          \n",
            "__________________________________________________________________________________________________\n",
            "conv4_block1_2_conv (Conv2D)    (None, 14, 14, 256)  590080      conv4_block1_1_relu[0][0]        \n",
            "__________________________________________________________________________________________________\n",
            "conv4_block1_2_bn (BatchNormali (None, 14, 14, 256)  1024        conv4_block1_2_conv[0][0]        \n",
            "__________________________________________________________________________________________________\n",
            "conv4_block1_2_relu (Activation (None, 14, 14, 256)  0           conv4_block1_2_bn[0][0]          \n",
            "__________________________________________________________________________________________________\n",
            "conv4_block1_0_conv (Conv2D)    (None, 14, 14, 1024) 525312      conv3_block4_out[0][0]           \n",
            "__________________________________________________________________________________________________\n",
            "conv4_block1_3_conv (Conv2D)    (None, 14, 14, 1024) 263168      conv4_block1_2_relu[0][0]        \n",
            "__________________________________________________________________________________________________\n",
            "conv4_block1_0_bn (BatchNormali (None, 14, 14, 1024) 4096        conv4_block1_0_conv[0][0]        \n",
            "__________________________________________________________________________________________________\n",
            "conv4_block1_3_bn (BatchNormali (None, 14, 14, 1024) 4096        conv4_block1_3_conv[0][0]        \n",
            "__________________________________________________________________________________________________\n",
            "conv4_block1_add (Add)          (None, 14, 14, 1024) 0           conv4_block1_0_bn[0][0]          \n",
            "                                                                 conv4_block1_3_bn[0][0]          \n",
            "__________________________________________________________________________________________________\n",
            "conv4_block1_out (Activation)   (None, 14, 14, 1024) 0           conv4_block1_add[0][0]           \n",
            "__________________________________________________________________________________________________\n",
            "conv4_block2_1_conv (Conv2D)    (None, 14, 14, 256)  262400      conv4_block1_out[0][0]           \n",
            "__________________________________________________________________________________________________\n",
            "conv4_block2_1_bn (BatchNormali (None, 14, 14, 256)  1024        conv4_block2_1_conv[0][0]        \n",
            "__________________________________________________________________________________________________\n",
            "conv4_block2_1_relu (Activation (None, 14, 14, 256)  0           conv4_block2_1_bn[0][0]          \n",
            "__________________________________________________________________________________________________\n",
            "conv4_block2_2_conv (Conv2D)    (None, 14, 14, 256)  590080      conv4_block2_1_relu[0][0]        \n",
            "__________________________________________________________________________________________________\n",
            "conv4_block2_2_bn (BatchNormali (None, 14, 14, 256)  1024        conv4_block2_2_conv[0][0]        \n",
            "__________________________________________________________________________________________________\n",
            "conv4_block2_2_relu (Activation (None, 14, 14, 256)  0           conv4_block2_2_bn[0][0]          \n",
            "__________________________________________________________________________________________________\n",
            "conv4_block2_3_conv (Conv2D)    (None, 14, 14, 1024) 263168      conv4_block2_2_relu[0][0]        \n",
            "__________________________________________________________________________________________________\n",
            "conv4_block2_3_bn (BatchNormali (None, 14, 14, 1024) 4096        conv4_block2_3_conv[0][0]        \n",
            "__________________________________________________________________________________________________\n",
            "conv4_block2_add (Add)          (None, 14, 14, 1024) 0           conv4_block1_out[0][0]           \n",
            "                                                                 conv4_block2_3_bn[0][0]          \n",
            "__________________________________________________________________________________________________\n",
            "conv4_block2_out (Activation)   (None, 14, 14, 1024) 0           conv4_block2_add[0][0]           \n",
            "__________________________________________________________________________________________________\n",
            "conv4_block3_1_conv (Conv2D)    (None, 14, 14, 256)  262400      conv4_block2_out[0][0]           \n",
            "__________________________________________________________________________________________________\n",
            "conv4_block3_1_bn (BatchNormali (None, 14, 14, 256)  1024        conv4_block3_1_conv[0][0]        \n",
            "__________________________________________________________________________________________________\n",
            "conv4_block3_1_relu (Activation (None, 14, 14, 256)  0           conv4_block3_1_bn[0][0]          \n",
            "__________________________________________________________________________________________________\n",
            "conv4_block3_2_conv (Conv2D)    (None, 14, 14, 256)  590080      conv4_block3_1_relu[0][0]        \n",
            "__________________________________________________________________________________________________\n",
            "conv4_block3_2_bn (BatchNormali (None, 14, 14, 256)  1024        conv4_block3_2_conv[0][0]        \n",
            "__________________________________________________________________________________________________\n",
            "conv4_block3_2_relu (Activation (None, 14, 14, 256)  0           conv4_block3_2_bn[0][0]          \n",
            "__________________________________________________________________________________________________\n",
            "conv4_block3_3_conv (Conv2D)    (None, 14, 14, 1024) 263168      conv4_block3_2_relu[0][0]        \n",
            "__________________________________________________________________________________________________\n",
            "conv4_block3_3_bn (BatchNormali (None, 14, 14, 1024) 4096        conv4_block3_3_conv[0][0]        \n",
            "__________________________________________________________________________________________________\n",
            "conv4_block3_add (Add)          (None, 14, 14, 1024) 0           conv4_block2_out[0][0]           \n",
            "                                                                 conv4_block3_3_bn[0][0]          \n",
            "__________________________________________________________________________________________________\n",
            "conv4_block3_out (Activation)   (None, 14, 14, 1024) 0           conv4_block3_add[0][0]           \n",
            "__________________________________________________________________________________________________\n",
            "conv4_block4_1_conv (Conv2D)    (None, 14, 14, 256)  262400      conv4_block3_out[0][0]           \n",
            "__________________________________________________________________________________________________\n",
            "conv4_block4_1_bn (BatchNormali (None, 14, 14, 256)  1024        conv4_block4_1_conv[0][0]        \n",
            "__________________________________________________________________________________________________\n",
            "conv4_block4_1_relu (Activation (None, 14, 14, 256)  0           conv4_block4_1_bn[0][0]          \n",
            "__________________________________________________________________________________________________\n",
            "conv4_block4_2_conv (Conv2D)    (None, 14, 14, 256)  590080      conv4_block4_1_relu[0][0]        \n",
            "__________________________________________________________________________________________________\n",
            "conv4_block4_2_bn (BatchNormali (None, 14, 14, 256)  1024        conv4_block4_2_conv[0][0]        \n",
            "__________________________________________________________________________________________________\n",
            "conv4_block4_2_relu (Activation (None, 14, 14, 256)  0           conv4_block4_2_bn[0][0]          \n",
            "__________________________________________________________________________________________________\n",
            "conv4_block4_3_conv (Conv2D)    (None, 14, 14, 1024) 263168      conv4_block4_2_relu[0][0]        \n",
            "__________________________________________________________________________________________________\n",
            "conv4_block4_3_bn (BatchNormali (None, 14, 14, 1024) 4096        conv4_block4_3_conv[0][0]        \n",
            "__________________________________________________________________________________________________\n",
            "conv4_block4_add (Add)          (None, 14, 14, 1024) 0           conv4_block3_out[0][0]           \n",
            "                                                                 conv4_block4_3_bn[0][0]          \n",
            "__________________________________________________________________________________________________\n",
            "conv4_block4_out (Activation)   (None, 14, 14, 1024) 0           conv4_block4_add[0][0]           \n",
            "__________________________________________________________________________________________________\n",
            "conv4_block5_1_conv (Conv2D)    (None, 14, 14, 256)  262400      conv4_block4_out[0][0]           \n",
            "__________________________________________________________________________________________________\n",
            "conv4_block5_1_bn (BatchNormali (None, 14, 14, 256)  1024        conv4_block5_1_conv[0][0]        \n",
            "__________________________________________________________________________________________________\n",
            "conv4_block5_1_relu (Activation (None, 14, 14, 256)  0           conv4_block5_1_bn[0][0]          \n",
            "__________________________________________________________________________________________________\n",
            "conv4_block5_2_conv (Conv2D)    (None, 14, 14, 256)  590080      conv4_block5_1_relu[0][0]        \n",
            "__________________________________________________________________________________________________\n",
            "conv4_block5_2_bn (BatchNormali (None, 14, 14, 256)  1024        conv4_block5_2_conv[0][0]        \n",
            "__________________________________________________________________________________________________\n",
            "conv4_block5_2_relu (Activation (None, 14, 14, 256)  0           conv4_block5_2_bn[0][0]          \n",
            "__________________________________________________________________________________________________\n",
            "conv4_block5_3_conv (Conv2D)    (None, 14, 14, 1024) 263168      conv4_block5_2_relu[0][0]        \n",
            "__________________________________________________________________________________________________\n",
            "conv4_block5_3_bn (BatchNormali (None, 14, 14, 1024) 4096        conv4_block5_3_conv[0][0]        \n",
            "__________________________________________________________________________________________________\n",
            "conv4_block5_add (Add)          (None, 14, 14, 1024) 0           conv4_block4_out[0][0]           \n",
            "                                                                 conv4_block5_3_bn[0][0]          \n",
            "__________________________________________________________________________________________________\n",
            "conv4_block5_out (Activation)   (None, 14, 14, 1024) 0           conv4_block5_add[0][0]           \n",
            "__________________________________________________________________________________________________\n",
            "conv4_block6_1_conv (Conv2D)    (None, 14, 14, 256)  262400      conv4_block5_out[0][0]           \n",
            "__________________________________________________________________________________________________\n",
            "conv4_block6_1_bn (BatchNormali (None, 14, 14, 256)  1024        conv4_block6_1_conv[0][0]        \n",
            "__________________________________________________________________________________________________\n",
            "conv4_block6_1_relu (Activation (None, 14, 14, 256)  0           conv4_block6_1_bn[0][0]          \n",
            "__________________________________________________________________________________________________\n",
            "conv4_block6_2_conv (Conv2D)    (None, 14, 14, 256)  590080      conv4_block6_1_relu[0][0]        \n",
            "__________________________________________________________________________________________________\n",
            "conv4_block6_2_bn (BatchNormali (None, 14, 14, 256)  1024        conv4_block6_2_conv[0][0]        \n",
            "__________________________________________________________________________________________________\n",
            "conv4_block6_2_relu (Activation (None, 14, 14, 256)  0           conv4_block6_2_bn[0][0]          \n",
            "__________________________________________________________________________________________________\n",
            "conv4_block6_3_conv (Conv2D)    (None, 14, 14, 1024) 263168      conv4_block6_2_relu[0][0]        \n",
            "__________________________________________________________________________________________________\n",
            "conv4_block6_3_bn (BatchNormali (None, 14, 14, 1024) 4096        conv4_block6_3_conv[0][0]        \n",
            "__________________________________________________________________________________________________\n",
            "conv4_block6_add (Add)          (None, 14, 14, 1024) 0           conv4_block5_out[0][0]           \n",
            "                                                                 conv4_block6_3_bn[0][0]          \n",
            "__________________________________________________________________________________________________\n",
            "conv4_block6_out (Activation)   (None, 14, 14, 1024) 0           conv4_block6_add[0][0]           \n",
            "__________________________________________________________________________________________________\n",
            "conv5_block1_1_conv (Conv2D)    (None, 7, 7, 512)    524800      conv4_block6_out[0][0]           \n",
            "__________________________________________________________________________________________________\n",
            "conv5_block1_1_bn (BatchNormali (None, 7, 7, 512)    2048        conv5_block1_1_conv[0][0]        \n",
            "__________________________________________________________________________________________________\n",
            "conv5_block1_1_relu (Activation (None, 7, 7, 512)    0           conv5_block1_1_bn[0][0]          \n",
            "__________________________________________________________________________________________________\n",
            "conv5_block1_2_conv (Conv2D)    (None, 7, 7, 512)    2359808     conv5_block1_1_relu[0][0]        \n",
            "__________________________________________________________________________________________________\n",
            "conv5_block1_2_bn (BatchNormali (None, 7, 7, 512)    2048        conv5_block1_2_conv[0][0]        \n",
            "__________________________________________________________________________________________________\n",
            "conv5_block1_2_relu (Activation (None, 7, 7, 512)    0           conv5_block1_2_bn[0][0]          \n",
            "__________________________________________________________________________________________________\n",
            "conv5_block1_0_conv (Conv2D)    (None, 7, 7, 2048)   2099200     conv4_block6_out[0][0]           \n",
            "__________________________________________________________________________________________________\n",
            "conv5_block1_3_conv (Conv2D)    (None, 7, 7, 2048)   1050624     conv5_block1_2_relu[0][0]        \n",
            "__________________________________________________________________________________________________\n",
            "conv5_block1_0_bn (BatchNormali (None, 7, 7, 2048)   8192        conv5_block1_0_conv[0][0]        \n",
            "__________________________________________________________________________________________________\n",
            "conv5_block1_3_bn (BatchNormali (None, 7, 7, 2048)   8192        conv5_block1_3_conv[0][0]        \n",
            "__________________________________________________________________________________________________\n",
            "conv5_block1_add (Add)          (None, 7, 7, 2048)   0           conv5_block1_0_bn[0][0]          \n",
            "                                                                 conv5_block1_3_bn[0][0]          \n",
            "__________________________________________________________________________________________________\n",
            "conv5_block1_out (Activation)   (None, 7, 7, 2048)   0           conv5_block1_add[0][0]           \n",
            "__________________________________________________________________________________________________\n",
            "conv5_block2_1_conv (Conv2D)    (None, 7, 7, 512)    1049088     conv5_block1_out[0][0]           \n",
            "__________________________________________________________________________________________________\n",
            "conv5_block2_1_bn (BatchNormali (None, 7, 7, 512)    2048        conv5_block2_1_conv[0][0]        \n",
            "__________________________________________________________________________________________________\n",
            "conv5_block2_1_relu (Activation (None, 7, 7, 512)    0           conv5_block2_1_bn[0][0]          \n",
            "__________________________________________________________________________________________________\n",
            "conv5_block2_2_conv (Conv2D)    (None, 7, 7, 512)    2359808     conv5_block2_1_relu[0][0]        \n",
            "__________________________________________________________________________________________________\n",
            "conv5_block2_2_bn (BatchNormali (None, 7, 7, 512)    2048        conv5_block2_2_conv[0][0]        \n",
            "__________________________________________________________________________________________________\n",
            "conv5_block2_2_relu (Activation (None, 7, 7, 512)    0           conv5_block2_2_bn[0][0]          \n",
            "__________________________________________________________________________________________________\n",
            "conv5_block2_3_conv (Conv2D)    (None, 7, 7, 2048)   1050624     conv5_block2_2_relu[0][0]        \n",
            "__________________________________________________________________________________________________\n",
            "conv5_block2_3_bn (BatchNormali (None, 7, 7, 2048)   8192        conv5_block2_3_conv[0][0]        \n",
            "__________________________________________________________________________________________________\n",
            "conv5_block2_add (Add)          (None, 7, 7, 2048)   0           conv5_block1_out[0][0]           \n",
            "                                                                 conv5_block2_3_bn[0][0]          \n",
            "__________________________________________________________________________________________________\n",
            "conv5_block2_out (Activation)   (None, 7, 7, 2048)   0           conv5_block2_add[0][0]           \n",
            "__________________________________________________________________________________________________\n",
            "conv5_block3_1_conv (Conv2D)    (None, 7, 7, 512)    1049088     conv5_block2_out[0][0]           \n",
            "__________________________________________________________________________________________________\n",
            "conv5_block3_1_bn (BatchNormali (None, 7, 7, 512)    2048        conv5_block3_1_conv[0][0]        \n",
            "__________________________________________________________________________________________________\n",
            "conv5_block3_1_relu (Activation (None, 7, 7, 512)    0           conv5_block3_1_bn[0][0]          \n",
            "__________________________________________________________________________________________________\n",
            "conv5_block3_2_conv (Conv2D)    (None, 7, 7, 512)    2359808     conv5_block3_1_relu[0][0]        \n",
            "__________________________________________________________________________________________________\n",
            "conv5_block3_2_bn (BatchNormali (None, 7, 7, 512)    2048        conv5_block3_2_conv[0][0]        \n",
            "__________________________________________________________________________________________________\n",
            "conv5_block3_2_relu (Activation (None, 7, 7, 512)    0           conv5_block3_2_bn[0][0]          \n",
            "__________________________________________________________________________________________________\n",
            "conv5_block3_3_conv (Conv2D)    (None, 7, 7, 2048)   1050624     conv5_block3_2_relu[0][0]        \n",
            "__________________________________________________________________________________________________\n",
            "conv5_block3_3_bn (BatchNormali (None, 7, 7, 2048)   8192        conv5_block3_3_conv[0][0]        \n",
            "__________________________________________________________________________________________________\n",
            "conv5_block3_add (Add)          (None, 7, 7, 2048)   0           conv5_block2_out[0][0]           \n",
            "                                                                 conv5_block3_3_bn[0][0]          \n",
            "__________________________________________________________________________________________________\n",
            "conv5_block3_out (Activation)   (None, 7, 7, 2048)   0           conv5_block3_add[0][0]           \n",
            "==================================================================================================\n",
            "Total params: 23,587,712\n",
            "Trainable params: 23,534,592\n",
            "Non-trainable params: 53,120\n",
            "__________________________________________________________________________________________________\n"
          ],
          "name": "stdout"
        }
      ]
    },
    {
      "cell_type": "code",
      "metadata": {
        "colab": {
          "base_uri": "https://localhost:8080/"
        },
        "id": "8Q6ZQJpFKSjy",
        "outputId": "e976eaec-8f97-4fb8-e541-5d759eeffc26"
      },
      "source": [
        "model = models.Sequential()\r\n",
        "model.add(resnet_base)\r\n",
        "model.add(keras.layers.Flatten())\r\n",
        "model.add(keras.layers.Dense(512, kernel_initializer='glorot_uniform', activation= 'relu'))\r\n",
        "model.add(keras.layers.Dense(2, activation= 'softmax'))\r\n",
        "model.summary()"
      ],
      "execution_count": null,
      "outputs": [
        {
          "output_type": "stream",
          "text": [
            "Model: \"sequential\"\n",
            "_________________________________________________________________\n",
            "Layer (type)                 Output Shape              Param #   \n",
            "=================================================================\n",
            "resnet50 (Functional)        (None, 7, 7, 2048)        23587712  \n",
            "_________________________________________________________________\n",
            "flatten (Flatten)            (None, 100352)            0         \n",
            "_________________________________________________________________\n",
            "dense (Dense)                (None, 512)               51380736  \n",
            "_________________________________________________________________\n",
            "dense_1 (Dense)              (None, 2)                 1026      \n",
            "=================================================================\n",
            "Total params: 74,969,474\n",
            "Trainable params: 74,916,354\n",
            "Non-trainable params: 53,120\n",
            "_________________________________________________________________\n"
          ],
          "name": "stdout"
        }
      ]
    },
    {
      "cell_type": "code",
      "metadata": {
        "id": "Nx_ch2EnL3go"
      },
      "source": [
        "resnet_base.trainable = False"
      ],
      "execution_count": null,
      "outputs": []
    },
    {
      "cell_type": "code",
      "metadata": {
        "colab": {
          "base_uri": "https://localhost:8080/"
        },
        "id": "4--vz1RpL6vc",
        "outputId": "30773a76-b1f3-4d2f-cb2e-6f30a3ed5e49"
      },
      "source": [
        "model.summary()"
      ],
      "execution_count": null,
      "outputs": [
        {
          "output_type": "stream",
          "text": [
            "Model: \"sequential\"\n",
            "_________________________________________________________________\n",
            "Layer (type)                 Output Shape              Param #   \n",
            "=================================================================\n",
            "resnet50 (Functional)        (None, 7, 7, 2048)        23587712  \n",
            "_________________________________________________________________\n",
            "flatten (Flatten)            (None, 100352)            0         \n",
            "_________________________________________________________________\n",
            "dense (Dense)                (None, 512)               51380736  \n",
            "_________________________________________________________________\n",
            "dense_1 (Dense)              (None, 2)                 1026      \n",
            "=================================================================\n",
            "Total params: 74,969,474\n",
            "Trainable params: 51,381,762\n",
            "Non-trainable params: 23,587,712\n",
            "_________________________________________________________________\n"
          ],
          "name": "stdout"
        }
      ]
    },
    {
      "cell_type": "markdown",
      "metadata": {
        "id": "M1WM8nzpHOVt"
      },
      "source": [
        "## **Compile the model**"
      ]
    },
    {
      "cell_type": "code",
      "metadata": {
        "id": "Bx-PL-65L-Co"
      },
      "source": [
        "learning_rate = 1e-4\r\n",
        "model.compile(optimizer=keras.optimizers.SGD(lr=learning_rate), loss='categorical_crossentropy', metrics=['accuracy'])"
      ],
      "execution_count": null,
      "outputs": []
    },
    {
      "cell_type": "code",
      "metadata": {
        "id": "JE3eqVJIMIi3"
      },
      "source": [
        "callbacks_list = [keras.callbacks.ModelCheckpoint(\r\n",
        "        filepath = '/content/drive/MyDrive/Model development/Iteration_3/iter3_resnet-model_1.h5',\r\n",
        "        monitor = 'val_accuracy',\r\n",
        "        save_best_only = True)]"
      ],
      "execution_count": null,
      "outputs": []
    },
    {
      "cell_type": "markdown",
      "metadata": {
        "id": "ncjMo35kHU3G"
      },
      "source": [
        "## **Train the model**"
      ]
    },
    {
      "cell_type": "code",
      "metadata": {
        "colab": {
          "base_uri": "https://localhost:8080/"
        },
        "id": "x4X3vUevMO-_",
        "outputId": "09048e82-7990-492b-e174-134bf8caab48"
      },
      "source": [
        "n_epochs = 4\r\n",
        "history = model.fit(train_datagen,\r\n",
        "                             steps_per_epoch=len(train_datagen.filenames)//training_batch_size,\r\n",
        "                             epochs=n_epochs,\r\n",
        "                             validation_data=val_datagen,\r\n",
        "                             validation_steps=int(np.ceil(len(val_datagen.filenames)/validation_batch_size)))\r\n",
        "                             #callbacks=callbacks_list)"
      ],
      "execution_count": null,
      "outputs": [
        {
          "output_type": "stream",
          "text": [
            "Epoch 1/4\n",
            "31/31 [==============================] - 44s 1s/step - loss: 0.9759 - accuracy: 0.6757 - val_loss: 0.8267 - val_accuracy: 0.7339\n",
            "Epoch 2/4\n",
            "31/31 [==============================] - 35s 1s/step - loss: 0.5921 - accuracy: 0.7978 - val_loss: 0.7507 - val_accuracy: 0.7258\n",
            "Epoch 3/4\n",
            "31/31 [==============================] - 35s 1s/step - loss: 0.4824 - accuracy: 0.8293 - val_loss: 0.5104 - val_accuracy: 0.7581\n",
            "Epoch 4/4\n",
            "31/31 [==============================] - 34s 1s/step - loss: 0.4150 - accuracy: 0.8403 - val_loss: 0.8018 - val_accuracy: 0.7742\n"
          ],
          "name": "stdout"
        }
      ]
    },
    {
      "cell_type": "markdown",
      "metadata": {
        "id": "Ipig1FSjX0pi"
      },
      "source": [
        "## **Fine tune the model**"
      ]
    },
    {
      "cell_type": "code",
      "metadata": {
        "id": "zMcWk8iLXzjk"
      },
      "source": [
        "resnet_base.trainable = True"
      ],
      "execution_count": null,
      "outputs": []
    },
    {
      "cell_type": "code",
      "metadata": {
        "id": "fbEe1k5LYS9t"
      },
      "source": [
        "for layer in resnet_base.layers:\r\n",
        "    if \"conv5_block3_\" in layer.name:\r\n",
        "      layer.trainable = True\r\n",
        "    else:\r\n",
        "      layer.trainable = False"
      ],
      "execution_count": null,
      "outputs": []
    },
    {
      "cell_type": "code",
      "metadata": {
        "colab": {
          "base_uri": "https://localhost:8080/"
        },
        "id": "3q3WGT-0YcNQ",
        "outputId": "dd60bdd0-d11a-4383-cee7-8d234da24620"
      },
      "source": [
        "for layer in resnet_base.layers:\r\n",
        "  print(layer, layer.trainable, layer.name)"
      ],
      "execution_count": null,
      "outputs": [
        {
          "output_type": "stream",
          "text": [
            "<tensorflow.python.keras.engine.input_layer.InputLayer object at 0x7f32bf176470> False input_1\n",
            "<tensorflow.python.keras.layers.convolutional.ZeroPadding2D object at 0x7f327405d748> False conv1_pad\n",
            "<tensorflow.python.keras.layers.convolutional.Conv2D object at 0x7f32747ceda0> False conv1_conv\n",
            "<tensorflow.python.keras.layers.normalization_v2.BatchNormalization object at 0x7f327475f198> False conv1_bn\n",
            "<tensorflow.python.keras.layers.core.Activation object at 0x7f3272a6b208> False conv1_relu\n",
            "<tensorflow.python.keras.layers.convolutional.ZeroPadding2D object at 0x7f3272a7a908> False pool1_pad\n",
            "<tensorflow.python.keras.layers.pooling.MaxPooling2D object at 0x7f3272a81390> False pool1_pool\n",
            "<tensorflow.python.keras.layers.convolutional.Conv2D object at 0x7f3272eed358> False conv2_block1_1_conv\n",
            "<tensorflow.python.keras.layers.normalization_v2.BatchNormalization object at 0x7f3272a81eb8> False conv2_block1_1_bn\n",
            "<tensorflow.python.keras.layers.core.Activation object at 0x7f3272f12cc0> False conv2_block1_1_relu\n",
            "<tensorflow.python.keras.layers.convolutional.Conv2D object at 0x7f3272a909b0> False conv2_block1_2_conv\n",
            "<tensorflow.python.keras.layers.normalization_v2.BatchNormalization object at 0x7f3272a900f0> False conv2_block1_2_bn\n",
            "<tensorflow.python.keras.layers.core.Activation object at 0x7f3272efc048> False conv2_block1_2_relu\n",
            "<tensorflow.python.keras.layers.convolutional.Conv2D object at 0x7f3272a7a860> False conv2_block1_0_conv\n",
            "<tensorflow.python.keras.layers.convolutional.Conv2D object at 0x7f3272a1fac8> False conv2_block1_3_conv\n",
            "<tensorflow.python.keras.layers.normalization_v2.BatchNormalization object at 0x7f3272a6bb38> False conv2_block1_0_bn\n",
            "<tensorflow.python.keras.layers.normalization_v2.BatchNormalization object at 0x7f3272a27710> False conv2_block1_3_bn\n",
            "<tensorflow.python.keras.layers.merge.Add object at 0x7f3272a1f438> False conv2_block1_add\n",
            "<tensorflow.python.keras.layers.core.Activation object at 0x7f3272a2fe10> False conv2_block1_out\n",
            "<tensorflow.python.keras.layers.convolutional.Conv2D object at 0x7f3272a345c0> False conv2_block2_1_conv\n",
            "<tensorflow.python.keras.layers.normalization_v2.BatchNormalization object at 0x7f3272a34898> False conv2_block2_1_bn\n",
            "<tensorflow.python.keras.layers.core.Activation object at 0x7f3272a2f0f0> False conv2_block2_1_relu\n",
            "<tensorflow.python.keras.layers.convolutional.Conv2D object at 0x7f3272a44160> False conv2_block2_2_conv\n",
            "<tensorflow.python.keras.layers.normalization_v2.BatchNormalization object at 0x7f3272a44d30> False conv2_block2_2_bn\n",
            "<tensorflow.python.keras.layers.core.Activation object at 0x7f3272a3a550> False conv2_block2_2_relu\n",
            "<tensorflow.python.keras.layers.convolutional.Conv2D object at 0x7f3272a4f278> False conv2_block2_3_conv\n",
            "<tensorflow.python.keras.layers.normalization_v2.BatchNormalization object at 0x7f3272a4fe80> False conv2_block2_3_bn\n",
            "<tensorflow.python.keras.layers.merge.Add object at 0x7f3272a49080> False conv2_block2_add\n",
            "<tensorflow.python.keras.layers.core.Activation object at 0x7f32729e25c0> False conv2_block2_out\n",
            "<tensorflow.python.keras.layers.convolutional.Conv2D object at 0x7f32729e2d30> False conv2_block3_1_conv\n",
            "<tensorflow.python.keras.layers.normalization_v2.BatchNormalization object at 0x7f32729e2e48> False conv2_block3_1_bn\n",
            "<tensorflow.python.keras.layers.core.Activation object at 0x7f32729da358> False conv2_block3_1_relu\n",
            "<tensorflow.python.keras.layers.convolutional.Conv2D object at 0x7f32729f48d0> False conv2_block3_2_conv\n",
            "<tensorflow.python.keras.layers.normalization_v2.BatchNormalization object at 0x7f32729f45c0> False conv2_block3_2_bn\n",
            "<tensorflow.python.keras.layers.core.Activation object at 0x7f3272a49390> False conv2_block3_2_relu\n",
            "<tensorflow.python.keras.layers.convolutional.Conv2D object at 0x7f3272a059e8> False conv2_block3_3_conv\n",
            "<tensorflow.python.keras.layers.normalization_v2.BatchNormalization object at 0x7f3272a055c0> False conv2_block3_3_bn\n",
            "<tensorflow.python.keras.layers.merge.Add object at 0x7f32729fb9e8> False conv2_block3_add\n",
            "<tensorflow.python.keras.layers.core.Activation object at 0x7f3272994d30> False conv2_block3_out\n",
            "<tensorflow.python.keras.layers.convolutional.Conv2D object at 0x7f3272a0add8> False conv3_block1_1_conv\n",
            "<tensorflow.python.keras.layers.normalization_v2.BatchNormalization object at 0x7f32729a5438> False conv3_block1_1_bn\n",
            "<tensorflow.python.keras.layers.core.Activation object at 0x7f32729a5c50> False conv3_block1_1_relu\n",
            "<tensorflow.python.keras.layers.convolutional.Conv2D object at 0x7f32729942e8> False conv3_block1_2_conv\n",
            "<tensorflow.python.keras.layers.normalization_v2.BatchNormalization object at 0x7f32729adf60> False conv3_block1_2_bn\n",
            "<tensorflow.python.keras.layers.core.Activation object at 0x7f32729b5630> False conv3_block1_2_relu\n",
            "<tensorflow.python.keras.layers.convolutional.Conv2D object at 0x7f327299b4e0> False conv3_block1_0_conv\n",
            "<tensorflow.python.keras.layers.convolutional.Conv2D object at 0x7f32729a55f8> False conv3_block1_3_conv\n",
            "<tensorflow.python.keras.layers.normalization_v2.BatchNormalization object at 0x7f327299b828> False conv3_block1_0_bn\n",
            "<tensorflow.python.keras.layers.normalization_v2.BatchNormalization object at 0x7f3272994b70> False conv3_block1_3_bn\n",
            "<tensorflow.python.keras.layers.merge.Add object at 0x7f32729f4048> False conv3_block1_add\n",
            "<tensorflow.python.keras.layers.core.Activation object at 0x7f32729e2748> False conv3_block1_out\n",
            "<tensorflow.python.keras.layers.convolutional.Conv2D object at 0x7f3272a49e48> False conv3_block2_1_conv\n",
            "<tensorflow.python.keras.layers.normalization_v2.BatchNormalization object at 0x7f3272a3a2e8> False conv3_block2_1_bn\n",
            "<tensorflow.python.keras.layers.core.Activation object at 0x7f3272a1fda0> False conv3_block2_1_relu\n",
            "<tensorflow.python.keras.layers.convolutional.Conv2D object at 0x7f3272a2f208> False conv3_block2_2_conv\n",
            "<tensorflow.python.keras.layers.normalization_v2.BatchNormalization object at 0x7f3272a901d0> False conv3_block2_2_bn\n",
            "<tensorflow.python.keras.layers.core.Activation object at 0x7f3272efc668> False conv3_block2_2_relu\n",
            "<tensorflow.python.keras.layers.convolutional.Conv2D object at 0x7f32729bfac8> False conv3_block2_3_conv\n",
            "<tensorflow.python.keras.layers.normalization_v2.BatchNormalization object at 0x7f32729c6710> False conv3_block2_3_bn\n",
            "<tensorflow.python.keras.layers.merge.Add object at 0x7f32729cbf98> False conv3_block2_add\n",
            "<tensorflow.python.keras.layers.core.Activation object at 0x7f32729bfc18> False conv3_block2_out\n",
            "<tensorflow.python.keras.layers.convolutional.Conv2D object at 0x7f3272951ba8> False conv3_block3_1_conv\n",
            "<tensorflow.python.keras.layers.normalization_v2.BatchNormalization object at 0x7f32729587f0> False conv3_block3_1_bn\n",
            "<tensorflow.python.keras.layers.core.Activation object at 0x7f3272958e80> False conv3_block3_1_relu\n",
            "<tensorflow.python.keras.layers.convolutional.Conv2D object at 0x7f3272963240> False conv3_block3_2_conv\n",
            "<tensorflow.python.keras.layers.normalization_v2.BatchNormalization object at 0x7f3272968978> False conv3_block3_2_bn\n",
            "<tensorflow.python.keras.layers.core.Activation object at 0x7f327296ccf8> False conv3_block3_2_relu\n",
            "<tensorflow.python.keras.layers.convolutional.Conv2D object at 0x7f3272973470> False conv3_block3_3_conv\n",
            "<tensorflow.python.keras.layers.normalization_v2.BatchNormalization object at 0x7f32729770b8> False conv3_block3_3_bn\n",
            "<tensorflow.python.keras.layers.merge.Add object at 0x7f3272977940> False conv3_block3_add\n",
            "<tensorflow.python.keras.layers.core.Activation object at 0x7f327297eda0> False conv3_block3_out\n",
            "<tensorflow.python.keras.layers.convolutional.Conv2D object at 0x7f327298a550> False conv3_block4_1_conv\n",
            "<tensorflow.python.keras.layers.normalization_v2.BatchNormalization object at 0x7f327298e198> False conv3_block4_1_bn\n",
            "<tensorflow.python.keras.layers.core.Activation object at 0x7f327298ecc0> False conv3_block4_1_relu\n",
            "<tensorflow.python.keras.layers.convolutional.Conv2D object at 0x7f32729164e0> False conv3_block4_2_conv\n",
            "<tensorflow.python.keras.layers.normalization_v2.BatchNormalization object at 0x7f327291f320> False conv3_block4_2_bn\n",
            "<tensorflow.python.keras.layers.core.Activation object at 0x7f327296ccc0> False conv3_block4_2_relu\n",
            "<tensorflow.python.keras.layers.convolutional.Conv2D object at 0x7f3272925dd8> False conv3_block4_3_conv\n",
            "<tensorflow.python.keras.layers.normalization_v2.BatchNormalization object at 0x7f327292da20> False conv3_block4_3_bn\n",
            "<tensorflow.python.keras.layers.merge.Add object at 0x7f3272936278> False conv3_block4_add\n",
            "<tensorflow.python.keras.layers.core.Activation object at 0x7f3272925358> False conv3_block4_out\n",
            "<tensorflow.python.keras.layers.convolutional.Conv2D object at 0x7f327294a358> False conv4_block1_1_conv\n",
            "<tensorflow.python.keras.layers.normalization_v2.BatchNormalization object at 0x7f32728d2438> False conv4_block1_1_bn\n",
            "<tensorflow.python.keras.layers.core.Activation object at 0x7f32728d77b8> False conv4_block1_1_relu\n",
            "<tensorflow.python.keras.layers.convolutional.Conv2D object at 0x7f32728d7860> False conv4_block1_2_conv\n",
            "<tensorflow.python.keras.layers.normalization_v2.BatchNormalization object at 0x7f32728d25f8> False conv4_block1_2_bn\n",
            "<tensorflow.python.keras.layers.core.Activation object at 0x7f327292dc18> False conv4_block1_2_relu\n",
            "<tensorflow.python.keras.layers.convolutional.Conv2D object at 0x7f327293beb8> False conv4_block1_0_conv\n",
            "<tensorflow.python.keras.layers.convolutional.Conv2D object at 0x7f327291fe10> False conv4_block1_3_conv\n",
            "<tensorflow.python.keras.layers.normalization_v2.BatchNormalization object at 0x7f3272942b00> False conv4_block1_0_bn\n",
            "<tensorflow.python.keras.layers.normalization_v2.BatchNormalization object at 0x7f327291f4a8> False conv4_block1_3_bn\n",
            "<tensorflow.python.keras.layers.merge.Add object at 0x7f327294a550> False conv4_block1_add\n",
            "<tensorflow.python.keras.layers.core.Activation object at 0x7f327298ef98> False conv4_block1_out\n",
            "<tensorflow.python.keras.layers.convolutional.Conv2D object at 0x7f327298ea20> False conv4_block2_1_conv\n",
            "<tensorflow.python.keras.layers.normalization_v2.BatchNormalization object at 0x7f3272916860> False conv4_block2_1_bn\n",
            "<tensorflow.python.keras.layers.core.Activation object at 0x7f3272977dd8> False conv4_block2_1_relu\n",
            "<tensorflow.python.keras.layers.convolutional.Conv2D object at 0x7f3272963630> False conv4_block2_2_conv\n",
            "<tensorflow.python.keras.layers.normalization_v2.BatchNormalization object at 0x7f32729634a8> False conv4_block2_2_bn\n",
            "<tensorflow.python.keras.layers.core.Activation object at 0x7f3272977ba8> False conv4_block2_2_relu\n",
            "<tensorflow.python.keras.layers.convolutional.Conv2D object at 0x7f32729cb390> False conv4_block2_3_conv\n",
            "<tensorflow.python.keras.layers.normalization_v2.BatchNormalization object at 0x7f32729bf1d0> False conv4_block2_3_bn\n",
            "<tensorflow.python.keras.layers.merge.Add object at 0x7f327297eac8> False conv4_block2_add\n",
            "<tensorflow.python.keras.layers.core.Activation object at 0x7f3272a2f128> False conv4_block2_out\n",
            "<tensorflow.python.keras.layers.convolutional.Conv2D object at 0x7f32729ad3c8> False conv4_block3_1_conv\n",
            "<tensorflow.python.keras.layers.normalization_v2.BatchNormalization object at 0x7f32729fb0b8> False conv4_block3_1_bn\n",
            "<tensorflow.python.keras.layers.core.Activation object at 0x7f3272a4f3c8> False conv4_block3_1_relu\n",
            "<tensorflow.python.keras.layers.convolutional.Conv2D object at 0x7f32728f91d0> False conv4_block3_2_conv\n",
            "<tensorflow.python.keras.layers.normalization_v2.BatchNormalization object at 0x7f32728de828> False conv4_block3_2_bn\n",
            "<tensorflow.python.keras.layers.core.Activation object at 0x7f32728f9eb8> False conv4_block3_2_relu\n",
            "<tensorflow.python.keras.layers.convolutional.Conv2D object at 0x7f32729072e8> False conv4_block3_3_conv\n",
            "<tensorflow.python.keras.layers.normalization_v2.BatchNormalization object at 0x7f3272907f28> False conv4_block3_3_bn\n",
            "<tensorflow.python.keras.layers.merge.Add object at 0x7f3272900400> False conv4_block3_add\n",
            "<tensorflow.python.keras.layers.core.Activation object at 0x7f3272897630> False conv4_block3_out\n",
            "<tensorflow.python.keras.layers.convolutional.Conv2D object at 0x7f3272897da0> False conv4_block4_1_conv\n",
            "<tensorflow.python.keras.layers.normalization_v2.BatchNormalization object at 0x7f32728974e0> False conv4_block4_1_bn\n",
            "<tensorflow.python.keras.layers.core.Activation object at 0x7f327290d470> False conv4_block4_1_relu\n",
            "<tensorflow.python.keras.layers.convolutional.Conv2D object at 0x7f32728a7940> False conv4_block4_2_conv\n",
            "<tensorflow.python.keras.layers.normalization_v2.BatchNormalization object at 0x7f32728a7630> False conv4_block4_2_bn\n",
            "<tensorflow.python.keras.layers.core.Activation object at 0x7f3272900358> False conv4_block4_2_relu\n",
            "<tensorflow.python.keras.layers.convolutional.Conv2D object at 0x7f32728b4a58> False conv4_block4_3_conv\n",
            "<tensorflow.python.keras.layers.normalization_v2.BatchNormalization object at 0x7f32728b4518> False conv4_block4_3_bn\n",
            "<tensorflow.python.keras.layers.merge.Add object at 0x7f32728a5a58> False conv4_block4_add\n",
            "<tensorflow.python.keras.layers.core.Activation object at 0x7f32728c3da0> False conv4_block4_out\n",
            "<tensorflow.python.keras.layers.convolutional.Conv2D object at 0x7f32728ca550> False conv4_block5_1_conv\n",
            "<tensorflow.python.keras.layers.normalization_v2.BatchNormalization object at 0x7f32728ca748> False conv4_block5_1_bn\n",
            "<tensorflow.python.keras.layers.core.Activation object at 0x7f32728bbe80> False conv4_block5_1_relu\n",
            "<tensorflow.python.keras.layers.convolutional.Conv2D object at 0x7f327285a0f0> False conv4_block5_2_conv\n",
            "<tensorflow.python.keras.layers.normalization_v2.BatchNormalization object at 0x7f327285acf8> False conv4_block5_2_bn\n",
            "<tensorflow.python.keras.layers.core.Activation object at 0x7f3272853208> False conv4_block5_2_relu\n",
            "<tensorflow.python.keras.layers.convolutional.Conv2D object at 0x7f32728bb320> False conv4_block5_3_conv\n",
            "<tensorflow.python.keras.layers.normalization_v2.BatchNormalization object at 0x7f327289c550> False conv4_block5_3_bn\n",
            "<tensorflow.python.keras.layers.merge.Add object at 0x7f32728c3320> False conv4_block5_add\n",
            "<tensorflow.python.keras.layers.core.Activation object at 0x7f3272907be0> False conv4_block5_out\n",
            "<tensorflow.python.keras.layers.convolutional.Conv2D object at 0x7f3272a0a6d8> False conv4_block6_1_conv\n",
            "<tensorflow.python.keras.layers.normalization_v2.BatchNormalization object at 0x7f3272a49828> False conv4_block6_1_bn\n",
            "<tensorflow.python.keras.layers.core.Activation object at 0x7f3272900cc0> False conv4_block6_1_relu\n",
            "<tensorflow.python.keras.layers.convolutional.Conv2D object at 0x7f3272951630> False conv4_block6_2_conv\n",
            "<tensorflow.python.keras.layers.normalization_v2.BatchNormalization object at 0x7f3272936d68> False conv4_block6_2_bn\n",
            "<tensorflow.python.keras.layers.core.Activation object at 0x7f32728b4358> False conv4_block6_2_relu\n",
            "<tensorflow.python.keras.layers.convolutional.Conv2D object at 0x7f3272860c88> False conv4_block6_3_conv\n",
            "<tensorflow.python.keras.layers.normalization_v2.BatchNormalization object at 0x7f327286a898> False conv4_block6_3_bn\n",
            "<tensorflow.python.keras.layers.merge.Add object at 0x7f3272860978> False conv4_block6_add\n",
            "<tensorflow.python.keras.layers.core.Activation object at 0x7f3272873fd0> False conv4_block6_out\n",
            "<tensorflow.python.keras.layers.convolutional.Conv2D object at 0x7f32728732b0> False conv5_block1_1_conv\n",
            "<tensorflow.python.keras.layers.normalization_v2.BatchNormalization object at 0x7f32728876d8> False conv5_block1_1_bn\n",
            "<tensorflow.python.keras.layers.core.Activation object at 0x7f3272887908> False conv5_block1_1_relu\n",
            "<tensorflow.python.keras.layers.convolutional.Conv2D object at 0x7f327288e160> False conv5_block1_2_conv\n",
            "<tensorflow.python.keras.layers.normalization_v2.BatchNormalization object at 0x7f3272814208> False conv5_block1_2_bn\n",
            "<tensorflow.python.keras.layers.core.Activation object at 0x7f3272814d68> False conv5_block1_2_relu\n",
            "<tensorflow.python.keras.layers.convolutional.Conv2D object at 0x7f327287a780> False conv5_block1_0_conv\n",
            "<tensorflow.python.keras.layers.convolutional.Conv2D object at 0x7f327281bcc0> False conv5_block1_3_conv\n",
            "<tensorflow.python.keras.layers.normalization_v2.BatchNormalization object at 0x7f327287a898> False conv5_block1_0_bn\n",
            "<tensorflow.python.keras.layers.normalization_v2.BatchNormalization object at 0x7f3272824908> False conv5_block1_3_bn\n",
            "<tensorflow.python.keras.layers.merge.Add object at 0x7f32728240f0> False conv5_block1_add\n",
            "<tensorflow.python.keras.layers.core.Activation object at 0x7f3272831630> False conv5_block1_out\n",
            "<tensorflow.python.keras.layers.convolutional.Conv2D object at 0x7f3272831da0> False conv5_block2_1_conv\n",
            "<tensorflow.python.keras.layers.normalization_v2.BatchNormalization object at 0x7f327283a9e8> False conv5_block2_1_bn\n",
            "<tensorflow.python.keras.layers.core.Activation object at 0x7f327283a1d0> False conv5_block2_1_relu\n",
            "<tensorflow.python.keras.layers.convolutional.Conv2D object at 0x7f3272841fd0> False conv5_block2_2_conv\n",
            "<tensorflow.python.keras.layers.normalization_v2.BatchNormalization object at 0x7f3272847b70> False conv5_block2_2_bn\n",
            "<tensorflow.python.keras.layers.core.Activation object at 0x7f3272850ef0> False conv5_block2_2_relu\n",
            "<tensorflow.python.keras.layers.convolutional.Conv2D object at 0x7f32727d7668> False conv5_block2_3_conv\n",
            "<tensorflow.python.keras.layers.normalization_v2.BatchNormalization object at 0x7f32727dd2b0> False conv5_block2_3_bn\n",
            "<tensorflow.python.keras.layers.merge.Add object at 0x7f32727ddba8> False conv5_block2_add\n",
            "<tensorflow.python.keras.layers.core.Activation object at 0x7f32727e3f98> False conv5_block2_out\n",
            "<tensorflow.python.keras.layers.convolutional.Conv2D object at 0x7f32727ec748> True conv5_block3_1_conv\n",
            "<tensorflow.python.keras.layers.normalization_v2.BatchNormalization object at 0x7f32727f1390> True conv5_block3_1_bn\n",
            "<tensorflow.python.keras.layers.core.Activation object at 0x7f32727f1550> True conv5_block3_1_relu\n",
            "<tensorflow.python.keras.layers.convolutional.Conv2D object at 0x7f32727e3ef0> True conv5_block3_2_conv\n",
            "<tensorflow.python.keras.layers.normalization_v2.BatchNormalization object at 0x7f3272847748> True conv5_block3_2_bn\n",
            "<tensorflow.python.keras.layers.core.Activation object at 0x7f3272831940> True conv5_block3_2_relu\n",
            "<tensorflow.python.keras.layers.convolutional.Conv2D object at 0x7f32728416a0> True conv5_block3_3_conv\n",
            "<tensorflow.python.keras.layers.normalization_v2.BatchNormalization object at 0x7f327282a3c8> True conv5_block3_3_bn\n",
            "<tensorflow.python.keras.layers.merge.Add object at 0x7f3272814c18> True conv5_block3_add\n",
            "<tensorflow.python.keras.layers.core.Activation object at 0x7f327288e5f8> True conv5_block3_out\n"
          ],
          "name": "stdout"
        }
      ]
    },
    {
      "cell_type": "code",
      "metadata": {
        "colab": {
          "base_uri": "https://localhost:8080/"
        },
        "id": "pcyACUyoY00b",
        "outputId": "6a072744-570e-450c-8c0d-f5d6bd7d8958"
      },
      "source": [
        "model.summary()"
      ],
      "execution_count": null,
      "outputs": [
        {
          "output_type": "stream",
          "text": [
            "Model: \"sequential\"\n",
            "_________________________________________________________________\n",
            "Layer (type)                 Output Shape              Param #   \n",
            "=================================================================\n",
            "resnet50 (Functional)        (None, 7, 7, 2048)        23587712  \n",
            "_________________________________________________________________\n",
            "flatten (Flatten)            (None, 100352)            0         \n",
            "_________________________________________________________________\n",
            "dense (Dense)                (None, 512)               51380736  \n",
            "_________________________________________________________________\n",
            "dense_1 (Dense)              (None, 2)                 1026      \n",
            "=================================================================\n",
            "Total params: 74,969,474\n",
            "Trainable params: 55,847,426\n",
            "Non-trainable params: 19,122,048\n",
            "_________________________________________________________________\n"
          ],
          "name": "stdout"
        }
      ]
    },
    {
      "cell_type": "code",
      "metadata": {
        "id": "y_O8Xa3VY1iC"
      },
      "source": [
        "learning_rate = 1e-4\r\n",
        "model.compile(optimizer=keras.optimizers.SGD(lr=learning_rate), loss='categorical_crossentropy', metrics=['accuracy'])"
      ],
      "execution_count": null,
      "outputs": []
    },
    {
      "cell_type": "code",
      "metadata": {
        "colab": {
          "base_uri": "https://localhost:8080/"
        },
        "id": "tNuvG-wNY_rz",
        "outputId": "ff76563b-5543-40bd-b085-c563e281ea17"
      },
      "source": [
        "n_epochs = 20\r\n",
        "history = model.fit(train_datagen,\r\n",
        "                             steps_per_epoch=len(train_datagen.filenames)//training_batch_size,\r\n",
        "                             epochs=n_epochs,\r\n",
        "                             validation_data=val_datagen,\r\n",
        "                             validation_steps=int(np.ceil(len(val_datagen.filenames)/validation_batch_size)),\r\n",
        "                             callbacks=callbacks_list)"
      ],
      "execution_count": null,
      "outputs": [
        {
          "output_type": "stream",
          "text": [
            "Epoch 1/20\n",
            "31/31 [==============================] - 38s 1s/step - loss: 0.5070 - accuracy: 0.7995 - val_loss: 0.6790 - val_accuracy: 0.7581\n",
            "Epoch 2/20\n",
            "31/31 [==============================] - 35s 1s/step - loss: 0.4225 - accuracy: 0.8077 - val_loss: 0.6618 - val_accuracy: 0.7581\n",
            "Epoch 3/20\n",
            "31/31 [==============================] - 35s 1s/step - loss: 0.3760 - accuracy: 0.8341 - val_loss: 0.6755 - val_accuracy: 0.7581\n",
            "Epoch 4/20\n",
            "31/31 [==============================] - 35s 1s/step - loss: 0.3341 - accuracy: 0.8670 - val_loss: 0.6348 - val_accuracy: 0.8145\n",
            "Epoch 5/20\n",
            "31/31 [==============================] - 35s 1s/step - loss: 0.3023 - accuracy: 0.8857 - val_loss: 0.5192 - val_accuracy: 0.8065\n",
            "Epoch 6/20\n",
            "31/31 [==============================] - 35s 1s/step - loss: 0.2010 - accuracy: 0.9160 - val_loss: 0.5089 - val_accuracy: 0.8226\n",
            "Epoch 7/20\n",
            "31/31 [==============================] - 35s 1s/step - loss: 0.2102 - accuracy: 0.9080 - val_loss: 0.5481 - val_accuracy: 0.8226\n",
            "Epoch 8/20\n",
            "31/31 [==============================] - 34s 1s/step - loss: 0.2695 - accuracy: 0.8919 - val_loss: 0.6548 - val_accuracy: 0.7903\n",
            "Epoch 9/20\n",
            "31/31 [==============================] - 34s 1s/step - loss: 0.2258 - accuracy: 0.8910 - val_loss: 0.5483 - val_accuracy: 0.7984\n",
            "Epoch 10/20\n",
            "31/31 [==============================] - 34s 1s/step - loss: 0.2242 - accuracy: 0.9123 - val_loss: 0.6020 - val_accuracy: 0.7984\n",
            "Epoch 11/20\n",
            "31/31 [==============================] - 34s 1s/step - loss: 0.1768 - accuracy: 0.9217 - val_loss: 0.4994 - val_accuracy: 0.8145\n",
            "Epoch 12/20\n",
            "31/31 [==============================] - 35s 1s/step - loss: 0.1951 - accuracy: 0.8898 - val_loss: 0.7244 - val_accuracy: 0.7339\n",
            "Epoch 13/20\n",
            "31/31 [==============================] - 34s 1s/step - loss: 0.1671 - accuracy: 0.9374 - val_loss: 0.7322 - val_accuracy: 0.7661\n",
            "Epoch 14/20\n",
            "31/31 [==============================] - 35s 1s/step - loss: 0.1783 - accuracy: 0.9190 - val_loss: 0.5537 - val_accuracy: 0.7984\n",
            "Epoch 15/20\n",
            "31/31 [==============================] - 35s 1s/step - loss: 0.1498 - accuracy: 0.9403 - val_loss: 0.7073 - val_accuracy: 0.8226\n",
            "Epoch 16/20\n",
            "31/31 [==============================] - 35s 1s/step - loss: 0.1985 - accuracy: 0.9385 - val_loss: 0.5343 - val_accuracy: 0.8145\n",
            "Epoch 17/20\n",
            "31/31 [==============================] - 34s 1s/step - loss: 0.1496 - accuracy: 0.9243 - val_loss: 0.5832 - val_accuracy: 0.7742\n",
            "Epoch 18/20\n",
            "31/31 [==============================] - 34s 1s/step - loss: 0.1561 - accuracy: 0.9386 - val_loss: 0.6083 - val_accuracy: 0.8145\n",
            "Epoch 19/20\n",
            "31/31 [==============================] - 34s 1s/step - loss: 0.1536 - accuracy: 0.9437 - val_loss: 0.6575 - val_accuracy: 0.7984\n",
            "Epoch 20/20\n",
            "31/31 [==============================] - 34s 1s/step - loss: 0.1034 - accuracy: 0.9503 - val_loss: 0.5516 - val_accuracy: 0.7984\n"
          ],
          "name": "stdout"
        }
      ]
    },
    {
      "cell_type": "markdown",
      "metadata": {
        "id": "skcEjoEPHZ8p"
      },
      "source": [
        "## **Visualize the training process**"
      ]
    },
    {
      "cell_type": "code",
      "metadata": {
        "colab": {
          "base_uri": "https://localhost:8080/",
          "height": 573
        },
        "id": "jAyo6qYiuKqz",
        "outputId": "67691fcd-ab6f-4f27-a568-3e9453023ad4"
      },
      "source": [
        "visualize_training(history, n_epochs)"
      ],
      "execution_count": null,
      "outputs": [
        {
          "output_type": "display_data",
          "data": {
            "image/png": "[encoded data removed]",
            "text/plain": [
              "<Figure size 432x288 with 1 Axes>"
            ]
          },
          "metadata": {
            "tags": [],
            "needs_background": "light"
          }
        },
        {
          "output_type": "display_data",
          "data": {
            "image/png": "[encoded data removed]",
            "text/plain": [
              "<Figure size 432x288 with 1 Axes>"
            ]
          },
          "metadata": {
            "tags": [],
            "needs_background": "light"
          }
        }
      ]
    },
    {
      "cell_type": "markdown",
      "metadata": {
        "id": "GOYPvoQwHezP"
      },
      "source": [
        "## **Load the saved model**"
      ]
    },
    {
      "cell_type": "code",
      "metadata": {
        "id": "jscDXk2nD90f"
      },
      "source": [
        "loaded_model = load_model('/content/drive/MyDrive/Model development/Iteration_3/iter3_resnet-model_1.h5')"
      ],
      "execution_count": null,
      "outputs": []
    },
    {
      "cell_type": "code",
      "metadata": {
        "colab": {
          "base_uri": "https://localhost:8080/"
        },
        "id": "W1GOXPbZGOoD",
        "outputId": "27a6efff-4fae-4040-8269-f6b1a942a212"
      },
      "source": [
        "model.summary()"
      ],
      "execution_count": null,
      "outputs": [
        {
          "output_type": "stream",
          "text": [
            "Model: \"sequential\"\n",
            "_________________________________________________________________\n",
            "Layer (type)                 Output Shape              Param #   \n",
            "=================================================================\n",
            "resnet50 (Functional)        (None, 7, 7, 2048)        23587712  \n",
            "_________________________________________________________________\n",
            "flatten (Flatten)            (None, 100352)            0         \n",
            "_________________________________________________________________\n",
            "dense (Dense)                (None, 512)               51380736  \n",
            "_________________________________________________________________\n",
            "dense_1 (Dense)              (None, 2)                 1026      \n",
            "=================================================================\n",
            "Total params: 74,969,474\n",
            "Trainable params: 55,847,426\n",
            "Non-trainable params: 19,122,048\n",
            "_________________________________________________________________\n"
          ],
          "name": "stdout"
        }
      ]
    },
    {
      "cell_type": "markdown",
      "metadata": {
        "id": "PD81PQxgHjY3"
      },
      "source": [
        "## **Evaluate the model**"
      ]
    },
    {
      "cell_type": "code",
      "metadata": {
        "colab": {
          "base_uri": "https://localhost:8080/"
        },
        "id": "ZGtKLewtvj8W",
        "outputId": "16b08229-cb23-417c-ec78-635f7769b651"
      },
      "source": [
        "_, evaluate_datagen = get_images(224, preprocessing= resnet50.preprocess_input)"
      ],
      "execution_count": null,
      "outputs": [
        {
          "output_type": "stream",
          "text": [
            "Found 498 images belonging to 2 classes.\n",
            "Found 124 images belonging to 2 classes.\n"
          ],
          "name": "stdout"
        }
      ]
    },
    {
      "cell_type": "code",
      "metadata": {
        "colab": {
          "base_uri": "https://localhost:8080/"
        },
        "id": "E9icgd-BwdFx",
        "outputId": "399eb492-c26f-45cd-849e-8b4dee2c69f1"
      },
      "source": [
        "model_result = loaded_model.evaluate(\r\n",
        "    val_datagen,\r\n",
        "    steps = 8)"
      ],
      "execution_count": null,
      "outputs": [
        {
          "output_type": "stream",
          "text": [
            "8/8 [==============================] - 4s 498ms/step - loss: 0.2693 - accuracy: 0.9219\n"
          ],
          "name": "stdout"
        }
      ]
    },
    {
      "cell_type": "markdown",
      "metadata": {
        "id": "oUGkieYQHo8R"
      },
      "source": [
        "## **Classification Report**"
      ]
    },
    {
      "cell_type": "code",
      "metadata": {
        "colab": {
          "base_uri": "https://localhost:8080/"
        },
        "id": "oAw_hvRoG8Mb",
        "outputId": "f556b266-4678-483f-fc4b-1a5f929a6343"
      },
      "source": [
        "print_classification_report(loaded_model, evaluate_datagen,  validation_batch_size)"
      ],
      "execution_count": null,
      "outputs": [
        {
          "output_type": "stream",
          "text": [
            "              precision    recall  f1-score   support\n",
            "\n",
            "           0       0.85      0.87      0.86        98\n",
            "           1       0.46      0.42      0.44        26\n",
            "\n",
            "    accuracy                           0.77       124\n",
            "   macro avg       0.65      0.65      0.65       124\n",
            "weighted avg       0.77      0.77      0.77       124\n",
            "\n",
            "Confusion Matrix:\n",
            "  [[85 13]\n",
            " [15 11]]\n"
          ],
          "name": "stdout"
        }
      ]
    }
  ]
}