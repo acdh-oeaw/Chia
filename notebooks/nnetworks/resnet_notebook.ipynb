{
 "cells": [
  {
   "cell_type": "markdown",
   "metadata": {
    "id": "SsJE8TvhGtcp"
   },
   "source": [
    "## **Import libraries and packages**"
   ]
  },
  {
   "cell_type": "code",
   "execution_count": null,
   "metadata": {
    "id": "At1vu_U73uBx"
   },
   "outputs": [],
   "source": [
    "# %tensorflow_version 2.x\n",
    "\n",
    "# import tensorflow and tensorflow.keras\n",
    "import tensorflow as tf\n",
    "from tensorflow import keras\n",
    "from tensorflow.keras import backend as K\n",
    "\n",
    "# import ImageDataGenerator and the related functions required for processing images\n",
    "from tensorflow.keras.preprocessing.image import ImageDataGenerator, img_to_array, load_img\n",
    "from tensorflow.keras.layers import Input, Dense, Dropout, BatchNormalization, GlobalAveragePooling2D\n",
    "\n",
    "# import optimizers\n",
    "from tensorflow.keras.optimizers import SGD, Adam, Adagrad, Adadelta, RMSprop\n",
    "\n",
    "# import statements for building and loading the model\n",
    "from tensorflow.keras import models\n",
    "from tensorflow.keras.models import Sequential, Model, load_model\n",
    "from tensorflow.keras.models import model_from_json\n",
    "\n",
    "# import statements for callbacks\n",
    "from tensorflow.keras.callbacks import ReduceLROnPlateau, ModelCheckpoint, EarlyStopping\n",
    "\n",
    "# import statements for initlializers and regularizers\n",
    "from tensorflow.keras.initializers import glorot_uniform\n",
    "from tensorflow.keras.regularizers import l2\n",
    "\n",
    "# import statements for one-hot encoding, model plotting\n",
    "from tensorflow.keras.utils import to_categorical, plot_model\n",
    "\n",
    "# import statements for loading ResNet50 from keras\n",
    "from tensorflow.keras.applications import resnet50\n",
    "#from tensorflow.keras.applications.resnet50 import ResNet50\n",
    "#from tensorflow.keras.applications.resnet50 import preprocess_input\n",
    "\n",
    "# import statements for scikit-learn\n",
    "import sklearn.metrics as metrics\n",
    "from sklearn.preprocessing import LabelBinarizer\n",
    "from sklearn.model_selection import train_test_split\n",
    "from sklearn.metrics import classification_report, accuracy_score, confusion_matrix\n",
    "\n",
    "from tensorflow.keras.layers.experimental import preprocessing\n",
    "\n",
    "# import scipy\n",
    "import scipy.misc\n",
    "\n",
    "# import os for file access\n",
    "import os \n",
    "\n",
    "# import glob\n",
    "import glob\n",
    "\n",
    "# import numpy, pandas\n",
    "import numpy as np\n",
    "import pandas as pd\n",
    "\n",
    "# import opencv\n",
    "import cv2\n",
    "\n",
    "# import matplotlib\n",
    "import matplotlib.pyplot as plt\n",
    "from matplotlib.pyplot import imshow\n",
    "\n",
    "# import zipfile for unzipping the data\n",
    "import zipfile\n",
    "\n",
    "# import csv to access the csv files\n",
    "import csv\n",
    "\n",
    "# import drive to access the data from GDrive\n",
    "from google.colab import drive\n",
    "\n",
    "# import seaborn\n",
    "import seaborn as sns\n",
    "\n",
    "# import time\n",
    "from time import time"
   ]
  },
  {
   "cell_type": "code",
   "execution_count": null,
   "metadata": {
    "id": "eD1QmYLWJZWc"
   },
   "outputs": [],
   "source": [
    "from PIL import ImageFile\n",
    "ImageFile.LOAD_TRUNCATED_IMAGES = True"
   ]
  },
  {
   "cell_type": "markdown",
   "metadata": {
    "id": "OMts3IveG21y"
   },
   "source": [
    "## **Load the dataset**"
   ]
  },
  {
   "cell_type": "code",
   "execution_count": null,
   "metadata": {},
   "outputs": [],
   "source": [
    "drive.mount('/content/drive')"
   ]
  },
  {
   "cell_type": "code",
   "execution_count": null,
   "metadata": {
    "id": "MVayiSEvSY1b"
   },
   "outputs": [],
   "source": [
    "zip_ref = zipfile.ZipFile(\"/content/drive/MyDrive/ChiA_dataset.zip\", 'r')\n",
    "zip_ref.extractall(\"/tmp\")\n",
    "zip_ref.close()"
   ]
  },
  {
   "cell_type": "code",
   "execution_count": null,
   "metadata": {
    "id": "0slwNdMNSb4P"
   },
   "outputs": [],
   "source": [
    "train_dir = '/tmp/ChiA_dataset/train/'\n",
    "val_dir = '/tmp/ChiA_dataset/validation/'\n",
    "test_dir = '/tmp/ChiA_dataset/test/'"
   ]
  },
  {
   "cell_type": "markdown",
   "metadata": {
    "id": "sKi2HCldG8Mb"
   },
   "source": [
    "## **Data Augmentation**"
   ]
  },
  {
   "cell_type": "code",
   "execution_count": null,
   "metadata": {
    "id": "0oEIjURHTVMX"
   },
   "outputs": [],
   "source": [
    "training_batch_size = 16\n",
    "validation_batch_size = 16\n",
    "def get_images(img_size, preprocessing):\n",
    "\n",
    "  \n",
    "  train_datagen = ImageDataGenerator(rotation_range=20,\n",
    "                              horizontal_flip= True,\n",
    "                              height_shift_range=0.1,\n",
    "                              width_shift_range=0.1,\n",
    "                              shear_range=0.2,\n",
    "                              zoom_range=0.2,\n",
    "                              fill_mode=\"nearest\",\n",
    "                              preprocessing_function = preprocessing)\n",
    "  \n",
    "  datagen = ImageDataGenerator(preprocessing_function= preprocessing)\n",
    "  \n",
    "  train_datagen = train_datagen.flow_from_directory(train_dir,\n",
    "                                            batch_size= training_batch_size,\n",
    "                                            shuffle= True,\n",
    "                                            target_size = (img_size, img_size),\n",
    "                                            classes = ['Appealing', 'Non-appealing'])\n",
    "  \n",
    "  val_datagen = datagen.flow_from_directory(val_dir,\n",
    "                                            batch_size= validation_batch_size,\n",
    "                                            shuffle= False,\n",
    "                                            target_size = (img_size, img_size),\n",
    "                                            classes = ['Appealing', 'Non-appealing'])\n",
    "  \n",
    "  test_datagen = datagen.flow_from_directory(test_dir,\n",
    "                                            batch_size= validation_batch_size,\n",
    "                                            shuffle= False,\n",
    "                                            target_size = (img_size, img_size),\n",
    "                                            classes = ['Appealing', 'Non-appealing'])\n",
    "  \n",
    "  return train_datagen, val_datagen, test_datagen"
   ]
  },
  {
   "cell_type": "code",
   "execution_count": null,
   "metadata": {
    "colab": {
     "base_uri": "https://localhost:8080/"
    },
    "id": "YAWT71kX--Pq",
    "outputId": "11f62c86-4cba-495c-9a5b-79f026618ee9"
   },
   "outputs": [
    {
     "name": "stdout",
     "output_type": "stream",
     "text": [
      "Found 680 images belonging to 2 classes.\n",
      "Found 200 images belonging to 2 classes.\n",
      "Found 130 images belonging to 2 classes.\n"
     ]
    }
   ],
   "source": [
    "train_datagen, val_datagen, test_datagen = get_images(224, preprocessing= resnet50.preprocess_input)"
   ]
  },
  {
   "cell_type": "code",
   "execution_count": null,
   "metadata": {
    "id": "z8uQ_iJQpMMv"
   },
   "outputs": [],
   "source": [
    "def visualize_training(history, epochs):\n",
    "  fig = plt.figure()\n",
    "  \n",
    "  #plt.subplot(1,2,1)\n",
    "  plt.plot(history.history['accuracy']);\n",
    "  plt.plot(history.history['val_accuracy'])\n",
    "  plt.title(\"Model Accuracy\")\n",
    "  plt.ylabel('accuracy')\n",
    "  plt.xlabel('epoch')\n",
    "  #plt.figsize()\n",
    "  label_1 = \"{:.2f}\".format(history.history['accuracy'][-1])\n",
    "  label_2 = \"{:.2f}\".format(history.history['val_accuracy'][-1])\n",
    "  plt.annotate(label_1, (epochs-1,history.history['accuracy'][-1]), textcoords=\"offset points\", \n",
    "               xytext=(0,10),ha='center')\n",
    "  plt.annotate(label_2, (epochs-1,history.history['val_accuracy'][-1]), textcoords=\"offset points\", \n",
    "               xytext=(0,10),ha='center')\n",
    "  plt.legend(['training', 'validation'], loc='upper left')\n",
    "\n",
    "  fig = plt.figure()\n",
    "\n",
    "  #plt.subplot(1,2,2)\n",
    "  plt.plot(history.history['loss']);\n",
    "  plt.plot(history.history['val_loss'])\n",
    "  plt.title(\"Model Loss\")\n",
    "  plt.ylabel('loss')\n",
    "  plt.xlabel('epoch')\n",
    "  label_3 = \"{:.2f}\".format(history.history['loss'][-1])\n",
    "  label_4 = \"{:.2f}\".format(history.history['val_loss'][-1])\n",
    "  plt.annotate(label_3, (epochs-1,history.history['loss'][-1]), textcoords=\"offset points\", \n",
    "               xytext=(0,10),ha='center')\n",
    "  plt.annotate(label_4, (epochs-1,history.history['val_loss'][-1]), textcoords=\"offset points\", \n",
    "               xytext=(0,10),ha='center')\n",
    "  plt.legend(['training', 'validation'], loc='upper left')\n",
    "\n",
    "  plt.show()"
   ]
  },
  {
   "cell_type": "code",
   "execution_count": null,
   "metadata": {
    "id": "In2WtrreqQpd"
   },
   "outputs": [],
   "source": [
    "def print_classification_report(model, data_gen, batch_size):\n",
    "  true_labels = data_gen.labels\n",
    "  data_gen.reset()\n",
    "  predicted_labels = model.predict(data_gen, steps = np.ceil(len(true_labels)/batch_size))\n",
    "  #print(list( np.argmax(a) for a in predicted_labels), true_labels)\n",
    "  print(classification_report(true_labels, list( np.argmax(a) for a in predicted_labels)))\n",
    "  print(\"Confusion Matrix:\\n \",confusion_matrix(true_labels,list( np.argmax(a) for a in predicted_labels)))"
   ]
  },
  {
   "cell_type": "markdown",
   "metadata": {
    "id": "wak6fhrhHFLi"
   },
   "source": [
    "## **Build the model**"
   ]
  },
  {
   "cell_type": "code",
   "execution_count": null,
   "metadata": {
    "id": "JpL3tPxNHNxZ"
   },
   "outputs": [],
   "source": [
    "resnet_base = resnet50.ResNet50(weights='imagenet', include_top= False, input_shape= (224, 224, 3))"
   ]
  },
  {
   "cell_type": "code",
   "execution_count": null,
   "metadata": {
    "colab": {
     "base_uri": "https://localhost:8080/"
    },
    "id": "6hcwT5ROKMYO",
    "outputId": "0f277a2a-835d-4d0c-c48c-0e1801eb7671"
   },
   "outputs": [
    {
     "name": "stdout",
     "output_type": "stream",
     "text": [
      "Model: \"resnet50\"\n",
      "__________________________________________________________________________________________________\n",
      "Layer (type)                    Output Shape         Param #     Connected to                     \n",
      "==================================================================================================\n",
      "input_1 (InputLayer)            [(None, 224, 224, 3) 0                                            \n",
      "__________________________________________________________________________________________________\n",
      "conv1_pad (ZeroPadding2D)       (None, 230, 230, 3)  0           input_1[0][0]                    \n",
      "__________________________________________________________________________________________________\n",
      "conv1_conv (Conv2D)             (None, 112, 112, 64) 9472        conv1_pad[0][0]                  \n",
      "__________________________________________________________________________________________________\n",
      "conv1_bn (BatchNormalization)   (None, 112, 112, 64) 256         conv1_conv[0][0]                 \n",
      "__________________________________________________________________________________________________\n",
      "conv1_relu (Activation)         (None, 112, 112, 64) 0           conv1_bn[0][0]                   \n",
      "__________________________________________________________________________________________________\n",
      "pool1_pad (ZeroPadding2D)       (None, 114, 114, 64) 0           conv1_relu[0][0]                 \n",
      "__________________________________________________________________________________________________\n",
      "pool1_pool (MaxPooling2D)       (None, 56, 56, 64)   0           pool1_pad[0][0]                  \n",
      "__________________________________________________________________________________________________\n",
      "conv2_block1_1_conv (Conv2D)    (None, 56, 56, 64)   4160        pool1_pool[0][0]                 \n",
      "__________________________________________________________________________________________________\n",
      "conv2_block1_1_bn (BatchNormali (None, 56, 56, 64)   256         conv2_block1_1_conv[0][0]        \n",
      "__________________________________________________________________________________________________\n",
      "conv2_block1_1_relu (Activation (None, 56, 56, 64)   0           conv2_block1_1_bn[0][0]          \n",
      "__________________________________________________________________________________________________\n",
      "conv2_block1_2_conv (Conv2D)    (None, 56, 56, 64)   36928       conv2_block1_1_relu[0][0]        \n",
      "__________________________________________________________________________________________________\n",
      "conv2_block1_2_bn (BatchNormali (None, 56, 56, 64)   256         conv2_block1_2_conv[0][0]        \n",
      "__________________________________________________________________________________________________\n",
      "conv2_block1_2_relu (Activation (None, 56, 56, 64)   0           conv2_block1_2_bn[0][0]          \n",
      "__________________________________________________________________________________________________\n",
      "conv2_block1_0_conv (Conv2D)    (None, 56, 56, 256)  16640       pool1_pool[0][0]                 \n",
      "__________________________________________________________________________________________________\n",
      "conv2_block1_3_conv (Conv2D)    (None, 56, 56, 256)  16640       conv2_block1_2_relu[0][0]        \n",
      "__________________________________________________________________________________________________\n",
      "conv2_block1_0_bn (BatchNormali (None, 56, 56, 256)  1024        conv2_block1_0_conv[0][0]        \n",
      "__________________________________________________________________________________________________\n",
      "conv2_block1_3_bn (BatchNormali (None, 56, 56, 256)  1024        conv2_block1_3_conv[0][0]        \n",
      "__________________________________________________________________________________________________\n",
      "conv2_block1_add (Add)          (None, 56, 56, 256)  0           conv2_block1_0_bn[0][0]          \n",
      "                                                                 conv2_block1_3_bn[0][0]          \n",
      "__________________________________________________________________________________________________\n",
      "conv2_block1_out (Activation)   (None, 56, 56, 256)  0           conv2_block1_add[0][0]           \n",
      "__________________________________________________________________________________________________\n",
      "conv2_block2_1_conv (Conv2D)    (None, 56, 56, 64)   16448       conv2_block1_out[0][0]           \n",
      "__________________________________________________________________________________________________\n",
      "conv2_block2_1_bn (BatchNormali (None, 56, 56, 64)   256         conv2_block2_1_conv[0][0]        \n",
      "__________________________________________________________________________________________________\n",
      "conv2_block2_1_relu (Activation (None, 56, 56, 64)   0           conv2_block2_1_bn[0][0]          \n",
      "__________________________________________________________________________________________________\n",
      "conv2_block2_2_conv (Conv2D)    (None, 56, 56, 64)   36928       conv2_block2_1_relu[0][0]        \n",
      "__________________________________________________________________________________________________\n",
      "conv2_block2_2_bn (BatchNormali (None, 56, 56, 64)   256         conv2_block2_2_conv[0][0]        \n",
      "__________________________________________________________________________________________________\n",
      "conv2_block2_2_relu (Activation (None, 56, 56, 64)   0           conv2_block2_2_bn[0][0]          \n",
      "__________________________________________________________________________________________________\n",
      "conv2_block2_3_conv (Conv2D)    (None, 56, 56, 256)  16640       conv2_block2_2_relu[0][0]        \n",
      "__________________________________________________________________________________________________\n",
      "conv2_block2_3_bn (BatchNormali (None, 56, 56, 256)  1024        conv2_block2_3_conv[0][0]        \n",
      "__________________________________________________________________________________________________\n",
      "conv2_block2_add (Add)          (None, 56, 56, 256)  0           conv2_block1_out[0][0]           \n",
      "                                                                 conv2_block2_3_bn[0][0]          \n",
      "__________________________________________________________________________________________________\n",
      "conv2_block2_out (Activation)   (None, 56, 56, 256)  0           conv2_block2_add[0][0]           \n",
      "__________________________________________________________________________________________________\n",
      "conv2_block3_1_conv (Conv2D)    (None, 56, 56, 64)   16448       conv2_block2_out[0][0]           \n",
      "__________________________________________________________________________________________________\n",
      "conv2_block3_1_bn (BatchNormali (None, 56, 56, 64)   256         conv2_block3_1_conv[0][0]        \n",
      "__________________________________________________________________________________________________\n",
      "conv2_block3_1_relu (Activation (None, 56, 56, 64)   0           conv2_block3_1_bn[0][0]          \n",
      "__________________________________________________________________________________________________\n",
      "conv2_block3_2_conv (Conv2D)    (None, 56, 56, 64)   36928       conv2_block3_1_relu[0][0]        \n",
      "__________________________________________________________________________________________________\n",
      "conv2_block3_2_bn (BatchNormali (None, 56, 56, 64)   256         conv2_block3_2_conv[0][0]        \n",
      "__________________________________________________________________________________________________\n",
      "conv2_block3_2_relu (Activation (None, 56, 56, 64)   0           conv2_block3_2_bn[0][0]          \n",
      "__________________________________________________________________________________________________\n",
      "conv2_block3_3_conv (Conv2D)    (None, 56, 56, 256)  16640       conv2_block3_2_relu[0][0]        \n",
      "__________________________________________________________________________________________________\n",
      "conv2_block3_3_bn (BatchNormali (None, 56, 56, 256)  1024        conv2_block3_3_conv[0][0]        \n",
      "__________________________________________________________________________________________________\n",
      "conv2_block3_add (Add)          (None, 56, 56, 256)  0           conv2_block2_out[0][0]           \n",
      "                                                                 conv2_block3_3_bn[0][0]          \n",
      "__________________________________________________________________________________________________\n",
      "conv2_block3_out (Activation)   (None, 56, 56, 256)  0           conv2_block3_add[0][0]           \n",
      "__________________________________________________________________________________________________\n",
      "conv3_block1_1_conv (Conv2D)    (None, 28, 28, 128)  32896       conv2_block3_out[0][0]           \n",
      "__________________________________________________________________________________________________\n",
      "conv3_block1_1_bn (BatchNormali (None, 28, 28, 128)  512         conv3_block1_1_conv[0][0]        \n",
      "__________________________________________________________________________________________________\n",
      "conv3_block1_1_relu (Activation (None, 28, 28, 128)  0           conv3_block1_1_bn[0][0]          \n",
      "__________________________________________________________________________________________________\n",
      "conv3_block1_2_conv (Conv2D)    (None, 28, 28, 128)  147584      conv3_block1_1_relu[0][0]        \n",
      "__________________________________________________________________________________________________\n",
      "conv3_block1_2_bn (BatchNormali (None, 28, 28, 128)  512         conv3_block1_2_conv[0][0]        \n",
      "__________________________________________________________________________________________________\n",
      "conv3_block1_2_relu (Activation (None, 28, 28, 128)  0           conv3_block1_2_bn[0][0]          \n",
      "__________________________________________________________________________________________________\n",
      "conv3_block1_0_conv (Conv2D)    (None, 28, 28, 512)  131584      conv2_block3_out[0][0]           \n",
      "__________________________________________________________________________________________________\n",
      "conv3_block1_3_conv (Conv2D)    (None, 28, 28, 512)  66048       conv3_block1_2_relu[0][0]        \n",
      "__________________________________________________________________________________________________\n",
      "conv3_block1_0_bn (BatchNormali (None, 28, 28, 512)  2048        conv3_block1_0_conv[0][0]        \n",
      "__________________________________________________________________________________________________\n",
      "conv3_block1_3_bn (BatchNormali (None, 28, 28, 512)  2048        conv3_block1_3_conv[0][0]        \n",
      "__________________________________________________________________________________________________\n",
      "conv3_block1_add (Add)          (None, 28, 28, 512)  0           conv3_block1_0_bn[0][0]          \n",
      "                                                                 conv3_block1_3_bn[0][0]          \n",
      "__________________________________________________________________________________________________\n",
      "conv3_block1_out (Activation)   (None, 28, 28, 512)  0           conv3_block1_add[0][0]           \n",
      "__________________________________________________________________________________________________\n",
      "conv3_block2_1_conv (Conv2D)    (None, 28, 28, 128)  65664       conv3_block1_out[0][0]           \n",
      "__________________________________________________________________________________________________\n",
      "conv3_block2_1_bn (BatchNormali (None, 28, 28, 128)  512         conv3_block2_1_conv[0][0]        \n",
      "__________________________________________________________________________________________________\n",
      "conv3_block2_1_relu (Activation (None, 28, 28, 128)  0           conv3_block2_1_bn[0][0]          \n",
      "__________________________________________________________________________________________________\n",
      "conv3_block2_2_conv (Conv2D)    (None, 28, 28, 128)  147584      conv3_block2_1_relu[0][0]        \n",
      "__________________________________________________________________________________________________\n",
      "conv3_block2_2_bn (BatchNormali (None, 28, 28, 128)  512         conv3_block2_2_conv[0][0]        \n",
      "__________________________________________________________________________________________________\n",
      "conv3_block2_2_relu (Activation (None, 28, 28, 128)  0           conv3_block2_2_bn[0][0]          \n",
      "__________________________________________________________________________________________________\n",
      "conv3_block2_3_conv (Conv2D)    (None, 28, 28, 512)  66048       conv3_block2_2_relu[0][0]        \n",
      "__________________________________________________________________________________________________\n",
      "conv3_block2_3_bn (BatchNormali (None, 28, 28, 512)  2048        conv3_block2_3_conv[0][0]        \n",
      "__________________________________________________________________________________________________\n",
      "conv3_block2_add (Add)          (None, 28, 28, 512)  0           conv3_block1_out[0][0]           \n",
      "                                                                 conv3_block2_3_bn[0][0]          \n",
      "__________________________________________________________________________________________________\n",
      "conv3_block2_out (Activation)   (None, 28, 28, 512)  0           conv3_block2_add[0][0]           \n",
      "__________________________________________________________________________________________________\n",
      "conv3_block3_1_conv (Conv2D)    (None, 28, 28, 128)  65664       conv3_block2_out[0][0]           \n",
      "__________________________________________________________________________________________________\n",
      "conv3_block3_1_bn (BatchNormali (None, 28, 28, 128)  512         conv3_block3_1_conv[0][0]        \n",
      "__________________________________________________________________________________________________\n",
      "conv3_block3_1_relu (Activation (None, 28, 28, 128)  0           conv3_block3_1_bn[0][0]          \n",
      "__________________________________________________________________________________________________\n",
      "conv3_block3_2_conv (Conv2D)    (None, 28, 28, 128)  147584      conv3_block3_1_relu[0][0]        \n",
      "__________________________________________________________________________________________________\n",
      "conv3_block3_2_bn (BatchNormali (None, 28, 28, 128)  512         conv3_block3_2_conv[0][0]        \n",
      "__________________________________________________________________________________________________\n",
      "conv3_block3_2_relu (Activation (None, 28, 28, 128)  0           conv3_block3_2_bn[0][0]          \n",
      "__________________________________________________________________________________________________\n",
      "conv3_block3_3_conv (Conv2D)    (None, 28, 28, 512)  66048       conv3_block3_2_relu[0][0]        \n",
      "__________________________________________________________________________________________________\n",
      "conv3_block3_3_bn (BatchNormali (None, 28, 28, 512)  2048        conv3_block3_3_conv[0][0]        \n",
      "__________________________________________________________________________________________________\n",
      "conv3_block3_add (Add)          (None, 28, 28, 512)  0           conv3_block2_out[0][0]           \n",
      "                                                                 conv3_block3_3_bn[0][0]          \n",
      "__________________________________________________________________________________________________\n",
      "conv3_block3_out (Activation)   (None, 28, 28, 512)  0           conv3_block3_add[0][0]           \n",
      "__________________________________________________________________________________________________\n",
      "conv3_block4_1_conv (Conv2D)    (None, 28, 28, 128)  65664       conv3_block3_out[0][0]           \n",
      "__________________________________________________________________________________________________\n",
      "conv3_block4_1_bn (BatchNormali (None, 28, 28, 128)  512         conv3_block4_1_conv[0][0]        \n",
      "__________________________________________________________________________________________________\n",
      "conv3_block4_1_relu (Activation (None, 28, 28, 128)  0           conv3_block4_1_bn[0][0]          \n",
      "__________________________________________________________________________________________________\n",
      "conv3_block4_2_conv (Conv2D)    (None, 28, 28, 128)  147584      conv3_block4_1_relu[0][0]        \n",
      "__________________________________________________________________________________________________\n",
      "conv3_block4_2_bn (BatchNormali (None, 28, 28, 128)  512         conv3_block4_2_conv[0][0]        \n",
      "__________________________________________________________________________________________________\n",
      "conv3_block4_2_relu (Activation (None, 28, 28, 128)  0           conv3_block4_2_bn[0][0]          \n",
      "__________________________________________________________________________________________________\n",
      "conv3_block4_3_conv (Conv2D)    (None, 28, 28, 512)  66048       conv3_block4_2_relu[0][0]        \n",
      "__________________________________________________________________________________________________\n",
      "conv3_block4_3_bn (BatchNormali (None, 28, 28, 512)  2048        conv3_block4_3_conv[0][0]        \n",
      "__________________________________________________________________________________________________\n",
      "conv3_block4_add (Add)          (None, 28, 28, 512)  0           conv3_block3_out[0][0]           \n",
      "                                                                 conv3_block4_3_bn[0][0]          \n",
      "__________________________________________________________________________________________________\n",
      "conv3_block4_out (Activation)   (None, 28, 28, 512)  0           conv3_block4_add[0][0]           \n",
      "__________________________________________________________________________________________________\n",
      "conv4_block1_1_conv (Conv2D)    (None, 14, 14, 256)  131328      conv3_block4_out[0][0]           \n",
      "__________________________________________________________________________________________________\n",
      "conv4_block1_1_bn (BatchNormali (None, 14, 14, 256)  1024        conv4_block1_1_conv[0][0]        \n",
      "__________________________________________________________________________________________________\n",
      "conv4_block1_1_relu (Activation (None, 14, 14, 256)  0           conv4_block1_1_bn[0][0]          \n",
      "__________________________________________________________________________________________________\n",
      "conv4_block1_2_conv (Conv2D)    (None, 14, 14, 256)  590080      conv4_block1_1_relu[0][0]        \n",
      "__________________________________________________________________________________________________\n",
      "conv4_block1_2_bn (BatchNormali (None, 14, 14, 256)  1024        conv4_block1_2_conv[0][0]        \n",
      "__________________________________________________________________________________________________\n",
      "conv4_block1_2_relu (Activation (None, 14, 14, 256)  0           conv4_block1_2_bn[0][0]          \n",
      "__________________________________________________________________________________________________\n",
      "conv4_block1_0_conv (Conv2D)    (None, 14, 14, 1024) 525312      conv3_block4_out[0][0]           \n",
      "__________________________________________________________________________________________________\n",
      "conv4_block1_3_conv (Conv2D)    (None, 14, 14, 1024) 263168      conv4_block1_2_relu[0][0]        \n",
      "__________________________________________________________________________________________________\n",
      "conv4_block1_0_bn (BatchNormali (None, 14, 14, 1024) 4096        conv4_block1_0_conv[0][0]        \n",
      "__________________________________________________________________________________________________\n",
      "conv4_block1_3_bn (BatchNormali (None, 14, 14, 1024) 4096        conv4_block1_3_conv[0][0]        \n",
      "__________________________________________________________________________________________________\n",
      "conv4_block1_add (Add)          (None, 14, 14, 1024) 0           conv4_block1_0_bn[0][0]          \n",
      "                                                                 conv4_block1_3_bn[0][0]          \n",
      "__________________________________________________________________________________________________\n",
      "conv4_block1_out (Activation)   (None, 14, 14, 1024) 0           conv4_block1_add[0][0]           \n",
      "__________________________________________________________________________________________________\n",
      "conv4_block2_1_conv (Conv2D)    (None, 14, 14, 256)  262400      conv4_block1_out[0][0]           \n",
      "__________________________________________________________________________________________________\n",
      "conv4_block2_1_bn (BatchNormali (None, 14, 14, 256)  1024        conv4_block2_1_conv[0][0]        \n",
      "__________________________________________________________________________________________________\n",
      "conv4_block2_1_relu (Activation (None, 14, 14, 256)  0           conv4_block2_1_bn[0][0]          \n",
      "__________________________________________________________________________________________________\n",
      "conv4_block2_2_conv (Conv2D)    (None, 14, 14, 256)  590080      conv4_block2_1_relu[0][0]        \n",
      "__________________________________________________________________________________________________\n",
      "conv4_block2_2_bn (BatchNormali (None, 14, 14, 256)  1024        conv4_block2_2_conv[0][0]        \n",
      "__________________________________________________________________________________________________\n",
      "conv4_block2_2_relu (Activation (None, 14, 14, 256)  0           conv4_block2_2_bn[0][0]          \n",
      "__________________________________________________________________________________________________\n",
      "conv4_block2_3_conv (Conv2D)    (None, 14, 14, 1024) 263168      conv4_block2_2_relu[0][0]        \n",
      "__________________________________________________________________________________________________\n",
      "conv4_block2_3_bn (BatchNormali (None, 14, 14, 1024) 4096        conv4_block2_3_conv[0][0]        \n",
      "__________________________________________________________________________________________________\n",
      "conv4_block2_add (Add)          (None, 14, 14, 1024) 0           conv4_block1_out[0][0]           \n",
      "                                                                 conv4_block2_3_bn[0][0]          \n",
      "__________________________________________________________________________________________________\n",
      "conv4_block2_out (Activation)   (None, 14, 14, 1024) 0           conv4_block2_add[0][0]           \n",
      "__________________________________________________________________________________________________\n",
      "conv4_block3_1_conv (Conv2D)    (None, 14, 14, 256)  262400      conv4_block2_out[0][0]           \n",
      "__________________________________________________________________________________________________\n",
      "conv4_block3_1_bn (BatchNormali (None, 14, 14, 256)  1024        conv4_block3_1_conv[0][0]        \n",
      "__________________________________________________________________________________________________\n",
      "conv4_block3_1_relu (Activation (None, 14, 14, 256)  0           conv4_block3_1_bn[0][0]          \n",
      "__________________________________________________________________________________________________\n",
      "conv4_block3_2_conv (Conv2D)    (None, 14, 14, 256)  590080      conv4_block3_1_relu[0][0]        \n",
      "__________________________________________________________________________________________________\n",
      "conv4_block3_2_bn (BatchNormali (None, 14, 14, 256)  1024        conv4_block3_2_conv[0][0]        \n",
      "__________________________________________________________________________________________________\n",
      "conv4_block3_2_relu (Activation (None, 14, 14, 256)  0           conv4_block3_2_bn[0][0]          \n",
      "__________________________________________________________________________________________________\n",
      "conv4_block3_3_conv (Conv2D)    (None, 14, 14, 1024) 263168      conv4_block3_2_relu[0][0]        \n",
      "__________________________________________________________________________________________________\n",
      "conv4_block3_3_bn (BatchNormali (None, 14, 14, 1024) 4096        conv4_block3_3_conv[0][0]        \n",
      "__________________________________________________________________________________________________\n",
      "conv4_block3_add (Add)          (None, 14, 14, 1024) 0           conv4_block2_out[0][0]           \n",
      "                                                                 conv4_block3_3_bn[0][0]          \n",
      "__________________________________________________________________________________________________\n",
      "conv4_block3_out (Activation)   (None, 14, 14, 1024) 0           conv4_block3_add[0][0]           \n",
      "__________________________________________________________________________________________________\n",
      "conv4_block4_1_conv (Conv2D)    (None, 14, 14, 256)  262400      conv4_block3_out[0][0]           \n",
      "__________________________________________________________________________________________________\n",
      "conv4_block4_1_bn (BatchNormali (None, 14, 14, 256)  1024        conv4_block4_1_conv[0][0]        \n",
      "__________________________________________________________________________________________________\n",
      "conv4_block4_1_relu (Activation (None, 14, 14, 256)  0           conv4_block4_1_bn[0][0]          \n",
      "__________________________________________________________________________________________________\n",
      "conv4_block4_2_conv (Conv2D)    (None, 14, 14, 256)  590080      conv4_block4_1_relu[0][0]        \n",
      "__________________________________________________________________________________________________\n",
      "conv4_block4_2_bn (BatchNormali (None, 14, 14, 256)  1024        conv4_block4_2_conv[0][0]        \n",
      "__________________________________________________________________________________________________\n",
      "conv4_block4_2_relu (Activation (None, 14, 14, 256)  0           conv4_block4_2_bn[0][0]          \n",
      "__________________________________________________________________________________________________\n",
      "conv4_block4_3_conv (Conv2D)    (None, 14, 14, 1024) 263168      conv4_block4_2_relu[0][0]        \n",
      "__________________________________________________________________________________________________\n",
      "conv4_block4_3_bn (BatchNormali (None, 14, 14, 1024) 4096        conv4_block4_3_conv[0][0]        \n",
      "__________________________________________________________________________________________________\n",
      "conv4_block4_add (Add)          (None, 14, 14, 1024) 0           conv4_block3_out[0][0]           \n",
      "                                                                 conv4_block4_3_bn[0][0]          \n",
      "__________________________________________________________________________________________________\n",
      "conv4_block4_out (Activation)   (None, 14, 14, 1024) 0           conv4_block4_add[0][0]           \n",
      "__________________________________________________________________________________________________\n",
      "conv4_block5_1_conv (Conv2D)    (None, 14, 14, 256)  262400      conv4_block4_out[0][0]           \n",
      "__________________________________________________________________________________________________\n",
      "conv4_block5_1_bn (BatchNormali (None, 14, 14, 256)  1024        conv4_block5_1_conv[0][0]        \n",
      "__________________________________________________________________________________________________\n",
      "conv4_block5_1_relu (Activation (None, 14, 14, 256)  0           conv4_block5_1_bn[0][0]          \n",
      "__________________________________________________________________________________________________\n",
      "conv4_block5_2_conv (Conv2D)    (None, 14, 14, 256)  590080      conv4_block5_1_relu[0][0]        \n",
      "__________________________________________________________________________________________________\n",
      "conv4_block5_2_bn (BatchNormali (None, 14, 14, 256)  1024        conv4_block5_2_conv[0][0]        \n",
      "__________________________________________________________________________________________________\n",
      "conv4_block5_2_relu (Activation (None, 14, 14, 256)  0           conv4_block5_2_bn[0][0]          \n",
      "__________________________________________________________________________________________________\n",
      "conv4_block5_3_conv (Conv2D)    (None, 14, 14, 1024) 263168      conv4_block5_2_relu[0][0]        \n",
      "__________________________________________________________________________________________________\n",
      "conv4_block5_3_bn (BatchNormali (None, 14, 14, 1024) 4096        conv4_block5_3_conv[0][0]        \n",
      "__________________________________________________________________________________________________\n",
      "conv4_block5_add (Add)          (None, 14, 14, 1024) 0           conv4_block4_out[0][0]           \n",
      "                                                                 conv4_block5_3_bn[0][0]          \n",
      "__________________________________________________________________________________________________\n",
      "conv4_block5_out (Activation)   (None, 14, 14, 1024) 0           conv4_block5_add[0][0]           \n",
      "__________________________________________________________________________________________________\n",
      "conv4_block6_1_conv (Conv2D)    (None, 14, 14, 256)  262400      conv4_block5_out[0][0]           \n",
      "__________________________________________________________________________________________________\n",
      "conv4_block6_1_bn (BatchNormali (None, 14, 14, 256)  1024        conv4_block6_1_conv[0][0]        \n",
      "__________________________________________________________________________________________________\n",
      "conv4_block6_1_relu (Activation (None, 14, 14, 256)  0           conv4_block6_1_bn[0][0]          \n",
      "__________________________________________________________________________________________________\n",
      "conv4_block6_2_conv (Conv2D)    (None, 14, 14, 256)  590080      conv4_block6_1_relu[0][0]        \n",
      "__________________________________________________________________________________________________\n",
      "conv4_block6_2_bn (BatchNormali (None, 14, 14, 256)  1024        conv4_block6_2_conv[0][0]        \n",
      "__________________________________________________________________________________________________\n",
      "conv4_block6_2_relu (Activation (None, 14, 14, 256)  0           conv4_block6_2_bn[0][0]          \n",
      "__________________________________________________________________________________________________\n",
      "conv4_block6_3_conv (Conv2D)    (None, 14, 14, 1024) 263168      conv4_block6_2_relu[0][0]        \n",
      "__________________________________________________________________________________________________\n",
      "conv4_block6_3_bn (BatchNormali (None, 14, 14, 1024) 4096        conv4_block6_3_conv[0][0]        \n",
      "__________________________________________________________________________________________________\n",
      "conv4_block6_add (Add)          (None, 14, 14, 1024) 0           conv4_block5_out[0][0]           \n",
      "                                                                 conv4_block6_3_bn[0][0]          \n",
      "__________________________________________________________________________________________________\n",
      "conv4_block6_out (Activation)   (None, 14, 14, 1024) 0           conv4_block6_add[0][0]           \n",
      "__________________________________________________________________________________________________\n",
      "conv5_block1_1_conv (Conv2D)    (None, 7, 7, 512)    524800      conv4_block6_out[0][0]           \n",
      "__________________________________________________________________________________________________\n",
      "conv5_block1_1_bn (BatchNormali (None, 7, 7, 512)    2048        conv5_block1_1_conv[0][0]        \n",
      "__________________________________________________________________________________________________\n",
      "conv5_block1_1_relu (Activation (None, 7, 7, 512)    0           conv5_block1_1_bn[0][0]          \n",
      "__________________________________________________________________________________________________\n",
      "conv5_block1_2_conv (Conv2D)    (None, 7, 7, 512)    2359808     conv5_block1_1_relu[0][0]        \n",
      "__________________________________________________________________________________________________\n",
      "conv5_block1_2_bn (BatchNormali (None, 7, 7, 512)    2048        conv5_block1_2_conv[0][0]        \n",
      "__________________________________________________________________________________________________\n",
      "conv5_block1_2_relu (Activation (None, 7, 7, 512)    0           conv5_block1_2_bn[0][0]          \n",
      "__________________________________________________________________________________________________\n",
      "conv5_block1_0_conv (Conv2D)    (None, 7, 7, 2048)   2099200     conv4_block6_out[0][0]           \n",
      "__________________________________________________________________________________________________\n",
      "conv5_block1_3_conv (Conv2D)    (None, 7, 7, 2048)   1050624     conv5_block1_2_relu[0][0]        \n",
      "__________________________________________________________________________________________________\n",
      "conv5_block1_0_bn (BatchNormali (None, 7, 7, 2048)   8192        conv5_block1_0_conv[0][0]        \n",
      "__________________________________________________________________________________________________\n",
      "conv5_block1_3_bn (BatchNormali (None, 7, 7, 2048)   8192        conv5_block1_3_conv[0][0]        \n",
      "__________________________________________________________________________________________________\n",
      "conv5_block1_add (Add)          (None, 7, 7, 2048)   0           conv5_block1_0_bn[0][0]          \n",
      "                                                                 conv5_block1_3_bn[0][0]          \n",
      "__________________________________________________________________________________________________\n",
      "conv5_block1_out (Activation)   (None, 7, 7, 2048)   0           conv5_block1_add[0][0]           \n",
      "__________________________________________________________________________________________________\n",
      "conv5_block2_1_conv (Conv2D)    (None, 7, 7, 512)    1049088     conv5_block1_out[0][0]           \n",
      "__________________________________________________________________________________________________\n",
      "conv5_block2_1_bn (BatchNormali (None, 7, 7, 512)    2048        conv5_block2_1_conv[0][0]        \n",
      "__________________________________________________________________________________________________\n",
      "conv5_block2_1_relu (Activation (None, 7, 7, 512)    0           conv5_block2_1_bn[0][0]          \n",
      "__________________________________________________________________________________________________\n",
      "conv5_block2_2_conv (Conv2D)    (None, 7, 7, 512)    2359808     conv5_block2_1_relu[0][0]        \n",
      "__________________________________________________________________________________________________\n",
      "conv5_block2_2_bn (BatchNormali (None, 7, 7, 512)    2048        conv5_block2_2_conv[0][0]        \n",
      "__________________________________________________________________________________________________\n",
      "conv5_block2_2_relu (Activation (None, 7, 7, 512)    0           conv5_block2_2_bn[0][0]          \n",
      "__________________________________________________________________________________________________\n",
      "conv5_block2_3_conv (Conv2D)    (None, 7, 7, 2048)   1050624     conv5_block2_2_relu[0][0]        \n",
      "__________________________________________________________________________________________________\n",
      "conv5_block2_3_bn (BatchNormali (None, 7, 7, 2048)   8192        conv5_block2_3_conv[0][0]        \n",
      "__________________________________________________________________________________________________\n",
      "conv5_block2_add (Add)          (None, 7, 7, 2048)   0           conv5_block1_out[0][0]           \n",
      "                                                                 conv5_block2_3_bn[0][0]          \n",
      "__________________________________________________________________________________________________\n",
      "conv5_block2_out (Activation)   (None, 7, 7, 2048)   0           conv5_block2_add[0][0]           \n",
      "__________________________________________________________________________________________________\n",
      "conv5_block3_1_conv (Conv2D)    (None, 7, 7, 512)    1049088     conv5_block2_out[0][0]           \n",
      "__________________________________________________________________________________________________\n",
      "conv5_block3_1_bn (BatchNormali (None, 7, 7, 512)    2048        conv5_block3_1_conv[0][0]        \n",
      "__________________________________________________________________________________________________\n",
      "conv5_block3_1_relu (Activation (None, 7, 7, 512)    0           conv5_block3_1_bn[0][0]          \n",
      "__________________________________________________________________________________________________\n",
      "conv5_block3_2_conv (Conv2D)    (None, 7, 7, 512)    2359808     conv5_block3_1_relu[0][0]        \n",
      "__________________________________________________________________________________________________\n",
      "conv5_block3_2_bn (BatchNormali (None, 7, 7, 512)    2048        conv5_block3_2_conv[0][0]        \n",
      "__________________________________________________________________________________________________\n",
      "conv5_block3_2_relu (Activation (None, 7, 7, 512)    0           conv5_block3_2_bn[0][0]          \n",
      "__________________________________________________________________________________________________\n",
      "conv5_block3_3_conv (Conv2D)    (None, 7, 7, 2048)   1050624     conv5_block3_2_relu[0][0]        \n",
      "__________________________________________________________________________________________________\n",
      "conv5_block3_3_bn (BatchNormali (None, 7, 7, 2048)   8192        conv5_block3_3_conv[0][0]        \n",
      "__________________________________________________________________________________________________\n",
      "conv5_block3_add (Add)          (None, 7, 7, 2048)   0           conv5_block2_out[0][0]           \n",
      "                                                                 conv5_block3_3_bn[0][0]          \n",
      "__________________________________________________________________________________________________\n",
      "conv5_block3_out (Activation)   (None, 7, 7, 2048)   0           conv5_block3_add[0][0]           \n",
      "==================================================================================================\n",
      "Total params: 23,587,712\n",
      "Trainable params: 23,534,592\n",
      "Non-trainable params: 53,120\n",
      "__________________________________________________________________________________________________\n"
     ]
    }
   ],
   "source": [
    "resnet_base.summary()"
   ]
  },
  {
   "cell_type": "code",
   "execution_count": null,
   "metadata": {
    "colab": {
     "base_uri": "https://localhost:8080/"
    },
    "id": "8Q6ZQJpFKSjy",
    "outputId": "da15bfd1-1cfc-422a-b96e-8c63993c686c"
   },
   "outputs": [
    {
     "name": "stdout",
     "output_type": "stream",
     "text": [
      "Model: \"sequential\"\n",
      "_________________________________________________________________\n",
      "Layer (type)                 Output Shape              Param #   \n",
      "=================================================================\n",
      "resnet50 (Functional)        (None, 7, 7, 2048)        23587712  \n",
      "_________________________________________________________________\n",
      "global_average_pooling2d (Gl (None, 2048)              0         \n",
      "_________________________________________________________________\n",
      "dense (Dense)                (None, 1024)              2098176   \n",
      "_________________________________________________________________\n",
      "dense_1 (Dense)              (None, 512)               524800    \n",
      "_________________________________________________________________\n",
      "dense_2 (Dense)              (None, 256)               131328    \n",
      "_________________________________________________________________\n",
      "dense_3 (Dense)              (None, 2)                 514       \n",
      "=================================================================\n",
      "Total params: 26,342,530\n",
      "Trainable params: 26,289,410\n",
      "Non-trainable params: 53,120\n",
      "_________________________________________________________________\n"
     ]
    }
   ],
   "source": [
    "model = models.Sequential()\n",
    "model.add(resnet_base)\n",
    "model.add(keras.layers.GlobalAveragePooling2D())\n",
    "#model.add(keras.layers.Dropout(0.3))\n",
    "model.add(keras.layers.Dense(1024, activation='relu'))\n",
    "#model.add(keras.layers.Dropout(0.4))\n",
    "model.add(keras.layers.Dense(512, activation='relu'))\n",
    "#model.add(keras.layers.BatchNormalization())\n",
    "#model.add(keras.layers.Dropout(0.5))\n",
    "model.add(keras.layers.Dense(256, activation='relu'))\n",
    "model.add(keras.layers.Dense(2, activation= 'softmax'))\n",
    "model.summary()"
   ]
  },
  {
   "cell_type": "code",
   "execution_count": null,
   "metadata": {
    "id": "Nx_ch2EnL3go"
   },
   "outputs": [],
   "source": [
    "resnet_base.trainable = False\n",
    "resnet_base.training = False"
   ]
  },
  {
   "cell_type": "code",
   "execution_count": null,
   "metadata": {
    "colab": {
     "base_uri": "https://localhost:8080/"
    },
    "id": "4--vz1RpL6vc",
    "outputId": "eec17592-f0c6-45b5-aae7-f5c108ac246b"
   },
   "outputs": [
    {
     "name": "stdout",
     "output_type": "stream",
     "text": [
      "Model: \"sequential\"\n",
      "_________________________________________________________________\n",
      "Layer (type)                 Output Shape              Param #   \n",
      "=================================================================\n",
      "resnet50 (Functional)        (None, 7, 7, 2048)        23587712  \n",
      "_________________________________________________________________\n",
      "global_average_pooling2d (Gl (None, 2048)              0         \n",
      "_________________________________________________________________\n",
      "dense (Dense)                (None, 1024)              2098176   \n",
      "_________________________________________________________________\n",
      "dense_1 (Dense)              (None, 512)               524800    \n",
      "_________________________________________________________________\n",
      "dense_2 (Dense)              (None, 256)               131328    \n",
      "_________________________________________________________________\n",
      "dense_3 (Dense)              (None, 2)                 514       \n",
      "=================================================================\n",
      "Total params: 26,342,530\n",
      "Trainable params: 2,754,818\n",
      "Non-trainable params: 23,587,712\n",
      "_________________________________________________________________\n"
     ]
    }
   ],
   "source": [
    "model.summary()"
   ]
  },
  {
   "cell_type": "markdown",
   "metadata": {
    "id": "M1WM8nzpHOVt"
   },
   "source": [
    "## **Compile the model**"
   ]
  },
  {
   "cell_type": "code",
   "execution_count": null,
   "metadata": {
    "id": "Bx-PL-65L-Co"
   },
   "outputs": [],
   "source": [
    "learning_rate = 1e-4\n",
    "model.compile(optimizer=keras.optimizers.SGD(lr=learning_rate, momentum=0.9, nesterov= False), loss='categorical_crossentropy', metrics=['accuracy'])"
   ]
  },
  {
   "cell_type": "code",
   "execution_count": null,
   "metadata": {
    "id": "JE3eqVJIMIi3"
   },
   "outputs": [],
   "source": [
    "callbacks_list = [keras.callbacks.ModelCheckpoint(\n",
    "        filepath = '/content/resnet-model.h5',\n",
    "        monitor = 'val_accuracy',\n",
    "        verbose=1,\n",
    "        save_best_only = True),\n",
    "        keras.callbacks.EarlyStopping(\n",
    "            monitor= 'val_accuracy',\n",
    "            patience = 6,\n",
    "            mode = 'max',\n",
    "            verbose= 1\n",
    "        )]"
   ]
  },
  {
   "cell_type": "markdown",
   "metadata": {
    "id": "ncjMo35kHU3G"
   },
   "source": [
    "## **Train the model**"
   ]
  },
  {
   "cell_type": "code",
   "execution_count": null,
   "metadata": {
    "colab": {
     "base_uri": "https://localhost:8080/"
    },
    "id": "x4X3vUevMO-_",
    "outputId": "ecd86079-3d92-416d-8c88-18eb2c0cd7ca"
   },
   "outputs": [
    {
     "name": "stdout",
     "output_type": "stream",
     "text": [
      "Epoch 1/5\n",
      "42/42 [==============================] - 79s 1s/step - loss: 0.7377 - accuracy: 0.5217 - val_loss: 0.5564 - val_accuracy: 0.7300\n",
      "Epoch 2/5\n",
      "42/42 [==============================] - 54s 1s/step - loss: 0.6374 - accuracy: 0.6225 - val_loss: 0.5011 - val_accuracy: 0.7800\n",
      "Epoch 3/5\n",
      "42/42 [==============================] - 54s 1s/step - loss: 0.5775 - accuracy: 0.6823 - val_loss: 0.4764 - val_accuracy: 0.7800\n",
      "Epoch 4/5\n",
      "42/42 [==============================] - 53s 1s/step - loss: 0.5402 - accuracy: 0.7267 - val_loss: 0.4573 - val_accuracy: 0.8050\n",
      "Epoch 5/5\n",
      "42/42 [==============================] - 53s 1s/step - loss: 0.5155 - accuracy: 0.7667 - val_loss: 0.4464 - val_accuracy: 0.8100\n"
     ]
    }
   ],
   "source": [
    "n_epochs = 5\n",
    "history = model.fit(train_datagen,\n",
    "                             steps_per_epoch=len(train_datagen.filenames)//training_batch_size,\n",
    "                             epochs=n_epochs,\n",
    "                             validation_data=val_datagen,\n",
    "                             validation_steps = int(np.ceil(len(val_datagen.filenames)/validation_batch_size)))"
   ]
  },
  {
   "cell_type": "markdown",
   "metadata": {
    "id": "Ipig1FSjX0pi"
   },
   "source": [
    "## **Fine tune the model**"
   ]
  },
  {
   "cell_type": "code",
   "execution_count": null,
   "metadata": {
    "id": "JImLMCS1baHm"
   },
   "outputs": [],
   "source": [
    "resnet_base.trainable = True\n",
    "set_trainable = False\n",
    "for layer in resnet_base.layers:\n",
    "  if 'conv5_block3' in layer.name:\n",
    "    set_trainable= True\n",
    "  if set_trainable:\n",
    "    layer.trainable = True\n",
    "  else:\n",
    "    layer.trainable= False"
   ]
  },
  {
   "cell_type": "code",
   "execution_count": null,
   "metadata": {
    "id": "fbEe1k5LYS9t"
   },
   "outputs": [],
   "source": [
    "for layer in resnet_base.layers[165:]:\n",
    "  if isinstance(layer, keras.layers.BatchNormalization):\n",
    "    layer.trainable = False"
   ]
  },
  {
   "cell_type": "code",
   "execution_count": null,
   "metadata": {
    "colab": {
     "base_uri": "https://localhost:8080/"
    },
    "id": "3q3WGT-0YcNQ",
    "outputId": "67226e32-b993-4b01-ac7e-e4a7a080ff46"
   },
   "outputs": [
    {
     "name": "stdout",
     "output_type": "stream",
     "text": [
      "0 input_1 False\n",
      "1 conv1_pad False\n",
      "2 conv1_conv False\n",
      "3 conv1_bn False\n",
      "4 conv1_relu False\n",
      "5 pool1_pad False\n",
      "6 pool1_pool False\n",
      "7 conv2_block1_1_conv False\n",
      "8 conv2_block1_1_bn False\n",
      "9 conv2_block1_1_relu False\n",
      "10 conv2_block1_2_conv False\n",
      "11 conv2_block1_2_bn False\n",
      "12 conv2_block1_2_relu False\n",
      "13 conv2_block1_0_conv False\n",
      "14 conv2_block1_3_conv False\n",
      "15 conv2_block1_0_bn False\n",
      "16 conv2_block1_3_bn False\n",
      "17 conv2_block1_add False\n",
      "18 conv2_block1_out False\n",
      "19 conv2_block2_1_conv False\n",
      "20 conv2_block2_1_bn False\n",
      "21 conv2_block2_1_relu False\n",
      "22 conv2_block2_2_conv False\n",
      "23 conv2_block2_2_bn False\n",
      "24 conv2_block2_2_relu False\n",
      "25 conv2_block2_3_conv False\n",
      "26 conv2_block2_3_bn False\n",
      "27 conv2_block2_add False\n",
      "28 conv2_block2_out False\n",
      "29 conv2_block3_1_conv False\n",
      "30 conv2_block3_1_bn False\n",
      "31 conv2_block3_1_relu False\n",
      "32 conv2_block3_2_conv False\n",
      "33 conv2_block3_2_bn False\n",
      "34 conv2_block3_2_relu False\n",
      "35 conv2_block3_3_conv False\n",
      "36 conv2_block3_3_bn False\n",
      "37 conv2_block3_add False\n",
      "38 conv2_block3_out False\n",
      "39 conv3_block1_1_conv False\n",
      "40 conv3_block1_1_bn False\n",
      "41 conv3_block1_1_relu False\n",
      "42 conv3_block1_2_conv False\n",
      "43 conv3_block1_2_bn False\n",
      "44 conv3_block1_2_relu False\n",
      "45 conv3_block1_0_conv False\n",
      "46 conv3_block1_3_conv False\n",
      "47 conv3_block1_0_bn False\n",
      "48 conv3_block1_3_bn False\n",
      "49 conv3_block1_add False\n",
      "50 conv3_block1_out False\n",
      "51 conv3_block2_1_conv False\n",
      "52 conv3_block2_1_bn False\n",
      "53 conv3_block2_1_relu False\n",
      "54 conv3_block2_2_conv False\n",
      "55 conv3_block2_2_bn False\n",
      "56 conv3_block2_2_relu False\n",
      "57 conv3_block2_3_conv False\n",
      "58 conv3_block2_3_bn False\n",
      "59 conv3_block2_add False\n",
      "60 conv3_block2_out False\n",
      "61 conv3_block3_1_conv False\n",
      "62 conv3_block3_1_bn False\n",
      "63 conv3_block3_1_relu False\n",
      "64 conv3_block3_2_conv False\n",
      "65 conv3_block3_2_bn False\n",
      "66 conv3_block3_2_relu False\n",
      "67 conv3_block3_3_conv False\n",
      "68 conv3_block3_3_bn False\n",
      "69 conv3_block3_add False\n",
      "70 conv3_block3_out False\n",
      "71 conv3_block4_1_conv False\n",
      "72 conv3_block4_1_bn False\n",
      "73 conv3_block4_1_relu False\n",
      "74 conv3_block4_2_conv False\n",
      "75 conv3_block4_2_bn False\n",
      "76 conv3_block4_2_relu False\n",
      "77 conv3_block4_3_conv False\n",
      "78 conv3_block4_3_bn False\n",
      "79 conv3_block4_add False\n",
      "80 conv3_block4_out False\n",
      "81 conv4_block1_1_conv False\n",
      "82 conv4_block1_1_bn False\n",
      "83 conv4_block1_1_relu False\n",
      "84 conv4_block1_2_conv False\n",
      "85 conv4_block1_2_bn False\n",
      "86 conv4_block1_2_relu False\n",
      "87 conv4_block1_0_conv False\n",
      "88 conv4_block1_3_conv False\n",
      "89 conv4_block1_0_bn False\n",
      "90 conv4_block1_3_bn False\n",
      "91 conv4_block1_add False\n",
      "92 conv4_block1_out False\n",
      "93 conv4_block2_1_conv False\n",
      "94 conv4_block2_1_bn False\n",
      "95 conv4_block2_1_relu False\n",
      "96 conv4_block2_2_conv False\n",
      "97 conv4_block2_2_bn False\n",
      "98 conv4_block2_2_relu False\n",
      "99 conv4_block2_3_conv False\n",
      "100 conv4_block2_3_bn False\n",
      "101 conv4_block2_add False\n",
      "102 conv4_block2_out False\n",
      "103 conv4_block3_1_conv False\n",
      "104 conv4_block3_1_bn False\n",
      "105 conv4_block3_1_relu False\n",
      "106 conv4_block3_2_conv False\n",
      "107 conv4_block3_2_bn False\n",
      "108 conv4_block3_2_relu False\n",
      "109 conv4_block3_3_conv False\n",
      "110 conv4_block3_3_bn False\n",
      "111 conv4_block3_add False\n",
      "112 conv4_block3_out False\n",
      "113 conv4_block4_1_conv False\n",
      "114 conv4_block4_1_bn False\n",
      "115 conv4_block4_1_relu False\n",
      "116 conv4_block4_2_conv False\n",
      "117 conv4_block4_2_bn False\n",
      "118 conv4_block4_2_relu False\n",
      "119 conv4_block4_3_conv False\n",
      "120 conv4_block4_3_bn False\n",
      "121 conv4_block4_add False\n",
      "122 conv4_block4_out False\n",
      "123 conv4_block5_1_conv False\n",
      "124 conv4_block5_1_bn False\n",
      "125 conv4_block5_1_relu False\n",
      "126 conv4_block5_2_conv False\n",
      "127 conv4_block5_2_bn False\n",
      "128 conv4_block5_2_relu False\n",
      "129 conv4_block5_3_conv False\n",
      "130 conv4_block5_3_bn False\n",
      "131 conv4_block5_add False\n",
      "132 conv4_block5_out False\n",
      "133 conv4_block6_1_conv False\n",
      "134 conv4_block6_1_bn False\n",
      "135 conv4_block6_1_relu False\n",
      "136 conv4_block6_2_conv False\n",
      "137 conv4_block6_2_bn False\n",
      "138 conv4_block6_2_relu False\n",
      "139 conv4_block6_3_conv False\n",
      "140 conv4_block6_3_bn False\n",
      "141 conv4_block6_add False\n",
      "142 conv4_block6_out False\n",
      "143 conv5_block1_1_conv False\n",
      "144 conv5_block1_1_bn False\n",
      "145 conv5_block1_1_relu False\n",
      "146 conv5_block1_2_conv False\n",
      "147 conv5_block1_2_bn False\n",
      "148 conv5_block1_2_relu False\n",
      "149 conv5_block1_0_conv False\n",
      "150 conv5_block1_3_conv False\n",
      "151 conv5_block1_0_bn False\n",
      "152 conv5_block1_3_bn False\n",
      "153 conv5_block1_add False\n",
      "154 conv5_block1_out False\n",
      "155 conv5_block2_1_conv False\n",
      "156 conv5_block2_1_bn False\n",
      "157 conv5_block2_1_relu False\n",
      "158 conv5_block2_2_conv False\n",
      "159 conv5_block2_2_bn False\n",
      "160 conv5_block2_2_relu False\n",
      "161 conv5_block2_3_conv False\n",
      "162 conv5_block2_3_bn False\n",
      "163 conv5_block2_add False\n",
      "164 conv5_block2_out False\n",
      "165 conv5_block3_1_conv True\n",
      "166 conv5_block3_1_bn False\n",
      "167 conv5_block3_1_relu True\n",
      "168 conv5_block3_2_conv True\n",
      "169 conv5_block3_2_bn False\n",
      "170 conv5_block3_2_relu True\n",
      "171 conv5_block3_3_conv True\n",
      "172 conv5_block3_3_bn False\n",
      "173 conv5_block3_add True\n",
      "174 conv5_block3_out True\n"
     ]
    }
   ],
   "source": [
    "for i, layer in enumerate(resnet_base.layers):\n",
    "  print(i, layer.name, layer.trainable)"
   ]
  },
  {
   "cell_type": "code",
   "execution_count": null,
   "metadata": {
    "id": "y_O8Xa3VY1iC"
   },
   "outputs": [],
   "source": [
    "learning_rate = 1e-4\n",
    "model.compile(optimizer=keras.optimizers.SGD(lr=learning_rate, momentum=0.9, nesterov = False), loss='categorical_crossentropy', metrics=['accuracy'])"
   ]
  },
  {
   "cell_type": "code",
   "execution_count": null,
   "metadata": {
    "colab": {
     "base_uri": "https://localhost:8080/"
    },
    "id": "VOStZbYuZuUN",
    "outputId": "3633199a-f54c-42ae-a97b-6155126aedb7"
   },
   "outputs": [
    {
     "name": "stdout",
     "output_type": "stream",
     "text": [
      "Model: \"sequential\"\n",
      "_________________________________________________________________\n",
      "Layer (type)                 Output Shape              Param #   \n",
      "=================================================================\n",
      "resnet50 (Functional)        (None, 7, 7, 2048)        23587712  \n",
      "_________________________________________________________________\n",
      "global_average_pooling2d (Gl (None, 2048)              0         \n",
      "_________________________________________________________________\n",
      "dense (Dense)                (None, 1024)              2098176   \n",
      "_________________________________________________________________\n",
      "dense_1 (Dense)              (None, 512)               524800    \n",
      "_________________________________________________________________\n",
      "dense_2 (Dense)              (None, 256)               131328    \n",
      "_________________________________________________________________\n",
      "dense_3 (Dense)              (None, 2)                 514       \n",
      "=================================================================\n",
      "Total params: 26,342,530\n",
      "Trainable params: 7,214,338\n",
      "Non-trainable params: 19,128,192\n",
      "_________________________________________________________________\n"
     ]
    }
   ],
   "source": [
    "model.summary()"
   ]
  },
  {
   "cell_type": "code",
   "execution_count": null,
   "metadata": {
    "colab": {
     "base_uri": "https://localhost:8080/"
    },
    "id": "tNuvG-wNY_rz",
    "outputId": "16953bed-cdd5-4d06-e53f-dd879a58d8b9"
   },
   "outputs": [
    {
     "name": "stdout",
     "output_type": "stream",
     "text": [
      "Epoch 1/40\n",
      "42/42 [==============================] - 58s 1s/step - loss: 0.5148 - accuracy: 0.7239 - val_loss: 0.4364 - val_accuracy: 0.8100\n",
      "\n",
      "Epoch 00001: val_accuracy improved from -inf to 0.81000, saving model to /content/resnet-1.h5\n",
      "Epoch 2/40\n",
      "42/42 [==============================] - 54s 1s/step - loss: 0.4809 - accuracy: 0.7627 - val_loss: 0.4275 - val_accuracy: 0.8100\n",
      "\n",
      "Epoch 00002: val_accuracy did not improve from 0.81000\n",
      "Epoch 3/40\n",
      "42/42 [==============================] - 56s 1s/step - loss: 0.4396 - accuracy: 0.8014 - val_loss: 0.4195 - val_accuracy: 0.8100\n",
      "\n",
      "Epoch 00003: val_accuracy did not improve from 0.81000\n",
      "Epoch 4/40\n",
      "42/42 [==============================] - 55s 1s/step - loss: 0.4197 - accuracy: 0.8195 - val_loss: 0.4100 - val_accuracy: 0.8150\n",
      "\n",
      "Epoch 00004: val_accuracy improved from 0.81000 to 0.81500, saving model to /content/resnet-1.h5\n",
      "Epoch 5/40\n",
      "42/42 [==============================] - 55s 1s/step - loss: 0.4212 - accuracy: 0.8247 - val_loss: 0.4025 - val_accuracy: 0.8250\n",
      "\n",
      "Epoch 00005: val_accuracy improved from 0.81500 to 0.82500, saving model to /content/resnet-1.h5\n",
      "Epoch 6/40\n",
      "42/42 [==============================] - 55s 1s/step - loss: 0.3915 - accuracy: 0.8222 - val_loss: 0.4025 - val_accuracy: 0.8250\n",
      "\n",
      "Epoch 00006: val_accuracy did not improve from 0.82500\n",
      "Epoch 7/40\n",
      "42/42 [==============================] - 55s 1s/step - loss: 0.3552 - accuracy: 0.8576 - val_loss: 0.3987 - val_accuracy: 0.8250\n",
      "\n",
      "Epoch 00007: val_accuracy did not improve from 0.82500\n",
      "Epoch 8/40\n",
      "42/42 [==============================] - 55s 1s/step - loss: 0.3597 - accuracy: 0.8662 - val_loss: 0.3856 - val_accuracy: 0.8200\n",
      "\n",
      "Epoch 00008: val_accuracy did not improve from 0.82500\n",
      "Epoch 9/40\n",
      "42/42 [==============================] - 54s 1s/step - loss: 0.3219 - accuracy: 0.8824 - val_loss: 0.3855 - val_accuracy: 0.8300\n",
      "\n",
      "Epoch 00009: val_accuracy improved from 0.82500 to 0.83000, saving model to /content/resnet-1.h5\n",
      "Epoch 10/40\n",
      "42/42 [==============================] - 54s 1s/step - loss: 0.3034 - accuracy: 0.8940 - val_loss: 0.3813 - val_accuracy: 0.8300\n",
      "\n",
      "Epoch 00010: val_accuracy did not improve from 0.83000\n",
      "Epoch 11/40\n",
      "42/42 [==============================] - 54s 1s/step - loss: 0.3042 - accuracy: 0.8747 - val_loss: 0.3777 - val_accuracy: 0.8450\n",
      "\n",
      "Epoch 00011: val_accuracy improved from 0.83000 to 0.84500, saving model to /content/resnet-1.h5\n",
      "Epoch 12/40\n",
      "42/42 [==============================] - 54s 1s/step - loss: 0.2975 - accuracy: 0.8851 - val_loss: 0.3784 - val_accuracy: 0.8400\n",
      "\n",
      "Epoch 00012: val_accuracy did not improve from 0.84500\n",
      "Epoch 13/40\n",
      "42/42 [==============================] - 54s 1s/step - loss: 0.2825 - accuracy: 0.8858 - val_loss: 0.3759 - val_accuracy: 0.8250\n",
      "\n",
      "Epoch 00013: val_accuracy did not improve from 0.84500\n",
      "Epoch 14/40\n",
      "42/42 [==============================] - 54s 1s/step - loss: 0.2468 - accuracy: 0.9261 - val_loss: 0.3767 - val_accuracy: 0.8400\n",
      "\n",
      "Epoch 00014: val_accuracy did not improve from 0.84500\n",
      "Epoch 15/40\n",
      "42/42 [==============================] - 54s 1s/step - loss: 0.2520 - accuracy: 0.9022 - val_loss: 0.3691 - val_accuracy: 0.8450\n",
      "\n",
      "Epoch 00015: val_accuracy did not improve from 0.84500\n",
      "Epoch 16/40\n",
      "42/42 [==============================] - 54s 1s/step - loss: 0.2296 - accuracy: 0.9294 - val_loss: 0.3704 - val_accuracy: 0.8300\n",
      "\n",
      "Epoch 00016: val_accuracy did not improve from 0.84500\n",
      "Epoch 17/40\n",
      "42/42 [==============================] - 53s 1s/step - loss: 0.2393 - accuracy: 0.9250 - val_loss: 0.3750 - val_accuracy: 0.8250\n",
      "\n",
      "Epoch 00017: val_accuracy did not improve from 0.84500\n",
      "Epoch 00017: early stopping\n"
     ]
    }
   ],
   "source": [
    "n_epochs = 40\n",
    "history = model.fit(train_datagen,\n",
    "                             steps_per_epoch=len(train_datagen.filenames)//training_batch_size,\n",
    "                             epochs=n_epochs,\n",
    "                             validation_data=val_datagen,\n",
    "                             validation_steps=int(np.ceil(len(val_datagen.filenames)/validation_batch_size)),\n",
    "                             callbacks=callbacks_list,\n",
    "                             verbose= 1)"
   ]
  },
  {
   "cell_type": "markdown",
   "metadata": {
    "id": "GOYPvoQwHezP"
   },
   "source": [
    "## **Load the saved model**"
   ]
  },
  {
   "cell_type": "code",
   "execution_count": null,
   "metadata": {
    "id": "jscDXk2nD90f"
   },
   "outputs": [],
   "source": [
    "loaded_model = load_model('/content/resnet-model.h5')"
   ]
  },
  {
   "cell_type": "code",
   "execution_count": null,
   "metadata": {
    "colab": {
     "base_uri": "https://localhost:8080/"
    },
    "id": "W1GOXPbZGOoD",
    "outputId": "1f87c4f3-9649-44a6-812d-97be2be255a3"
   },
   "outputs": [
    {
     "name": "stdout",
     "output_type": "stream",
     "text": [
      "Model: \"sequential\"\n",
      "_________________________________________________________________\n",
      "Layer (type)                 Output Shape              Param #   \n",
      "=================================================================\n",
      "resnet50 (Functional)        (None, 7, 7, 2048)        23587712  \n",
      "_________________________________________________________________\n",
      "global_average_pooling2d (Gl (None, 2048)              0         \n",
      "_________________________________________________________________\n",
      "dense (Dense)                (None, 1024)              2098176   \n",
      "_________________________________________________________________\n",
      "dense_1 (Dense)              (None, 512)               524800    \n",
      "_________________________________________________________________\n",
      "dense_2 (Dense)              (None, 256)               131328    \n",
      "_________________________________________________________________\n",
      "dense_3 (Dense)              (None, 2)                 514       \n",
      "=================================================================\n",
      "Total params: 26,342,530\n",
      "Trainable params: 7,214,338\n",
      "Non-trainable params: 19,128,192\n",
      "_________________________________________________________________\n"
     ]
    }
   ],
   "source": [
    "model.summary()"
   ]
  },
  {
   "cell_type": "markdown",
   "metadata": {
    "id": "PD81PQxgHjY3"
   },
   "source": [
    "## **Evaluate the model**"
   ]
  },
  {
   "cell_type": "code",
   "execution_count": null,
   "metadata": {
    "colab": {
     "base_uri": "https://localhost:8080/"
    },
    "id": "ZGtKLewtvj8W",
    "outputId": "26427408-b74f-4b46-a581-90f02f14eddb"
   },
   "outputs": [
    {
     "name": "stdout",
     "output_type": "stream",
     "text": [
      "Found 680 images belonging to 2 classes.\n",
      "Found 200 images belonging to 2 classes.\n",
      "Found 130 images belonging to 2 classes.\n"
     ]
    }
   ],
   "source": [
    "_, evaluate_datagen, test_datagen = get_images(224, preprocessing= resnet50.preprocess_input)"
   ]
  },
  {
   "cell_type": "code",
   "execution_count": null,
   "metadata": {
    "colab": {
     "base_uri": "https://localhost:8080/"
    },
    "id": "E9icgd-BwdFx",
    "outputId": "0eff900f-970d-4f7c-ed49-8c5dfb36dda6"
   },
   "outputs": [
    {
     "name": "stdout",
     "output_type": "stream",
     "text": [
      "13/13 [==============================] - 8s 558ms/step - loss: 0.3777 - accuracy: 0.8450\n"
     ]
    }
   ],
   "source": [
    "model_result = loaded_model.evaluate(\n",
    "    evaluate_datagen,\n",
    "    steps= None)"
   ]
  },
  {
   "cell_type": "code",
   "execution_count": null,
   "metadata": {
    "colab": {
     "base_uri": "https://localhost:8080/"
    },
    "id": "CHU7eXdcaIJA",
    "outputId": "3c69b856-fa2d-46c2-817e-d42a785276b6"
   },
   "outputs": [
    {
     "name": "stdout",
     "output_type": "stream",
     "text": [
      "9/9 [==============================] - 7s 760ms/step - loss: 0.3869 - accuracy: 0.8385\n"
     ]
    }
   ],
   "source": [
    "test_report = loaded_model.evaluate(\n",
    "    test_datagen,\n",
    "    steps= None\n",
    ")"
   ]
  },
  {
   "cell_type": "markdown",
   "metadata": {
    "id": "oUGkieYQHo8R"
   },
   "source": [
    "## **Classification Report**"
   ]
  },
  {
   "cell_type": "code",
   "execution_count": null,
   "metadata": {
    "colab": {
     "base_uri": "https://localhost:8080/"
    },
    "id": "oAw_hvRoG8Mb",
    "outputId": "23f64ce0-ed56-4679-ff56-a37641c585c9"
   },
   "outputs": [
    {
     "name": "stdout",
     "output_type": "stream",
     "text": [
      "              precision    recall  f1-score   support\n",
      "\n",
      "           0       0.86      0.86      0.86       110\n",
      "           1       0.83      0.82      0.83        90\n",
      "\n",
      "    accuracy                           0.84       200\n",
      "   macro avg       0.84      0.84      0.84       200\n",
      "weighted avg       0.84      0.84      0.84       200\n",
      "\n",
      "Confusion Matrix:\n",
      "  [[95 15]\n",
      " [16 74]]\n"
     ]
    }
   ],
   "source": [
    "print_classification_report(loaded_model, evaluate_datagen,  validation_batch_size)"
   ]
  },
  {
   "cell_type": "code",
   "execution_count": null,
   "metadata": {
    "colab": {
     "base_uri": "https://localhost:8080/"
    },
    "id": "RjEv7wDbac4s",
    "outputId": "d1686d9f-d07f-4fb5-c6f1-f6f9db353aed",
    "scrolled": false
   },
   "outputs": [
    {
     "name": "stdout",
     "output_type": "stream",
     "text": [
      "              precision    recall  f1-score   support\n",
      "\n",
      "           0       0.89      0.83      0.86        75\n",
      "           1       0.78      0.85      0.82        55\n",
      "\n",
      "    accuracy                           0.84       130\n",
      "   macro avg       0.83      0.84      0.84       130\n",
      "weighted avg       0.84      0.84      0.84       130\n",
      "\n",
      "Confusion Matrix:\n",
      "  [[62 13]\n",
      " [ 8 47]]\n"
     ]
    }
   ],
   "source": [
    "print_classification_report(loaded_model, test_datagen, validation_batch_size)"
   ]
  }
 ],
 "metadata": {
  "accelerator": "GPU",
  "colab": {
   "collapsed_sections": [],
   "name": "resnet-1",
   "provenance": []
  },
  "kernelspec": {
   "display_name": "Python 3",
   "language": "python",
   "name": "python3"
  },
  "language_info": {
   "codemirror_mode": {
    "name": "ipython",
    "version": 3
   },
   "file_extension": ".py",
   "mimetype": "text/x-python",
   "name": "python",
   "nbconvert_exporter": "python",
   "pygments_lexer": "ipython3",
   "version": "3.7.9"
  }
 },
 "nbformat": 4,
 "nbformat_minor": 1
}
