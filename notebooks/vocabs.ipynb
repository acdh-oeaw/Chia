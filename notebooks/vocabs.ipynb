{
 "cells": [
  {
   "cell_type": "code",
   "execution_count": 1,
   "metadata": {},
   "outputs": [],
   "source": [
    "import pandas as pd\n",
    "import numpy as np\n",
    "import rdflib\n",
    "import urllib.parse\n",
    "import time\n",
    "import pickle\n",
    "from SPARQLWrapper import SPARQLWrapper, JSON  #https://rdflib.dev/sparqlwrapper/"
   ]
  },
  {
   "cell_type": "markdown",
   "metadata": {},
   "source": [
    "### Reading FoodOn vocabulary"
   ]
  },
  {
   "cell_type": "code",
   "execution_count": 2,
   "metadata": {},
   "outputs": [
    {
     "data": {
      "text/html": [
       "<div>\n",
       "<style scoped>\n",
       "    .dataframe tbody tr th:only-of-type {\n",
       "        vertical-align: middle;\n",
       "    }\n",
       "\n",
       "    .dataframe tbody tr th {\n",
       "        vertical-align: top;\n",
       "    }\n",
       "\n",
       "    .dataframe thead th {\n",
       "        text-align: right;\n",
       "    }\n",
       "</style>\n",
       "<table border=\"1\" class=\"dataframe\">\n",
       "  <thead>\n",
       "    <tr style=\"text-align: right;\">\n",
       "      <th></th>\n",
       "      <th>Iconclass</th>\n",
       "    </tr>\n",
       "  </thead>\n",
       "  <tbody>\n",
       "    <tr>\n",
       "      <th>0</th>\n",
       "      <td>Worcestershire Sauce</td>\n",
       "    </tr>\n",
       "    <tr>\n",
       "      <th>1</th>\n",
       "      <td>Cream Cheese</td>\n",
       "    </tr>\n",
       "    <tr>\n",
       "      <th>2</th>\n",
       "      <td>Mixture</td>\n",
       "    </tr>\n",
       "    <tr>\n",
       "      <th>3</th>\n",
       "      <td>Walnuts</td>\n",
       "    </tr>\n",
       "    <tr>\n",
       "      <th>4</th>\n",
       "      <td>Onion</td>\n",
       "    </tr>\n",
       "    <tr>\n",
       "      <th>5</th>\n",
       "      <td>Firm</td>\n",
       "    </tr>\n",
       "    <tr>\n",
       "      <th>6</th>\n",
       "      <td>Mozzarella Cheese</td>\n",
       "    </tr>\n",
       "    <tr>\n",
       "      <th>7</th>\n",
       "      <td>Mayonnaise</td>\n",
       "    </tr>\n",
       "    <tr>\n",
       "      <th>8</th>\n",
       "      <td>Artichoke</td>\n",
       "    </tr>\n",
       "    <tr>\n",
       "      <th>9</th>\n",
       "      <td>Tortilla</td>\n",
       "    </tr>\n",
       "  </tbody>\n",
       "</table>\n",
       "</div>"
      ],
      "text/plain": [
       "              Iconclass\n",
       "0  Worcestershire Sauce\n",
       "1          Cream Cheese\n",
       "2               Mixture\n",
       "3               Walnuts\n",
       "4                 Onion\n",
       "5                  Firm\n",
       "6     Mozzarella Cheese\n",
       "7            Mayonnaise\n",
       "8             Artichoke\n",
       "9              Tortilla"
      ]
     },
     "execution_count": 2,
     "metadata": {},
     "output_type": "execute_result"
    }
   ],
   "source": [
    "vocabularies = pd.read_excel(\"../data/FoodOn_concepts.ods\", engine=\"odf\")\n",
    "vocabularies.rename(columns={'Food Concept':'FoodOn'}, inplace=True)\n",
    "vocabularies['FoodOn'] = vocabularies['FoodOn'].apply(str.title)\n",
    "vocabularies.head(10)"
   ]
  },
  {
   "cell_type": "markdown",
   "metadata": {},
   "source": [
    "### Building a function to query SPARQL endpoints"
   ]
  },
  {
   "cell_type": "code",
   "execution_count": 3,
   "metadata": {},
   "outputs": [],
   "source": [
    "def query_sparql_endpoint(endpoint, query, term):\n",
    "    term = urllib.parse.quote(term)\n",
    "    sparql = SPARQLWrapper(endpoint)\n",
    "    sparql.setQuery(query%term)\n",
    "    sparql.setReturnFormat(JSON)\n",
    "    results = sparql.query().convert()\n",
    "    time.sleep(1)\n",
    "    return(results[\"results\"][\"bindings\"])"
   ]
  },
  {
   "cell_type": "markdown",
   "metadata": {},
   "source": [
    "### Querying Getty [ATT Vocabulary](http://www.getty.edu/research/tools/vocabularies/aat/)  \n",
    "\n",
    "[downloads](https://www.getty.edu/research/tools/vocabularies/obtain/download.html)"
   ]
  },
  {
   "cell_type": "code",
   "execution_count": 4,
   "metadata": {},
   "outputs": [],
   "source": [
    "vocabularies['Getty-ATT'] = np.empty((len(vocabularies), 0)).tolist()\n",
    "endpoint = \"http://vocab.getty.edu/sparql\"  #http://vocab.getty.edu/queries#_Toc485115879\n",
    "query = '''\n",
    "    SELECT ?Subject ?Term ?Parents ?Descr ?ScopeNote ?Type (coalesce(?Type1,?Type2) as ?ExtraType) {\n",
    "  ?Subject luc:term \"%s\"; a ?typ.\n",
    "  ?typ rdfs:subClassOf gvp:Subject; rdfs:label ?Type.\n",
    "  FILTER (?typ != gvp:Subject)\n",
    "  OPTIONAL {?Subject gvp:placeTypePreferred [gvp:prefLabelGVP [xl:literalForm ?Type1]]}\n",
    "  OPTIONAL {?Subject gvp:agentTypePreferred [gvp:prefLabelGVP [xl:literalForm ?Type2]]}\n",
    "  OPTIONAL {?Subject gvp:prefLabelGVP [xl:literalForm ?Term]}\n",
    "  OPTIONAL {?Subject gvp:parentStringAbbrev ?Parents}\n",
    "  OPTIONAL {?Subject foaf:focus/gvp:biographyPreferred/schema:description ?Descr}\n",
    "  OPTIONAL {?Subject skos:scopeNote [dct:language gvp_lang:en; rdf:value ?ScopeNote]}}\n",
    "'''\n",
    "\n",
    "for idx in vocabularies.index:\n",
    "    term = vocabularies.loc[idx,'FoodOn']\n",
    "    results = query_sparql_endpoint(endpoint, query, term)\n",
    "    for result in results:\n",
    "        vocabularies.loc[idx, 'Getty-ATT'].append(result[\"Term\"][\"value\"])"
   ]
  },
  {
   "cell_type": "markdown",
   "metadata": {},
   "source": [
    "### Querying [DBPedia](http://dbpedia.org/sparql)"
   ]
  },
  {
   "cell_type": "code",
   "execution_count": 5,
   "metadata": {},
   "outputs": [],
   "source": [
    "vocabularies['DBPedia'] = np.empty((len(vocabularies), 0)).tolist()\n",
    "endpoint = 'http://dbpedia.org/sparql'\n",
    "query = '''\n",
    "    PREFIX rdfs: <http://www.w3.org/2000/01/rdf-schema#>\n",
    "    SELECT ?label\n",
    "    WHERE { <http://dbpedia.org/resource/%s> rdfs:label ?label }\n",
    "'''\n",
    "\n",
    "for idx in vocabularies.index:\n",
    "    term = vocabularies.loc[idx,'FoodOn']\n",
    "    results = query_sparql_endpoint(endpoint, query, term)\n",
    "    for result in results:\n",
    "        if result[\"label\"][\"xml:lang\"] == 'en':\n",
    "            vocabularies.loc[idx, 'DBPedia'].append(result[\"label\"][\"value\"])"
   ]
  },
  {
   "cell_type": "code",
   "execution_count": 11,
   "metadata": {},
   "outputs": [
    {
     "data": {
      "text/html": [
       "<div>\n",
       "<style scoped>\n",
       "    .dataframe tbody tr th:only-of-type {\n",
       "        vertical-align: middle;\n",
       "    }\n",
       "\n",
       "    .dataframe tbody tr th {\n",
       "        vertical-align: top;\n",
       "    }\n",
       "\n",
       "    .dataframe thead th {\n",
       "        text-align: right;\n",
       "    }\n",
       "</style>\n",
       "<table border=\"1\" class=\"dataframe\">\n",
       "  <thead>\n",
       "    <tr style=\"text-align: right;\">\n",
       "      <th></th>\n",
       "      <th>FoodOn</th>\n",
       "      <th>Getty-ATT</th>\n",
       "      <th>DBPedia</th>\n",
       "    </tr>\n",
       "  </thead>\n",
       "  <tbody>\n",
       "    <tr>\n",
       "      <th>0</th>\n",
       "      <td>Worcestershire Sauce</td>\n",
       "      <td>[Worcestershire Beacon, Worcestershire, Willia...</td>\n",
       "      <td>[]</td>\n",
       "    </tr>\n",
       "    <tr>\n",
       "      <th>1</th>\n",
       "      <td>Cream Cheese</td>\n",
       "      <td>[Cream Ridge, Cream Run, Cream, Cream Ridge, C...</td>\n",
       "      <td>[]</td>\n",
       "    </tr>\n",
       "    <tr>\n",
       "      <th>2</th>\n",
       "      <td>Mixture</td>\n",
       "      <td>[Mixture Bayou, Mixture Lake, color mixture, s...</td>\n",
       "      <td>[Mixture]</td>\n",
       "    </tr>\n",
       "    <tr>\n",
       "      <th>3</th>\n",
       "      <td>Walnuts</td>\n",
       "      <td>[The Walnuts, walnuts (nuts), Mnemiopsis (genus)]</td>\n",
       "      <td>[Walnuts]</td>\n",
       "    </tr>\n",
       "    <tr>\n",
       "      <th>4</th>\n",
       "      <td>Onion</td>\n",
       "      <td>[Onion Creek, Onion, Bayou, Onion Creek, Onion...</td>\n",
       "      <td>[Onion]</td>\n",
       "    </tr>\n",
       "    <tr>\n",
       "      <th>5</th>\n",
       "      <td>Firm</td>\n",
       "      <td>[Aponem (Firm), etekt (Firm), Court'art (Firm)...</td>\n",
       "      <td>[Firm]</td>\n",
       "    </tr>\n",
       "    <tr>\n",
       "      <th>6</th>\n",
       "      <td>Mozzarella Cheese</td>\n",
       "      <td>[]</td>\n",
       "      <td>[]</td>\n",
       "    </tr>\n",
       "    <tr>\n",
       "      <th>7</th>\n",
       "      <td>Mayonnaise</td>\n",
       "      <td>[mayonnaise ladle, mayonnaise set, mayonnaise ...</td>\n",
       "      <td>[Mayonnaise]</td>\n",
       "    </tr>\n",
       "    <tr>\n",
       "      <th>8</th>\n",
       "      <td>Artichoke</td>\n",
       "      <td>[Artichoke River, Artichoke, Artichoke Creek, ...</td>\n",
       "      <td>[Artichoke]</td>\n",
       "    </tr>\n",
       "    <tr>\n",
       "      <th>9</th>\n",
       "      <td>Tortilla</td>\n",
       "      <td>[Tortilla Mountain, Tortilla Creek, La Tortill...</td>\n",
       "      <td>[Tortilla]</td>\n",
       "    </tr>\n",
       "  </tbody>\n",
       "</table>\n",
       "</div>"
      ],
      "text/plain": [
       "                 FoodOn                                          Getty-ATT  \\\n",
       "0  Worcestershire Sauce  [Worcestershire Beacon, Worcestershire, Willia...   \n",
       "1          Cream Cheese  [Cream Ridge, Cream Run, Cream, Cream Ridge, C...   \n",
       "2               Mixture  [Mixture Bayou, Mixture Lake, color mixture, s...   \n",
       "3               Walnuts  [The Walnuts, walnuts (nuts), Mnemiopsis (genus)]   \n",
       "4                 Onion  [Onion Creek, Onion, Bayou, Onion Creek, Onion...   \n",
       "5                  Firm  [Aponem (Firm), etekt (Firm), Court'art (Firm)...   \n",
       "6     Mozzarella Cheese                                                 []   \n",
       "7            Mayonnaise  [mayonnaise ladle, mayonnaise set, mayonnaise ...   \n",
       "8             Artichoke  [Artichoke River, Artichoke, Artichoke Creek, ...   \n",
       "9              Tortilla  [Tortilla Mountain, Tortilla Creek, La Tortill...   \n",
       "\n",
       "        DBPedia  \n",
       "0            []  \n",
       "1            []  \n",
       "2     [Mixture]  \n",
       "3     [Walnuts]  \n",
       "4       [Onion]  \n",
       "5        [Firm]  \n",
       "6            []  \n",
       "7  [Mayonnaise]  \n",
       "8   [Artichoke]  \n",
       "9    [Tortilla]  "
      ]
     },
     "execution_count": 11,
     "metadata": {},
     "output_type": "execute_result"
    }
   ],
   "source": [
    "vocabularies.head(10)"
   ]
  },
  {
   "cell_type": "code",
   "execution_count": 15,
   "metadata": {},
   "outputs": [],
   "source": [
    "with open(\"../data/vocabularies.pkl\", 'wb') as f:\n",
    "    pickle.dump(vocabularies, f)\n",
    "    \n",
    "vocabularies.to_excel(\"../data/vocabularies.xlsx\")"
   ]
  },
  {
   "cell_type": "markdown",
   "metadata": {},
   "source": [
    "### Querying Iconclass"
   ]
  },
  {
   "cell_type": "markdown",
   "metadata": {},
   "source": [
    "TBD: \n",
    "\n",
    "http://www.iconclass.org/json/  \n",
    "http://www.iconclass.org/help/lod  \n",
    "https://books.google.at/books?id=_2OwDwAAQBAJ&pg=PA81&lpg=PA81&dq=iconclass+sparql+query&source=bl&ots=LMP9Hx9wJR&sig=ACfU3U2V3T2ApLsmHNnT4_22bIZGvrqy6A&hl=pt-BR&sa=X&ved=2ahUKEwiR4-KTt4TqAhVzoXEKHTpZCMoQ6AEwCnoECGMQAQ#v=onepage&q=iconclass%20sparql%20query&f=false  \n",
    "https://pro.europeana.eu/page/sparql"
   ]
  },
  {
   "cell_type": "code",
   "execution_count": null,
   "metadata": {},
   "outputs": [],
   "source": []
  },
  {
   "cell_type": "code",
   "execution_count": null,
   "metadata": {},
   "outputs": [],
   "source": []
  }
 ],
 "metadata": {
  "kernelspec": {
   "display_name": "Python 3",
   "language": "python",
   "name": "python3"
  },
  "language_info": {
   "codemirror_mode": {
    "name": "ipython",
    "version": 3
   },
   "file_extension": ".py",
   "mimetype": "text/x-python",
   "name": "python",
   "nbconvert_exporter": "python",
   "pygments_lexer": "ipython3",
   "version": "3.8.2"
  }
 },
 "nbformat": 4,
 "nbformat_minor": 4
}
