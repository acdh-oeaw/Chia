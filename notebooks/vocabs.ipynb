{
 "cells": [
  {
   "cell_type": "code",
   "execution_count": 72,
   "metadata": {},
   "outputs": [],
   "source": [
    "import pandas as pd\n",
    "import numpy as np\n",
    "import rdflib\n",
    "import urllib.parse\n",
    "import time\n",
    "from SPARQLWrapper import SPARQLWrapper, JSON  #https://rdflib.dev/sparqlwrapper/"
   ]
  },
  {
   "cell_type": "markdown",
   "metadata": {},
   "source": [
    "### Reading Iconclass vocabulary"
   ]
  },
  {
   "cell_type": "code",
   "execution_count": 64,
   "metadata": {},
   "outputs": [
    {
     "data": {
      "text/html": [
       "<div>\n",
       "<style scoped>\n",
       "    .dataframe tbody tr th:only-of-type {\n",
       "        vertical-align: middle;\n",
       "    }\n",
       "\n",
       "    .dataframe tbody tr th {\n",
       "        vertical-align: top;\n",
       "    }\n",
       "\n",
       "    .dataframe thead th {\n",
       "        text-align: right;\n",
       "    }\n",
       "</style>\n",
       "<table border=\"1\" class=\"dataframe\">\n",
       "  <thead>\n",
       "    <tr style=\"text-align: right;\">\n",
       "      <th></th>\n",
       "      <th>Iconclass</th>\n",
       "    </tr>\n",
       "  </thead>\n",
       "  <tbody>\n",
       "    <tr>\n",
       "      <th>0</th>\n",
       "      <td>Worcestershire Sauce</td>\n",
       "    </tr>\n",
       "    <tr>\n",
       "      <th>1</th>\n",
       "      <td>Cream Cheese</td>\n",
       "    </tr>\n",
       "    <tr>\n",
       "      <th>2</th>\n",
       "      <td>Mixture</td>\n",
       "    </tr>\n",
       "    <tr>\n",
       "      <th>3</th>\n",
       "      <td>Walnuts</td>\n",
       "    </tr>\n",
       "    <tr>\n",
       "      <th>4</th>\n",
       "      <td>Onion</td>\n",
       "    </tr>\n",
       "    <tr>\n",
       "      <th>5</th>\n",
       "      <td>Firm</td>\n",
       "    </tr>\n",
       "    <tr>\n",
       "      <th>6</th>\n",
       "      <td>Mozzarella Cheese</td>\n",
       "    </tr>\n",
       "    <tr>\n",
       "      <th>7</th>\n",
       "      <td>Mayonnaise</td>\n",
       "    </tr>\n",
       "    <tr>\n",
       "      <th>8</th>\n",
       "      <td>Artichoke</td>\n",
       "    </tr>\n",
       "    <tr>\n",
       "      <th>9</th>\n",
       "      <td>Tortilla</td>\n",
       "    </tr>\n",
       "  </tbody>\n",
       "</table>\n",
       "</div>"
      ],
      "text/plain": [
       "              Iconclass\n",
       "0  Worcestershire Sauce\n",
       "1          Cream Cheese\n",
       "2               Mixture\n",
       "3               Walnuts\n",
       "4                 Onion\n",
       "5                  Firm\n",
       "6     Mozzarella Cheese\n",
       "7            Mayonnaise\n",
       "8             Artichoke\n",
       "9              Tortilla"
      ]
     },
     "execution_count": 64,
     "metadata": {},
     "output_type": "execute_result"
    }
   ],
   "source": [
    "vocabularies = pd.read_excel(\"../data/FoodOn_concepts.ods\", engine=\"odf\")\n",
    "vocabularies.rename(columns={'Food Concept':'Iconclass'}, inplace=True)\n",
    "vocabularies['Iconclass'] = vocabularies['Iconclass'].apply(str.title)\n",
    "vocabularies.head(10)"
   ]
  },
  {
   "cell_type": "markdown",
   "metadata": {},
   "source": [
    "### Building a function to query SPARQL endpoints"
   ]
  },
  {
   "cell_type": "code",
   "execution_count": 73,
   "metadata": {},
   "outputs": [],
   "source": [
    "def query_sparql_endpoint(endpoint, query, term):\n",
    "    term = urllib.parse.quote(term)\n",
    "    sparql = SPARQLWrapper(endpoint)\n",
    "    sparql.setQuery(query%term)\n",
    "    sparql.setReturnFormat(JSON)\n",
    "    results = sparql.query().convert()\n",
    "    return(results[\"results\"][\"bindings\"])"
   ]
  },
  {
   "cell_type": "code",
   "execution_count": 75,
   "metadata": {},
   "outputs": [
    {
     "data": {
      "text/plain": [
       "<function str.replace(old, new, count=-1, /)>"
      ]
     },
     "execution_count": 75,
     "metadata": {},
     "output_type": "execute_result"
    }
   ],
   "source": [
    "term"
   ]
  },
  {
   "cell_type": "markdown",
   "metadata": {},
   "source": [
    "### Querying Getty ATT Vocabulary"
   ]
  },
  {
   "cell_type": "code",
   "execution_count": 62,
   "metadata": {},
   "outputs": [],
   "source": [
    "vocabularies['Getty-ATT'] = np.empty((len(vocabularies), 0)).tolist()\n",
    "endpoint = \"http://vocab.getty.edu/sparql\"\n",
    "query = '''\n",
    "    SELECT ?Subject ?Term ?Parents ?Descr ?ScopeNote ?Type (coalesce(?Type1,?Type2) as ?ExtraType) {\n",
    "  ?Subject luc:term \"%s\"; a ?typ.\n",
    "  ?typ rdfs:subClassOf gvp:Subject; rdfs:label ?Type.\n",
    "  FILTER (?typ != gvp:Subject)\n",
    "  OPTIONAL {?Subject gvp:placeTypePreferred [gvp:prefLabelGVP [xl:literalForm ?Type1]]}\n",
    "  OPTIONAL {?Subject gvp:agentTypePreferred [gvp:prefLabelGVP [xl:literalForm ?Type2]]}\n",
    "  OPTIONAL {?Subject gvp:prefLabelGVP [xl:literalForm ?Term]}\n",
    "  OPTIONAL {?Subject gvp:parentStringAbbrev ?Parents}\n",
    "  OPTIONAL {?Subject foaf:focus/gvp:biographyPreferred/schema:description ?Descr}\n",
    "  OPTIONAL {?Subject skos:scopeNote [dct:language gvp_lang:en; rdf:value ?ScopeNote]}}\n",
    "'''\n",
    "\n",
    "for idx in vocabularies.index[0:5]:\n",
    "    term = vocabularies.loc[idx,'Iconclass']\n",
    "    results = query_sparql_endpoint(endpoint, query, term)\n",
    "    for result in results:\n",
    "        #print(result[\"Term\"][\"value\"])\n",
    "        vocabularies.loc[idx, 'Getty-ATT'].append(result[\"Term\"][\"value\"])"
   ]
  },
  {
   "cell_type": "code",
   "execution_count": 76,
   "metadata": {},
   "outputs": [
    {
     "name": "stdout",
     "output_type": "stream",
     "text": [
      "{'label': {'type': 'literal', 'xml:lang': 'en', 'value': 'Mixture'}}\n",
      "{'label': {'type': 'literal', 'xml:lang': 'ar', 'value': 'مزيج'}}\n",
      "{'label': {'type': 'literal', 'xml:lang': 'de', 'value': 'Gemisch'}}\n",
      "{'label': {'type': 'literal', 'xml:lang': 'es', 'value': 'Mezcla'}}\n",
      "{'label': {'type': 'literal', 'xml:lang': 'fr', 'value': 'Mélange'}}\n",
      "{'label': {'type': 'literal', 'xml:lang': 'it', 'value': 'Miscela'}}\n",
      "{'label': {'type': 'literal', 'xml:lang': 'ja', 'value': '混合物'}}\n",
      "{'label': {'type': 'literal', 'xml:lang': 'nl', 'value': 'Mengsel'}}\n",
      "{'label': {'type': 'literal', 'xml:lang': 'pl', 'value': 'Mieszanina'}}\n",
      "{'label': {'type': 'literal', 'xml:lang': 'pt', 'value': 'Mistura'}}\n",
      "{'label': {'type': 'literal', 'xml:lang': 'ru', 'value': 'Смесь (химия)'}}\n",
      "{'label': {'type': 'literal', 'xml:lang': 'zh', 'value': '混合物'}}\n",
      "{'label': {'type': 'literal', 'xml:lang': 'en', 'value': 'Walnuts'}}\n",
      "{'label': {'type': 'literal', 'xml:lang': 'en', 'value': 'Onion'}}\n",
      "{'label': {'type': 'literal', 'xml:lang': 'ar', 'value': 'بصل'}}\n",
      "{'label': {'type': 'literal', 'xml:lang': 'de', 'value': 'Zwiebel'}}\n",
      "{'label': {'type': 'literal', 'xml:lang': 'es', 'value': 'Allium cepa'}}\n",
      "{'label': {'type': 'literal', 'xml:lang': 'fr', 'value': 'Oignon'}}\n",
      "{'label': {'type': 'literal', 'xml:lang': 'it', 'value': 'Allium cepa'}}\n",
      "{'label': {'type': 'literal', 'xml:lang': 'nl', 'value': 'Ui (plant)'}}\n",
      "{'label': {'type': 'literal', 'xml:lang': 'ja', 'value': 'タマネギ'}}\n",
      "{'label': {'type': 'literal', 'xml:lang': 'pl', 'value': 'Cebula zwyczajna'}}\n",
      "{'label': {'type': 'literal', 'xml:lang': 'pt', 'value': 'Cebola'}}\n",
      "{'label': {'type': 'literal', 'xml:lang': 'ru', 'value': 'Лук репчатый'}}\n",
      "{'label': {'type': 'literal', 'xml:lang': 'zh', 'value': '洋蔥'}}\n"
     ]
    }
   ],
   "source": [
    "vocabularies['DBPedia'] = np.empty((len(vocabularies), 0)).tolist()\n",
    "endpoint = 'http://dbpedia.org/sparql'\n",
    "query = '''\n",
    "    PREFIX rdfs: <http://www.w3.org/2000/01/rdf-schema#>\n",
    "    SELECT ?label\n",
    "    WHERE { <http://dbpedia.org/resource/%s> rdfs:label ?label }\n",
    "'''\n",
    "\n",
    "for idx in vocabularies.index[0:5]:\n",
    "    term = vocabularies.loc[idx,'Iconclass']\n",
    "    results = query_sparql_endpoint(endpoint, query, term)\n",
    "    for result in results:\n",
    "        if result[\"label\"][\"xml:lang\"] == 'en':\n",
    "            vocabularies.loc[idx, 'DBPedia'].append(result[\"label\"][\"value\"])"
   ]
  },
  {
   "cell_type": "code",
   "execution_count": 63,
   "metadata": {},
   "outputs": [
    {
     "data": {
      "text/html": [
       "<div>\n",
       "<style scoped>\n",
       "    .dataframe tbody tr th:only-of-type {\n",
       "        vertical-align: middle;\n",
       "    }\n",
       "\n",
       "    .dataframe tbody tr th {\n",
       "        vertical-align: top;\n",
       "    }\n",
       "\n",
       "    .dataframe thead th {\n",
       "        text-align: right;\n",
       "    }\n",
       "</style>\n",
       "<table border=\"1\" class=\"dataframe\">\n",
       "  <thead>\n",
       "    <tr style=\"text-align: right;\">\n",
       "      <th></th>\n",
       "      <th>Iconclass</th>\n",
       "      <th>Getty-ATT</th>\n",
       "    </tr>\n",
       "  </thead>\n",
       "  <tbody>\n",
       "    <tr>\n",
       "      <th>0</th>\n",
       "      <td>worcestershire sauce</td>\n",
       "      <td>[Worcestershire Beacon, Worcestershire, El Sau...</td>\n",
       "    </tr>\n",
       "    <tr>\n",
       "      <th>1</th>\n",
       "      <td>cream cheese</td>\n",
       "      <td>[Cheese, Chloe, Cheese, Bernard, cheese guillo...</td>\n",
       "    </tr>\n",
       "    <tr>\n",
       "      <th>2</th>\n",
       "      <td>mixture</td>\n",
       "      <td>[Mixture Bayou, Mixture Lake, color mixture, s...</td>\n",
       "    </tr>\n",
       "    <tr>\n",
       "      <th>3</th>\n",
       "      <td>walnuts</td>\n",
       "      <td>[The Walnuts, walnuts (nuts), Mnemiopsis (genus)]</td>\n",
       "    </tr>\n",
       "    <tr>\n",
       "      <th>4</th>\n",
       "      <td>onion</td>\n",
       "      <td>[Onion Creek, Onion, Bayou, Onion Creek, Onion...</td>\n",
       "    </tr>\n",
       "    <tr>\n",
       "      <th>5</th>\n",
       "      <td>firm</td>\n",
       "      <td>[]</td>\n",
       "    </tr>\n",
       "    <tr>\n",
       "      <th>6</th>\n",
       "      <td>mozzarella cheese</td>\n",
       "      <td>[]</td>\n",
       "    </tr>\n",
       "    <tr>\n",
       "      <th>7</th>\n",
       "      <td>mayonnaise</td>\n",
       "      <td>[]</td>\n",
       "    </tr>\n",
       "    <tr>\n",
       "      <th>8</th>\n",
       "      <td>artichoke</td>\n",
       "      <td>[]</td>\n",
       "    </tr>\n",
       "    <tr>\n",
       "      <th>9</th>\n",
       "      <td>tortilla</td>\n",
       "      <td>[]</td>\n",
       "    </tr>\n",
       "  </tbody>\n",
       "</table>\n",
       "</div>"
      ],
      "text/plain": [
       "              Iconclass                                          Getty-ATT\n",
       "0  worcestershire sauce  [Worcestershire Beacon, Worcestershire, El Sau...\n",
       "1          cream cheese  [Cheese, Chloe, Cheese, Bernard, cheese guillo...\n",
       "2               mixture  [Mixture Bayou, Mixture Lake, color mixture, s...\n",
       "3               walnuts  [The Walnuts, walnuts (nuts), Mnemiopsis (genus)]\n",
       "4                 onion  [Onion Creek, Onion, Bayou, Onion Creek, Onion...\n",
       "5                  firm                                                 []\n",
       "6     mozzarella cheese                                                 []\n",
       "7            mayonnaise                                                 []\n",
       "8             artichoke                                                 []\n",
       "9              tortilla                                                 []"
      ]
     },
     "execution_count": 63,
     "metadata": {},
     "output_type": "execute_result"
    }
   ],
   "source": [
    "vocabularies.head(10)"
   ]
  },
  {
   "cell_type": "code",
   "execution_count": 77,
   "metadata": {},
   "outputs": [
    {
     "data": {
      "text/html": [
       "<div>\n",
       "<style scoped>\n",
       "    .dataframe tbody tr th:only-of-type {\n",
       "        vertical-align: middle;\n",
       "    }\n",
       "\n",
       "    .dataframe tbody tr th {\n",
       "        vertical-align: top;\n",
       "    }\n",
       "\n",
       "    .dataframe thead th {\n",
       "        text-align: right;\n",
       "    }\n",
       "</style>\n",
       "<table border=\"1\" class=\"dataframe\">\n",
       "  <thead>\n",
       "    <tr style=\"text-align: right;\">\n",
       "      <th></th>\n",
       "      <th>Iconclass</th>\n",
       "      <th>DBPedia</th>\n",
       "    </tr>\n",
       "  </thead>\n",
       "  <tbody>\n",
       "    <tr>\n",
       "      <th>0</th>\n",
       "      <td>Worcestershire Sauce</td>\n",
       "      <td>[]</td>\n",
       "    </tr>\n",
       "    <tr>\n",
       "      <th>1</th>\n",
       "      <td>Cream Cheese</td>\n",
       "      <td>[]</td>\n",
       "    </tr>\n",
       "    <tr>\n",
       "      <th>2</th>\n",
       "      <td>Mixture</td>\n",
       "      <td>[Mixture]</td>\n",
       "    </tr>\n",
       "    <tr>\n",
       "      <th>3</th>\n",
       "      <td>Walnuts</td>\n",
       "      <td>[Walnuts]</td>\n",
       "    </tr>\n",
       "    <tr>\n",
       "      <th>4</th>\n",
       "      <td>Onion</td>\n",
       "      <td>[Onion]</td>\n",
       "    </tr>\n",
       "    <tr>\n",
       "      <th>5</th>\n",
       "      <td>Firm</td>\n",
       "      <td>[]</td>\n",
       "    </tr>\n",
       "    <tr>\n",
       "      <th>6</th>\n",
       "      <td>Mozzarella Cheese</td>\n",
       "      <td>[]</td>\n",
       "    </tr>\n",
       "    <tr>\n",
       "      <th>7</th>\n",
       "      <td>Mayonnaise</td>\n",
       "      <td>[]</td>\n",
       "    </tr>\n",
       "    <tr>\n",
       "      <th>8</th>\n",
       "      <td>Artichoke</td>\n",
       "      <td>[]</td>\n",
       "    </tr>\n",
       "    <tr>\n",
       "      <th>9</th>\n",
       "      <td>Tortilla</td>\n",
       "      <td>[]</td>\n",
       "    </tr>\n",
       "  </tbody>\n",
       "</table>\n",
       "</div>"
      ],
      "text/plain": [
       "              Iconclass    DBPedia\n",
       "0  Worcestershire Sauce         []\n",
       "1          Cream Cheese         []\n",
       "2               Mixture  [Mixture]\n",
       "3               Walnuts  [Walnuts]\n",
       "4                 Onion    [Onion]\n",
       "5                  Firm         []\n",
       "6     Mozzarella Cheese         []\n",
       "7            Mayonnaise         []\n",
       "8             Artichoke         []\n",
       "9              Tortilla         []"
      ]
     },
     "execution_count": 77,
     "metadata": {},
     "output_type": "execute_result"
    }
   ],
   "source": [
    "vocabularies.head(10)"
   ]
  },
  {
   "cell_type": "code",
   "execution_count": null,
   "metadata": {},
   "outputs": [],
   "source": []
  }
 ],
 "metadata": {
  "kernelspec": {
   "display_name": "Python 3",
   "language": "python",
   "name": "python3"
  },
  "language_info": {
   "codemirror_mode": {
    "name": "ipython",
    "version": 3
   },
   "file_extension": ".py",
   "mimetype": "text/x-python",
   "name": "python",
   "nbconvert_exporter": "python",
   "pygments_lexer": "ipython3",
   "version": "3.8.2"
  }
 },
 "nbformat": 4,
 "nbformat_minor": 4
}
