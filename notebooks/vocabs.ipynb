{
 "cells": [
  {
   "cell_type": "code",
   "execution_count": 1,
   "metadata": {},
   "outputs": [],
   "source": [
    "import pandas as pd\n",
    "import numpy as np\n",
    "import rdflib\n",
    "import urllib.parse\n",
    "import time\n",
    "import pickle\n",
    "import json\n",
    "import ijson\n",
    "import bigjson #https://github.com/henu/bigjson.git\n",
    "from SPARQLWrapper import SPARQLWrapper, JSON  #https://rdflib.dev/sparqlwrapper/"
   ]
  },
  {
   "cell_type": "markdown",
   "metadata": {},
   "source": [
    "### Reading FoodOn vocabulary"
   ]
  },
  {
   "cell_type": "code",
   "execution_count": 2,
   "metadata": {},
   "outputs": [
    {
     "data": {
      "text/html": [
       "<div>\n",
       "<style scoped>\n",
       "    .dataframe tbody tr th:only-of-type {\n",
       "        vertical-align: middle;\n",
       "    }\n",
       "\n",
       "    .dataframe tbody tr th {\n",
       "        vertical-align: top;\n",
       "    }\n",
       "\n",
       "    .dataframe thead th {\n",
       "        text-align: right;\n",
       "    }\n",
       "</style>\n",
       "<table border=\"1\" class=\"dataframe\">\n",
       "  <thead>\n",
       "    <tr style=\"text-align: right;\">\n",
       "      <th></th>\n",
       "      <th>FoodOn</th>\n",
       "    </tr>\n",
       "  </thead>\n",
       "  <tbody>\n",
       "    <tr>\n",
       "      <th>0</th>\n",
       "      <td>Worcestershire Sauce</td>\n",
       "    </tr>\n",
       "    <tr>\n",
       "      <th>1</th>\n",
       "      <td>Cream Cheese</td>\n",
       "    </tr>\n",
       "    <tr>\n",
       "      <th>2</th>\n",
       "      <td>Mixture</td>\n",
       "    </tr>\n",
       "    <tr>\n",
       "      <th>3</th>\n",
       "      <td>Walnuts</td>\n",
       "    </tr>\n",
       "    <tr>\n",
       "      <th>4</th>\n",
       "      <td>Onion</td>\n",
       "    </tr>\n",
       "    <tr>\n",
       "      <th>5</th>\n",
       "      <td>Firm</td>\n",
       "    </tr>\n",
       "    <tr>\n",
       "      <th>6</th>\n",
       "      <td>Mozzarella Cheese</td>\n",
       "    </tr>\n",
       "    <tr>\n",
       "      <th>7</th>\n",
       "      <td>Mayonnaise</td>\n",
       "    </tr>\n",
       "    <tr>\n",
       "      <th>8</th>\n",
       "      <td>Artichoke</td>\n",
       "    </tr>\n",
       "    <tr>\n",
       "      <th>9</th>\n",
       "      <td>Tortilla</td>\n",
       "    </tr>\n",
       "  </tbody>\n",
       "</table>\n",
       "</div>"
      ],
      "text/plain": [
       "                 FoodOn\n",
       "0  Worcestershire Sauce\n",
       "1          Cream Cheese\n",
       "2               Mixture\n",
       "3               Walnuts\n",
       "4                 Onion\n",
       "5                  Firm\n",
       "6     Mozzarella Cheese\n",
       "7            Mayonnaise\n",
       "8             Artichoke\n",
       "9              Tortilla"
      ]
     },
     "execution_count": 2,
     "metadata": {},
     "output_type": "execute_result"
    }
   ],
   "source": [
    "vocabularies = pd.read_excel(\"../data/FoodOn_concepts.ods\", engine=\"odf\")\n",
    "vocabularies.rename(columns={'Food Concept':'FoodOn'}, inplace=True)\n",
    "vocabularies['FoodOn'] = vocabularies['FoodOn'].apply(str.title)\n",
    "vocabularies.head(10)"
   ]
  },
  {
   "cell_type": "markdown",
   "metadata": {},
   "source": [
    "### Building a function to query SPARQL endpoints"
   ]
  },
  {
   "cell_type": "code",
   "execution_count": null,
   "metadata": {},
   "outputs": [],
   "source": [
    "def query_sparql_endpoint(endpoint, query, term):\n",
    "    term = urllib.parse.quote(term)\n",
    "    sparql = SPARQLWrapper(endpoint)\n",
    "    sparql.setQuery(query%term)\n",
    "    sparql.setReturnFormat(JSON)\n",
    "    results = sparql.query().convert()\n",
    "    time.sleep(1)\n",
    "    return(results[\"results\"][\"bindings\"])"
   ]
  },
  {
   "cell_type": "markdown",
   "metadata": {},
   "source": [
    "### Querying Getty [AAT Vocabulary](http://www.getty.edu/research/tools/vocabularies/aat/)  \n",
    "\n",
    "[downloads](https://www.getty.edu/research/tools/vocabularies/obtain/download.html)"
   ]
  },
  {
   "cell_type": "raw",
   "metadata": {},
   "source": [
    "vocabularies['Getty-ATT'] = np.empty((len(vocabularies), 0)).tolist()\n",
    "endpoint = \"http://vocab.getty.edu/sparql\"  #http://vocab.getty.edu/queries#_Toc485115879\n",
    "query = '''\n",
    "    SELECT ?Subject ?Term ?Parents ?Descr ?ScopeNote ?Type (coalesce(?Type1,?Type2) as ?ExtraType) {\n",
    "  ?Subject luc:term \"%s\"; a ?typ.\n",
    "  ?typ rdfs:subClassOf gvp:Subject; rdfs:label ?Type.\n",
    "  FILTER (?typ != gvp:Subject)\n",
    "  OPTIONAL {?Subject gvp:placeTypePreferred [gvp:prefLabelGVP [xl:literalForm ?Type1]]}\n",
    "  OPTIONAL {?Subject gvp:agentTypePreferred [gvp:prefLabelGVP [xl:literalForm ?Type2]]}\n",
    "  OPTIONAL {?Subject gvp:prefLabelGVP [xl:literalForm ?Term]}\n",
    "  OPTIONAL {?Subject gvp:parentStringAbbrev ?Parents}\n",
    "  OPTIONAL {?Subject foaf:focus/gvp:biographyPreferred/schema:description ?Descr}\n",
    "  OPTIONAL {?Subject skos:scopeNote [dct:language gvp_lang:en; rdf:value ?ScopeNote]}}\n",
    "'''\n",
    "\n",
    "for idx in vocabularies.index:\n",
    "    term = vocabularies.loc[idx,'FoodOn']\n",
    "    results = query_sparql_endpoint(endpoint, query, term)\n",
    "    for result in results:\n",
    "        vocabularies.loc[idx, 'Getty-ATT'].append(result[\"Term\"][\"value\"])"
   ]
  },
  {
   "cell_type": "markdown",
   "metadata": {},
   "source": [
    "### Querying [DBPedia](http://dbpedia.org/sparql)"
   ]
  },
  {
   "cell_type": "raw",
   "metadata": {},
   "source": [
    "vocabularies['DBPedia'] = np.empty((len(vocabularies), 0)).tolist()\n",
    "endpoint = 'http://dbpedia.org/sparql'\n",
    "query = '''\n",
    "    PREFIX rdfs: <http://www.w3.org/2000/01/rdf-schema#>\n",
    "    SELECT ?label\n",
    "    WHERE { <http://dbpedia.org/resource/%s> rdfs:label ?label }\n",
    "'''\n",
    "\n",
    "for idx in vocabularies.index:\n",
    "    term = vocabularies.loc[idx,'FoodOn']\n",
    "    results = query_sparql_endpoint(endpoint, query, term)\n",
    "    for result in results:\n",
    "        if result[\"label\"][\"xml:lang\"] == 'en':\n",
    "            vocabularies.loc[idx, 'DBPedia'].append(result[\"label\"][\"value\"])"
   ]
  },
  {
   "cell_type": "raw",
   "metadata": {},
   "source": [
    "with open(\"../data/vocabularies.pkl\", 'wb') as f:\n",
    "    pickle.dump(vocabularies, f)\n",
    "    \n",
    "vocabularies.to_excel(\"../data/vocabularies.xlsx\")"
   ]
  },
  {
   "cell_type": "code",
   "execution_count": 3,
   "metadata": {},
   "outputs": [],
   "source": [
    "with open(\"../data/vocabularies.pkl\", 'rb') as f:\n",
    "    vocabularies = pickle.load(f)"
   ]
  },
  {
   "cell_type": "code",
   "execution_count": 4,
   "metadata": {},
   "outputs": [
    {
     "data": {
      "text/html": [
       "<div>\n",
       "<style scoped>\n",
       "    .dataframe tbody tr th:only-of-type {\n",
       "        vertical-align: middle;\n",
       "    }\n",
       "\n",
       "    .dataframe tbody tr th {\n",
       "        vertical-align: top;\n",
       "    }\n",
       "\n",
       "    .dataframe thead th {\n",
       "        text-align: right;\n",
       "    }\n",
       "</style>\n",
       "<table border=\"1\" class=\"dataframe\">\n",
       "  <thead>\n",
       "    <tr style=\"text-align: right;\">\n",
       "      <th></th>\n",
       "      <th>FoodOn</th>\n",
       "      <th>Getty-ATT</th>\n",
       "      <th>DBPedia</th>\n",
       "    </tr>\n",
       "  </thead>\n",
       "  <tbody>\n",
       "    <tr>\n",
       "      <th>0</th>\n",
       "      <td>Worcestershire Sauce</td>\n",
       "      <td>[Worcestershire Beacon, Worcestershire, Willia...</td>\n",
       "      <td>[]</td>\n",
       "    </tr>\n",
       "    <tr>\n",
       "      <th>1</th>\n",
       "      <td>Cream Cheese</td>\n",
       "      <td>[Cream Ridge, Cream Run, Cream, Cream Ridge, C...</td>\n",
       "      <td>[]</td>\n",
       "    </tr>\n",
       "    <tr>\n",
       "      <th>2</th>\n",
       "      <td>Mixture</td>\n",
       "      <td>[Mixture Bayou, Mixture Lake, color mixture, s...</td>\n",
       "      <td>[Mixture]</td>\n",
       "    </tr>\n",
       "    <tr>\n",
       "      <th>3</th>\n",
       "      <td>Walnuts</td>\n",
       "      <td>[The Walnuts, walnuts (nuts), Mnemiopsis (genus)]</td>\n",
       "      <td>[Walnuts]</td>\n",
       "    </tr>\n",
       "    <tr>\n",
       "      <th>4</th>\n",
       "      <td>Onion</td>\n",
       "      <td>[Onion Creek, Onion, Bayou, Onion Creek, Onion...</td>\n",
       "      <td>[Onion]</td>\n",
       "    </tr>\n",
       "  </tbody>\n",
       "</table>\n",
       "</div>"
      ],
      "text/plain": [
       "                 FoodOn                                          Getty-ATT  \\\n",
       "0  Worcestershire Sauce  [Worcestershire Beacon, Worcestershire, Willia...   \n",
       "1          Cream Cheese  [Cream Ridge, Cream Run, Cream, Cream Ridge, C...   \n",
       "2               Mixture  [Mixture Bayou, Mixture Lake, color mixture, s...   \n",
       "3               Walnuts  [The Walnuts, walnuts (nuts), Mnemiopsis (genus)]   \n",
       "4                 Onion  [Onion Creek, Onion, Bayou, Onion Creek, Onion...   \n",
       "\n",
       "     DBPedia  \n",
       "0         []  \n",
       "1         []  \n",
       "2  [Mixture]  \n",
       "3  [Walnuts]  \n",
       "4    [Onion]  "
      ]
     },
     "execution_count": 4,
     "metadata": {},
     "output_type": "execute_result"
    }
   ],
   "source": [
    "vocabularies.head()"
   ]
  },
  {
   "cell_type": "markdown",
   "metadata": {},
   "source": [
    "### Querying [Iconclass](http://www.iconclass.nl/home)  \n",
    "#### Using [iconclass database](http://iconclass.org/data/iconclass_20200529_skos_jsonld.ndjson.gz). See Also [LOD](http://www.iconclass.org/help/lod) and [ML Experiment](https://labs.brill.com/ictestset/)  "
   ]
  },
  {
   "cell_type": "code",
   "execution_count": 5,
   "metadata": {},
   "outputs": [],
   "source": [
    "def search_iconclas(term):\n",
    "    results = []\n",
    "    with open('../data/iconclass_20200529_skos_jsonld.ndjson', 'rb') as f:\n",
    "        for line in f:\n",
    "            element = json.loads(line)\n",
    "            try:\n",
    "                for item in element['skos:prefLabel']:\n",
    "                    if item['@language'] == 'en':\n",
    "                        if term.lower() in item['@value'].lower():\n",
    "                            results.append(item['@value'])\n",
    "            except:\n",
    "                #print(\"-\", end='')\n",
    "                pass;\n",
    "    return(results)"
   ]
  },
  {
   "cell_type": "code",
   "execution_count": null,
   "metadata": {},
   "outputs": [
    {
     "name": "stdout",
     "output_type": "stream",
     "text": [
      "++++++++++++++++++++++++++++++++++++++++++++++++++++++++++++++++++++++++++++++++++++++++++++++++++++++++++++++++++++++++++++++++++++++++++++++++++++++++++++++++++++++++++++++++++++++++++++++++++++++++++++++++++++++++++++++++++++++++++++++++++++++++++++++++++++++++++++++++++++++++++++++++++++++++++++++++++++++++++++++++++++++++++++++++++++++++++++++++++++++++++++++++++++++++++++++++++++++++++++++++++++++++++++++++++++++++++++"
     ]
    }
   ],
   "source": [
    "t0 = time.time()\n",
    "\n",
    "vocabularies['Iconclass'] = np.empty((len(vocabularies), 0)).tolist()\n",
    "\n",
    "for idx in vocabularies.index:\n",
    "    term = vocabularies.loc[idx,'FoodOn']\n",
    "    result = search_iconclas(term)\n",
    "    vocabularies.loc[idx, 'Iconclass'].append(result)\n",
    "    print(\"+\", end='');\n",
    "            \n",
    "print(time.time() - t0)"
   ]
  },
  {
   "cell_type": "code",
   "execution_count": null,
   "metadata": {},
   "outputs": [],
   "source": [
    "with open(\"../data/vocabularies2.pkl\", 'wb') as f:\n",
    "    pickle.dump(vocabularies, f)\n",
    "    \n",
    "vocabularies.to_excel(\"../data/vocabularies2.xlsx\")"
   ]
  },
  {
   "cell_type": "markdown",
   "metadata": {},
   "source": [
    "Alternatively using the web interface:"
   ]
  },
  {
   "cell_type": "raw",
   "metadata": {},
   "source": [
    "vocabularies['Iconclass'] = np.empty((len(vocabularies), 0)).tolist()\n",
    "endpoint = 'http://www.iconclass.org/json/'\n",
    "# https://data.netwerkdigitaalerfgoed.nl/rkd/iconclass/sparql/iconclass\n",
    "\n",
    "query = '''\n",
    "    PREFIX rdfs: <http://www.w3.org/2000/01/rdf-schema#>\n",
    "    SELECT ?label\n",
    "    WHERE { <http://dbpedia.org/resource/%s> rdfs:label ?label }\n",
    "'''\n",
    "\n",
    "for idx in vocabularies.index:\n",
    "    term = vocabularies.loc[idx,'FoodOn']\n",
    "    results = query_sparql_endpoint(endpoint, query, term)\n",
    "    for result in results:\n",
    "        if result[\"label\"][\"xml:lang\"] == 'en':\n",
    "            vocabularies.loc[idx, 'Iconclass'].append(result[\"label\"][\"value\"])"
   ]
  },
  {
   "cell_type": "markdown",
   "metadata": {},
   "source": [
    "### Querying Europeana\n",
    "\n",
    "https://pro.europeana.eu/page/search  \n",
    "https://pro.europeana.eu/page/sparql  \n",
    "http://matthewlincoln.net/2014/07/10/sparql-for-humanists.html  "
   ]
  },
  {
   "cell_type": "raw",
   "metadata": {},
   "source": [
    "def query_sparql_endpoint(endpoint, query, term):\n",
    "    term = urllib.parse.quote(term)\n",
    "    sparql = SPARQLWrapper(endpoint)\n",
    "    #sparql.setQuery(query%term)\n",
    "    sparql.setReturnFormat(JSON)\n",
    "    results = sparql.query().convert()\n",
    "    time.sleep(1)\n",
    "    return(results[\"results\"][\"bindings\"])\n",
    "\n",
    "vocabularies['Europeana'] = np.empty((len(vocabularies), 0)).tolist()\n",
    "endpoint = 'http://sparql.europeana.eu/'\n",
    "\n",
    "query = '''\n",
    "PREFIX rdf: <http://www.w3.org/1999/02/22-rdf-syntax-ns#>\n",
    "PREFIX ore: <http://www.openarchives.org/ore/terms/>\n",
    "PREFIX skos: <http://www.w3.org/2004/02/skos/core#>\n",
    "PREFIX edm: <http://www.europeana.eu/schemas/edm/>\n",
    "\n",
    "SELECT DISTINCT ?ProvidedCHO\n",
    "WHERE {\n",
    "  ?Concept rdf:type skos:Concept .\n",
    "  FILTER strstarts(str(?Concept), \"http://vocab.getty.edu/aat/\") .\n",
    "  ?Proxy ?property ?Concept ;\n",
    "      ore:proxyIn ?Aggregation .\n",
    "  ?Aggregation edm:aggregatedCHO ?ProvidedCHO\n",
    "}\n",
    "LIMIT 1\n",
    "'''\n",
    "term = 'food'\n",
    "results = query_sparql_endpoint(endpoint, query, term)\n",
    "for result in results:\n",
    "    print(result)\n",
    "#    print(result[\"label\"][\"value\"])\n",
    "\n",
    "#for idx in vocabularies.index:\n",
    "#    term = vocabularies.loc[idx,'FoodOn']\n",
    "#    results = query_sparql_endpoint(endpoint, query, term)\n",
    "#    for result in results:\n",
    "#        if result[\"label\"][\"xml:lang\"] == 'en':\n",
    "#            vocabularies.loc[idx, 'Europeana'].append(result[\"label\"][\"value\"])"
   ]
  },
  {
   "cell_type": "code",
   "execution_count": null,
   "metadata": {},
   "outputs": [],
   "source": []
  }
 ],
 "metadata": {
  "kernelspec": {
   "display_name": "Python 3",
   "language": "python",
   "name": "python3"
  },
  "language_info": {
   "codemirror_mode": {
    "name": "ipython",
    "version": 3
   },
   "file_extension": ".py",
   "mimetype": "text/x-python",
   "name": "python",
   "nbconvert_exporter": "python",
   "pygments_lexer": "ipython3",
   "version": "3.8.2"
  }
 },
 "nbformat": 4,
 "nbformat_minor": 4
}
