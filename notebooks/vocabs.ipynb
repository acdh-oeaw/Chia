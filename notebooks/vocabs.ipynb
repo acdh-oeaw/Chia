{
 "cells": [
  {
   "cell_type": "code",
   "execution_count": 3,
   "metadata": {},
   "outputs": [],
   "source": [
    "! pip install -U -q odfpy SPARQLWrapper bigjson ijson rdflib"
   ]
  },
  {
   "cell_type": "code",
   "execution_count": 20,
   "metadata": {},
   "outputs": [],
   "source": [
    "import pandas as pd\n",
    "import numpy as np\n",
    "import rdflib\n",
    "import urllib.parse\n",
    "import time\n",
    "import pickle\n",
    "#import cPickle as pickle\n",
    "import bz2\n",
    "import json\n",
    "import ijson\n",
    "import bigjson #https://github.com/henu/bigjson.git\n",
    "from SPARQLWrapper import SPARQLWrapper, JSON  #https://rdflib.dev/sparqlwrapper/\n",
    "\n",
    "from functools import lru_cache as cache"
   ]
  },
  {
   "cell_type": "markdown",
   "metadata": {},
   "source": [
    "### Reading FoodOn vocabulary"
   ]
  },
  {
   "cell_type": "code",
   "execution_count": 15,
   "metadata": {},
   "outputs": [
    {
     "data": {
      "text/html": [
       "<div>\n",
       "<style scoped>\n",
       "    .dataframe tbody tr th:only-of-type {\n",
       "        vertical-align: middle;\n",
       "    }\n",
       "\n",
       "    .dataframe tbody tr th {\n",
       "        vertical-align: top;\n",
       "    }\n",
       "\n",
       "    .dataframe thead th {\n",
       "        text-align: right;\n",
       "    }\n",
       "</style>\n",
       "<table border=\"1\" class=\"dataframe\">\n",
       "  <thead>\n",
       "    <tr style=\"text-align: right;\">\n",
       "      <th></th>\n",
       "      <th>FoodOn</th>\n",
       "    </tr>\n",
       "  </thead>\n",
       "  <tbody>\n",
       "    <tr>\n",
       "      <th>0</th>\n",
       "      <td>Agar</td>\n",
       "    </tr>\n",
       "    <tr>\n",
       "      <th>1</th>\n",
       "      <td>Alcohol</td>\n",
       "    </tr>\n",
       "    <tr>\n",
       "      <th>2</th>\n",
       "      <td>Ale</td>\n",
       "    </tr>\n",
       "    <tr>\n",
       "      <th>3</th>\n",
       "      <td>Alligator</td>\n",
       "    </tr>\n",
       "    <tr>\n",
       "      <th>4</th>\n",
       "      <td>Almond</td>\n",
       "    </tr>\n",
       "    <tr>\n",
       "      <th>5</th>\n",
       "      <td>Almond Butter</td>\n",
       "    </tr>\n",
       "    <tr>\n",
       "      <th>6</th>\n",
       "      <td>Almond Paste</td>\n",
       "    </tr>\n",
       "    <tr>\n",
       "      <th>7</th>\n",
       "      <td>Aloe Vera</td>\n",
       "    </tr>\n",
       "    <tr>\n",
       "      <th>8</th>\n",
       "      <td>Aluminum</td>\n",
       "    </tr>\n",
       "    <tr>\n",
       "      <th>9</th>\n",
       "      <td>Amaranth</td>\n",
       "    </tr>\n",
       "  </tbody>\n",
       "</table>\n",
       "</div>"
      ],
      "text/plain": [
       "          FoodOn\n",
       "0           Agar\n",
       "1        Alcohol\n",
       "2            Ale\n",
       "3      Alligator\n",
       "4         Almond\n",
       "5  Almond Butter\n",
       "6   Almond Paste\n",
       "7      Aloe Vera\n",
       "8       Aluminum\n",
       "9       Amaranth"
      ]
     },
     "execution_count": 15,
     "metadata": {},
     "output_type": "execute_result"
    }
   ],
   "source": [
    "vocabularies = pd.read_excel(\"../data/vocabularies/FoodOn_concepts.ods\", engine=\"odf\")\n",
    "vocabularies.rename(columns={'Food Concept':'FoodOn'}, inplace=True)\n",
    "vocabularies['FoodOn'] = vocabularies['FoodOn'].apply(str.title)\n",
    "vocabularies.sort_values('FoodOn', inplace=True)\n",
    "vocabularies.reset_index(inplace=True, drop=True)\n",
    "vocabularies.head(10)"
   ]
  },
  {
   "cell_type": "markdown",
   "metadata": {},
   "source": [
    "### Building a function to query SPARQL endpoints"
   ]
  },
  {
   "cell_type": "code",
   "execution_count": 5,
   "metadata": {},
   "outputs": [],
   "source": [
    "def query_sparql_endpoint(endpoint, query, term):\n",
    "    term = urllib.parse.quote(term)\n",
    "    sparql = SPARQLWrapper(endpoint)\n",
    "    sparql.setQuery(query%term)\n",
    "    sparql.setReturnFormat(JSON)\n",
    "    results = sparql.query().convert()\n",
    "    time.sleep(1)\n",
    "    return(results[\"results\"][\"bindings\"])"
   ]
  },
  {
   "cell_type": "markdown",
   "metadata": {},
   "source": [
    "### Querying Getty [AAT Vocabulary](http://www.getty.edu/research/tools/vocabularies/aat/)  \n",
    "\n",
    "[downloads](https://www.getty.edu/research/tools/vocabularies/obtain/download.html)"
   ]
  },
  {
   "cell_type": "code",
   "execution_count": 6,
   "metadata": {},
   "outputs": [],
   "source": [
    "vocabularies['Getty-AAT'] = np.empty((len(vocabularies), 0)).tolist()\n",
    "endpoint = \"http://vocab.getty.edu/sparql\"  #http://vocab.getty.edu/queries#_Toc485115879\n",
    "\n",
    "query = '''\n",
    "    SELECT ?Subject ?Term ?Parents ?Descr ?ScopeNote ?Type (coalesce(?Type1,?Type2) as ?ExtraType) {\n",
    "  ?Subject luc:term \"%s\"; a ?typ.\n",
    "  ?typ rdfs:subClassOf gvp:Subject; rdfs:label ?Type.\n",
    "  FILTER (?typ != gvp:Subject)\n",
    "  OPTIONAL {?Subject gvp:placeTypePreferred [gvp:prefLabelGVP [xl:literalForm ?Type1]]}\n",
    "  OPTIONAL {?Subject gvp:agentTypePreferred [gvp:prefLabelGVP [xl:literalForm ?Type2]]}\n",
    "  OPTIONAL {?Subject gvp:prefLabelGVP [xl:literalForm ?Term]}\n",
    "  OPTIONAL {?Subject gvp:parentStringAbbrev ?Parents}\n",
    "  OPTIONAL {?Subject foaf:focus/gvp:biographyPreferred/schema:description ?Descr}\n",
    "  OPTIONAL {?Subject skos:scopeNote [dct:language gvp_lang:en; rdf:value ?ScopeNote]}}\n",
    "'''\n",
    "\n",
    "#for idx in vocabularies.index:\n",
    "#    term = vocabularies.loc[idx,'FoodOn']\n",
    "#    results = query_sparql_endpoint(endpoint, query, term)\n",
    "#    for result in results:\n",
    "#        vocabularies.loc[idx, 'Getty-AAT'].append({result[\"Term\"][\"value\"]:result['Subject']['value']})\n",
    "\n",
    "#vocabularies.to_pickle('./temp.pkl')"
   ]
  },
  {
   "cell_type": "code",
   "execution_count": 16,
   "metadata": {},
   "outputs": [],
   "source": [
    "vocabularies = pd.read_pickle(\"./temp.pkl\")\n",
    "vocabularies.reset_index(inplace=True, drop=True)"
   ]
  },
  {
   "cell_type": "code",
   "execution_count": 17,
   "metadata": {},
   "outputs": [
    {
     "data": {
      "text/html": [
       "<div>\n",
       "<style scoped>\n",
       "    .dataframe tbody tr th:only-of-type {\n",
       "        vertical-align: middle;\n",
       "    }\n",
       "\n",
       "    .dataframe tbody tr th {\n",
       "        vertical-align: top;\n",
       "    }\n",
       "\n",
       "    .dataframe thead th {\n",
       "        text-align: right;\n",
       "    }\n",
       "</style>\n",
       "<table border=\"1\" class=\"dataframe\">\n",
       "  <thead>\n",
       "    <tr style=\"text-align: right;\">\n",
       "      <th></th>\n",
       "      <th>FoodOn</th>\n",
       "      <th>Getty-AAT</th>\n",
       "    </tr>\n",
       "  </thead>\n",
       "  <tbody>\n",
       "    <tr>\n",
       "      <th>0</th>\n",
       "      <td>Agar</td>\n",
       "      <td>[{'Agar, Syrt': 'http://vocab.getty.edu/tgn/76...</td>\n",
       "    </tr>\n",
       "    <tr>\n",
       "      <th>1</th>\n",
       "      <td>Alcohol</td>\n",
       "      <td>[{'alcohol (general)': 'http://vocab.getty.edu...</td>\n",
       "    </tr>\n",
       "    <tr>\n",
       "      <th>2</th>\n",
       "      <td>Ale</td>\n",
       "      <td>[{'Ale Water': 'http://vocab.getty.edu/tgn/746...</td>\n",
       "    </tr>\n",
       "    <tr>\n",
       "      <th>3</th>\n",
       "      <td>Alligator</td>\n",
       "      <td>[{'Alligator, The': 'http://vocab.getty.edu/tg...</td>\n",
       "    </tr>\n",
       "    <tr>\n",
       "      <th>4</th>\n",
       "      <td>Almond</td>\n",
       "      <td>[{'Almond': 'http://vocab.getty.edu/tgn/112112...</td>\n",
       "    </tr>\n",
       "  </tbody>\n",
       "</table>\n",
       "</div>"
      ],
      "text/plain": [
       "      FoodOn                                          Getty-AAT\n",
       "0       Agar  [{'Agar, Syrt': 'http://vocab.getty.edu/tgn/76...\n",
       "1    Alcohol  [{'alcohol (general)': 'http://vocab.getty.edu...\n",
       "2        Ale  [{'Ale Water': 'http://vocab.getty.edu/tgn/746...\n",
       "3  Alligator  [{'Alligator, The': 'http://vocab.getty.edu/tg...\n",
       "4     Almond  [{'Almond': 'http://vocab.getty.edu/tgn/112112..."
      ]
     },
     "execution_count": 17,
     "metadata": {},
     "output_type": "execute_result"
    }
   ],
   "source": [
    "vocabularies.head()"
   ]
  },
  {
   "cell_type": "markdown",
   "metadata": {},
   "source": [
    "### Querying [Iconclass](http://www.iconclass.nl/home)  \n",
    "#### Using [iconclass database](http://iconclass.org/data/iconclass_20200529_skos_jsonld.ndjson.gz). See Also [LOD](http://www.iconclass.org/help/lod) and [ML Experiment](https://labs.brill.com/ictestset/)  "
   ]
  },
  {
   "cell_type": "code",
   "execution_count": 21,
   "metadata": {},
   "outputs": [],
   "source": [
    "@cache(maxsize=None)\n",
    "def search_iconclas(term):\n",
    "    results = []\n",
    "    with open('../data/vocabularies/iconclass_20200710_skos_jsonld.ndjson', 'rb') as f:\n",
    "        for line in f:\n",
    "            element = json.loads(line)\n",
    "            try:\n",
    "                for item in element['skos:prefLabel']:\n",
    "                    if item['@language'] == 'en':\n",
    "                        if term.lower() in item['@value'].lower():\n",
    "                            results.append({item['@value']:element['@id']})\n",
    "            except:\n",
    "                #print(\"-\", end='')\n",
    "                pass;\n",
    "    return(results)"
   ]
  },
  {
   "cell_type": "code",
   "execution_count": 22,
   "metadata": {},
   "outputs": [
    {
     "name": "stdout",
     "output_type": "stream",
     "text": [
      "0+"
     ]
    },
    {
     "ename": "KeyboardInterrupt",
     "evalue": "",
     "output_type": "error",
     "traceback": [
      "\u001b[0;31m---------------------------------------------------------------------------\u001b[0m",
      "\u001b[0;31mKeyboardInterrupt\u001b[0m                         Traceback (most recent call last)",
      "\u001b[0;32m<ipython-input-22-dd9bae310a57>\u001b[0m in \u001b[0;36m<module>\u001b[0;34m\u001b[0m\n\u001b[1;32m      5\u001b[0m \u001b[0;32mfor\u001b[0m \u001b[0midx\u001b[0m \u001b[0;32min\u001b[0m \u001b[0mvocabularies\u001b[0m\u001b[0;34m.\u001b[0m\u001b[0mindex\u001b[0m\u001b[0;34m:\u001b[0m\u001b[0;34m\u001b[0m\u001b[0;34m\u001b[0m\u001b[0m\n\u001b[1;32m      6\u001b[0m     \u001b[0mterm\u001b[0m \u001b[0;34m=\u001b[0m \u001b[0mvocabularies\u001b[0m\u001b[0;34m.\u001b[0m\u001b[0mloc\u001b[0m\u001b[0;34m[\u001b[0m\u001b[0midx\u001b[0m\u001b[0;34m,\u001b[0m\u001b[0;34m'FoodOn'\u001b[0m\u001b[0;34m]\u001b[0m\u001b[0;34m\u001b[0m\u001b[0;34m\u001b[0m\u001b[0m\n\u001b[0;32m----> 7\u001b[0;31m     \u001b[0mresult\u001b[0m \u001b[0;34m=\u001b[0m \u001b[0msearch_iconclas\u001b[0m\u001b[0;34m(\u001b[0m\u001b[0mterm\u001b[0m\u001b[0;34m)\u001b[0m\u001b[0;34m\u001b[0m\u001b[0;34m\u001b[0m\u001b[0m\n\u001b[0m\u001b[1;32m      8\u001b[0m     \u001b[0mvocabularies\u001b[0m\u001b[0;34m.\u001b[0m\u001b[0mloc\u001b[0m\u001b[0;34m[\u001b[0m\u001b[0midx\u001b[0m\u001b[0;34m,\u001b[0m \u001b[0;34m'Iconclass'\u001b[0m\u001b[0;34m]\u001b[0m\u001b[0;34m.\u001b[0m\u001b[0mappend\u001b[0m\u001b[0;34m(\u001b[0m\u001b[0mresult\u001b[0m\u001b[0;34m)\u001b[0m\u001b[0;34m\u001b[0m\u001b[0;34m\u001b[0m\u001b[0m\n\u001b[1;32m      9\u001b[0m     \u001b[0mprint\u001b[0m\u001b[0;34m(\u001b[0m\u001b[0;34mf\"{idx}+\"\u001b[0m\u001b[0;34m,\u001b[0m \u001b[0mend\u001b[0m\u001b[0;34m=\u001b[0m\u001b[0;34m''\u001b[0m\u001b[0;34m)\u001b[0m\u001b[0;34m;\u001b[0m\u001b[0;34m\u001b[0m\u001b[0;34m\u001b[0m\u001b[0m\n",
      "\u001b[0;32m<ipython-input-21-9297f1366c98>\u001b[0m in \u001b[0;36msearch_iconclas\u001b[0;34m(term)\u001b[0m\n\u001b[1;32m      3\u001b[0m     \u001b[0mresults\u001b[0m \u001b[0;34m=\u001b[0m \u001b[0;34m[\u001b[0m\u001b[0;34m]\u001b[0m\u001b[0;34m\u001b[0m\u001b[0;34m\u001b[0m\u001b[0m\n\u001b[1;32m      4\u001b[0m     \u001b[0;32mwith\u001b[0m \u001b[0mopen\u001b[0m\u001b[0;34m(\u001b[0m\u001b[0;34m'../data/vocabularies/iconclass_20200710_skos_jsonld.ndjson'\u001b[0m\u001b[0;34m,\u001b[0m \u001b[0;34m'rb'\u001b[0m\u001b[0;34m)\u001b[0m \u001b[0;32mas\u001b[0m \u001b[0mf\u001b[0m\u001b[0;34m:\u001b[0m\u001b[0;34m\u001b[0m\u001b[0;34m\u001b[0m\u001b[0m\n\u001b[0;32m----> 5\u001b[0;31m         \u001b[0;32mfor\u001b[0m \u001b[0mline\u001b[0m \u001b[0;32min\u001b[0m \u001b[0mf\u001b[0m\u001b[0;34m:\u001b[0m\u001b[0;34m\u001b[0m\u001b[0;34m\u001b[0m\u001b[0m\n\u001b[0m\u001b[1;32m      6\u001b[0m             \u001b[0melement\u001b[0m \u001b[0;34m=\u001b[0m \u001b[0mjson\u001b[0m\u001b[0;34m.\u001b[0m\u001b[0mloads\u001b[0m\u001b[0;34m(\u001b[0m\u001b[0mline\u001b[0m\u001b[0;34m)\u001b[0m\u001b[0;34m\u001b[0m\u001b[0;34m\u001b[0m\u001b[0m\n\u001b[1;32m      7\u001b[0m             \u001b[0;32mtry\u001b[0m\u001b[0;34m:\u001b[0m\u001b[0;34m\u001b[0m\u001b[0;34m\u001b[0m\u001b[0m\n",
      "\u001b[0;31mKeyboardInterrupt\u001b[0m: "
     ]
    }
   ],
   "source": [
    "t0 = time.time()\n",
    "\n",
    "vocabularies['Iconclass'] = np.empty((len(vocabularies), 0)).tolist()\n",
    "\n",
    "for idx in vocabularies.index:\n",
    "    term = vocabularies.loc[idx,'FoodOn']\n",
    "    result = search_iconclas(term)\n",
    "    vocabularies.loc[idx, 'Iconclass'].append(result)\n",
    "    print(f\"{idx}+\", end='');\n",
    "            \n",
    "print(time.time() - t0)\n",
    "vocabularies.to_pickle('./temp2.pkl')"
   ]
  },
  {
   "cell_type": "code",
   "execution_count": null,
   "metadata": {},
   "outputs": [],
   "source": [
    "#vocabularies = pd.read_pickle(\"./temp2.pkl\")"
   ]
  },
  {
   "cell_type": "markdown",
   "metadata": {},
   "source": [
    "#### Alternatively querying SPARQL endpoint"
   ]
  },
  {
   "cell_type": "raw",
   "metadata": {},
   "source": [
    "#endpoint = 'http://www.iconclass.org/json/'\n",
    "# https://data.netwerkdigitaalerfgoed.nl/rkd/iconclass/sparql/iconclass\n",
    "#\n",
    "#query = '''\n",
    "#    PREFIX rdfs: <http://www.w3.org/2000/01/rdf-schema#>\n",
    "#    SELECT ?label\n",
    "#    WHERE { <http://dbpedia.org/resource/%s> rdfs:label ?label }\n",
    "#'''\n",
    "#for idx in vocabularies.index:\n",
    "#    term = vocabularies.loc[idx,'FoodOn']\n",
    "#    results = query_sparql_endpoint(endpoint, query, term)\n",
    "#    for result in results:\n",
    "#        if result[\"label\"][\"xml:lang\"] == 'en':\n",
    "#            vocabularies.loc[idx, 'Iconclass'].append(result[\"label\"][\"value\"])"
   ]
  },
  {
   "cell_type": "markdown",
   "metadata": {},
   "source": [
    "### Querying [DBPedia](http://dbpedia.org/sparql)"
   ]
  },
  {
   "cell_type": "raw",
   "metadata": {},
   "source": [
    "vocabularies['DBPedia'] = np.empty((len(vocabularies), 0)).tolist()\n",
    "endpoint = 'http://dbpedia.org/sparql'\n",
    "query = '''\n",
    "    PREFIX rdfs: <http://www.w3.org/2000/01/rdf-schema#>\n",
    "    SELECT ?label\n",
    "    WHERE { <http://dbpedia.org/resource/%s> rdfs:label ?label }\n",
    "'''\n",
    "\n",
    "for idx in vocabularies.index:\n",
    "    term = vocabularies.loc[idx,'FoodOn']\n",
    "    results = query_sparql_endpoint(endpoint, query, term)\n",
    "    for result in results:\n",
    "        if result[\"label\"][\"xml:lang\"] == 'en':\n",
    "            vocabularies.loc[idx, 'DBPedia'].append(result[\"label\"][\"value\"])"
   ]
  },
  {
   "cell_type": "raw",
   "metadata": {},
   "source": [
    "#with open(\"../data/vocabularies.pkl\", 'wb') as f:\n",
    "#    pickle.dump(vocabularies, f)\n",
    "\n",
    "with bz2.BZ2File('../data/vocabularies.pbz2', 'w') as f:\n",
    "    pickle.dump(vocabularies, f)\n",
    "    \n",
    "vocabularies.to_excel(\"../data/vocabularies.xlsx\")"
   ]
  },
  {
   "cell_type": "code",
   "execution_count": null,
   "metadata": {},
   "outputs": [],
   "source": [
    "with bz2.BZ2File('../data/vocabularies.pbz2', 'r') as f:\n",
    "    vocabularies = pickle.load(f)"
   ]
  },
  {
   "cell_type": "code",
   "execution_count": null,
   "metadata": {},
   "outputs": [],
   "source": [
    "vocabularies.head(20)"
   ]
  },
  {
   "cell_type": "markdown",
   "metadata": {},
   "source": [
    "#### Finding the exact Matches"
   ]
  },
  {
   "cell_type": "code",
   "execution_count": null,
   "metadata": {},
   "outputs": [],
   "source": [
    "vocabularies['Getty_exact'] = np.NaN\n",
    "vocabularies['Iclass_exact'] = np.NaN\n",
    "for idx, item in enumerate(vocabularies.index):\n",
    "    for item in vocabularies.loc[idx, 'Getty-ATT']:\n",
    "        if item == vocabularies.loc[idx, 'FoodOn']:\n",
    "            vocabularies.loc[idx, 'Getty_exact'] = item\n",
    "            break\n",
    "    for item in vocabularies.loc[idx, 'Iconclass']:\n",
    "        if item == vocabularies.loc[idx, 'FoodOn']:\n",
    "            vocabularies.loc[idx, 'Iclass_exact'] = item\n",
    "            break"
   ]
  },
  {
   "cell_type": "code",
   "execution_count": null,
   "metadata": {},
   "outputs": [],
   "source": [
    "vocabularies.dropna(axis=0, subset=['Getty_exact'])"
   ]
  },
  {
   "cell_type": "code",
   "execution_count": null,
   "metadata": {},
   "outputs": [],
   "source": [
    "vocabularies.dropna(axis=0, subset=['Iclass_exact'])"
   ]
  },
  {
   "cell_type": "markdown",
   "metadata": {},
   "source": [
    "#### Percent of exact matches"
   ]
  },
  {
   "cell_type": "code",
   "execution_count": null,
   "metadata": {},
   "outputs": [],
   "source": [
    "p1 = len(vocabularies.dropna(axis=0, subset=[\"Getty_exact\"]))/len(vocabularies) * 100\n",
    "print(f'AAT: {p1:.2f}')\n",
    "p2 = len(vocabularies.dropna(axis=0, subset=[\"Iclass_exact\"]))/len(vocabularies) * 100\n",
    "print(f'Iconclass: {p2:.2f}')"
   ]
  },
  {
   "cell_type": "code",
   "execution_count": null,
   "metadata": {},
   "outputs": [],
   "source": [
    "vocabularies.to_excel(\"../data/vocabularies.xlsx\")"
   ]
  },
  {
   "cell_type": "markdown",
   "metadata": {},
   "source": [
    "## TBD\n",
    "### Querying Europeana\n",
    "\n",
    "https://pro.europeana.eu/page/search  \n",
    "https://pro.europeana.eu/page/sparql  \n",
    "http://matthewlincoln.net/2014/07/10/sparql-for-humanists.html  "
   ]
  },
  {
   "cell_type": "raw",
   "metadata": {},
   "source": [
    "def query_sparql_endpoint(endpoint, query, term):\n",
    "    term = urllib.parse.quote(term)\n",
    "    sparql = SPARQLWrapper(endpoint)\n",
    "    #sparql.setQuery(query%term)\n",
    "    sparql.setReturnFormat(JSON)\n",
    "    results = sparql.query().convert()\n",
    "    time.sleep(1)\n",
    "    return(results[\"results\"][\"bindings\"])\n",
    "\n",
    "vocabularies['Europeana'] = np.empty((len(vocabularies), 0)).tolist()\n",
    "endpoint = 'http://sparql.europeana.eu/'\n",
    "\n",
    "query = '''\n",
    "PREFIX rdf: <http://www.w3.org/1999/02/22-rdf-syntax-ns#>\n",
    "PREFIX ore: <http://www.openarchives.org/ore/terms/>\n",
    "PREFIX skos: <http://www.w3.org/2004/02/skos/core#>\n",
    "PREFIX edm: <http://www.europeana.eu/schemas/edm/>\n",
    "\n",
    "SELECT DISTINCT ?ProvidedCHO\n",
    "WHERE {\n",
    "  ?Concept rdf:type skos:Concept .\n",
    "  FILTER strstarts(str(?Concept), \"http://vocab.getty.edu/aat/\") .\n",
    "  ?Proxy ?property ?Concept ;\n",
    "      ore:proxyIn ?Aggregation .\n",
    "  ?Aggregation edm:aggregatedCHO ?ProvidedCHO\n",
    "}\n",
    "LIMIT 1\n",
    "'''\n",
    "term = 'food'\n",
    "results = query_sparql_endpoint(endpoint, query, term)\n",
    "for result in results:\n",
    "    print(result)\n",
    "#    print(result[\"label\"][\"value\"])\n",
    "\n",
    "#for idx in vocabularies.index:\n",
    "#    term = vocabularies.loc[idx,'FoodOn']\n",
    "#    results = query_sparql_endpoint(endpoint, query, term)\n",
    "#    for result in results:\n",
    "#        if result[\"label\"][\"xml:lang\"] == 'en':\n",
    "#            vocabularies.loc[idx, 'Europeana'].append(result[\"label\"][\"value\"])"
   ]
  }
 ],
 "metadata": {
  "kernelspec": {
   "display_name": "Python 3",
   "language": "python",
   "name": "python3"
  },
  "language_info": {
   "codemirror_mode": {
    "name": "ipython",
    "version": 3
   },
   "file_extension": ".py",
   "mimetype": "text/x-python",
   "name": "python",
   "nbconvert_exporter": "python",
   "pygments_lexer": "ipython3",
   "version": "3.8.5"
  }
 },
 "nbformat": 4,
 "nbformat_minor": 4
}
