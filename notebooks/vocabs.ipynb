{
 "cells": [
  {
   "cell_type": "code",
   "execution_count": 1,
   "metadata": {},
   "outputs": [],
   "source": [
    "#! pip install -U -q odfpy SPARQLWrapper bigjson ijson rdflib"
   ]
  },
  {
   "cell_type": "code",
   "execution_count": 2,
   "metadata": {},
   "outputs": [],
   "source": [
    "import pandas as pd\n",
    "import numpy as np\n",
    "import rdflib\n",
    "import urllib.parse\n",
    "import time\n",
    "import pickle\n",
    "#import cPickle as pickle\n",
    "import bz2\n",
    "import json\n",
    "import ijson\n",
    "import bigjson #https://github.com/henu/bigjson.git\n",
    "from SPARQLWrapper import SPARQLWrapper, JSON  #https://rdflib.dev/sparqlwrapper/\n",
    "\n",
    "from functools import lru_cache as cache"
   ]
  },
  {
   "cell_type": "markdown",
   "metadata": {},
   "source": [
    "### Reading FoodOn vocabulary"
   ]
  },
  {
   "cell_type": "code",
   "execution_count": 3,
   "metadata": {},
   "outputs": [
    {
     "data": {
      "text/html": [
       "<div>\n",
       "<style scoped>\n",
       "    .dataframe tbody tr th:only-of-type {\n",
       "        vertical-align: middle;\n",
       "    }\n",
       "\n",
       "    .dataframe tbody tr th {\n",
       "        vertical-align: top;\n",
       "    }\n",
       "\n",
       "    .dataframe thead th {\n",
       "        text-align: right;\n",
       "    }\n",
       "</style>\n",
       "<table border=\"1\" class=\"dataframe\">\n",
       "  <thead>\n",
       "    <tr style=\"text-align: right;\">\n",
       "      <th></th>\n",
       "      <th>FoodOn</th>\n",
       "    </tr>\n",
       "  </thead>\n",
       "  <tbody>\n",
       "    <tr>\n",
       "      <th>0</th>\n",
       "      <td>Agar</td>\n",
       "    </tr>\n",
       "    <tr>\n",
       "      <th>1</th>\n",
       "      <td>Alcohol</td>\n",
       "    </tr>\n",
       "    <tr>\n",
       "      <th>2</th>\n",
       "      <td>Ale</td>\n",
       "    </tr>\n",
       "    <tr>\n",
       "      <th>3</th>\n",
       "      <td>Alligator</td>\n",
       "    </tr>\n",
       "    <tr>\n",
       "      <th>4</th>\n",
       "      <td>Almond</td>\n",
       "    </tr>\n",
       "    <tr>\n",
       "      <th>5</th>\n",
       "      <td>Almond Butter</td>\n",
       "    </tr>\n",
       "    <tr>\n",
       "      <th>6</th>\n",
       "      <td>Almond Paste</td>\n",
       "    </tr>\n",
       "    <tr>\n",
       "      <th>7</th>\n",
       "      <td>Aloe Vera</td>\n",
       "    </tr>\n",
       "    <tr>\n",
       "      <th>8</th>\n",
       "      <td>Aluminum</td>\n",
       "    </tr>\n",
       "    <tr>\n",
       "      <th>9</th>\n",
       "      <td>Amaranth</td>\n",
       "    </tr>\n",
       "  </tbody>\n",
       "</table>\n",
       "</div>"
      ],
      "text/plain": [
       "          FoodOn\n",
       "0           Agar\n",
       "1        Alcohol\n",
       "2            Ale\n",
       "3      Alligator\n",
       "4         Almond\n",
       "5  Almond Butter\n",
       "6   Almond Paste\n",
       "7      Aloe Vera\n",
       "8       Aluminum\n",
       "9       Amaranth"
      ]
     },
     "execution_count": 3,
     "metadata": {},
     "output_type": "execute_result"
    }
   ],
   "source": [
    "vocabularies = pd.read_excel(\"../data/vocabularies/FoodOn_concepts.ods\", engine=\"odf\")\n",
    "vocabularies.rename(columns={'Food Concept':'FoodOn'}, inplace=True)\n",
    "vocabularies['FoodOn'] = vocabularies['FoodOn'].apply(str.title)\n",
    "vocabularies.sort_values('FoodOn', inplace=True)\n",
    "vocabularies.reset_index(inplace=True, drop=True)\n",
    "vocabularies.head(10)"
   ]
  },
  {
   "cell_type": "markdown",
   "metadata": {},
   "source": [
    "### Building a function to query SPARQL endpoints"
   ]
  },
  {
   "cell_type": "code",
   "execution_count": 4,
   "metadata": {},
   "outputs": [],
   "source": [
    "def query_sparql_endpoint(endpoint, query, term):\n",
    "    term = urllib.parse.quote(term)\n",
    "    sparql = SPARQLWrapper(endpoint)\n",
    "    sparql.setQuery(query%term)\n",
    "    sparql.setReturnFormat(JSON)\n",
    "    results = sparql.query().convert()\n",
    "    time.sleep(1)\n",
    "    return(results[\"results\"][\"bindings\"])"
   ]
  },
  {
   "cell_type": "markdown",
   "metadata": {},
   "source": [
    "### Querying Getty [AAT Vocabulary](http://www.getty.edu/research/tools/vocabularies/aat/)  \n",
    "\n",
    "[downloads](https://www.getty.edu/research/tools/vocabularies/obtain/download.html)"
   ]
  },
  {
   "cell_type": "code",
   "execution_count": 5,
   "metadata": {},
   "outputs": [],
   "source": [
    "vocabularies['Getty-AAT'] = np.empty((len(vocabularies), 0)).tolist()\n",
    "endpoint = \"http://vocab.getty.edu/sparql\"  #http://vocab.getty.edu/queries#_Toc485115879\n",
    "\n",
    "query = '''\n",
    "    SELECT ?Subject ?Term ?Parents ?Descr ?ScopeNote ?Type (coalesce(?Type1,?Type2) as ?ExtraType) {\n",
    "  ?Subject luc:term \"%s\"; a ?typ.\n",
    "  ?typ rdfs:subClassOf gvp:Subject; rdfs:label ?Type.\n",
    "  FILTER (?typ != gvp:Subject)\n",
    "  OPTIONAL {?Subject gvp:placeTypePreferred [gvp:prefLabelGVP [xl:literalForm ?Type1]]}\n",
    "  OPTIONAL {?Subject gvp:agentTypePreferred [gvp:prefLabelGVP [xl:literalForm ?Type2]]}\n",
    "  OPTIONAL {?Subject gvp:prefLabelGVP [xl:literalForm ?Term]}\n",
    "  OPTIONAL {?Subject gvp:parentStringAbbrev ?Parents}\n",
    "  OPTIONAL {?Subject foaf:focus/gvp:biographyPreferred/schema:description ?Descr}\n",
    "  OPTIONAL {?Subject skos:scopeNote [dct:language gvp_lang:en; rdf:value ?ScopeNote]}}\n",
    "'''\n",
    "\n",
    "#for idx in vocabularies.index:\n",
    "#    term = vocabularies.loc[idx,'FoodOn']\n",
    "#    results = query_sparql_endpoint(endpoint, query, term)\n",
    "#    for result in results:\n",
    "#        vocabularies.loc[idx, 'Getty-AAT'].append({result[\"Term\"][\"value\"]:result['Subject']['value']})\n",
    "\n",
    "#vocabularies.to_pickle('./temp.pkl')"
   ]
  },
  {
   "cell_type": "code",
   "execution_count": 6,
   "metadata": {},
   "outputs": [],
   "source": [
    "vocabularies = pd.read_pickle(\"./temp.pkl\")\n",
    "vocabularies.reset_index(inplace=True, drop=True)"
   ]
  },
  {
   "cell_type": "code",
   "execution_count": 7,
   "metadata": {},
   "outputs": [
    {
     "data": {
      "text/html": [
       "<div>\n",
       "<style scoped>\n",
       "    .dataframe tbody tr th:only-of-type {\n",
       "        vertical-align: middle;\n",
       "    }\n",
       "\n",
       "    .dataframe tbody tr th {\n",
       "        vertical-align: top;\n",
       "    }\n",
       "\n",
       "    .dataframe thead th {\n",
       "        text-align: right;\n",
       "    }\n",
       "</style>\n",
       "<table border=\"1\" class=\"dataframe\">\n",
       "  <thead>\n",
       "    <tr style=\"text-align: right;\">\n",
       "      <th></th>\n",
       "      <th>FoodOn</th>\n",
       "      <th>Getty-AAT</th>\n",
       "    </tr>\n",
       "  </thead>\n",
       "  <tbody>\n",
       "    <tr>\n",
       "      <th>0</th>\n",
       "      <td>Agar</td>\n",
       "      <td>[{'Agar, Syrt': 'http://vocab.getty.edu/tgn/76...</td>\n",
       "    </tr>\n",
       "    <tr>\n",
       "      <th>1</th>\n",
       "      <td>Alcohol</td>\n",
       "      <td>[{'alcohol (general)': 'http://vocab.getty.edu...</td>\n",
       "    </tr>\n",
       "    <tr>\n",
       "      <th>2</th>\n",
       "      <td>Ale</td>\n",
       "      <td>[{'Ale Water': 'http://vocab.getty.edu/tgn/746...</td>\n",
       "    </tr>\n",
       "    <tr>\n",
       "      <th>3</th>\n",
       "      <td>Alligator</td>\n",
       "      <td>[{'Alligator, The': 'http://vocab.getty.edu/tg...</td>\n",
       "    </tr>\n",
       "    <tr>\n",
       "      <th>4</th>\n",
       "      <td>Almond</td>\n",
       "      <td>[{'Almond': 'http://vocab.getty.edu/tgn/112112...</td>\n",
       "    </tr>\n",
       "  </tbody>\n",
       "</table>\n",
       "</div>"
      ],
      "text/plain": [
       "      FoodOn                                          Getty-AAT\n",
       "0       Agar  [{'Agar, Syrt': 'http://vocab.getty.edu/tgn/76...\n",
       "1    Alcohol  [{'alcohol (general)': 'http://vocab.getty.edu...\n",
       "2        Ale  [{'Ale Water': 'http://vocab.getty.edu/tgn/746...\n",
       "3  Alligator  [{'Alligator, The': 'http://vocab.getty.edu/tg...\n",
       "4     Almond  [{'Almond': 'http://vocab.getty.edu/tgn/112112..."
      ]
     },
     "execution_count": 7,
     "metadata": {},
     "output_type": "execute_result"
    }
   ],
   "source": [
    "vocabularies.head()"
   ]
  },
  {
   "cell_type": "markdown",
   "metadata": {},
   "source": [
    "### Querying [Iconclass](http://www.iconclass.nl/home)  \n",
    "#### Using [iconclass database](http://iconclass.org/data/iconclass_20200529_skos_jsonld.ndjson.gz). See Also [LOD](http://www.iconclass.org/help/lod) and [ML Experiment](https://labs.brill.com/ictestset/)  "
   ]
  },
  {
   "cell_type": "code",
   "execution_count": 8,
   "metadata": {},
   "outputs": [],
   "source": [
    "@cache(maxsize=None)\n",
    "def search_iconclas(term):\n",
    "    results = []\n",
    "    with open('../data/vocabularies/iconclass_20200710_skos_jsonld.ndjson', 'rb') as f:\n",
    "        for line in f:\n",
    "            element = json.loads(line)\n",
    "            try:\n",
    "                for item in element['skos:prefLabel']:\n",
    "                    if item['@language'] == 'en':\n",
    "                        if term.lower() in item['@value'].lower():\n",
    "                            results.append({item['@value']:element['@id']})\n",
    "            except:\n",
    "                #print(\"-\", end='')\n",
    "                pass;\n",
    "    return(results)"
   ]
  },
  {
   "cell_type": "code",
   "execution_count": 9,
   "metadata": {},
   "outputs": [
    {
     "name": "stdout",
     "output_type": "stream",
     "text": [
      "0+1+2+3+4+5+6+7+8+9+10+11+12+13+14+15+16+17+18+19+20+21+22+23+24+25+26+27+28+29+30+31+32+33+34+35+36+37+38+39+40+41+42+43+44+45+46+47+48+49+50+51+52+53+54+55+56+57+58+59+60+61+62+63+64+65+66+67+68+69+70+71+72+73+74+75+76+77+78+79+80+81+82+83+84+85+86+87+88+89+90+91+92+93+94+95+96+97+98+99+100+101+102+103+104+105+106+107+108+109+110+111+112+113+114+115+116+117+118+119+120+121+122+123+124+125+126+127+128+129+130+131+132+133+134+135+136+137+138+139+140+141+142+143+144+145+146+147+148+149+150+151+152+153+154+155+156+157+158+159+160+161+162+163+164+165+166+167+168+169+170+171+172+173+174+175+176+177+178+179+180+181+182+183+184+185+186+187+188+189+190+191+192+193+194+195+196+197+198+199+200+201+202+203+204+205+206+207+208+209+210+211+212+213+214+215+216+217+218+219+220+221+222+223+224+225+226+227+228+229+230+231+232+233+234+235+236+237+238+239+240+241+242+243+244+245+246+247+248+249+250+251+252+253+254+255+256+257+258+259+260+261+262+263+264+265+266+267+268+269+270+271+272+273+274+275+276+277+278+279+280+281+282+283+284+285+286+287+288+289+290+291+292+293+294+295+296+297+298+299+300+301+302+303+304+305+306+307+308+309+310+311+312+313+314+315+316+317+318+319+320+321+322+323+324+325+326+327+328+329+330+331+332+333+334+335+336+337+338+339+340+341+342+343+344+345+346+347+348+349+350+351+352+353+354+355+356+357+358+359+360+361+362+363+364+365+366+367+368+369+370+371+372+373+374+375+376+377+378+379+380+381+382+383+384+385+386+387+388+389+390+391+392+393+394+395+396+397+398+399+400+401+402+403+404+405+406+407+408+409+410+411+412+413+414+415+416+417+418+419+420+421+422+423+424+425+426+427+428+429+430+431+432+433+434+435+436+437+438+439+440+441+442+443+444+445+446+447+448+449+450+451+452+453+454+455+456+457+458+459+460+461+462+463+464+465+466+467+468+469+470+471+472+473+474+475+476+477+478+479+480+481+482+483+484+485+486+487+488+489+490+491+492+493+494+495+496+497+498+499+500+501+502+503+504+505+506+507+508+509+510+511+512+513+514+515+516+517+518+519+520+521+522+523+524+525+526+527+528+529+530+531+532+533+534+535+536+537+538+539+540+541+542+543+544+545+546+547+548+549+550+551+552+553+554+555+556+557+558+559+560+561+562+563+564+565+566+567+568+569+570+571+572+573+574+575+576+577+578+579+580+581+582+583+584+585+586+587+588+589+590+591+592+593+594+595+596+597+598+599+600+601+602+603+604+605+606+607+608+609+610+611+612+613+614+615+616+617+618+619+620+621+622+623+624+625+626+627+628+629+630+631+632+633+634+635+636+637+638+639+640+641+642+643+644+645+646+647+648+649+650+651+652+653+654+655+656+657+658+659+660+661+662+663+664+665+666+667+668+669+670+671+672+673+674+675+676+677+678+679+680+681+682+683+684+685+686+687+688+689+690+691+692+693+694+695+696+697+698+699+700+701+702+703+704+705+706+707+708+709+710+711+712+713+714+715+716+717+718+719+720+721+722+723+724+725+726+727+728+729+730+731+732+733+734+735+736+737+738+739+740+741+742+743+744+745+746+747+748+749+750+751+752+753+754+755+756+757+758+759+760+761+762+763+764+765+766+767+768+769+770+771+772+773+774+775+776+777+778+779+780+781+782+783+784+785+786+787+788+789+790+791+792+793+794+795+796+797+798+799+800+801+802+803+804+805+806+807+808+809+810+811+812+813+814+815+816+817+818+819+820+821+822+823+824+825+826+827+828+829+830+831+832+833+834+835+836+837+838+839+840+841+842+843+844+845+846+847+848+849+850+851+852+853+854+855+856+857+858+859+860+861+862+863+864+865+866+867+868+869+870+871+872+873+874+875+876+877+878+879+880+881+882+883+884+885+886+887+888+889+890+891+892+893+894+895+896+897+898+899+900+901+902+903+904+905+906+907+908+909+910+911+912+913+914+915+916+917+918+919+920+921+922+923+924+925+926+927+928+929+930+931+932+933+934+935+936+937+938+939+940+941+942+943+944+945+946+947+948+949+950+951+952+953+954+955+956+957+958+959+960+961+962+963+964+965+966+967+968+969+970+971+972+973+974+975+976+977+978+979+980+981+982+983+984+985+986+987+988+989+990+991+992+993+994+995+996+997+998+999+1000+1001+1002+1003+1004+1005+1006+1007+1008+1009+1010+1011+1012+1013+1014+1015+1016+1017+1018+1019+1020+1021+1022+1023+1024+1025+1026+1027+1028+1029+1030+1031+1032+1033+1034+1035+1036+1037+1038+1039+1040+1041+1042+1043+1044+1045+1046+1047+1048+1049+1050+1051+1052+1053+1054+1055+1056+1057+1058+1059+1060+1061+1062+1063+1064+1065+1066+1067+1068+35481.4444975853\n"
     ]
    }
   ],
   "source": [
    "t0 = time.time()\n",
    "\n",
    "vocabularies['Iconclass'] = np.empty((len(vocabularies), 0)).tolist()\n",
    "\n",
    "for idx in vocabularies.index:\n",
    "    term = vocabularies.loc[idx,'FoodOn']\n",
    "    result = search_iconclas(term)\n",
    "    vocabularies.loc[idx, 'Iconclass'].append(result)\n",
    "    print(f\"{idx}+\", end='');\n",
    "            \n",
    "print(time.time() - t0)\n",
    "vocabularies.to_pickle('./temp2.pkl')"
   ]
  },
  {
   "cell_type": "code",
   "execution_count": null,
   "metadata": {},
   "outputs": [],
   "source": [
    "#vocabularies = pd.read_pickle(\"./temp2.pkl\")"
   ]
  },
  {
   "cell_type": "markdown",
   "metadata": {},
   "source": [
    "#### Alternatively querying SPARQL endpoint"
   ]
  },
  {
   "cell_type": "raw",
   "metadata": {},
   "source": [
    "#endpoint = 'http://www.iconclass.org/json/'\n",
    "# https://data.netwerkdigitaalerfgoed.nl/rkd/iconclass/sparql/iconclass\n",
    "#\n",
    "#query = '''\n",
    "#    PREFIX rdfs: <http://www.w3.org/2000/01/rdf-schema#>\n",
    "#    SELECT ?label\n",
    "#    WHERE { <http://dbpedia.org/resource/%s> rdfs:label ?label }\n",
    "#'''\n",
    "#for idx in vocabularies.index:\n",
    "#    term = vocabularies.loc[idx,'FoodOn']\n",
    "#    results = query_sparql_endpoint(endpoint, query, term)\n",
    "#    for result in results:\n",
    "#        if result[\"label\"][\"xml:lang\"] == 'en':\n",
    "#            vocabularies.loc[idx, 'Iconclass'].append(result[\"label\"][\"value\"])"
   ]
  },
  {
   "cell_type": "markdown",
   "metadata": {},
   "source": [
    "### Querying [DBPedia](http://dbpedia.org/sparql)"
   ]
  },
  {
   "cell_type": "raw",
   "metadata": {},
   "source": [
    "vocabularies['DBPedia'] = np.empty((len(vocabularies), 0)).tolist()\n",
    "endpoint = 'http://dbpedia.org/sparql'\n",
    "query = '''\n",
    "    PREFIX rdfs: <http://www.w3.org/2000/01/rdf-schema#>\n",
    "    SELECT ?label\n",
    "    WHERE { <http://dbpedia.org/resource/%s> rdfs:label ?label }\n",
    "'''\n",
    "\n",
    "for idx in vocabularies.index:\n",
    "    term = vocabularies.loc[idx,'FoodOn']\n",
    "    results = query_sparql_endpoint(endpoint, query, term)\n",
    "    for result in results:\n",
    "        if result[\"label\"][\"xml:lang\"] == 'en':\n",
    "            vocabularies.loc[idx, 'DBPedia'].append(result[\"label\"][\"value\"])"
   ]
  },
  {
   "cell_type": "raw",
   "metadata": {},
   "source": [
    "#with open(\"../data/vocabularies.pkl\", 'wb') as f:\n",
    "#    pickle.dump(vocabularies, f)\n",
    "\n",
    "with bz2.BZ2File('../data/vocabularies.pbz2', 'w') as f:\n",
    "    pickle.dump(vocabularies, f)\n",
    "    \n",
    "vocabularies.to_excel(\"../data/vocabularies.xlsx\")"
   ]
  },
  {
   "cell_type": "code",
   "execution_count": null,
   "metadata": {},
   "outputs": [],
   "source": [
    "with bz2.BZ2File('../data/vocabularies.pbz2', 'r') as f:\n",
    "    vocabularies = pickle.load(f)"
   ]
  },
  {
   "cell_type": "code",
   "execution_count": null,
   "metadata": {},
   "outputs": [],
   "source": [
    "vocabularies.head(20)"
   ]
  },
  {
   "cell_type": "markdown",
   "metadata": {},
   "source": [
    "#### Finding the exact Matches"
   ]
  },
  {
   "cell_type": "code",
   "execution_count": null,
   "metadata": {},
   "outputs": [],
   "source": [
    "vocabularies['Getty_exact'] = np.NaN\n",
    "vocabularies['Iclass_exact'] = np.NaN\n",
    "for idx, item in enumerate(vocabularies.index):\n",
    "    for item in vocabularies.loc[idx, 'Getty-ATT']:\n",
    "        if item == vocabularies.loc[idx, 'FoodOn']:\n",
    "            vocabularies.loc[idx, 'Getty_exact'] = item\n",
    "            break\n",
    "    for item in vocabularies.loc[idx, 'Iconclass']:\n",
    "        if item == vocabularies.loc[idx, 'FoodOn']:\n",
    "            vocabularies.loc[idx, 'Iclass_exact'] = item\n",
    "            break"
   ]
  },
  {
   "cell_type": "code",
   "execution_count": null,
   "metadata": {},
   "outputs": [],
   "source": [
    "vocabularies.dropna(axis=0, subset=['Getty_exact'])"
   ]
  },
  {
   "cell_type": "code",
   "execution_count": null,
   "metadata": {},
   "outputs": [],
   "source": [
    "vocabularies.dropna(axis=0, subset=['Iclass_exact'])"
   ]
  },
  {
   "cell_type": "markdown",
   "metadata": {},
   "source": [
    "#### Percent of exact matches"
   ]
  },
  {
   "cell_type": "code",
   "execution_count": null,
   "metadata": {},
   "outputs": [],
   "source": [
    "p1 = len(vocabularies.dropna(axis=0, subset=[\"Getty_exact\"]))/len(vocabularies) * 100\n",
    "print(f'AAT: {p1:.2f}')\n",
    "p2 = len(vocabularies.dropna(axis=0, subset=[\"Iclass_exact\"]))/len(vocabularies) * 100\n",
    "print(f'Iconclass: {p2:.2f}')"
   ]
  },
  {
   "cell_type": "code",
   "execution_count": null,
   "metadata": {},
   "outputs": [],
   "source": [
    "vocabularies.to_excel(\"../data/vocabularies.xlsx\")"
   ]
  },
  {
   "cell_type": "markdown",
   "metadata": {},
   "source": [
    "## TBD\n",
    "### Querying Europeana\n",
    "\n",
    "https://pro.europeana.eu/page/search  \n",
    "https://pro.europeana.eu/page/sparql  \n",
    "http://matthewlincoln.net/2014/07/10/sparql-for-humanists.html  "
   ]
  },
  {
   "cell_type": "raw",
   "metadata": {},
   "source": [
    "def query_sparql_endpoint(endpoint, query, term):\n",
    "    term = urllib.parse.quote(term)\n",
    "    sparql = SPARQLWrapper(endpoint)\n",
    "    #sparql.setQuery(query%term)\n",
    "    sparql.setReturnFormat(JSON)\n",
    "    results = sparql.query().convert()\n",
    "    time.sleep(1)\n",
    "    return(results[\"results\"][\"bindings\"])\n",
    "\n",
    "vocabularies['Europeana'] = np.empty((len(vocabularies), 0)).tolist()\n",
    "endpoint = 'http://sparql.europeana.eu/'\n",
    "\n",
    "query = '''\n",
    "PREFIX rdf: <http://www.w3.org/1999/02/22-rdf-syntax-ns#>\n",
    "PREFIX ore: <http://www.openarchives.org/ore/terms/>\n",
    "PREFIX skos: <http://www.w3.org/2004/02/skos/core#>\n",
    "PREFIX edm: <http://www.europeana.eu/schemas/edm/>\n",
    "\n",
    "SELECT DISTINCT ?ProvidedCHO\n",
    "WHERE {\n",
    "  ?Concept rdf:type skos:Concept .\n",
    "  FILTER strstarts(str(?Concept), \"http://vocab.getty.edu/aat/\") .\n",
    "  ?Proxy ?property ?Concept ;\n",
    "      ore:proxyIn ?Aggregation .\n",
    "  ?Aggregation edm:aggregatedCHO ?ProvidedCHO\n",
    "}\n",
    "LIMIT 1\n",
    "'''\n",
    "term = 'food'\n",
    "results = query_sparql_endpoint(endpoint, query, term)\n",
    "for result in results:\n",
    "    print(result)\n",
    "#    print(result[\"label\"][\"value\"])\n",
    "\n",
    "#for idx in vocabularies.index:\n",
    "#    term = vocabularies.loc[idx,'FoodOn']\n",
    "#    results = query_sparql_endpoint(endpoint, query, term)\n",
    "#    for result in results:\n",
    "#        if result[\"label\"][\"xml:lang\"] == 'en':\n",
    "#            vocabularies.loc[idx, 'Europeana'].append(result[\"label\"][\"value\"])"
   ]
  }
 ],
 "metadata": {
  "kernelspec": {
   "display_name": "Python 3",
   "language": "python",
   "name": "python3"
  },
  "language_info": {
   "codemirror_mode": {
    "name": "ipython",
    "version": 3
   },
   "file_extension": ".py",
   "mimetype": "text/x-python",
   "name": "python",
   "nbconvert_exporter": "python",
   "pygments_lexer": "ipython3",
   "version": "3.8.5"
  }
 },
 "nbformat": 4,
 "nbformat_minor": 4
}
