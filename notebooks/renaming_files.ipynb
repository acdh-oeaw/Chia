{
 "cells": [
  {
   "cell_type": "code",
   "execution_count": 1,
   "metadata": {},
   "outputs": [],
   "source": [
    "import os"
   ]
  },
  {
   "cell_type": "code",
   "execution_count": 2,
   "metadata": {},
   "outputs": [
    {
     "data": {
      "text/plain": [
       "'/home/rsouza/Downloads/1000-images-tagging-added-final'"
      ]
     },
     "execution_count": 2,
     "metadata": {},
     "output_type": "execute_result"
    }
   ],
   "source": [
    "os.getcwd()"
   ]
  },
  {
   "cell_type": "code",
   "execution_count": 3,
   "metadata": {},
   "outputs": [
    {
     "data": {
      "text/plain": [
       "['168-item_WZHSFZEID37ZVORNF2RQHMZTVTZAQSTW_1.jpeg',\n",
       " '2059519-data_foodanddrink_70_0121579_1.jpeg',\n",
       " '2059519-data_foodanddrink_70_0115605_1.jpeg',\n",
       " '2059511-data_foodanddrink_24261_1.jpeg',\n",
       " '90402-RP_T_1978_26_R__1.jpeg',\n",
       " '2059513-data_foodanddrink_efd_LGMA_0332_1.jpeg',\n",
       " '2059511-data_foodanddrink_24346_1.jpeg',\n",
       " '2059511-data_foodanddrink_24451_1.jpeg',\n",
       " '9200579-arx8xs5b_1.jpeg',\n",
       " '2059513-data_foodanddrink_efd_LGMA_1672_1.jpeg']"
      ]
     },
     "execution_count": 3,
     "metadata": {},
     "output_type": "execute_result"
    }
   ],
   "source": [
    "names = os.listdir(\"./img\")\n",
    "names[0:10]"
   ]
  },
  {
   "cell_type": "code",
   "execution_count": 4,
   "metadata": {},
   "outputs": [],
   "source": [
    "newnames = []"
   ]
  },
  {
   "cell_type": "code",
   "execution_count": 5,
   "metadata": {},
   "outputs": [],
   "source": [
    "for idx, name in enumerate(names):\n",
    "    newname = f\"{idx+1}.jpg\"\n",
    "    os.rename(os.path.join(\"./img\", name), os.path.join(\"./img\", newname))\n",
    "    newnames.append(newname)"
   ]
  },
  {
   "cell_type": "code",
   "execution_count": 7,
   "metadata": {},
   "outputs": [],
   "source": [
    "import pandas as pd"
   ]
  },
  {
   "cell_type": "code",
   "execution_count": 9,
   "metadata": {},
   "outputs": [
    {
     "data": {
      "text/html": [
       "<div>\n",
       "<style scoped>\n",
       "    .dataframe tbody tr th:only-of-type {\n",
       "        vertical-align: middle;\n",
       "    }\n",
       "\n",
       "    .dataframe tbody tr th {\n",
       "        vertical-align: top;\n",
       "    }\n",
       "\n",
       "    .dataframe thead th {\n",
       "        text-align: right;\n",
       "    }\n",
       "</style>\n",
       "<table border=\"1\" class=\"dataframe\">\n",
       "  <thead>\n",
       "    <tr style=\"text-align: right;\">\n",
       "      <th></th>\n",
       "      <th>oldnames</th>\n",
       "      <th>newnames</th>\n",
       "    </tr>\n",
       "  </thead>\n",
       "  <tbody>\n",
       "    <tr>\n",
       "      <th>0</th>\n",
       "      <td>168-item_WZHSFZEID37ZVORNF2RQHMZTVTZAQSTW_1.jpeg</td>\n",
       "      <td>1.jpg</td>\n",
       "    </tr>\n",
       "    <tr>\n",
       "      <th>1</th>\n",
       "      <td>2059519-data_foodanddrink_70_0121579_1.jpeg</td>\n",
       "      <td>2.jpg</td>\n",
       "    </tr>\n",
       "    <tr>\n",
       "      <th>2</th>\n",
       "      <td>2059519-data_foodanddrink_70_0115605_1.jpeg</td>\n",
       "      <td>3.jpg</td>\n",
       "    </tr>\n",
       "    <tr>\n",
       "      <th>3</th>\n",
       "      <td>2059511-data_foodanddrink_24261_1.jpeg</td>\n",
       "      <td>4.jpg</td>\n",
       "    </tr>\n",
       "    <tr>\n",
       "      <th>4</th>\n",
       "      <td>90402-RP_T_1978_26_R__1.jpeg</td>\n",
       "      <td>5.jpg</td>\n",
       "    </tr>\n",
       "  </tbody>\n",
       "</table>\n",
       "</div>"
      ],
      "text/plain": [
       "                                           oldnames newnames\n",
       "0  168-item_WZHSFZEID37ZVORNF2RQHMZTVTZAQSTW_1.jpeg    1.jpg\n",
       "1       2059519-data_foodanddrink_70_0121579_1.jpeg    2.jpg\n",
       "2       2059519-data_foodanddrink_70_0115605_1.jpeg    3.jpg\n",
       "3            2059511-data_foodanddrink_24261_1.jpeg    4.jpg\n",
       "4                      90402-RP_T_1978_26_R__1.jpeg    5.jpg"
      ]
     },
     "execution_count": 9,
     "metadata": {},
     "output_type": "execute_result"
    }
   ],
   "source": [
    "df = pd.DataFrame({\"oldnames\":names, \"newnames\":newnames})\n",
    "df.head()"
   ]
  },
  {
   "cell_type": "code",
   "execution_count": 10,
   "metadata": {},
   "outputs": [],
   "source": [
    "df.to_excel(\"naming_conversion.xls\")"
   ]
  },
  {
   "cell_type": "code",
   "execution_count": null,
   "metadata": {},
   "outputs": [],
   "source": []
  }
 ],
 "metadata": {
  "kernelspec": {
   "display_name": "Python 3",
   "language": "python",
   "name": "python3"
  },
  "language_info": {
   "codemirror_mode": {
    "name": "ipython",
    "version": 3
   },
   "file_extension": ".py",
   "mimetype": "text/x-python",
   "name": "python",
   "nbconvert_exporter": "python",
   "pygments_lexer": "ipython3",
   "version": "3.8.5"
  }
 },
 "nbformat": 4,
 "nbformat_minor": 4
}
